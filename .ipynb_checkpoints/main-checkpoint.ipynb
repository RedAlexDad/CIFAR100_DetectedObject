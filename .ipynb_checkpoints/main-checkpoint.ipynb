{
 "cells": [
  {
   "cell_type": "markdown",
   "id": "301e84ef-0ad3-41b5-a05e-33574f4ebfa0",
   "metadata": {},
   "source": [
    "# Импортирование необходимых библиотек"
   ]
  },
  {
   "cell_type": "code",
   "execution_count": 1,
   "id": "8157d752-5c1c-4fc5-840a-e9112df0076f",
   "metadata": {},
   "outputs": [],
   "source": [
    "import os\n",
    "import uuid\n",
    "import tarfile\n",
    "import numpy as np\n",
    "import urllib.request\n",
    "from tqdm import tqdm\n",
    "from PIL import Image\n",
    "import matplotlib.pyplot as plt\n",
    "\n",
    "from sklearn.metrics import classification_report\n",
    "\n",
    "import onnx\n",
    "import pickle\n",
    "\n",
    "import torch\n",
    "import torch.nn as nn\n",
    "import torch.nn.functional as F\n",
    "import torch.optim as optim\n",
    "from torchvision import datasets, transforms\n",
    "from torch.utils.data import DataLoader, TensorDataset\n",
    "import torchvision.models as models"
   ]
  },
  {
   "cell_type": "code",
   "execution_count": 2,
   "id": "6f3880af-189b-4d13-9eab-635c9357c9b2",
   "metadata": {},
   "outputs": [
    {
     "name": "stdout",
     "output_type": "stream",
     "text": [
      "CUDA is available!\n",
      "Device name: NVIDIA GeForce GTX 1650 Ti\n",
      "CUDA capability: (7, 5)\n",
      "Driver version: 12.1\n",
      "Device count: 1\n",
      "Current device: 0\n"
     ]
    }
   ],
   "source": [
    "# Проверка наличия CUDA\n",
    "device = torch.device('cuda' if torch.cuda.is_available() else 'cpu')\n",
    "\n",
    "if device.type == 'cuda':\n",
    "    print(\"CUDA is available!\")\n",
    "    print(f\"Device name: {torch.cuda.get_device_name(0)}\")\n",
    "    print(f\"CUDA capability: {torch.cuda.get_device_capability(0)}\")\n",
    "    print(f\"Driver version: {torch.version.cuda}\")\n",
    "    print(f\"Device count: {torch.cuda.device_count()}\")\n",
    "    print(f\"Current device: {torch.cuda.current_device()}\")\n",
    "else:\n",
    "    print(\"CUDA is not available. Running on CPU.\")"
   ]
  },
  {
   "cell_type": "markdown",
   "id": "3225059b-b075-4fae-b502-bdf62b87b491",
   "metadata": {},
   "source": [
    "# Загрузка и распаковка набора данных CIFAR100"
   ]
  },
  {
   "cell_type": "code",
   "execution_count": 3,
   "id": "c199e6b5-3b63-4cdf-9e7e-a607fb147848",
   "metadata": {},
   "outputs": [
    {
     "name": "stdout",
     "output_type": "stream",
     "text": [
      "Файл 'cifar-100-python.tar.gz' уже существует.\n",
      "Архив уже распакован.\n"
     ]
    }
   ],
   "source": [
    "def download_and_extract_cifar100(\n",
    "    filename=\"cifar-100-python.tar.gz\", \n",
    "    url=\"https://www.cs.toronto.edu/~kriz/cifar-100-python.tar.gz\", \n",
    "    extract_dir=\"cifar-100-python\"\n",
    "    ):\n",
    "    \"\"\"\n",
    "    Функция для скачивания и распаковки архива CIFAR-100.\n",
    "    \n",
    "    Args:\n",
    "        filename (str): Имя архива, который нужно скачать.\n",
    "        url (str): URL для скачивания архива.\n",
    "        extract_dir (str): Папка, куда нужно распаковать архив.\n",
    "    \"\"\"\n",
    "    \n",
    "    # Проверяем наличие файла\n",
    "    if not os.path.exists(filename):\n",
    "        # Файла нет, скачиваем\n",
    "        print(f\"Скачивание {filename}...\")\n",
    "        urllib.request.urlretrieve(url, filename)\n",
    "        print(f\"Файл '{filename}' был успешно скачан.\")\n",
    "    else:\n",
    "        print(f\"Файл '{filename}' уже существует.\")\n",
    "\n",
    "    # Проверяем, был ли архив распакован\n",
    "    if not os.path.exists(extract_dir):\n",
    "        print(f\"Распаковка {filename}...\")\n",
    "        with tarfile.open(filename, \"r:gz\") as tar:\n",
    "            tar.extractall()\n",
    "        print(f\"Архив распакован в папку '{extract_dir}'.\")\n",
    "    else:\n",
    "        print(\"Архив уже распакован.\")\n",
    "        \n",
    "download_and_extract_cifar100()"
   ]
  },
  {
   "cell_type": "markdown",
   "id": "e2ed3721-689a-4863-966f-7c2c2545de6b",
   "metadata": {},
   "source": [
    "## Архитектуры модели"
   ]
  },
  {
   "cell_type": "markdown",
   "id": "d1685621-f406-401e-93ee-79fe10bafa1f",
   "metadata": {},
   "source": [
    "### Класс модели CIFAR100"
   ]
  },
  {
   "cell_type": "code",
   "execution_count": 4,
   "id": "006a3f43-7328-4627-9368-bcb82f0ce5ab",
   "metadata": {},
   "outputs": [],
   "source": [
    "class CIFAR100Trainer:\n",
    "    def __init__(self, classes, batch_size=128, lr_rate=1e-4, criterion=nn.CrossEntropyLoss()):\n",
    "        self.classes = classes\n",
    "        self.batch_size = batch_size\n",
    "        self.lr_rate = lr_rate\n",
    "        self.device = self.check_device()\n",
    "        self.criterion = criterion\n",
    "        self.history = {\"epoch\": [], \"loss\": []}  # История обучения\n",
    "        # Загрузка названий классов\n",
    "        self.class_names = self.load_class_names()\n",
    "        \n",
    "        # Чтение тренировочной выборки (обучающих данных)\n",
    "        with open('cifar-100-python/train', 'rb') as f:\n",
    "            data_train = pickle.load(f, encoding='latin1')\n",
    "\n",
    "        # Чтение тестовой выборки (тестовых данных)\n",
    "        with open('cifar-100-python/test', 'rb') as f:\n",
    "            data_test = pickle.load(f, encoding='latin1')\n",
    "\n",
    "        # Фильтрация данных и создание датасетов\n",
    "        self.train_dataset = self.prepare_data(data_train, 'train')\n",
    "        self.test_dataset = self.prepare_data(data_test, 'test')\n",
    "\n",
    "        # Загрузка данных в батчи\n",
    "        self.train_loader = DataLoader(self.train_dataset, batch_size=self.batch_size, shuffle=True)\n",
    "        self.test_loader = DataLoader(self.test_dataset, batch_size=self.batch_size, shuffle=False)\n",
    "        \n",
    "    def load_class_names(self):\n",
    "        \"\"\"Загружает названия классов из мета-файла.\"\"\"\n",
    "        with open('cifar-100-python/meta', 'rb') as f:\n",
    "            meta = pickle.load(f, encoding='latin1')\n",
    "        return meta['fine_label_names']\n",
    "\n",
    "    def prepare_data(self, data, part):\n",
    "        \"\"\"Фильтрация данных и преобразование в TensorDataset.\"\"\"\n",
    "        X = data['data'].reshape(-1, 3, 32, 32)  # Данные в формате NCHW\n",
    "        X = np.transpose(X, [0, 2, 3, 1]) # NCHW -> NHWC\n",
    "        y = np.array(data['fine_labels'])\n",
    "\n",
    "        mask = np.isin(y, self.classes)\n",
    "        X = X[mask].copy()\n",
    "        y = y[mask].copy()\n",
    "        y = np.unique(y, return_inverse=1)[1]\n",
    "\n",
    "        tensor_x = torch.Tensor(X)\n",
    "        tensor_y = F.one_hot(torch.Tensor(y).to(torch.int64), num_classes=len(self.classes)) / 1.\n",
    "        dataset = TensorDataset(tensor_x, tensor_y)\n",
    "        return dataset\n",
    "        \n",
    "    def train(self, model, epochs=10):\n",
    "        model = model.to(self.device)\n",
    "        criterion = nn.CrossEntropyLoss()\n",
    "        optimizer = optim.Adam(model.parameters(), lr=self.lr_rate)\n",
    "        self.history = {\"epoch\": [], \"loss\": []}  # Инициализация истории\n",
    "\n",
    "        for epoch in range(epochs):\n",
    "            model.train()  # Установка модели в режим обучения\n",
    "            running_loss = 0.0\n",
    "\n",
    "            progress_bar = tqdm(self.train_loader, desc=f'Epoch {epoch+1}/{epochs}', unit=\"batch\")\n",
    "            for batch_idx, (data, target) in enumerate(progress_bar):\n",
    "                data, target = data.to(self.device), target.to(self.device)\n",
    "                optimizer.zero_grad()\n",
    "                # Вызов метода forward() модели\n",
    "                output = model.forward(data) \n",
    "                loss = criterion(output, target)\n",
    "                loss.backward()\n",
    "                optimizer.step()\n",
    "\n",
    "                running_loss += loss.item()\n",
    "                progress_bar.set_postfix(loss=f\"{loss:.6f}\")\n",
    "                \n",
    "            average_loss = running_loss / len(self.train_loader)\n",
    "            self.history[\"epoch\"].append(epoch + 1)\n",
    "            self.history[\"loss\"].append(average_loss)  # Сохранение средней потери\n",
    "\n",
    "            print(f'Epoch: {epoch+1}/{epochs}, Loss: {running_loss/len(self.train_loader):.6f}')\n",
    "\n",
    "    def evaluate(self, model):\n",
    "        model = model.to(self.device)\n",
    "        model.eval()  # Установка модели в режим оценки\n",
    "        \n",
    "        # Обрабатываем обе выборки: тренировочную и тестовую\n",
    "        dataloaders = {'train': self.train_loader, 'test': self.test_loader}\n",
    "        \n",
    "        for part in ['train', 'test']:\n",
    "            all_predicted = []\n",
    "            all_target = []\n",
    "            with torch.no_grad():\n",
    "                for data, target in dataloaders[part]:\n",
    "                    data, target = data.to(self.device), target.to(self.device)\n",
    "                    output = model(data)\n",
    "                    \n",
    "                    # Получаем предсказания\n",
    "                    _, predicted = torch.max(output.data, 1)\n",
    "                    \n",
    "                    # Преобразуем target обратно в одномерный тензор\n",
    "                    target_indices = torch.argmax(target, dim=1)\n",
    "                    \n",
    "                    all_predicted.extend(predicted.cpu().numpy())\n",
    "                    all_target.extend(target_indices.cpu().numpy())\n",
    "            \n",
    "            # Преобразуем списки в массивы NumPy\n",
    "            all_predicted = np.array(all_predicted)\n",
    "            all_target = np.array(all_target)\n",
    "            \n",
    "            # Выводим наименования классов для выбранных индексов\n",
    "            selected_class_names = [self.class_names[i] for i in self.classes]\n",
    "            \n",
    "            # Выводим отчет о классификации\n",
    "            print(f\"Classification report for {part} dataset:\")\n",
    "            report = classification_report(all_target, all_predicted, target_names=selected_class_names, zero_division=0, digits=4)\n",
    "            print(report)\n",
    "            print('-' * 50)\n",
    "\n",
    "    def save_model(self, model, path='models/'):\n",
    "        # Генерируем уникальный идентификатор\n",
    "        unique_id = str(uuid.uuid4())  # Генерация уникального ID\n",
    "        model_name = f\"cifar100_{unique_id}.onnx\"  # Формируем название модели\n",
    "        \n",
    "        # Создаем полный путь для сохранения модели\n",
    "        filepath = os.path.join(path, model_name)  # Корректное соединение пути и имени файла\n",
    "        \n",
    "        # Убедимся, что директория для сохранения существует\n",
    "        os.makedirs(path, exist_ok=True)  # Создаем директорию, если она не существует\n",
    "\n",
    "        # Входной тензор для модели (с учетом правильного порядка: (N, H, W, C))\n",
    "        dummy_input = torch.randn(1, 32, 32, 3, requires_grad=True).to(self.device)  # (N, H, W, C)\n",
    "    \n",
    "        # Экспорт модели\n",
    "        torch.onnx.export(\n",
    "            model,               # модель\n",
    "            dummy_input,         # входной тензор\n",
    "            filepath,            # куда сохранить\n",
    "            export_params=True,  # сохраняет веса обученных параметров внутри файла модели\n",
    "            opset_version=9,    # версия ONNX\n",
    "            do_constant_folding=True,  # следует ли выполнять укорачивание констант для оптимизации\n",
    "            input_names=['input'],    # имя входного слоя\n",
    "            output_names=['output'],   # имя выходного слоя\n",
    "            dynamic_axes={'input': {0: 'batch_size'},    # динамичные оси\n",
    "                          'output': {0: 'batch_size'}}\n",
    "        )\n",
    "        \n",
    "        # Вывод информации о сохраненной модели\n",
    "        print(f\"Model saved as: {model_name}\")\n",
    "        print(f\"Model UUID: {unique_id}\")\n",
    "\n",
    "    def check_device(self):\n",
    "        \"\"\"Проверяет доступность CUDA и возвращает устройство.\"\"\"\n",
    "        if torch.cuda.is_available():\n",
    "            device = 'cuda'\n",
    "        else:\n",
    "            device = 'cpu'\n",
    "        print(f'Используемое устройство: {device}')\n",
    "        return device\n",
    "\n",
    "    def plot_training_history(self):\n",
    "        fig, axs = plt.subplots(1, 2, figsize=(14, 6))\n",
    "    \n",
    "        # Преобразуем список эпох для оси X\n",
    "        epochs = self.history[\"epoch\"]\n",
    "    \n",
    "        # Первый график: Полная история\n",
    "        axs[0].plot(epochs, self.history[\"loss\"], marker='o', linestyle='-', color='b', markersize=5, label='Loss')\n",
    "        axs[0].set_xlabel('Epoch')\n",
    "        axs[0].set_ylabel('Average Loss')\n",
    "        axs[0].set_title('Loss Function (Full History)')\n",
    "        axs[0].grid(True)\n",
    "        axs[0].legend()\n",
    "    \n",
    "        # Второй график: Половина истории\n",
    "        mid_index = len(epochs) // 2\n",
    "        axs[1].plot(epochs[mid_index:], self.history[\"loss\"][mid_index:], marker='o', linestyle='-', color='b', markersize=5, label='Loss')\n",
    "        axs[1].set_xlabel('Epoch')\n",
    "        axs[1].set_ylabel('Average Loss')\n",
    "        axs[1].set_title('Loss Function (Second Half of Training)')\n",
    "        axs[1].grid(True)\n",
    "        axs[1].legend()\n",
    "    \n",
    "        plt.tight_layout()\n",
    "        plt.show()\n",
    "\n",
    "    def load_class_names(self):\n",
    "        \"\"\"Загружает названия классов из мета-файла.\"\"\"\n",
    "        with open('cifar-100-python/meta', 'rb') as f:\n",
    "            meta = pickle.load(f, encoding='latin1')\n",
    "        return meta['fine_label_names']\n",
    "    \n",
    "    def display_images_with_predictions(self, model, image_dir='./images'):\n",
    "        \"\"\"Отображает изображения и предсказания модели с процентным соотношением для заданных классов.\"\"\"\n",
    "        # Определение преобразований для входных изображений\n",
    "        transform = transforms.Compose([\n",
    "            transforms.ToTensor(),\n",
    "            transforms.Normalize((0.5, 0.5, 0.5), (0.5, 0.5, 0.5))  # Пример нормализации, может потребоваться адаптация\n",
    "        ])\n",
    "    \n",
    "        # Создаем отображение названий классов для выбранных индексов\n",
    "        selected_class_names = [self.class_names[i] for i in self.classes]\n",
    "    \n",
    "        # Получаем список изображений\n",
    "        images = [img for img in os.listdir(image_dir) if img.endswith(('jpg', 'png', 'jpeg'))]\n",
    "        predictions = []\n",
    "        probabilities = []\n",
    "    \n",
    "        for img_name in images:\n",
    "            img_path = os.path.join(image_dir, img_name)\n",
    "            img = Image.open(img_path).convert('RGB')  # Открываем изображение\n",
    "            img_tensor = transform(img).unsqueeze(0).to(self.device)  # Применяем преобразования и добавляем размерность батча\n",
    "            \n",
    "            # Получаем предсказание модели\n",
    "            with torch.no_grad():\n",
    "                output = model(img_tensor)\n",
    "                probs = torch.softmax(output, dim=1)  # Вычисляем вероятности\n",
    "                predicted = torch.argmax(probs).item()  # Предсказанный класс\n",
    "                predictions.append(predicted)  # Сохраняем предсказание\n",
    "                probabilities.append(probs.squeeze().cpu().numpy())  # Сохраняем вероятности\n",
    "    \n",
    "        # Визуализация\n",
    "        num_images = len(images)\n",
    "        cols = 3\n",
    "        rows = (num_images + cols - 1) // cols  # Вычисляем количество строк\n",
    "        \n",
    "        fig, axs = plt.subplots(rows, cols, figsize=(15, 5 * rows))\n",
    "        axs = axs.flatten()  # Упрощаем доступ к осям\n",
    "    \n",
    "        for i, img_name in enumerate(images):\n",
    "            img_path = os.path.join(image_dir, img_name)\n",
    "            img = Image.open(img_path)\n",
    "            axs[i].imshow(img)\n",
    "            \n",
    "            # Выводим предсказания и вероятности для выбранных классов\n",
    "            title_text = f'Predicted: {self.class_names[predictions[i]]} (ID: {predictions[i]})\\n'\n",
    "            for cls in self.classes:\n",
    "                # Получаем индекс и название класса\n",
    "                if cls < len(probabilities[i]):\n",
    "                    title_text += f'{selected_class_names[self.classes.index(cls)]}: {probabilities[i][cls] * 100:.2f}%, '\n",
    "    \n",
    "            axs[i].set_title(title_text[:-2])  # Убираем последний запятую\n",
    "            axs[i].axis('off')  # Скрываем оси\n",
    "    \n",
    "        # Удаляем пустые оси, если их больше чем изображений\n",
    "        for j in range(i + 1, len(axs)):\n",
    "            axs[j].axis('off')\n",
    "    \n",
    "        plt.tight_layout()\n",
    "        plt.show()"
   ]
  },
  {
   "cell_type": "markdown",
   "id": "93277a0e-a162-4bac-9f03-8cf6122ba83c",
   "metadata": {},
   "source": [
    "### Нормализация"
   ]
  },
  {
   "cell_type": "code",
   "execution_count": 5,
   "id": "a1283cf7-f3d8-4ea8-ac8d-a7eb3be185a9",
   "metadata": {},
   "outputs": [],
   "source": [
    "class Normalize(nn.Module):\n",
    "    def __init__(self, mean, std):\n",
    "        super(Normalize, self).__init__()\n",
    "        self.mean = torch.tensor(mean)\n",
    "        self.std = torch.tensor(std)\n",
    "\n",
    "    def forward(self, input):\n",
    "        device = input.device  # Получаем устройство данных\n",
    "        self.mean = self.mean.to(device)  # Переносим тензоры на это устройство\n",
    "        self.std = self.std.to(device)\n",
    "        \n",
    "        x = input / 255.0\n",
    "        x = x - self.mean\n",
    "        x = x / self.std\n",
    "        return torch.flatten(x, start_dim=1) # nhwc -> nm"
   ]
  },
  {
   "cell_type": "markdown",
   "id": "a0094302-f746-4477-b8f5-7a596ef8002e",
   "metadata": {},
   "source": [
    "### Архитектура модели"
   ]
  },
  {
   "cell_type": "code",
   "execution_count": 6,
   "id": "64f25c85-e080-4c94-bec1-e573cae39582",
   "metadata": {},
   "outputs": [],
   "source": [
    "class CIFAR100Model(nn.Module):\n",
    "    def __init__(self, hidden_layers=[64, 128, 64], dropout_prob=0.5, num_classes=100):\n",
    "        super(CIFAR100Model, self).__init__()\n",
    "        self.norm = Normalize([0.5074, 0.4867, 0.4411], [0.2011, 0.1987, 0.2025])\n",
    "        \n",
    "        # Определяем входной размер (например, CIFAR100 имеет изображения размером 32x32x3)\n",
    "        input_size = 32 * 32 * 3\n",
    "\n",
    "        # Динамически создаем слои на основе переданного списка hidden_layers\n",
    "        layers = []\n",
    "        in_features = input_size\n",
    "        for i, hidden_size in enumerate(hidden_layers):\n",
    "            layers.append(nn.Linear(in_features, hidden_size))\n",
    "            layers.append(nn.ReLU())  # Активационная функция\n",
    "            layers.append(nn.Dropout(p=dropout_prob))  # Dropout\n",
    "            in_features = hidden_size\n",
    "\n",
    "        # Добавляем последний слой для классификации\n",
    "        layers.append(nn.Linear(in_features, num_classes))\n",
    "\n",
    "        # Создаем последовательность слоев\n",
    "        self.seq = nn.Sequential(*layers)\n",
    "\n",
    "    def forward(self, input):\n",
    "        x = self.norm(input)\n",
    "        return self.seq(x)"
   ]
  },
  {
   "cell_type": "markdown",
   "id": "de928867-688f-4f98-964f-f904ea3882df",
   "metadata": {},
   "source": [
    "## Установки параметров"
   ]
  },
  {
   "cell_type": "markdown",
   "id": "cef97b05-b65c-42bc-bf22-b97982273a87",
   "metadata": {},
   "source": [
    "### По варианту"
   ]
  },
  {
   "cell_type": "code",
   "execution_count": 7,
   "id": "d2c431b2-007b-42b2-b896-4db1e5d3ba92",
   "metadata": {},
   "outputs": [],
   "source": [
    "CLASSES = [94, 21, 51]"
   ]
  },
  {
   "cell_type": "markdown",
   "id": "a55a3a69-9b18-42ad-95ee-cb62de7ddb97",
   "metadata": {},
   "source": [
    "## Машинное обучение "
   ]
  },
  {
   "cell_type": "markdown",
   "id": "fe4325f0-a007-4c36-a138-4adb8d6db694",
   "metadata": {},
   "source": [
    "### Эксперимент №1"
   ]
  },
  {
   "cell_type": "markdown",
   "id": "f1fe2cdc-e92f-4a75-a8d3-8d106e91321e",
   "metadata": {},
   "source": [
    "#### Гиперпараметры"
   ]
  },
  {
   "cell_type": "code",
   "execution_count": 8,
   "id": "4a69eab0-9cee-4868-a998-f8dbb3f2c9d7",
   "metadata": {},
   "outputs": [],
   "source": [
    "batch_size=2**5\n",
    "epochs=100\n",
    "criterion=nn.NLLLoss()\n",
    "lr_rate = 1e-4\n",
    "hidden_layers=[2**4, 2**6, 2**4]"
   ]
  },
  {
   "cell_type": "markdown",
   "id": "8f4a8f54-0c8d-4063-9318-8ed3bd43bf51",
   "metadata": {},
   "source": [
    "#### Инициализация модели"
   ]
  },
  {
   "cell_type": "code",
   "execution_count": 9,
   "id": "5b9ca30d-ea0b-4f34-a035-92ca4123c172",
   "metadata": {},
   "outputs": [
    {
     "name": "stdout",
     "output_type": "stream",
     "text": [
      "Используемое устройство: cuda\n",
      "CPU times: user 182 ms, sys: 437 ms, total: 619 ms\n",
      "Wall time: 706 ms\n"
     ]
    }
   ],
   "source": [
    "%%time\n",
    "trainer1 = CIFAR100Trainer(CLASSES, batch_size, lr_rate, criterion)"
   ]
  },
  {
   "cell_type": "code",
   "execution_count": 10,
   "id": "a7946c00-b9d0-40d6-ac05-aebcc4427e18",
   "metadata": {},
   "outputs": [
    {
     "name": "stdout",
     "output_type": "stream",
     "text": [
      "CPU times: user 10.9 ms, sys: 1.08 ms, total: 12 ms\n",
      "Wall time: 1.4 ms\n"
     ]
    }
   ],
   "source": [
    "%%time\n",
    "cifar100_001 = CIFAR100Model(\n",
    "    hidden_layers=hidden_layers, \n",
    "    dropout_prob=0.5, \n",
    "    num_classes=CLASSES.__len__()\n",
    ")"
   ]
  },
  {
   "cell_type": "markdown",
   "id": "ef8a828b-3a25-4b05-8641-285697c77915",
   "metadata": {},
   "source": [
    "#### Информация о модели"
   ]
  },
  {
   "cell_type": "code",
   "execution_count": 11,
   "id": "910c41df-9b9b-4e51-a02e-b7ff602651bf",
   "metadata": {},
   "outputs": [
    {
     "data": {
      "text/plain": [
       "CIFAR100Model(\n",
       "  (norm): Normalize()\n",
       "  (seq): Sequential(\n",
       "    (0): Linear(in_features=3072, out_features=16, bias=True)\n",
       "    (1): ReLU()\n",
       "    (2): Dropout(p=0.5, inplace=False)\n",
       "    (3): Linear(in_features=16, out_features=64, bias=True)\n",
       "    (4): ReLU()\n",
       "    (5): Dropout(p=0.5, inplace=False)\n",
       "    (6): Linear(in_features=64, out_features=16, bias=True)\n",
       "    (7): ReLU()\n",
       "    (8): Dropout(p=0.5, inplace=False)\n",
       "    (9): Linear(in_features=16, out_features=3, bias=True)\n",
       "  )\n",
       ")"
      ]
     },
     "execution_count": 11,
     "metadata": {},
     "output_type": "execute_result"
    }
   ],
   "source": [
    "cifar100_001"
   ]
  },
  {
   "cell_type": "markdown",
   "id": "37ff7723-7cef-4b15-ae9e-6603355c62e6",
   "metadata": {},
   "source": [
    "#### Обучение"
   ]
  },
  {
   "cell_type": "code",
   "execution_count": 12,
   "id": "03ec918e-4ac5-48bb-8d71-9b410366709e",
   "metadata": {
    "scrolled": true
   },
   "outputs": [
    {
     "name": "stderr",
     "output_type": "stream",
     "text": [
      "Epoch 1/100: 100%|█████████████████████████████████| 47/47 [00:00<00:00, 133.59batch/s, loss=1.056302]\n"
     ]
    },
    {
     "name": "stdout",
     "output_type": "stream",
     "text": [
      "Epoch: 1/100, Loss: 1.094025\n"
     ]
    },
    {
     "name": "stderr",
     "output_type": "stream",
     "text": [
      "Epoch 2/100: 100%|█████████████████████████████████| 47/47 [00:00<00:00, 218.59batch/s, loss=1.081010]\n"
     ]
    },
    {
     "name": "stdout",
     "output_type": "stream",
     "text": [
      "Epoch: 2/100, Loss: 1.073814\n"
     ]
    },
    {
     "name": "stderr",
     "output_type": "stream",
     "text": [
      "Epoch 3/100: 100%|█████████████████████████████████| 47/47 [00:00<00:00, 214.24batch/s, loss=1.091422]\n"
     ]
    },
    {
     "name": "stdout",
     "output_type": "stream",
     "text": [
      "Epoch: 3/100, Loss: 1.041653\n"
     ]
    },
    {
     "name": "stderr",
     "output_type": "stream",
     "text": [
      "Epoch 4/100: 100%|█████████████████████████████████| 47/47 [00:00<00:00, 218.30batch/s, loss=0.939639]\n"
     ]
    },
    {
     "name": "stdout",
     "output_type": "stream",
     "text": [
      "Epoch: 4/100, Loss: 1.016977\n"
     ]
    },
    {
     "name": "stderr",
     "output_type": "stream",
     "text": [
      "Epoch 5/100: 100%|█████████████████████████████████| 47/47 [00:00<00:00, 204.14batch/s, loss=1.006960]\n"
     ]
    },
    {
     "name": "stdout",
     "output_type": "stream",
     "text": [
      "Epoch: 5/100, Loss: 1.005156\n"
     ]
    },
    {
     "name": "stderr",
     "output_type": "stream",
     "text": [
      "Epoch 6/100: 100%|█████████████████████████████████| 47/47 [00:00<00:00, 213.73batch/s, loss=0.997337]\n"
     ]
    },
    {
     "name": "stdout",
     "output_type": "stream",
     "text": [
      "Epoch: 6/100, Loss: 0.985464\n"
     ]
    },
    {
     "name": "stderr",
     "output_type": "stream",
     "text": [
      "Epoch 7/100: 100%|█████████████████████████████████| 47/47 [00:00<00:00, 208.45batch/s, loss=0.852652]\n"
     ]
    },
    {
     "name": "stdout",
     "output_type": "stream",
     "text": [
      "Epoch: 7/100, Loss: 0.949681\n"
     ]
    },
    {
     "name": "stderr",
     "output_type": "stream",
     "text": [
      "Epoch 8/100: 100%|█████████████████████████████████| 47/47 [00:00<00:00, 210.93batch/s, loss=0.914069]\n"
     ]
    },
    {
     "name": "stdout",
     "output_type": "stream",
     "text": [
      "Epoch: 8/100, Loss: 0.950861\n"
     ]
    },
    {
     "name": "stderr",
     "output_type": "stream",
     "text": [
      "Epoch 9/100: 100%|█████████████████████████████████| 47/47 [00:00<00:00, 216.04batch/s, loss=0.873885]\n"
     ]
    },
    {
     "name": "stdout",
     "output_type": "stream",
     "text": [
      "Epoch: 9/100, Loss: 0.913486\n"
     ]
    },
    {
     "name": "stderr",
     "output_type": "stream",
     "text": [
      "Epoch 10/100: 100%|████████████████████████████████| 47/47 [00:00<00:00, 235.92batch/s, loss=0.853107]\n"
     ]
    },
    {
     "name": "stdout",
     "output_type": "stream",
     "text": [
      "Epoch: 10/100, Loss: 0.892585\n"
     ]
    },
    {
     "name": "stderr",
     "output_type": "stream",
     "text": [
      "Epoch 11/100: 100%|████████████████████████████████| 47/47 [00:00<00:00, 215.28batch/s, loss=0.879768]\n"
     ]
    },
    {
     "name": "stdout",
     "output_type": "stream",
     "text": [
      "Epoch: 11/100, Loss: 0.882620\n"
     ]
    },
    {
     "name": "stderr",
     "output_type": "stream",
     "text": [
      "Epoch 12/100: 100%|████████████████████████████████| 47/47 [00:00<00:00, 228.07batch/s, loss=0.846940]\n"
     ]
    },
    {
     "name": "stdout",
     "output_type": "stream",
     "text": [
      "Epoch: 12/100, Loss: 0.884822\n"
     ]
    },
    {
     "name": "stderr",
     "output_type": "stream",
     "text": [
      "Epoch 13/100: 100%|████████████████████████████████| 47/47 [00:00<00:00, 223.36batch/s, loss=0.820200]\n"
     ]
    },
    {
     "name": "stdout",
     "output_type": "stream",
     "text": [
      "Epoch: 13/100, Loss: 0.880537\n"
     ]
    },
    {
     "name": "stderr",
     "output_type": "stream",
     "text": [
      "Epoch 14/100: 100%|████████████████████████████████| 47/47 [00:00<00:00, 231.93batch/s, loss=0.826438]\n"
     ]
    },
    {
     "name": "stdout",
     "output_type": "stream",
     "text": [
      "Epoch: 14/100, Loss: 0.860821\n"
     ]
    },
    {
     "name": "stderr",
     "output_type": "stream",
     "text": [
      "Epoch 15/100: 100%|████████████████████████████████| 47/47 [00:00<00:00, 226.08batch/s, loss=0.785261]\n"
     ]
    },
    {
     "name": "stdout",
     "output_type": "stream",
     "text": [
      "Epoch: 15/100, Loss: 0.855418\n"
     ]
    },
    {
     "name": "stderr",
     "output_type": "stream",
     "text": [
      "Epoch 16/100: 100%|████████████████████████████████| 47/47 [00:00<00:00, 186.41batch/s, loss=0.855242]\n"
     ]
    },
    {
     "name": "stdout",
     "output_type": "stream",
     "text": [
      "Epoch: 16/100, Loss: 0.838189\n"
     ]
    },
    {
     "name": "stderr",
     "output_type": "stream",
     "text": [
      "Epoch 17/100: 100%|████████████████████████████████| 47/47 [00:00<00:00, 203.40batch/s, loss=0.679535]\n"
     ]
    },
    {
     "name": "stdout",
     "output_type": "stream",
     "text": [
      "Epoch: 17/100, Loss: 0.834460\n"
     ]
    },
    {
     "name": "stderr",
     "output_type": "stream",
     "text": [
      "Epoch 18/100: 100%|████████████████████████████████| 47/47 [00:00<00:00, 216.24batch/s, loss=1.102401]\n"
     ]
    },
    {
     "name": "stdout",
     "output_type": "stream",
     "text": [
      "Epoch: 18/100, Loss: 0.827741\n"
     ]
    },
    {
     "name": "stderr",
     "output_type": "stream",
     "text": [
      "Epoch 19/100: 100%|████████████████████████████████| 47/47 [00:00<00:00, 208.98batch/s, loss=0.876428]\n"
     ]
    },
    {
     "name": "stdout",
     "output_type": "stream",
     "text": [
      "Epoch: 19/100, Loss: 0.805651\n"
     ]
    },
    {
     "name": "stderr",
     "output_type": "stream",
     "text": [
      "Epoch 20/100: 100%|████████████████████████████████| 47/47 [00:00<00:00, 205.00batch/s, loss=0.927089]\n"
     ]
    },
    {
     "name": "stdout",
     "output_type": "stream",
     "text": [
      "Epoch: 20/100, Loss: 0.807109\n"
     ]
    },
    {
     "name": "stderr",
     "output_type": "stream",
     "text": [
      "Epoch 21/100: 100%|████████████████████████████████| 47/47 [00:00<00:00, 200.37batch/s, loss=0.775365]\n"
     ]
    },
    {
     "name": "stdout",
     "output_type": "stream",
     "text": [
      "Epoch: 21/100, Loss: 0.800723\n"
     ]
    },
    {
     "name": "stderr",
     "output_type": "stream",
     "text": [
      "Epoch 22/100: 100%|████████████████████████████████| 47/47 [00:00<00:00, 214.33batch/s, loss=0.752643]\n"
     ]
    },
    {
     "name": "stdout",
     "output_type": "stream",
     "text": [
      "Epoch: 22/100, Loss: 0.788360\n"
     ]
    },
    {
     "name": "stderr",
     "output_type": "stream",
     "text": [
      "Epoch 23/100: 100%|████████████████████████████████| 47/47 [00:00<00:00, 226.25batch/s, loss=0.809092]\n"
     ]
    },
    {
     "name": "stdout",
     "output_type": "stream",
     "text": [
      "Epoch: 23/100, Loss: 0.791456\n"
     ]
    },
    {
     "name": "stderr",
     "output_type": "stream",
     "text": [
      "Epoch 24/100: 100%|████████████████████████████████| 47/47 [00:00<00:00, 197.38batch/s, loss=0.688540]\n"
     ]
    },
    {
     "name": "stdout",
     "output_type": "stream",
     "text": [
      "Epoch: 24/100, Loss: 0.780364\n"
     ]
    },
    {
     "name": "stderr",
     "output_type": "stream",
     "text": [
      "Epoch 25/100: 100%|████████████████████████████████| 47/47 [00:00<00:00, 191.90batch/s, loss=0.902231]\n"
     ]
    },
    {
     "name": "stdout",
     "output_type": "stream",
     "text": [
      "Epoch: 25/100, Loss: 0.765356\n"
     ]
    },
    {
     "name": "stderr",
     "output_type": "stream",
     "text": [
      "Epoch 26/100: 100%|████████████████████████████████| 47/47 [00:00<00:00, 215.53batch/s, loss=0.837249]\n"
     ]
    },
    {
     "name": "stdout",
     "output_type": "stream",
     "text": [
      "Epoch: 26/100, Loss: 0.764212\n"
     ]
    },
    {
     "name": "stderr",
     "output_type": "stream",
     "text": [
      "Epoch 27/100: 100%|████████████████████████████████| 47/47 [00:00<00:00, 213.13batch/s, loss=0.734906]\n"
     ]
    },
    {
     "name": "stdout",
     "output_type": "stream",
     "text": [
      "Epoch: 27/100, Loss: 0.737027\n"
     ]
    },
    {
     "name": "stderr",
     "output_type": "stream",
     "text": [
      "Epoch 28/100: 100%|████████████████████████████████| 47/47 [00:00<00:00, 195.82batch/s, loss=0.804230]\n"
     ]
    },
    {
     "name": "stdout",
     "output_type": "stream",
     "text": [
      "Epoch: 28/100, Loss: 0.733617\n"
     ]
    },
    {
     "name": "stderr",
     "output_type": "stream",
     "text": [
      "Epoch 29/100: 100%|████████████████████████████████| 47/47 [00:00<00:00, 215.08batch/s, loss=0.619924]\n"
     ]
    },
    {
     "name": "stdout",
     "output_type": "stream",
     "text": [
      "Epoch: 29/100, Loss: 0.745503\n"
     ]
    },
    {
     "name": "stderr",
     "output_type": "stream",
     "text": [
      "Epoch 30/100: 100%|████████████████████████████████| 47/47 [00:00<00:00, 241.67batch/s, loss=0.716459]\n"
     ]
    },
    {
     "name": "stdout",
     "output_type": "stream",
     "text": [
      "Epoch: 30/100, Loss: 0.745406\n"
     ]
    },
    {
     "name": "stderr",
     "output_type": "stream",
     "text": [
      "Epoch 31/100: 100%|████████████████████████████████| 47/47 [00:00<00:00, 240.97batch/s, loss=0.651567]\n"
     ]
    },
    {
     "name": "stdout",
     "output_type": "stream",
     "text": [
      "Epoch: 31/100, Loss: 0.724425\n"
     ]
    },
    {
     "name": "stderr",
     "output_type": "stream",
     "text": [
      "Epoch 32/100: 100%|████████████████████████████████| 47/47 [00:00<00:00, 198.10batch/s, loss=0.769973]\n"
     ]
    },
    {
     "name": "stdout",
     "output_type": "stream",
     "text": [
      "Epoch: 32/100, Loss: 0.722899\n"
     ]
    },
    {
     "name": "stderr",
     "output_type": "stream",
     "text": [
      "Epoch 33/100: 100%|████████████████████████████████| 47/47 [00:00<00:00, 197.29batch/s, loss=0.623261]\n"
     ]
    },
    {
     "name": "stdout",
     "output_type": "stream",
     "text": [
      "Epoch: 33/100, Loss: 0.690702\n"
     ]
    },
    {
     "name": "stderr",
     "output_type": "stream",
     "text": [
      "Epoch 34/100: 100%|████████████████████████████████| 47/47 [00:00<00:00, 202.34batch/s, loss=0.665370]\n"
     ]
    },
    {
     "name": "stdout",
     "output_type": "stream",
     "text": [
      "Epoch: 34/100, Loss: 0.705235\n"
     ]
    },
    {
     "name": "stderr",
     "output_type": "stream",
     "text": [
      "Epoch 35/100: 100%|████████████████████████████████| 47/47 [00:00<00:00, 204.20batch/s, loss=0.678241]\n"
     ]
    },
    {
     "name": "stdout",
     "output_type": "stream",
     "text": [
      "Epoch: 35/100, Loss: 0.704521\n"
     ]
    },
    {
     "name": "stderr",
     "output_type": "stream",
     "text": [
      "Epoch 36/100: 100%|████████████████████████████████| 47/47 [00:00<00:00, 211.20batch/s, loss=0.568813]\n"
     ]
    },
    {
     "name": "stdout",
     "output_type": "stream",
     "text": [
      "Epoch: 36/100, Loss: 0.687491\n"
     ]
    },
    {
     "name": "stderr",
     "output_type": "stream",
     "text": [
      "Epoch 37/100: 100%|████████████████████████████████| 47/47 [00:00<00:00, 207.12batch/s, loss=0.604805]\n"
     ]
    },
    {
     "name": "stdout",
     "output_type": "stream",
     "text": [
      "Epoch: 37/100, Loss: 0.689113\n"
     ]
    },
    {
     "name": "stderr",
     "output_type": "stream",
     "text": [
      "Epoch 38/100: 100%|████████████████████████████████| 47/47 [00:00<00:00, 197.69batch/s, loss=0.663921]\n"
     ]
    },
    {
     "name": "stdout",
     "output_type": "stream",
     "text": [
      "Epoch: 38/100, Loss: 0.698201\n"
     ]
    },
    {
     "name": "stderr",
     "output_type": "stream",
     "text": [
      "Epoch 39/100: 100%|████████████████████████████████| 47/47 [00:00<00:00, 190.48batch/s, loss=0.819631]\n"
     ]
    },
    {
     "name": "stdout",
     "output_type": "stream",
     "text": [
      "Epoch: 39/100, Loss: 0.660716\n"
     ]
    },
    {
     "name": "stderr",
     "output_type": "stream",
     "text": [
      "Epoch 40/100: 100%|████████████████████████████████| 47/47 [00:00<00:00, 191.43batch/s, loss=0.525061]\n"
     ]
    },
    {
     "name": "stdout",
     "output_type": "stream",
     "text": [
      "Epoch: 40/100, Loss: 0.649406\n"
     ]
    },
    {
     "name": "stderr",
     "output_type": "stream",
     "text": [
      "Epoch 41/100: 100%|████████████████████████████████| 47/47 [00:00<00:00, 197.40batch/s, loss=0.632970]\n"
     ]
    },
    {
     "name": "stdout",
     "output_type": "stream",
     "text": [
      "Epoch: 41/100, Loss: 0.670448\n"
     ]
    },
    {
     "name": "stderr",
     "output_type": "stream",
     "text": [
      "Epoch 42/100: 100%|████████████████████████████████| 47/47 [00:00<00:00, 198.80batch/s, loss=0.586277]\n"
     ]
    },
    {
     "name": "stdout",
     "output_type": "stream",
     "text": [
      "Epoch: 42/100, Loss: 0.661078\n"
     ]
    },
    {
     "name": "stderr",
     "output_type": "stream",
     "text": [
      "Epoch 43/100: 100%|████████████████████████████████| 47/47 [00:00<00:00, 191.64batch/s, loss=0.750455]\n"
     ]
    },
    {
     "name": "stdout",
     "output_type": "stream",
     "text": [
      "Epoch: 43/100, Loss: 0.643552\n"
     ]
    },
    {
     "name": "stderr",
     "output_type": "stream",
     "text": [
      "Epoch 44/100: 100%|████████████████████████████████| 47/47 [00:00<00:00, 192.69batch/s, loss=0.552421]\n"
     ]
    },
    {
     "name": "stdout",
     "output_type": "stream",
     "text": [
      "Epoch: 44/100, Loss: 0.649785\n"
     ]
    },
    {
     "name": "stderr",
     "output_type": "stream",
     "text": [
      "Epoch 45/100: 100%|████████████████████████████████| 47/47 [00:00<00:00, 209.34batch/s, loss=0.744509]\n"
     ]
    },
    {
     "name": "stdout",
     "output_type": "stream",
     "text": [
      "Epoch: 45/100, Loss: 0.640953\n"
     ]
    },
    {
     "name": "stderr",
     "output_type": "stream",
     "text": [
      "Epoch 46/100: 100%|████████████████████████████████| 47/47 [00:00<00:00, 206.67batch/s, loss=0.453517]\n"
     ]
    },
    {
     "name": "stdout",
     "output_type": "stream",
     "text": [
      "Epoch: 46/100, Loss: 0.651287\n"
     ]
    },
    {
     "name": "stderr",
     "output_type": "stream",
     "text": [
      "Epoch 47/100: 100%|████████████████████████████████| 47/47 [00:00<00:00, 236.77batch/s, loss=0.869436]"
     ]
    },
    {
     "name": "stdout",
     "output_type": "stream",
     "text": [
      "Epoch: 47/100, Loss: 0.662523\n"
     ]
    },
    {
     "name": "stderr",
     "output_type": "stream",
     "text": [
      "\n",
      "Epoch 48/100: 100%|████████████████████████████████| 47/47 [00:00<00:00, 235.64batch/s, loss=0.571045]\n"
     ]
    },
    {
     "name": "stdout",
     "output_type": "stream",
     "text": [
      "Epoch: 48/100, Loss: 0.629758\n"
     ]
    },
    {
     "name": "stderr",
     "output_type": "stream",
     "text": [
      "Epoch 49/100: 100%|████████████████████████████████| 47/47 [00:00<00:00, 238.35batch/s, loss=0.450562]\n"
     ]
    },
    {
     "name": "stdout",
     "output_type": "stream",
     "text": [
      "Epoch: 49/100, Loss: 0.630530\n"
     ]
    },
    {
     "name": "stderr",
     "output_type": "stream",
     "text": [
      "Epoch 50/100: 100%|████████████████████████████████| 47/47 [00:00<00:00, 230.08batch/s, loss=0.510589]\n"
     ]
    },
    {
     "name": "stdout",
     "output_type": "stream",
     "text": [
      "Epoch: 50/100, Loss: 0.590599\n"
     ]
    },
    {
     "name": "stderr",
     "output_type": "stream",
     "text": [
      "Epoch 51/100: 100%|████████████████████████████████| 47/47 [00:00<00:00, 234.88batch/s, loss=0.473893]\n"
     ]
    },
    {
     "name": "stdout",
     "output_type": "stream",
     "text": [
      "Epoch: 51/100, Loss: 0.601259\n"
     ]
    },
    {
     "name": "stderr",
     "output_type": "stream",
     "text": [
      "Epoch 52/100: 100%|████████████████████████████████| 47/47 [00:00<00:00, 223.56batch/s, loss=0.577200]\n"
     ]
    },
    {
     "name": "stdout",
     "output_type": "stream",
     "text": [
      "Epoch: 52/100, Loss: 0.626912\n"
     ]
    },
    {
     "name": "stderr",
     "output_type": "stream",
     "text": [
      "Epoch 53/100: 100%|████████████████████████████████| 47/47 [00:00<00:00, 227.03batch/s, loss=0.609590]\n"
     ]
    },
    {
     "name": "stdout",
     "output_type": "stream",
     "text": [
      "Epoch: 53/100, Loss: 0.594723\n"
     ]
    },
    {
     "name": "stderr",
     "output_type": "stream",
     "text": [
      "Epoch 54/100: 100%|████████████████████████████████| 47/47 [00:00<00:00, 235.10batch/s, loss=0.523524]\n"
     ]
    },
    {
     "name": "stdout",
     "output_type": "stream",
     "text": [
      "Epoch: 54/100, Loss: 0.586027\n"
     ]
    },
    {
     "name": "stderr",
     "output_type": "stream",
     "text": [
      "Epoch 55/100: 100%|████████████████████████████████| 47/47 [00:00<00:00, 226.08batch/s, loss=0.518054]\n"
     ]
    },
    {
     "name": "stdout",
     "output_type": "stream",
     "text": [
      "Epoch: 55/100, Loss: 0.560926\n"
     ]
    },
    {
     "name": "stderr",
     "output_type": "stream",
     "text": [
      "Epoch 56/100: 100%|████████████████████████████████| 47/47 [00:00<00:00, 216.18batch/s, loss=0.520375]\n"
     ]
    },
    {
     "name": "stdout",
     "output_type": "stream",
     "text": [
      "Epoch: 56/100, Loss: 0.567483\n"
     ]
    },
    {
     "name": "stderr",
     "output_type": "stream",
     "text": [
      "Epoch 57/100: 100%|████████████████████████████████| 47/47 [00:00<00:00, 248.71batch/s, loss=0.673377]\n"
     ]
    },
    {
     "name": "stdout",
     "output_type": "stream",
     "text": [
      "Epoch: 57/100, Loss: 0.597177\n"
     ]
    },
    {
     "name": "stderr",
     "output_type": "stream",
     "text": [
      "Epoch 58/100: 100%|████████████████████████████████| 47/47 [00:00<00:00, 235.47batch/s, loss=0.538440]\n"
     ]
    },
    {
     "name": "stdout",
     "output_type": "stream",
     "text": [
      "Epoch: 58/100, Loss: 0.572804\n"
     ]
    },
    {
     "name": "stderr",
     "output_type": "stream",
     "text": [
      "Epoch 59/100: 100%|████████████████████████████████| 47/47 [00:00<00:00, 216.10batch/s, loss=0.423048]\n"
     ]
    },
    {
     "name": "stdout",
     "output_type": "stream",
     "text": [
      "Epoch: 59/100, Loss: 0.551980\n"
     ]
    },
    {
     "name": "stderr",
     "output_type": "stream",
     "text": [
      "Epoch 60/100: 100%|████████████████████████████████| 47/47 [00:00<00:00, 216.63batch/s, loss=0.551043]\n"
     ]
    },
    {
     "name": "stdout",
     "output_type": "stream",
     "text": [
      "Epoch: 60/100, Loss: 0.544528\n"
     ]
    },
    {
     "name": "stderr",
     "output_type": "stream",
     "text": [
      "Epoch 61/100: 100%|████████████████████████████████| 47/47 [00:00<00:00, 224.67batch/s, loss=0.572817]\n"
     ]
    },
    {
     "name": "stdout",
     "output_type": "stream",
     "text": [
      "Epoch: 61/100, Loss: 0.554068\n"
     ]
    },
    {
     "name": "stderr",
     "output_type": "stream",
     "text": [
      "Epoch 62/100: 100%|████████████████████████████████| 47/47 [00:00<00:00, 241.24batch/s, loss=0.464970]\n"
     ]
    },
    {
     "name": "stdout",
     "output_type": "stream",
     "text": [
      "Epoch: 62/100, Loss: 0.540089\n"
     ]
    },
    {
     "name": "stderr",
     "output_type": "stream",
     "text": [
      "Epoch 63/100: 100%|████████████████████████████████| 47/47 [00:00<00:00, 227.14batch/s, loss=0.550932]\n"
     ]
    },
    {
     "name": "stdout",
     "output_type": "stream",
     "text": [
      "Epoch: 63/100, Loss: 0.542224\n"
     ]
    },
    {
     "name": "stderr",
     "output_type": "stream",
     "text": [
      "Epoch 64/100: 100%|████████████████████████████████| 47/47 [00:00<00:00, 234.85batch/s, loss=0.494152]\n"
     ]
    },
    {
     "name": "stdout",
     "output_type": "stream",
     "text": [
      "Epoch: 64/100, Loss: 0.542857\n"
     ]
    },
    {
     "name": "stderr",
     "output_type": "stream",
     "text": [
      "Epoch 65/100: 100%|████████████████████████████████| 47/47 [00:00<00:00, 226.08batch/s, loss=0.474412]\n"
     ]
    },
    {
     "name": "stdout",
     "output_type": "stream",
     "text": [
      "Epoch: 65/100, Loss: 0.506632\n"
     ]
    },
    {
     "name": "stderr",
     "output_type": "stream",
     "text": [
      "Epoch 66/100: 100%|████████████████████████████████| 47/47 [00:00<00:00, 220.99batch/s, loss=0.516586]\n"
     ]
    },
    {
     "name": "stdout",
     "output_type": "stream",
     "text": [
      "Epoch: 66/100, Loss: 0.498789\n"
     ]
    },
    {
     "name": "stderr",
     "output_type": "stream",
     "text": [
      "Epoch 67/100: 100%|████████████████████████████████| 47/47 [00:00<00:00, 242.27batch/s, loss=0.484490]\n"
     ]
    },
    {
     "name": "stdout",
     "output_type": "stream",
     "text": [
      "Epoch: 67/100, Loss: 0.524631\n"
     ]
    },
    {
     "name": "stderr",
     "output_type": "stream",
     "text": [
      "Epoch 68/100: 100%|████████████████████████████████| 47/47 [00:00<00:00, 227.38batch/s, loss=0.418299]\n"
     ]
    },
    {
     "name": "stdout",
     "output_type": "stream",
     "text": [
      "Epoch: 68/100, Loss: 0.522132\n"
     ]
    },
    {
     "name": "stderr",
     "output_type": "stream",
     "text": [
      "Epoch 69/100: 100%|████████████████████████████████| 47/47 [00:00<00:00, 219.53batch/s, loss=0.469815]\n"
     ]
    },
    {
     "name": "stdout",
     "output_type": "stream",
     "text": [
      "Epoch: 69/100, Loss: 0.503329\n"
     ]
    },
    {
     "name": "stderr",
     "output_type": "stream",
     "text": [
      "Epoch 70/100: 100%|████████████████████████████████| 47/47 [00:00<00:00, 215.00batch/s, loss=0.383877]\n"
     ]
    },
    {
     "name": "stdout",
     "output_type": "stream",
     "text": [
      "Epoch: 70/100, Loss: 0.509477\n"
     ]
    },
    {
     "name": "stderr",
     "output_type": "stream",
     "text": [
      "Epoch 71/100: 100%|████████████████████████████████| 47/47 [00:00<00:00, 235.70batch/s, loss=0.599495]\n"
     ]
    },
    {
     "name": "stdout",
     "output_type": "stream",
     "text": [
      "Epoch: 71/100, Loss: 0.526006\n"
     ]
    },
    {
     "name": "stderr",
     "output_type": "stream",
     "text": [
      "Epoch 72/100: 100%|████████████████████████████████| 47/47 [00:00<00:00, 214.61batch/s, loss=0.543004]\n"
     ]
    },
    {
     "name": "stdout",
     "output_type": "stream",
     "text": [
      "Epoch: 72/100, Loss: 0.507583\n"
     ]
    },
    {
     "name": "stderr",
     "output_type": "stream",
     "text": [
      "Epoch 73/100: 100%|████████████████████████████████| 47/47 [00:00<00:00, 221.39batch/s, loss=0.535222]\n"
     ]
    },
    {
     "name": "stdout",
     "output_type": "stream",
     "text": [
      "Epoch: 73/100, Loss: 0.497241\n"
     ]
    },
    {
     "name": "stderr",
     "output_type": "stream",
     "text": [
      "Epoch 74/100: 100%|████████████████████████████████| 47/47 [00:00<00:00, 223.64batch/s, loss=0.481904]\n"
     ]
    },
    {
     "name": "stdout",
     "output_type": "stream",
     "text": [
      "Epoch: 74/100, Loss: 0.511059\n"
     ]
    },
    {
     "name": "stderr",
     "output_type": "stream",
     "text": [
      "Epoch 75/100: 100%|████████████████████████████████| 47/47 [00:00<00:00, 236.60batch/s, loss=0.526653]\n"
     ]
    },
    {
     "name": "stdout",
     "output_type": "stream",
     "text": [
      "Epoch: 75/100, Loss: 0.500880\n"
     ]
    },
    {
     "name": "stderr",
     "output_type": "stream",
     "text": [
      "Epoch 76/100: 100%|████████████████████████████████| 47/47 [00:00<00:00, 233.27batch/s, loss=0.521645]\n"
     ]
    },
    {
     "name": "stdout",
     "output_type": "stream",
     "text": [
      "Epoch: 76/100, Loss: 0.476236\n"
     ]
    },
    {
     "name": "stderr",
     "output_type": "stream",
     "text": [
      "Epoch 77/100: 100%|████████████████████████████████| 47/47 [00:00<00:00, 243.05batch/s, loss=0.304440]\n"
     ]
    },
    {
     "name": "stdout",
     "output_type": "stream",
     "text": [
      "Epoch: 77/100, Loss: 0.474981\n"
     ]
    },
    {
     "name": "stderr",
     "output_type": "stream",
     "text": [
      "Epoch 78/100: 100%|████████████████████████████████| 47/47 [00:00<00:00, 241.03batch/s, loss=0.673300]\n"
     ]
    },
    {
     "name": "stdout",
     "output_type": "stream",
     "text": [
      "Epoch: 78/100, Loss: 0.492420\n"
     ]
    },
    {
     "name": "stderr",
     "output_type": "stream",
     "text": [
      "Epoch 79/100: 100%|████████████████████████████████| 47/47 [00:00<00:00, 239.05batch/s, loss=0.382553]\n"
     ]
    },
    {
     "name": "stdout",
     "output_type": "stream",
     "text": [
      "Epoch: 79/100, Loss: 0.483780\n"
     ]
    },
    {
     "name": "stderr",
     "output_type": "stream",
     "text": [
      "Epoch 80/100: 100%|████████████████████████████████| 47/47 [00:00<00:00, 232.63batch/s, loss=0.201247]\n"
     ]
    },
    {
     "name": "stdout",
     "output_type": "stream",
     "text": [
      "Epoch: 80/100, Loss: 0.454921\n"
     ]
    },
    {
     "name": "stderr",
     "output_type": "stream",
     "text": [
      "Epoch 81/100: 100%|████████████████████████████████| 47/47 [00:00<00:00, 225.97batch/s, loss=0.295566]\n"
     ]
    },
    {
     "name": "stdout",
     "output_type": "stream",
     "text": [
      "Epoch: 81/100, Loss: 0.490239\n"
     ]
    },
    {
     "name": "stderr",
     "output_type": "stream",
     "text": [
      "Epoch 82/100: 100%|████████████████████████████████| 47/47 [00:00<00:00, 219.29batch/s, loss=0.416802]\n"
     ]
    },
    {
     "name": "stdout",
     "output_type": "stream",
     "text": [
      "Epoch: 82/100, Loss: 0.433834\n"
     ]
    },
    {
     "name": "stderr",
     "output_type": "stream",
     "text": [
      "Epoch 83/100: 100%|████████████████████████████████| 47/47 [00:00<00:00, 214.86batch/s, loss=0.867358]\n"
     ]
    },
    {
     "name": "stdout",
     "output_type": "stream",
     "text": [
      "Epoch: 83/100, Loss: 0.469273\n"
     ]
    },
    {
     "name": "stderr",
     "output_type": "stream",
     "text": [
      "Epoch 84/100: 100%|████████████████████████████████| 47/47 [00:00<00:00, 220.03batch/s, loss=0.455903]\n"
     ]
    },
    {
     "name": "stdout",
     "output_type": "stream",
     "text": [
      "Epoch: 84/100, Loss: 0.445259\n"
     ]
    },
    {
     "name": "stderr",
     "output_type": "stream",
     "text": [
      "Epoch 85/100: 100%|████████████████████████████████| 47/47 [00:00<00:00, 227.61batch/s, loss=0.389597]\n"
     ]
    },
    {
     "name": "stdout",
     "output_type": "stream",
     "text": [
      "Epoch: 85/100, Loss: 0.463450\n"
     ]
    },
    {
     "name": "stderr",
     "output_type": "stream",
     "text": [
      "Epoch 86/100: 100%|████████████████████████████████| 47/47 [00:00<00:00, 238.35batch/s, loss=0.312518]\n"
     ]
    },
    {
     "name": "stdout",
     "output_type": "stream",
     "text": [
      "Epoch: 86/100, Loss: 0.474920\n"
     ]
    },
    {
     "name": "stderr",
     "output_type": "stream",
     "text": [
      "Epoch 87/100: 100%|████████████████████████████████| 47/47 [00:00<00:00, 222.24batch/s, loss=0.546110]\n"
     ]
    },
    {
     "name": "stdout",
     "output_type": "stream",
     "text": [
      "Epoch: 87/100, Loss: 0.444816\n"
     ]
    },
    {
     "name": "stderr",
     "output_type": "stream",
     "text": [
      "Epoch 88/100: 100%|████████████████████████████████| 47/47 [00:00<00:00, 219.30batch/s, loss=0.477681]\n"
     ]
    },
    {
     "name": "stdout",
     "output_type": "stream",
     "text": [
      "Epoch: 88/100, Loss: 0.437761\n"
     ]
    },
    {
     "name": "stderr",
     "output_type": "stream",
     "text": [
      "Epoch 89/100: 100%|████████████████████████████████| 47/47 [00:00<00:00, 226.90batch/s, loss=0.469212]\n"
     ]
    },
    {
     "name": "stdout",
     "output_type": "stream",
     "text": [
      "Epoch: 89/100, Loss: 0.454726\n"
     ]
    },
    {
     "name": "stderr",
     "output_type": "stream",
     "text": [
      "Epoch 90/100: 100%|████████████████████████████████| 47/47 [00:00<00:00, 235.36batch/s, loss=0.384256]\n"
     ]
    },
    {
     "name": "stdout",
     "output_type": "stream",
     "text": [
      "Epoch: 90/100, Loss: 0.447355\n"
     ]
    },
    {
     "name": "stderr",
     "output_type": "stream",
     "text": [
      "Epoch 91/100: 100%|████████████████████████████████| 47/47 [00:00<00:00, 251.66batch/s, loss=0.463618]\n"
     ]
    },
    {
     "name": "stdout",
     "output_type": "stream",
     "text": [
      "Epoch: 91/100, Loss: 0.449243\n"
     ]
    },
    {
     "name": "stderr",
     "output_type": "stream",
     "text": [
      "Epoch 92/100: 100%|████████████████████████████████| 47/47 [00:00<00:00, 217.47batch/s, loss=0.365508]\n"
     ]
    },
    {
     "name": "stdout",
     "output_type": "stream",
     "text": [
      "Epoch: 92/100, Loss: 0.449241\n"
     ]
    },
    {
     "name": "stderr",
     "output_type": "stream",
     "text": [
      "Epoch 93/100: 100%|████████████████████████████████| 47/47 [00:00<00:00, 205.17batch/s, loss=0.297618]\n"
     ]
    },
    {
     "name": "stdout",
     "output_type": "stream",
     "text": [
      "Epoch: 93/100, Loss: 0.438819\n"
     ]
    },
    {
     "name": "stderr",
     "output_type": "stream",
     "text": [
      "Epoch 94/100: 100%|████████████████████████████████| 47/47 [00:00<00:00, 214.20batch/s, loss=0.425121]\n"
     ]
    },
    {
     "name": "stdout",
     "output_type": "stream",
     "text": [
      "Epoch: 94/100, Loss: 0.439696\n"
     ]
    },
    {
     "name": "stderr",
     "output_type": "stream",
     "text": [
      "Epoch 95/100: 100%|████████████████████████████████| 47/47 [00:00<00:00, 222.82batch/s, loss=0.327000]\n"
     ]
    },
    {
     "name": "stdout",
     "output_type": "stream",
     "text": [
      "Epoch: 95/100, Loss: 0.440831\n"
     ]
    },
    {
     "name": "stderr",
     "output_type": "stream",
     "text": [
      "Epoch 96/100: 100%|████████████████████████████████| 47/47 [00:00<00:00, 208.42batch/s, loss=0.457813]\n"
     ]
    },
    {
     "name": "stdout",
     "output_type": "stream",
     "text": [
      "Epoch: 96/100, Loss: 0.397884\n"
     ]
    },
    {
     "name": "stderr",
     "output_type": "stream",
     "text": [
      "Epoch 97/100: 100%|████████████████████████████████| 47/47 [00:00<00:00, 203.86batch/s, loss=0.304890]\n"
     ]
    },
    {
     "name": "stdout",
     "output_type": "stream",
     "text": [
      "Epoch: 97/100, Loss: 0.432087\n"
     ]
    },
    {
     "name": "stderr",
     "output_type": "stream",
     "text": [
      "Epoch 98/100: 100%|████████████████████████████████| 47/47 [00:00<00:00, 205.18batch/s, loss=0.486581]\n"
     ]
    },
    {
     "name": "stdout",
     "output_type": "stream",
     "text": [
      "Epoch: 98/100, Loss: 0.397224\n"
     ]
    },
    {
     "name": "stderr",
     "output_type": "stream",
     "text": [
      "Epoch 99/100: 100%|████████████████████████████████| 47/47 [00:00<00:00, 229.50batch/s, loss=0.396078]\n"
     ]
    },
    {
     "name": "stdout",
     "output_type": "stream",
     "text": [
      "Epoch: 99/100, Loss: 0.383199\n"
     ]
    },
    {
     "name": "stderr",
     "output_type": "stream",
     "text": [
      "Epoch 100/100: 100%|███████████████████████████████| 47/47 [00:00<00:00, 222.07batch/s, loss=0.282846]"
     ]
    },
    {
     "name": "stdout",
     "output_type": "stream",
     "text": [
      "Epoch: 100/100, Loss: 0.410624\n",
      "CPU times: user 17.9 s, sys: 6.13 s, total: 24 s\n",
      "Wall time: 22 s\n"
     ]
    },
    {
     "name": "stderr",
     "output_type": "stream",
     "text": [
      "\n"
     ]
    }
   ],
   "source": [
    "%%time\n",
    "trainer1.train(cifar100_001, epochs)"
   ]
  },
  {
   "cell_type": "code",
   "execution_count": 13,
   "id": "a4250250-aa26-4ecc-906d-bb36a4f783f7",
   "metadata": {},
   "outputs": [
    {
     "data": {
      "image/png": "[encoded data removed]",
      "text/plain": [
       "<Figure size 1400x600 with 2 Axes>"
      ]
     },
     "metadata": {},
     "output_type": "display_data"
    }
   ],
   "source": [
    "trainer1.plot_training_history()"
   ]
  },
  {
   "cell_type": "markdown",
   "id": "612b267e-dba0-448f-ad80-4165d1d0dd72",
   "metadata": {},
   "source": [
    "#### Оценка"
   ]
  },
  {
   "cell_type": "code",
   "execution_count": 14,
   "id": "737a297e-1081-4cc3-a9ba-a19f8f0243ae",
   "metadata": {},
   "outputs": [
    {
     "name": "stdout",
     "output_type": "stream",
     "text": [
      "Classification report for train dataset:\n",
      "              precision    recall  f1-score   support\n",
      "\n",
      "    wardrobe     0.9406    0.9500    0.9453       500\n",
      "  chimpanzee     0.9105    0.9560    0.9327       500\n",
      "    mushroom     0.9745    0.9160    0.9443       500\n",
      "\n",
      "    accuracy                         0.9407      1500\n",
      "   macro avg     0.9418    0.9407    0.9408      1500\n",
      "weighted avg     0.9418    0.9407    0.9408      1500\n",
      "\n",
      "--------------------------------------------------\n",
      "Classification report for test dataset:\n",
      "              precision    recall  f1-score   support\n",
      "\n",
      "    wardrobe     0.7748    0.8600    0.8152       100\n",
      "  chimpanzee     0.8041    0.7800    0.7919       100\n",
      "    mushroom     0.8261    0.7600    0.7917       100\n",
      "\n",
      "    accuracy                         0.8000       300\n",
      "   macro avg     0.8017    0.8000    0.7996       300\n",
      "weighted avg     0.8017    0.8000    0.7996       300\n",
      "\n",
      "--------------------------------------------------\n"
     ]
    }
   ],
   "source": [
    "trainer1.evaluate(cifar100_001)"
   ]
  },
  {
   "cell_type": "markdown",
   "id": "a4cd8de3-a9a1-4fa9-9e17-1ee0acff8534",
   "metadata": {},
   "source": [
    "#### Сохранение модели в ONNX"
   ]
  },
  {
   "cell_type": "code",
   "execution_count": 15,
   "id": "7b6427f4-6b4a-4e09-8bdf-2f42d4ece424",
   "metadata": {},
   "outputs": [
    {
     "name": "stdout",
     "output_type": "stream",
     "text": [
      "Model saved as: cifar100_9fd52889-5ddd-4b72-84fa-b5f5cd858035.onnx\n",
      "Model UUID: 9fd52889-5ddd-4b72-84fa-b5f5cd858035\n"
     ]
    }
   ],
   "source": [
    "trainer1.save_model(cifar100_001)"
   ]
  },
  {
   "cell_type": "markdown",
   "id": "ffbf016b-8595-4047-a1d9-d856b218978a",
   "metadata": {},
   "source": [
    "### Эксперимент №2"
   ]
  },
  {
   "cell_type": "markdown",
   "id": "f86afd07-5a37-4770-8a8e-65bdb2536d0c",
   "metadata": {},
   "source": [
    "#### Гиперпараметры"
   ]
  },
  {
   "cell_type": "code",
   "execution_count": 16,
   "id": "0f4a7a5e-6389-4756-9338-168d55378e08",
   "metadata": {},
   "outputs": [],
   "source": [
    "batch_size=2**5\n",
    "epochs=100\n",
    "criterion=nn.NLLLoss()\n",
    "lr_rate = 1e-4\n",
    "hidden_layers=[2**6, 2**10, 2**12, 2**10, 2**6]"
   ]
  },
  {
   "cell_type": "markdown",
   "id": "20750b6b-f05e-49d1-94e3-fece959ca3e3",
   "metadata": {},
   "source": [
    "#### Инициализация модели"
   ]
  },
  {
   "cell_type": "code",
   "execution_count": 17,
   "id": "81d4d47c-6fbe-49f6-b43c-d91fefedd899",
   "metadata": {},
   "outputs": [
    {
     "name": "stdout",
     "output_type": "stream",
     "text": [
      "Используемое устройство: cuda\n",
      "CPU times: user 155 ms, sys: 291 ms, total: 446 ms\n",
      "Wall time: 330 ms\n"
     ]
    }
   ],
   "source": [
    "%%time\n",
    "trainer2 = CIFAR100Trainer(CLASSES, batch_size, lr_rate, criterion)"
   ]
  },
  {
   "cell_type": "code",
   "execution_count": 18,
   "id": "7b35af7b-07d2-4fdb-9db1-bde4f3cfcbd1",
   "metadata": {},
   "outputs": [
    {
     "name": "stdout",
     "output_type": "stream",
     "text": [
      "CPU times: user 269 ms, sys: 29.9 ms, total: 299 ms\n",
      "Wall time: 37.1 ms\n"
     ]
    }
   ],
   "source": [
    "%%time\n",
    "cifar100_002 = CIFAR100Model(\n",
    "    hidden_layers=hidden_layers, \n",
    "    dropout_prob=0.5, \n",
    "    num_classes=CLASSES.__len__()\n",
    ")"
   ]
  },
  {
   "cell_type": "markdown",
   "id": "2aa564ab-f35d-49a8-9601-a2c4f9b0222c",
   "metadata": {},
   "source": [
    "#### Информация о модели"
   ]
  },
  {
   "cell_type": "code",
   "execution_count": 19,
   "id": "e14dae34-dca1-4b4c-bff1-39b5dfd18bb1",
   "metadata": {},
   "outputs": [
    {
     "data": {
      "text/plain": [
       "CIFAR100Model(\n",
       "  (norm): Normalize()\n",
       "  (seq): Sequential(\n",
       "    (0): Linear(in_features=3072, out_features=64, bias=True)\n",
       "    (1): ReLU()\n",
       "    (2): Dropout(p=0.5, inplace=False)\n",
       "    (3): Linear(in_features=64, out_features=1024, bias=True)\n",
       "    (4): ReLU()\n",
       "    (5): Dropout(p=0.5, inplace=False)\n",
       "    (6): Linear(in_features=1024, out_features=4096, bias=True)\n",
       "    (7): ReLU()\n",
       "    (8): Dropout(p=0.5, inplace=False)\n",
       "    (9): Linear(in_features=4096, out_features=1024, bias=True)\n",
       "    (10): ReLU()\n",
       "    (11): Dropout(p=0.5, inplace=False)\n",
       "    (12): Linear(in_features=1024, out_features=64, bias=True)\n",
       "    (13): ReLU()\n",
       "    (14): Dropout(p=0.5, inplace=False)\n",
       "    (15): Linear(in_features=64, out_features=3, bias=True)\n",
       "  )\n",
       ")"
      ]
     },
     "execution_count": 19,
     "metadata": {},
     "output_type": "execute_result"
    }
   ],
   "source": [
    "cifar100_002"
   ]
  },
  {
   "cell_type": "markdown",
   "id": "e167af72-f485-4835-bac4-8e0dd5712b2a",
   "metadata": {},
   "source": [
    "#### Обучение"
   ]
  },
  {
   "cell_type": "code",
   "execution_count": 20,
   "id": "b7b63532-ed2b-474d-ac76-0d731db3badb",
   "metadata": {
    "scrolled": true
   },
   "outputs": [
    {
     "name": "stderr",
     "output_type": "stream",
     "text": [
      "Epoch 1/100: 100%|██████████████████████████████████| 47/47 [00:00<00:00, 89.01batch/s, loss=0.955712]\n"
     ]
    },
    {
     "name": "stdout",
     "output_type": "stream",
     "text": [
      "Epoch: 1/100, Loss: 1.064128\n"
     ]
    },
    {
     "name": "stderr",
     "output_type": "stream",
     "text": [
      "Epoch 2/100: 100%|██████████████████████████████████| 47/47 [00:00<00:00, 87.40batch/s, loss=0.681746]\n"
     ]
    },
    {
     "name": "stdout",
     "output_type": "stream",
     "text": [
      "Epoch: 2/100, Loss: 0.850936\n"
     ]
    },
    {
     "name": "stderr",
     "output_type": "stream",
     "text": [
      "Epoch 3/100: 100%|██████████████████████████████████| 47/47 [00:00<00:00, 88.61batch/s, loss=0.580405]\n"
     ]
    },
    {
     "name": "stdout",
     "output_type": "stream",
     "text": [
      "Epoch: 3/100, Loss: 0.707514\n"
     ]
    },
    {
     "name": "stderr",
     "output_type": "stream",
     "text": [
      "Epoch 4/100: 100%|██████████████████████████████████| 47/47 [00:00<00:00, 88.95batch/s, loss=0.403530]\n"
     ]
    },
    {
     "name": "stdout",
     "output_type": "stream",
     "text": [
      "Epoch: 4/100, Loss: 0.656977\n"
     ]
    },
    {
     "name": "stderr",
     "output_type": "stream",
     "text": [
      "Epoch 5/100: 100%|██████████████████████████████████| 47/47 [00:00<00:00, 89.42batch/s, loss=0.477312]\n"
     ]
    },
    {
     "name": "stdout",
     "output_type": "stream",
     "text": [
      "Epoch: 5/100, Loss: 0.583491\n"
     ]
    },
    {
     "name": "stderr",
     "output_type": "stream",
     "text": [
      "Epoch 6/100: 100%|██████████████████████████████████| 47/47 [00:00<00:00, 88.28batch/s, loss=0.495322]\n"
     ]
    },
    {
     "name": "stdout",
     "output_type": "stream",
     "text": [
      "Epoch: 6/100, Loss: 0.559060\n"
     ]
    },
    {
     "name": "stderr",
     "output_type": "stream",
     "text": [
      "Epoch 7/100: 100%|██████████████████████████████████| 47/47 [00:00<00:00, 89.77batch/s, loss=0.483306]\n"
     ]
    },
    {
     "name": "stdout",
     "output_type": "stream",
     "text": [
      "Epoch: 7/100, Loss: 0.532786\n"
     ]
    },
    {
     "name": "stderr",
     "output_type": "stream",
     "text": [
      "Epoch 8/100: 100%|██████████████████████████████████| 47/47 [00:00<00:00, 86.85batch/s, loss=0.604827]\n"
     ]
    },
    {
     "name": "stdout",
     "output_type": "stream",
     "text": [
      "Epoch: 8/100, Loss: 0.521468\n"
     ]
    },
    {
     "name": "stderr",
     "output_type": "stream",
     "text": [
      "Epoch 9/100: 100%|██████████████████████████████████| 47/47 [00:00<00:00, 87.90batch/s, loss=0.504138]\n"
     ]
    },
    {
     "name": "stdout",
     "output_type": "stream",
     "text": [
      "Epoch: 9/100, Loss: 0.488595\n"
     ]
    },
    {
     "name": "stderr",
     "output_type": "stream",
     "text": [
      "Epoch 10/100: 100%|█████████████████████████████████| 47/47 [00:00<00:00, 85.29batch/s, loss=0.594128]\n"
     ]
    },
    {
     "name": "stdout",
     "output_type": "stream",
     "text": [
      "Epoch: 10/100, Loss: 0.451712\n"
     ]
    },
    {
     "name": "stderr",
     "output_type": "stream",
     "text": [
      "Epoch 11/100: 100%|█████████████████████████████████| 47/47 [00:00<00:00, 91.95batch/s, loss=0.482777]\n"
     ]
    },
    {
     "name": "stdout",
     "output_type": "stream",
     "text": [
      "Epoch: 11/100, Loss: 0.463229\n"
     ]
    },
    {
     "name": "stderr",
     "output_type": "stream",
     "text": [
      "Epoch 12/100: 100%|█████████████████████████████████| 47/47 [00:00<00:00, 90.87batch/s, loss=0.327652]\n"
     ]
    },
    {
     "name": "stdout",
     "output_type": "stream",
     "text": [
      "Epoch: 12/100, Loss: 0.435026\n"
     ]
    },
    {
     "name": "stderr",
     "output_type": "stream",
     "text": [
      "Epoch 13/100: 100%|█████████████████████████████████| 47/47 [00:00<00:00, 89.84batch/s, loss=0.437077]\n"
     ]
    },
    {
     "name": "stdout",
     "output_type": "stream",
     "text": [
      "Epoch: 13/100, Loss: 0.422488\n"
     ]
    },
    {
     "name": "stderr",
     "output_type": "stream",
     "text": [
      "Epoch 14/100: 100%|█████████████████████████████████| 47/47 [00:00<00:00, 90.04batch/s, loss=0.352963]\n"
     ]
    },
    {
     "name": "stdout",
     "output_type": "stream",
     "text": [
      "Epoch: 14/100, Loss: 0.401502\n"
     ]
    },
    {
     "name": "stderr",
     "output_type": "stream",
     "text": [
      "Epoch 15/100: 100%|█████████████████████████████████| 47/47 [00:00<00:00, 85.91batch/s, loss=0.372804]\n"
     ]
    },
    {
     "name": "stdout",
     "output_type": "stream",
     "text": [
      "Epoch: 15/100, Loss: 0.353097\n"
     ]
    },
    {
     "name": "stderr",
     "output_type": "stream",
     "text": [
      "Epoch 16/100: 100%|█████████████████████████████████| 47/47 [00:00<00:00, 89.03batch/s, loss=0.551686]\n"
     ]
    },
    {
     "name": "stdout",
     "output_type": "stream",
     "text": [
      "Epoch: 16/100, Loss: 0.372085\n"
     ]
    },
    {
     "name": "stderr",
     "output_type": "stream",
     "text": [
      "Epoch 17/100: 100%|█████████████████████████████████| 47/47 [00:00<00:00, 87.70batch/s, loss=0.353118]\n"
     ]
    },
    {
     "name": "stdout",
     "output_type": "stream",
     "text": [
      "Epoch: 17/100, Loss: 0.345795\n"
     ]
    },
    {
     "name": "stderr",
     "output_type": "stream",
     "text": [
      "Epoch 18/100: 100%|█████████████████████████████████| 47/47 [00:00<00:00, 88.36batch/s, loss=0.414761]\n"
     ]
    },
    {
     "name": "stdout",
     "output_type": "stream",
     "text": [
      "Epoch: 18/100, Loss: 0.375453\n"
     ]
    },
    {
     "name": "stderr",
     "output_type": "stream",
     "text": [
      "Epoch 19/100: 100%|█████████████████████████████████| 47/47 [00:00<00:00, 90.07batch/s, loss=0.211323]\n"
     ]
    },
    {
     "name": "stdout",
     "output_type": "stream",
     "text": [
      "Epoch: 19/100, Loss: 0.341477\n"
     ]
    },
    {
     "name": "stderr",
     "output_type": "stream",
     "text": [
      "Epoch 20/100: 100%|█████████████████████████████████| 47/47 [00:00<00:00, 88.07batch/s, loss=0.234566]\n"
     ]
    },
    {
     "name": "stdout",
     "output_type": "stream",
     "text": [
      "Epoch: 20/100, Loss: 0.308485\n"
     ]
    },
    {
     "name": "stderr",
     "output_type": "stream",
     "text": [
      "Epoch 21/100: 100%|█████████████████████████████████| 47/47 [00:00<00:00, 91.49batch/s, loss=0.505300]\n"
     ]
    },
    {
     "name": "stdout",
     "output_type": "stream",
     "text": [
      "Epoch: 21/100, Loss: 0.298085\n"
     ]
    },
    {
     "name": "stderr",
     "output_type": "stream",
     "text": [
      "Epoch 22/100: 100%|█████████████████████████████████| 47/47 [00:00<00:00, 89.93batch/s, loss=0.324784]\n"
     ]
    },
    {
     "name": "stdout",
     "output_type": "stream",
     "text": [
      "Epoch: 22/100, Loss: 0.321161\n"
     ]
    },
    {
     "name": "stderr",
     "output_type": "stream",
     "text": [
      "Epoch 23/100: 100%|█████████████████████████████████| 47/47 [00:00<00:00, 92.41batch/s, loss=0.207459]\n"
     ]
    },
    {
     "name": "stdout",
     "output_type": "stream",
     "text": [
      "Epoch: 23/100, Loss: 0.287650\n"
     ]
    },
    {
     "name": "stderr",
     "output_type": "stream",
     "text": [
      "Epoch 24/100: 100%|█████████████████████████████████| 47/47 [00:00<00:00, 94.31batch/s, loss=0.113766]\n"
     ]
    },
    {
     "name": "stdout",
     "output_type": "stream",
     "text": [
      "Epoch: 24/100, Loss: 0.265241\n"
     ]
    },
    {
     "name": "stderr",
     "output_type": "stream",
     "text": [
      "Epoch 25/100: 100%|█████████████████████████████████| 47/47 [00:00<00:00, 87.06batch/s, loss=0.516779]\n"
     ]
    },
    {
     "name": "stdout",
     "output_type": "stream",
     "text": [
      "Epoch: 25/100, Loss: 0.297493\n"
     ]
    },
    {
     "name": "stderr",
     "output_type": "stream",
     "text": [
      "Epoch 26/100: 100%|█████████████████████████████████| 47/47 [00:00<00:00, 86.45batch/s, loss=0.193633]\n"
     ]
    },
    {
     "name": "stdout",
     "output_type": "stream",
     "text": [
      "Epoch: 26/100, Loss: 0.245098\n"
     ]
    },
    {
     "name": "stderr",
     "output_type": "stream",
     "text": [
      "Epoch 27/100: 100%|█████████████████████████████████| 47/47 [00:00<00:00, 88.11batch/s, loss=0.352428]\n"
     ]
    },
    {
     "name": "stdout",
     "output_type": "stream",
     "text": [
      "Epoch: 27/100, Loss: 0.268243\n"
     ]
    },
    {
     "name": "stderr",
     "output_type": "stream",
     "text": [
      "Epoch 28/100: 100%|█████████████████████████████████| 47/47 [00:00<00:00, 89.27batch/s, loss=0.111204]\n"
     ]
    },
    {
     "name": "stdout",
     "output_type": "stream",
     "text": [
      "Epoch: 28/100, Loss: 0.250953\n"
     ]
    },
    {
     "name": "stderr",
     "output_type": "stream",
     "text": [
      "Epoch 29/100: 100%|█████████████████████████████████| 47/47 [00:00<00:00, 90.14batch/s, loss=0.227138]\n"
     ]
    },
    {
     "name": "stdout",
     "output_type": "stream",
     "text": [
      "Epoch: 29/100, Loss: 0.262675\n"
     ]
    },
    {
     "name": "stderr",
     "output_type": "stream",
     "text": [
      "Epoch 30/100: 100%|█████████████████████████████████| 47/47 [00:00<00:00, 91.99batch/s, loss=0.299751]\n"
     ]
    },
    {
     "name": "stdout",
     "output_type": "stream",
     "text": [
      "Epoch: 30/100, Loss: 0.261130\n"
     ]
    },
    {
     "name": "stderr",
     "output_type": "stream",
     "text": [
      "Epoch 31/100: 100%|█████████████████████████████████| 47/47 [00:00<00:00, 90.58batch/s, loss=0.175885]\n"
     ]
    },
    {
     "name": "stdout",
     "output_type": "stream",
     "text": [
      "Epoch: 31/100, Loss: 0.245474\n"
     ]
    },
    {
     "name": "stderr",
     "output_type": "stream",
     "text": [
      "Epoch 32/100: 100%|█████████████████████████████████| 47/47 [00:00<00:00, 91.43batch/s, loss=0.224574]\n"
     ]
    },
    {
     "name": "stdout",
     "output_type": "stream",
     "text": [
      "Epoch: 32/100, Loss: 0.205110\n"
     ]
    },
    {
     "name": "stderr",
     "output_type": "stream",
     "text": [
      "Epoch 33/100: 100%|█████████████████████████████████| 47/47 [00:00<00:00, 85.37batch/s, loss=0.133334]\n"
     ]
    },
    {
     "name": "stdout",
     "output_type": "stream",
     "text": [
      "Epoch: 33/100, Loss: 0.220184\n"
     ]
    },
    {
     "name": "stderr",
     "output_type": "stream",
     "text": [
      "Epoch 34/100: 100%|█████████████████████████████████| 47/47 [00:00<00:00, 88.07batch/s, loss=0.145672]\n"
     ]
    },
    {
     "name": "stdout",
     "output_type": "stream",
     "text": [
      "Epoch: 34/100, Loss: 0.210627\n"
     ]
    },
    {
     "name": "stderr",
     "output_type": "stream",
     "text": [
      "Epoch 35/100: 100%|█████████████████████████████████| 47/47 [00:00<00:00, 88.60batch/s, loss=0.131433]\n"
     ]
    },
    {
     "name": "stdout",
     "output_type": "stream",
     "text": [
      "Epoch: 35/100, Loss: 0.217516\n"
     ]
    },
    {
     "name": "stderr",
     "output_type": "stream",
     "text": [
      "Epoch 36/100: 100%|█████████████████████████████████| 47/47 [00:00<00:00, 90.89batch/s, loss=0.274301]\n"
     ]
    },
    {
     "name": "stdout",
     "output_type": "stream",
     "text": [
      "Epoch: 36/100, Loss: 0.215095\n"
     ]
    },
    {
     "name": "stderr",
     "output_type": "stream",
     "text": [
      "Epoch 37/100: 100%|█████████████████████████████████| 47/47 [00:00<00:00, 92.38batch/s, loss=0.099091]\n"
     ]
    },
    {
     "name": "stdout",
     "output_type": "stream",
     "text": [
      "Epoch: 37/100, Loss: 0.204244\n"
     ]
    },
    {
     "name": "stderr",
     "output_type": "stream",
     "text": [
      "Epoch 38/100: 100%|█████████████████████████████████| 47/47 [00:00<00:00, 92.98batch/s, loss=0.489040]\n"
     ]
    },
    {
     "name": "stdout",
     "output_type": "stream",
     "text": [
      "Epoch: 38/100, Loss: 0.200978\n"
     ]
    },
    {
     "name": "stderr",
     "output_type": "stream",
     "text": [
      "Epoch 39/100: 100%|█████████████████████████████████| 47/47 [00:00<00:00, 85.45batch/s, loss=0.088634]\n"
     ]
    },
    {
     "name": "stdout",
     "output_type": "stream",
     "text": [
      "Epoch: 39/100, Loss: 0.193370\n"
     ]
    },
    {
     "name": "stderr",
     "output_type": "stream",
     "text": [
      "Epoch 40/100: 100%|█████████████████████████████████| 47/47 [00:00<00:00, 86.38batch/s, loss=0.060134]\n"
     ]
    },
    {
     "name": "stdout",
     "output_type": "stream",
     "text": [
      "Epoch: 40/100, Loss: 0.164909\n"
     ]
    },
    {
     "name": "stderr",
     "output_type": "stream",
     "text": [
      "Epoch 41/100: 100%|█████████████████████████████████| 47/47 [00:00<00:00, 91.82batch/s, loss=0.050386]\n"
     ]
    },
    {
     "name": "stdout",
     "output_type": "stream",
     "text": [
      "Epoch: 41/100, Loss: 0.166731\n"
     ]
    },
    {
     "name": "stderr",
     "output_type": "stream",
     "text": [
      "Epoch 42/100: 100%|█████████████████████████████████| 47/47 [00:00<00:00, 90.72batch/s, loss=0.180197]\n"
     ]
    },
    {
     "name": "stdout",
     "output_type": "stream",
     "text": [
      "Epoch: 42/100, Loss: 0.168780\n"
     ]
    },
    {
     "name": "stderr",
     "output_type": "stream",
     "text": [
      "Epoch 43/100: 100%|█████████████████████████████████| 47/47 [00:00<00:00, 91.45batch/s, loss=0.191527]\n"
     ]
    },
    {
     "name": "stdout",
     "output_type": "stream",
     "text": [
      "Epoch: 43/100, Loss: 0.197567\n"
     ]
    },
    {
     "name": "stderr",
     "output_type": "stream",
     "text": [
      "Epoch 44/100: 100%|█████████████████████████████████| 47/47 [00:00<00:00, 88.47batch/s, loss=0.192670]\n"
     ]
    },
    {
     "name": "stdout",
     "output_type": "stream",
     "text": [
      "Epoch: 44/100, Loss: 0.170625\n"
     ]
    },
    {
     "name": "stderr",
     "output_type": "stream",
     "text": [
      "Epoch 45/100: 100%|█████████████████████████████████| 47/47 [00:00<00:00, 87.50batch/s, loss=0.066257]\n"
     ]
    },
    {
     "name": "stdout",
     "output_type": "stream",
     "text": [
      "Epoch: 45/100, Loss: 0.172371\n"
     ]
    },
    {
     "name": "stderr",
     "output_type": "stream",
     "text": [
      "Epoch 46/100: 100%|█████████████████████████████████| 47/47 [00:00<00:00, 91.59batch/s, loss=0.093302]\n"
     ]
    },
    {
     "name": "stdout",
     "output_type": "stream",
     "text": [
      "Epoch: 46/100, Loss: 0.182652\n"
     ]
    },
    {
     "name": "stderr",
     "output_type": "stream",
     "text": [
      "Epoch 47/100: 100%|█████████████████████████████████| 47/47 [00:00<00:00, 90.43batch/s, loss=0.079983]\n"
     ]
    },
    {
     "name": "stdout",
     "output_type": "stream",
     "text": [
      "Epoch: 47/100, Loss: 0.163496\n"
     ]
    },
    {
     "name": "stderr",
     "output_type": "stream",
     "text": [
      "Epoch 48/100: 100%|█████████████████████████████████| 47/47 [00:00<00:00, 87.12batch/s, loss=0.107853]\n"
     ]
    },
    {
     "name": "stdout",
     "output_type": "stream",
     "text": [
      "Epoch: 48/100, Loss: 0.162079\n"
     ]
    },
    {
     "name": "stderr",
     "output_type": "stream",
     "text": [
      "Epoch 49/100: 100%|█████████████████████████████████| 47/47 [00:00<00:00, 87.20batch/s, loss=0.060566]\n"
     ]
    },
    {
     "name": "stdout",
     "output_type": "stream",
     "text": [
      "Epoch: 49/100, Loss: 0.177724\n"
     ]
    },
    {
     "name": "stderr",
     "output_type": "stream",
     "text": [
      "Epoch 50/100: 100%|█████████████████████████████████| 47/47 [00:00<00:00, 88.21batch/s, loss=0.083532]\n"
     ]
    },
    {
     "name": "stdout",
     "output_type": "stream",
     "text": [
      "Epoch: 50/100, Loss: 0.183391\n"
     ]
    },
    {
     "name": "stderr",
     "output_type": "stream",
     "text": [
      "Epoch 51/100: 100%|█████████████████████████████████| 47/47 [00:00<00:00, 91.01batch/s, loss=0.181057]\n"
     ]
    },
    {
     "name": "stdout",
     "output_type": "stream",
     "text": [
      "Epoch: 51/100, Loss: 0.192282\n"
     ]
    },
    {
     "name": "stderr",
     "output_type": "stream",
     "text": [
      "Epoch 52/100: 100%|█████████████████████████████████| 47/47 [00:00<00:00, 89.52batch/s, loss=0.141430]\n"
     ]
    },
    {
     "name": "stdout",
     "output_type": "stream",
     "text": [
      "Epoch: 52/100, Loss: 0.148364\n"
     ]
    },
    {
     "name": "stderr",
     "output_type": "stream",
     "text": [
      "Epoch 53/100: 100%|█████████████████████████████████| 47/47 [00:00<00:00, 82.66batch/s, loss=0.100772]\n"
     ]
    },
    {
     "name": "stdout",
     "output_type": "stream",
     "text": [
      "Epoch: 53/100, Loss: 0.173968\n"
     ]
    },
    {
     "name": "stderr",
     "output_type": "stream",
     "text": [
      "Epoch 54/100: 100%|█████████████████████████████████| 47/47 [00:00<00:00, 82.15batch/s, loss=0.227050]\n"
     ]
    },
    {
     "name": "stdout",
     "output_type": "stream",
     "text": [
      "Epoch: 54/100, Loss: 0.149158\n"
     ]
    },
    {
     "name": "stderr",
     "output_type": "stream",
     "text": [
      "Epoch 55/100: 100%|█████████████████████████████████| 47/47 [00:00<00:00, 88.61batch/s, loss=0.038234]\n"
     ]
    },
    {
     "name": "stdout",
     "output_type": "stream",
     "text": [
      "Epoch: 55/100, Loss: 0.137092\n"
     ]
    },
    {
     "name": "stderr",
     "output_type": "stream",
     "text": [
      "Epoch 56/100: 100%|█████████████████████████████████| 47/47 [00:00<00:00, 88.23batch/s, loss=0.197726]\n"
     ]
    },
    {
     "name": "stdout",
     "output_type": "stream",
     "text": [
      "Epoch: 56/100, Loss: 0.125547\n"
     ]
    },
    {
     "name": "stderr",
     "output_type": "stream",
     "text": [
      "Epoch 57/100: 100%|█████████████████████████████████| 47/47 [00:00<00:00, 88.40batch/s, loss=0.084886]\n"
     ]
    },
    {
     "name": "stdout",
     "output_type": "stream",
     "text": [
      "Epoch: 57/100, Loss: 0.144952\n"
     ]
    },
    {
     "name": "stderr",
     "output_type": "stream",
     "text": [
      "Epoch 58/100: 100%|█████████████████████████████████| 47/47 [00:00<00:00, 89.59batch/s, loss=0.072882]\n"
     ]
    },
    {
     "name": "stdout",
     "output_type": "stream",
     "text": [
      "Epoch: 58/100, Loss: 0.132969\n"
     ]
    },
    {
     "name": "stderr",
     "output_type": "stream",
     "text": [
      "Epoch 59/100: 100%|█████████████████████████████████| 47/47 [00:00<00:00, 88.94batch/s, loss=0.156963]\n"
     ]
    },
    {
     "name": "stdout",
     "output_type": "stream",
     "text": [
      "Epoch: 59/100, Loss: 0.163447\n"
     ]
    },
    {
     "name": "stderr",
     "output_type": "stream",
     "text": [
      "Epoch 60/100: 100%|█████████████████████████████████| 47/47 [00:00<00:00, 84.58batch/s, loss=0.112737]\n"
     ]
    },
    {
     "name": "stdout",
     "output_type": "stream",
     "text": [
      "Epoch: 60/100, Loss: 0.160035\n"
     ]
    },
    {
     "name": "stderr",
     "output_type": "stream",
     "text": [
      "Epoch 61/100: 100%|█████████████████████████████████| 47/47 [00:00<00:00, 90.86batch/s, loss=0.202895]\n"
     ]
    },
    {
     "name": "stdout",
     "output_type": "stream",
     "text": [
      "Epoch: 61/100, Loss: 0.159270\n"
     ]
    },
    {
     "name": "stderr",
     "output_type": "stream",
     "text": [
      "Epoch 62/100: 100%|█████████████████████████████████| 47/47 [00:00<00:00, 90.20batch/s, loss=0.049438]\n"
     ]
    },
    {
     "name": "stdout",
     "output_type": "stream",
     "text": [
      "Epoch: 62/100, Loss: 0.130427\n"
     ]
    },
    {
     "name": "stderr",
     "output_type": "stream",
     "text": [
      "Epoch 63/100: 100%|█████████████████████████████████| 47/47 [00:00<00:00, 89.28batch/s, loss=0.280585]\n"
     ]
    },
    {
     "name": "stdout",
     "output_type": "stream",
     "text": [
      "Epoch: 63/100, Loss: 0.125864\n"
     ]
    },
    {
     "name": "stderr",
     "output_type": "stream",
     "text": [
      "Epoch 64/100: 100%|█████████████████████████████████| 47/47 [00:00<00:00, 86.78batch/s, loss=0.214809]\n"
     ]
    },
    {
     "name": "stdout",
     "output_type": "stream",
     "text": [
      "Epoch: 64/100, Loss: 0.125229\n"
     ]
    },
    {
     "name": "stderr",
     "output_type": "stream",
     "text": [
      "Epoch 65/100: 100%|█████████████████████████████████| 47/47 [00:00<00:00, 87.43batch/s, loss=0.078313]\n"
     ]
    },
    {
     "name": "stdout",
     "output_type": "stream",
     "text": [
      "Epoch: 65/100, Loss: 0.113750\n"
     ]
    },
    {
     "name": "stderr",
     "output_type": "stream",
     "text": [
      "Epoch 66/100: 100%|█████████████████████████████████| 47/47 [00:00<00:00, 91.54batch/s, loss=0.109540]\n"
     ]
    },
    {
     "name": "stdout",
     "output_type": "stream",
     "text": [
      "Epoch: 66/100, Loss: 0.102210\n"
     ]
    },
    {
     "name": "stderr",
     "output_type": "stream",
     "text": [
      "Epoch 67/100: 100%|█████████████████████████████████| 47/47 [00:00<00:00, 88.15batch/s, loss=0.286825]\n"
     ]
    },
    {
     "name": "stdout",
     "output_type": "stream",
     "text": [
      "Epoch: 67/100, Loss: 0.139258\n"
     ]
    },
    {
     "name": "stderr",
     "output_type": "stream",
     "text": [
      "Epoch 68/100: 100%|█████████████████████████████████| 47/47 [00:00<00:00, 87.00batch/s, loss=0.065618]\n"
     ]
    },
    {
     "name": "stdout",
     "output_type": "stream",
     "text": [
      "Epoch: 68/100, Loss: 0.128599\n"
     ]
    },
    {
     "name": "stderr",
     "output_type": "stream",
     "text": [
      "Epoch 69/100: 100%|█████████████████████████████████| 47/47 [00:00<00:00, 87.83batch/s, loss=0.122014]\n"
     ]
    },
    {
     "name": "stdout",
     "output_type": "stream",
     "text": [
      "Epoch: 69/100, Loss: 0.126721\n"
     ]
    },
    {
     "name": "stderr",
     "output_type": "stream",
     "text": [
      "Epoch 70/100: 100%|█████████████████████████████████| 47/47 [00:00<00:00, 89.12batch/s, loss=0.056703]\n"
     ]
    },
    {
     "name": "stdout",
     "output_type": "stream",
     "text": [
      "Epoch: 70/100, Loss: 0.102705\n"
     ]
    },
    {
     "name": "stderr",
     "output_type": "stream",
     "text": [
      "Epoch 71/100: 100%|█████████████████████████████████| 47/47 [00:00<00:00, 87.56batch/s, loss=0.273883]\n"
     ]
    },
    {
     "name": "stdout",
     "output_type": "stream",
     "text": [
      "Epoch: 71/100, Loss: 0.120432\n"
     ]
    },
    {
     "name": "stderr",
     "output_type": "stream",
     "text": [
      "Epoch 72/100: 100%|█████████████████████████████████| 47/47 [00:00<00:00, 89.16batch/s, loss=0.245965]\n"
     ]
    },
    {
     "name": "stdout",
     "output_type": "stream",
     "text": [
      "Epoch: 72/100, Loss: 0.129067\n"
     ]
    },
    {
     "name": "stderr",
     "output_type": "stream",
     "text": [
      "Epoch 73/100: 100%|█████████████████████████████████| 47/47 [00:00<00:00, 89.49batch/s, loss=0.041557]\n"
     ]
    },
    {
     "name": "stdout",
     "output_type": "stream",
     "text": [
      "Epoch: 73/100, Loss: 0.131215\n"
     ]
    },
    {
     "name": "stderr",
     "output_type": "stream",
     "text": [
      "Epoch 74/100: 100%|█████████████████████████████████| 47/47 [00:00<00:00, 88.93batch/s, loss=0.201268]\n"
     ]
    },
    {
     "name": "stdout",
     "output_type": "stream",
     "text": [
      "Epoch: 74/100, Loss: 0.124676\n"
     ]
    },
    {
     "name": "stderr",
     "output_type": "stream",
     "text": [
      "Epoch 75/100: 100%|█████████████████████████████████| 47/47 [00:00<00:00, 93.49batch/s, loss=0.006625]\n"
     ]
    },
    {
     "name": "stdout",
     "output_type": "stream",
     "text": [
      "Epoch: 75/100, Loss: 0.110789\n"
     ]
    },
    {
     "name": "stderr",
     "output_type": "stream",
     "text": [
      "Epoch 76/100: 100%|█████████████████████████████████| 47/47 [00:00<00:00, 93.97batch/s, loss=0.060837]\n"
     ]
    },
    {
     "name": "stdout",
     "output_type": "stream",
     "text": [
      "Epoch: 76/100, Loss: 0.105619\n"
     ]
    },
    {
     "name": "stderr",
     "output_type": "stream",
     "text": [
      "Epoch 77/100: 100%|█████████████████████████████████| 47/47 [00:00<00:00, 86.50batch/s, loss=0.128624]\n"
     ]
    },
    {
     "name": "stdout",
     "output_type": "stream",
     "text": [
      "Epoch: 77/100, Loss: 0.137222\n"
     ]
    },
    {
     "name": "stderr",
     "output_type": "stream",
     "text": [
      "Epoch 78/100: 100%|█████████████████████████████████| 47/47 [00:00<00:00, 89.32batch/s, loss=0.099302]\n"
     ]
    },
    {
     "name": "stdout",
     "output_type": "stream",
     "text": [
      "Epoch: 78/100, Loss: 0.126811\n"
     ]
    },
    {
     "name": "stderr",
     "output_type": "stream",
     "text": [
      "Epoch 79/100: 100%|█████████████████████████████████| 47/47 [00:00<00:00, 90.66batch/s, loss=0.281639]\n"
     ]
    },
    {
     "name": "stdout",
     "output_type": "stream",
     "text": [
      "Epoch: 79/100, Loss: 0.118850\n"
     ]
    },
    {
     "name": "stderr",
     "output_type": "stream",
     "text": [
      "Epoch 80/100: 100%|█████████████████████████████████| 47/47 [00:00<00:00, 85.50batch/s, loss=0.165776]\n"
     ]
    },
    {
     "name": "stdout",
     "output_type": "stream",
     "text": [
      "Epoch: 80/100, Loss: 0.108710\n"
     ]
    },
    {
     "name": "stderr",
     "output_type": "stream",
     "text": [
      "Epoch 81/100: 100%|█████████████████████████████████| 47/47 [00:00<00:00, 90.25batch/s, loss=0.045521]\n"
     ]
    },
    {
     "name": "stdout",
     "output_type": "stream",
     "text": [
      "Epoch: 81/100, Loss: 0.126677\n"
     ]
    },
    {
     "name": "stderr",
     "output_type": "stream",
     "text": [
      "Epoch 82/100: 100%|█████████████████████████████████| 47/47 [00:00<00:00, 86.77batch/s, loss=0.053169]\n"
     ]
    },
    {
     "name": "stdout",
     "output_type": "stream",
     "text": [
      "Epoch: 82/100, Loss: 0.106052\n"
     ]
    },
    {
     "name": "stderr",
     "output_type": "stream",
     "text": [
      "Epoch 83/100: 100%|█████████████████████████████████| 47/47 [00:00<00:00, 88.84batch/s, loss=0.009514]\n"
     ]
    },
    {
     "name": "stdout",
     "output_type": "stream",
     "text": [
      "Epoch: 83/100, Loss: 0.119245\n"
     ]
    },
    {
     "name": "stderr",
     "output_type": "stream",
     "text": [
      "Epoch 84/100: 100%|█████████████████████████████████| 47/47 [00:00<00:00, 88.69batch/s, loss=0.262896]\n"
     ]
    },
    {
     "name": "stdout",
     "output_type": "stream",
     "text": [
      "Epoch: 84/100, Loss: 0.146167\n"
     ]
    },
    {
     "name": "stderr",
     "output_type": "stream",
     "text": [
      "Epoch 85/100: 100%|█████████████████████████████████| 47/47 [00:00<00:00, 88.27batch/s, loss=0.217528]\n"
     ]
    },
    {
     "name": "stdout",
     "output_type": "stream",
     "text": [
      "Epoch: 85/100, Loss: 0.105815\n"
     ]
    },
    {
     "name": "stderr",
     "output_type": "stream",
     "text": [
      "Epoch 86/100: 100%|█████████████████████████████████| 47/47 [00:00<00:00, 89.72batch/s, loss=0.098682]\n"
     ]
    },
    {
     "name": "stdout",
     "output_type": "stream",
     "text": [
      "Epoch: 86/100, Loss: 0.110183\n"
     ]
    },
    {
     "name": "stderr",
     "output_type": "stream",
     "text": [
      "Epoch 87/100: 100%|█████████████████████████████████| 47/47 [00:00<00:00, 86.84batch/s, loss=0.178352]\n"
     ]
    },
    {
     "name": "stdout",
     "output_type": "stream",
     "text": [
      "Epoch: 87/100, Loss: 0.104856\n"
     ]
    },
    {
     "name": "stderr",
     "output_type": "stream",
     "text": [
      "Epoch 88/100: 100%|█████████████████████████████████| 47/47 [00:00<00:00, 86.28batch/s, loss=0.036288]\n"
     ]
    },
    {
     "name": "stdout",
     "output_type": "stream",
     "text": [
      "Epoch: 88/100, Loss: 0.087557\n"
     ]
    },
    {
     "name": "stderr",
     "output_type": "stream",
     "text": [
      "Epoch 89/100: 100%|█████████████████████████████████| 47/47 [00:00<00:00, 86.36batch/s, loss=0.097987]\n"
     ]
    },
    {
     "name": "stdout",
     "output_type": "stream",
     "text": [
      "Epoch: 89/100, Loss: 0.116623\n"
     ]
    },
    {
     "name": "stderr",
     "output_type": "stream",
     "text": [
      "Epoch 90/100: 100%|█████████████████████████████████| 47/47 [00:00<00:00, 89.65batch/s, loss=0.026490]\n"
     ]
    },
    {
     "name": "stdout",
     "output_type": "stream",
     "text": [
      "Epoch: 90/100, Loss: 0.083208\n"
     ]
    },
    {
     "name": "stderr",
     "output_type": "stream",
     "text": [
      "Epoch 91/100: 100%|█████████████████████████████████| 47/47 [00:00<00:00, 86.31batch/s, loss=0.178438]\n"
     ]
    },
    {
     "name": "stdout",
     "output_type": "stream",
     "text": [
      "Epoch: 91/100, Loss: 0.119784\n"
     ]
    },
    {
     "name": "stderr",
     "output_type": "stream",
     "text": [
      "Epoch 92/100: 100%|█████████████████████████████████| 47/47 [00:00<00:00, 88.46batch/s, loss=0.676471]\n"
     ]
    },
    {
     "name": "stdout",
     "output_type": "stream",
     "text": [
      "Epoch: 92/100, Loss: 0.110572\n"
     ]
    },
    {
     "name": "stderr",
     "output_type": "stream",
     "text": [
      "Epoch 93/100: 100%|█████████████████████████████████| 47/47 [00:00<00:00, 90.88batch/s, loss=0.105979]\n"
     ]
    },
    {
     "name": "stdout",
     "output_type": "stream",
     "text": [
      "Epoch: 93/100, Loss: 0.089183\n"
     ]
    },
    {
     "name": "stderr",
     "output_type": "stream",
     "text": [
      "Epoch 94/100: 100%|█████████████████████████████████| 47/47 [00:00<00:00, 91.83batch/s, loss=0.044227]\n"
     ]
    },
    {
     "name": "stdout",
     "output_type": "stream",
     "text": [
      "Epoch: 94/100, Loss: 0.072440\n"
     ]
    },
    {
     "name": "stderr",
     "output_type": "stream",
     "text": [
      "Epoch 95/100: 100%|█████████████████████████████████| 47/47 [00:00<00:00, 90.31batch/s, loss=0.001195]\n"
     ]
    },
    {
     "name": "stdout",
     "output_type": "stream",
     "text": [
      "Epoch: 95/100, Loss: 0.107426\n"
     ]
    },
    {
     "name": "stderr",
     "output_type": "stream",
     "text": [
      "Epoch 96/100: 100%|█████████████████████████████████| 47/47 [00:00<00:00, 84.52batch/s, loss=0.040653]\n"
     ]
    },
    {
     "name": "stdout",
     "output_type": "stream",
     "text": [
      "Epoch: 96/100, Loss: 0.103913\n"
     ]
    },
    {
     "name": "stderr",
     "output_type": "stream",
     "text": [
      "Epoch 97/100: 100%|█████████████████████████████████| 47/47 [00:00<00:00, 86.82batch/s, loss=0.151445]\n"
     ]
    },
    {
     "name": "stdout",
     "output_type": "stream",
     "text": [
      "Epoch: 97/100, Loss: 0.077330\n"
     ]
    },
    {
     "name": "stderr",
     "output_type": "stream",
     "text": [
      "Epoch 98/100: 100%|█████████████████████████████████| 47/47 [00:00<00:00, 88.87batch/s, loss=0.018315]\n"
     ]
    },
    {
     "name": "stdout",
     "output_type": "stream",
     "text": [
      "Epoch: 98/100, Loss: 0.070720\n"
     ]
    },
    {
     "name": "stderr",
     "output_type": "stream",
     "text": [
      "Epoch 99/100: 100%|█████████████████████████████████| 47/47 [00:00<00:00, 88.43batch/s, loss=0.026399]\n"
     ]
    },
    {
     "name": "stdout",
     "output_type": "stream",
     "text": [
      "Epoch: 99/100, Loss: 0.088485\n"
     ]
    },
    {
     "name": "stderr",
     "output_type": "stream",
     "text": [
      "Epoch 100/100: 100%|████████████████████████████████| 47/47 [00:00<00:00, 89.42batch/s, loss=0.155655]"
     ]
    },
    {
     "name": "stdout",
     "output_type": "stream",
     "text": [
      "Epoch: 100/100, Loss: 0.101158\n",
      "CPU times: user 26 s, sys: 29.7 s, total: 55.7 s\n",
      "Wall time: 53.2 s\n"
     ]
    },
    {
     "name": "stderr",
     "output_type": "stream",
     "text": [
      "\n"
     ]
    }
   ],
   "source": [
    "%%time\n",
    "trainer2.train(cifar100_002, epochs)"
   ]
  },
  {
   "cell_type": "code",
   "execution_count": 21,
   "id": "c991b2ee-34db-4d94-b36d-b347330b3db8",
   "metadata": {},
   "outputs": [
    {
     "data": {
      "image/png": "[encoded data removed]",
      "text/plain": [
       "<Figure size 1400x600 with 2 Axes>"
      ]
     },
     "metadata": {},
     "output_type": "display_data"
    }
   ],
   "source": [
    "trainer2.plot_training_history()"
   ]
  },
  {
   "cell_type": "markdown",
   "id": "11e97ee8-752b-41a7-9091-abfc0f865d97",
   "metadata": {},
   "source": [
    "#### Оценка"
   ]
  },
  {
   "cell_type": "code",
   "execution_count": 22,
   "id": "7f156388-f496-4886-ad85-0da3a33170bd",
   "metadata": {},
   "outputs": [
    {
     "name": "stdout",
     "output_type": "stream",
     "text": [
      "Classification report for train dataset:\n",
      "              precision    recall  f1-score   support\n",
      "\n",
      "    wardrobe     0.9980    0.9980    0.9980       500\n",
      "  chimpanzee     0.9960    1.0000    0.9980       500\n",
      "    mushroom     1.0000    0.9960    0.9980       500\n",
      "\n",
      "    accuracy                         0.9980      1500\n",
      "   macro avg     0.9980    0.9980    0.9980      1500\n",
      "weighted avg     0.9980    0.9980    0.9980      1500\n",
      "\n",
      "--------------------------------------------------\n",
      "Classification report for test dataset:\n",
      "              precision    recall  f1-score   support\n",
      "\n",
      "    wardrobe     0.9109    0.9200    0.9154       100\n",
      "  chimpanzee     0.8558    0.8900    0.8725       100\n",
      "    mushroom     0.8947    0.8500    0.8718       100\n",
      "\n",
      "    accuracy                         0.8867       300\n",
      "   macro avg     0.8871    0.8867    0.8866       300\n",
      "weighted avg     0.8871    0.8867    0.8866       300\n",
      "\n",
      "--------------------------------------------------\n"
     ]
    }
   ],
   "source": [
    "trainer2.evaluate(cifar100_002)"
   ]
  },
  {
   "cell_type": "markdown",
   "id": "68912d97-e614-4c2b-9ba4-a0f6552aa83a",
   "metadata": {},
   "source": [
    "#### Сохранение модели в ONNX"
   ]
  },
  {
   "cell_type": "code",
   "execution_count": 23,
   "id": "243ec1c1-ed77-4ec1-bcf9-9db38cb4951b",
   "metadata": {},
   "outputs": [
    {
     "name": "stdout",
     "output_type": "stream",
     "text": [
      "Model saved as: cifar100_3d8ed642-e40d-43f9-8709-6da1867ed797.onnx\n",
      "Model UUID: 3d8ed642-e40d-43f9-8709-6da1867ed797\n"
     ]
    }
   ],
   "source": [
    "trainer2.save_model(cifar100_002)"
   ]
  },
  {
   "cell_type": "markdown",
   "id": "4477bf4f-f49a-404d-a04d-6cea692c43f4",
   "metadata": {},
   "source": [
    "### Эксперимент №3"
   ]
  },
  {
   "cell_type": "markdown",
   "id": "7d998c74-abea-4975-9644-972174e75392",
   "metadata": {},
   "source": [
    "#### Гиперпараметры"
   ]
  },
  {
   "cell_type": "code",
   "execution_count": 24,
   "id": "3fc5bf5e-752f-44c7-a30e-947e7d64b1c8",
   "metadata": {},
   "outputs": [],
   "source": [
    "batch_size=2**5\n",
    "epochs=100\n",
    "criterion=nn.CrossEntropyLoss()\n",
    "lr_rate = 1e-4\n",
    "hidden_layers=[2**6, 2**10, 2**12, 2**10, 2**6]"
   ]
  },
  {
   "cell_type": "markdown",
   "id": "dab0d67b-ef92-48eb-8233-7621ac0779d9",
   "metadata": {},
   "source": [
    "#### Инициализация модели"
   ]
  },
  {
   "cell_type": "code",
   "execution_count": 25,
   "id": "72d97e29-8028-4511-9f9b-e295c15d3f25",
   "metadata": {},
   "outputs": [
    {
     "name": "stdout",
     "output_type": "stream",
     "text": [
      "Используемое устройство: cuda\n",
      "CPU times: user 192 ms, sys: 274 ms, total: 466 ms\n",
      "Wall time: 317 ms\n"
     ]
    }
   ],
   "source": [
    "%%time\n",
    "trainer3 = CIFAR100Trainer(CLASSES, batch_size, lr_rate, criterion)"
   ]
  },
  {
   "cell_type": "code",
   "execution_count": 26,
   "id": "c7645caf-0840-4d06-b087-4dd552dfbe24",
   "metadata": {},
   "outputs": [
    {
     "name": "stdout",
     "output_type": "stream",
     "text": [
      "CPU times: user 378 ms, sys: 31.7 ms, total: 410 ms\n",
      "Wall time: 51 ms\n"
     ]
    }
   ],
   "source": [
    "%%time\n",
    "cifar100_003 = CIFAR100Model(\n",
    "    hidden_layers=hidden_layers, \n",
    "    dropout_prob=0.5, \n",
    "    num_classes=CLASSES.__len__()\n",
    ")"
   ]
  },
  {
   "cell_type": "markdown",
   "id": "fe02232b-10cd-4b37-9203-174948a60d30",
   "metadata": {},
   "source": [
    "#### Информация о модели"
   ]
  },
  {
   "cell_type": "code",
   "execution_count": 27,
   "id": "fecab2fd-a95e-4bad-9238-7aeaf011612b",
   "metadata": {},
   "outputs": [
    {
     "data": {
      "text/plain": [
       "CIFAR100Model(\n",
       "  (norm): Normalize()\n",
       "  (seq): Sequential(\n",
       "    (0): Linear(in_features=3072, out_features=64, bias=True)\n",
       "    (1): ReLU()\n",
       "    (2): Dropout(p=0.5, inplace=False)\n",
       "    (3): Linear(in_features=64, out_features=1024, bias=True)\n",
       "    (4): ReLU()\n",
       "    (5): Dropout(p=0.5, inplace=False)\n",
       "    (6): Linear(in_features=1024, out_features=4096, bias=True)\n",
       "    (7): ReLU()\n",
       "    (8): Dropout(p=0.5, inplace=False)\n",
       "    (9): Linear(in_features=4096, out_features=1024, bias=True)\n",
       "    (10): ReLU()\n",
       "    (11): Dropout(p=0.5, inplace=False)\n",
       "    (12): Linear(in_features=1024, out_features=64, bias=True)\n",
       "    (13): ReLU()\n",
       "    (14): Dropout(p=0.5, inplace=False)\n",
       "    (15): Linear(in_features=64, out_features=3, bias=True)\n",
       "  )\n",
       ")"
      ]
     },
     "execution_count": 27,
     "metadata": {},
     "output_type": "execute_result"
    }
   ],
   "source": [
    "cifar100_003"
   ]
  },
  {
   "cell_type": "markdown",
   "id": "5d798bbf-d950-4eb7-826e-7461d4eb33fc",
   "metadata": {},
   "source": [
    "#### Обучение"
   ]
  },
  {
   "cell_type": "code",
   "execution_count": 28,
   "id": "113030ab-1823-4239-bb95-90ae2add848e",
   "metadata": {
    "scrolled": true
   },
   "outputs": [
    {
     "name": "stderr",
     "output_type": "stream",
     "text": [
      "Epoch 1/100: 100%|██████████████████████████████████| 47/47 [00:00<00:00, 89.85batch/s, loss=1.096786]\n"
     ]
    },
    {
     "name": "stdout",
     "output_type": "stream",
     "text": [
      "Epoch: 1/100, Loss: 1.067365\n"
     ]
    },
    {
     "name": "stderr",
     "output_type": "stream",
     "text": [
      "Epoch 2/100: 100%|██████████████████████████████████| 47/47 [00:00<00:00, 83.87batch/s, loss=1.017346]\n"
     ]
    },
    {
     "name": "stdout",
     "output_type": "stream",
     "text": [
      "Epoch: 2/100, Loss: 0.864538\n"
     ]
    },
    {
     "name": "stderr",
     "output_type": "stream",
     "text": [
      "Epoch 3/100: 100%|██████████████████████████████████| 47/47 [00:00<00:00, 86.65batch/s, loss=0.744453]\n"
     ]
    },
    {
     "name": "stdout",
     "output_type": "stream",
     "text": [
      "Epoch: 3/100, Loss: 0.712247\n"
     ]
    },
    {
     "name": "stderr",
     "output_type": "stream",
     "text": [
      "Epoch 4/100: 100%|██████████████████████████████████| 47/47 [00:00<00:00, 85.11batch/s, loss=0.479304]\n"
     ]
    },
    {
     "name": "stdout",
     "output_type": "stream",
     "text": [
      "Epoch: 4/100, Loss: 0.653368\n"
     ]
    },
    {
     "name": "stderr",
     "output_type": "stream",
     "text": [
      "Epoch 5/100: 100%|██████████████████████████████████| 47/47 [00:00<00:00, 87.95batch/s, loss=0.615285]\n"
     ]
    },
    {
     "name": "stdout",
     "output_type": "stream",
     "text": [
      "Epoch: 5/100, Loss: 0.596778\n"
     ]
    },
    {
     "name": "stderr",
     "output_type": "stream",
     "text": [
      "Epoch 6/100: 100%|██████████████████████████████████| 47/47 [00:00<00:00, 84.19batch/s, loss=0.551853]\n"
     ]
    },
    {
     "name": "stdout",
     "output_type": "stream",
     "text": [
      "Epoch: 6/100, Loss: 0.573074\n"
     ]
    },
    {
     "name": "stderr",
     "output_type": "stream",
     "text": [
      "Epoch 7/100: 100%|██████████████████████████████████| 47/47 [00:00<00:00, 81.42batch/s, loss=0.351867]\n"
     ]
    },
    {
     "name": "stdout",
     "output_type": "stream",
     "text": [
      "Epoch: 7/100, Loss: 0.540944\n"
     ]
    },
    {
     "name": "stderr",
     "output_type": "stream",
     "text": [
      "Epoch 8/100: 100%|██████████████████████████████████| 47/47 [00:00<00:00, 90.34batch/s, loss=0.511467]\n"
     ]
    },
    {
     "name": "stdout",
     "output_type": "stream",
     "text": [
      "Epoch: 8/100, Loss: 0.522660\n"
     ]
    },
    {
     "name": "stderr",
     "output_type": "stream",
     "text": [
      "Epoch 9/100: 100%|██████████████████████████████████| 47/47 [00:00<00:00, 90.28batch/s, loss=0.751291]\n"
     ]
    },
    {
     "name": "stdout",
     "output_type": "stream",
     "text": [
      "Epoch: 9/100, Loss: 0.492441\n"
     ]
    },
    {
     "name": "stderr",
     "output_type": "stream",
     "text": [
      "Epoch 10/100: 100%|█████████████████████████████████| 47/47 [00:00<00:00, 92.56batch/s, loss=0.339753]\n"
     ]
    },
    {
     "name": "stdout",
     "output_type": "stream",
     "text": [
      "Epoch: 10/100, Loss: 0.477572\n"
     ]
    },
    {
     "name": "stderr",
     "output_type": "stream",
     "text": [
      "Epoch 11/100: 100%|█████████████████████████████████| 47/47 [00:00<00:00, 91.42batch/s, loss=0.511083]\n"
     ]
    },
    {
     "name": "stdout",
     "output_type": "stream",
     "text": [
      "Epoch: 11/100, Loss: 0.454131\n"
     ]
    },
    {
     "name": "stderr",
     "output_type": "stream",
     "text": [
      "Epoch 12/100: 100%|█████████████████████████████████| 47/47 [00:00<00:00, 90.74batch/s, loss=0.382051]\n"
     ]
    },
    {
     "name": "stdout",
     "output_type": "stream",
     "text": [
      "Epoch: 12/100, Loss: 0.401653\n"
     ]
    },
    {
     "name": "stderr",
     "output_type": "stream",
     "text": [
      "Epoch 13/100: 100%|█████████████████████████████████| 47/47 [00:00<00:00, 91.76batch/s, loss=0.710557]\n"
     ]
    },
    {
     "name": "stdout",
     "output_type": "stream",
     "text": [
      "Epoch: 13/100, Loss: 0.407575\n"
     ]
    },
    {
     "name": "stderr",
     "output_type": "stream",
     "text": [
      "Epoch 14/100: 100%|█████████████████████████████████| 47/47 [00:00<00:00, 86.54batch/s, loss=0.567928]\n"
     ]
    },
    {
     "name": "stdout",
     "output_type": "stream",
     "text": [
      "Epoch: 14/100, Loss: 0.383679\n"
     ]
    },
    {
     "name": "stderr",
     "output_type": "stream",
     "text": [
      "Epoch 15/100: 100%|█████████████████████████████████| 47/47 [00:00<00:00, 88.51batch/s, loss=0.230521]\n"
     ]
    },
    {
     "name": "stdout",
     "output_type": "stream",
     "text": [
      "Epoch: 15/100, Loss: 0.354651\n"
     ]
    },
    {
     "name": "stderr",
     "output_type": "stream",
     "text": [
      "Epoch 16/100: 100%|█████████████████████████████████| 47/47 [00:00<00:00, 91.95batch/s, loss=0.487501]\n"
     ]
    },
    {
     "name": "stdout",
     "output_type": "stream",
     "text": [
      "Epoch: 16/100, Loss: 0.376500\n"
     ]
    },
    {
     "name": "stderr",
     "output_type": "stream",
     "text": [
      "Epoch 17/100: 100%|█████████████████████████████████| 47/47 [00:00<00:00, 87.62batch/s, loss=0.144773]\n"
     ]
    },
    {
     "name": "stdout",
     "output_type": "stream",
     "text": [
      "Epoch: 17/100, Loss: 0.367496\n"
     ]
    },
    {
     "name": "stderr",
     "output_type": "stream",
     "text": [
      "Epoch 18/100: 100%|█████████████████████████████████| 47/47 [00:00<00:00, 85.39batch/s, loss=0.258193]\n"
     ]
    },
    {
     "name": "stdout",
     "output_type": "stream",
     "text": [
      "Epoch: 18/100, Loss: 0.359705\n"
     ]
    },
    {
     "name": "stderr",
     "output_type": "stream",
     "text": [
      "Epoch 19/100: 100%|█████████████████████████████████| 47/47 [00:00<00:00, 89.88batch/s, loss=0.314507]\n"
     ]
    },
    {
     "name": "stdout",
     "output_type": "stream",
     "text": [
      "Epoch: 19/100, Loss: 0.297559\n"
     ]
    },
    {
     "name": "stderr",
     "output_type": "stream",
     "text": [
      "Epoch 20/100: 100%|█████████████████████████████████| 47/47 [00:00<00:00, 90.90batch/s, loss=0.312380]\n"
     ]
    },
    {
     "name": "stdout",
     "output_type": "stream",
     "text": [
      "Epoch: 20/100, Loss: 0.321961\n"
     ]
    },
    {
     "name": "stderr",
     "output_type": "stream",
     "text": [
      "Epoch 21/100: 100%|█████████████████████████████████| 47/47 [00:00<00:00, 87.98batch/s, loss=0.373027]\n"
     ]
    },
    {
     "name": "stdout",
     "output_type": "stream",
     "text": [
      "Epoch: 21/100, Loss: 0.314013\n"
     ]
    },
    {
     "name": "stderr",
     "output_type": "stream",
     "text": [
      "Epoch 22/100: 100%|█████████████████████████████████| 47/47 [00:00<00:00, 87.76batch/s, loss=0.443439]\n"
     ]
    },
    {
     "name": "stdout",
     "output_type": "stream",
     "text": [
      "Epoch: 22/100, Loss: 0.346945\n"
     ]
    },
    {
     "name": "stderr",
     "output_type": "stream",
     "text": [
      "Epoch 23/100: 100%|█████████████████████████████████| 47/47 [00:00<00:00, 88.51batch/s, loss=0.473972]\n"
     ]
    },
    {
     "name": "stdout",
     "output_type": "stream",
     "text": [
      "Epoch: 23/100, Loss: 0.293515\n"
     ]
    },
    {
     "name": "stderr",
     "output_type": "stream",
     "text": [
      "Epoch 24/100: 100%|█████████████████████████████████| 47/47 [00:00<00:00, 89.39batch/s, loss=0.368449]\n"
     ]
    },
    {
     "name": "stdout",
     "output_type": "stream",
     "text": [
      "Epoch: 24/100, Loss: 0.291715\n"
     ]
    },
    {
     "name": "stderr",
     "output_type": "stream",
     "text": [
      "Epoch 25/100: 100%|█████████████████████████████████| 47/47 [00:00<00:00, 89.66batch/s, loss=0.455036]\n"
     ]
    },
    {
     "name": "stdout",
     "output_type": "stream",
     "text": [
      "Epoch: 25/100, Loss: 0.300483\n"
     ]
    },
    {
     "name": "stderr",
     "output_type": "stream",
     "text": [
      "Epoch 26/100: 100%|█████████████████████████████████| 47/47 [00:00<00:00, 87.81batch/s, loss=0.166762]\n"
     ]
    },
    {
     "name": "stdout",
     "output_type": "stream",
     "text": [
      "Epoch: 26/100, Loss: 0.259937\n"
     ]
    },
    {
     "name": "stderr",
     "output_type": "stream",
     "text": [
      "Epoch 27/100: 100%|█████████████████████████████████| 47/47 [00:00<00:00, 89.65batch/s, loss=0.132748]\n"
     ]
    },
    {
     "name": "stdout",
     "output_type": "stream",
     "text": [
      "Epoch: 27/100, Loss: 0.237547\n"
     ]
    },
    {
     "name": "stderr",
     "output_type": "stream",
     "text": [
      "Epoch 28/100: 100%|█████████████████████████████████| 47/47 [00:00<00:00, 88.91batch/s, loss=0.197567]\n"
     ]
    },
    {
     "name": "stdout",
     "output_type": "stream",
     "text": [
      "Epoch: 28/100, Loss: 0.293266\n"
     ]
    },
    {
     "name": "stderr",
     "output_type": "stream",
     "text": [
      "Epoch 29/100: 100%|█████████████████████████████████| 47/47 [00:00<00:00, 87.55batch/s, loss=0.194704]\n"
     ]
    },
    {
     "name": "stdout",
     "output_type": "stream",
     "text": [
      "Epoch: 29/100, Loss: 0.231050\n"
     ]
    },
    {
     "name": "stderr",
     "output_type": "stream",
     "text": [
      "Epoch 30/100: 100%|█████████████████████████████████| 47/47 [00:00<00:00, 88.37batch/s, loss=0.221559]\n"
     ]
    },
    {
     "name": "stdout",
     "output_type": "stream",
     "text": [
      "Epoch: 30/100, Loss: 0.234027\n"
     ]
    },
    {
     "name": "stderr",
     "output_type": "stream",
     "text": [
      "Epoch 31/100: 100%|█████████████████████████████████| 47/47 [00:00<00:00, 91.44batch/s, loss=0.214198]\n"
     ]
    },
    {
     "name": "stdout",
     "output_type": "stream",
     "text": [
      "Epoch: 31/100, Loss: 0.249421\n"
     ]
    },
    {
     "name": "stderr",
     "output_type": "stream",
     "text": [
      "Epoch 32/100: 100%|█████████████████████████████████| 47/47 [00:00<00:00, 86.48batch/s, loss=0.141733]\n"
     ]
    },
    {
     "name": "stdout",
     "output_type": "stream",
     "text": [
      "Epoch: 32/100, Loss: 0.232744\n"
     ]
    },
    {
     "name": "stderr",
     "output_type": "stream",
     "text": [
      "Epoch 33/100: 100%|█████████████████████████████████| 47/47 [00:00<00:00, 89.90batch/s, loss=0.298969]\n"
     ]
    },
    {
     "name": "stdout",
     "output_type": "stream",
     "text": [
      "Epoch: 33/100, Loss: 0.233050\n"
     ]
    },
    {
     "name": "stderr",
     "output_type": "stream",
     "text": [
      "Epoch 34/100: 100%|█████████████████████████████████| 47/47 [00:00<00:00, 90.08batch/s, loss=0.185725]\n"
     ]
    },
    {
     "name": "stdout",
     "output_type": "stream",
     "text": [
      "Epoch: 34/100, Loss: 0.244944\n"
     ]
    },
    {
     "name": "stderr",
     "output_type": "stream",
     "text": [
      "Epoch 35/100: 100%|█████████████████████████████████| 47/47 [00:00<00:00, 89.67batch/s, loss=0.072107]\n"
     ]
    },
    {
     "name": "stdout",
     "output_type": "stream",
     "text": [
      "Epoch: 35/100, Loss: 0.201690\n"
     ]
    },
    {
     "name": "stderr",
     "output_type": "stream",
     "text": [
      "Epoch 36/100: 100%|█████████████████████████████████| 47/47 [00:00<00:00, 89.24batch/s, loss=0.267487]\n"
     ]
    },
    {
     "name": "stdout",
     "output_type": "stream",
     "text": [
      "Epoch: 36/100, Loss: 0.226576\n"
     ]
    },
    {
     "name": "stderr",
     "output_type": "stream",
     "text": [
      "Epoch 37/100: 100%|█████████████████████████████████| 47/47 [00:00<00:00, 88.42batch/s, loss=0.223289]\n"
     ]
    },
    {
     "name": "stdout",
     "output_type": "stream",
     "text": [
      "Epoch: 37/100, Loss: 0.190554\n"
     ]
    },
    {
     "name": "stderr",
     "output_type": "stream",
     "text": [
      "Epoch 38/100: 100%|█████████████████████████████████| 47/47 [00:00<00:00, 86.69batch/s, loss=0.411209]\n"
     ]
    },
    {
     "name": "stdout",
     "output_type": "stream",
     "text": [
      "Epoch: 38/100, Loss: 0.228301\n"
     ]
    },
    {
     "name": "stderr",
     "output_type": "stream",
     "text": [
      "Epoch 39/100: 100%|█████████████████████████████████| 47/47 [00:00<00:00, 83.81batch/s, loss=0.136610]\n"
     ]
    },
    {
     "name": "stdout",
     "output_type": "stream",
     "text": [
      "Epoch: 39/100, Loss: 0.196505\n"
     ]
    },
    {
     "name": "stderr",
     "output_type": "stream",
     "text": [
      "Epoch 40/100: 100%|█████████████████████████████████| 47/47 [00:00<00:00, 88.37batch/s, loss=0.228735]\n"
     ]
    },
    {
     "name": "stdout",
     "output_type": "stream",
     "text": [
      "Epoch: 40/100, Loss: 0.185942\n"
     ]
    },
    {
     "name": "stderr",
     "output_type": "stream",
     "text": [
      "Epoch 41/100: 100%|█████████████████████████████████| 47/47 [00:00<00:00, 88.77batch/s, loss=0.308604]\n"
     ]
    },
    {
     "name": "stdout",
     "output_type": "stream",
     "text": [
      "Epoch: 41/100, Loss: 0.205349\n"
     ]
    },
    {
     "name": "stderr",
     "output_type": "stream",
     "text": [
      "Epoch 42/100: 100%|█████████████████████████████████| 47/47 [00:00<00:00, 89.10batch/s, loss=0.351522]\n"
     ]
    },
    {
     "name": "stdout",
     "output_type": "stream",
     "text": [
      "Epoch: 42/100, Loss: 0.178671\n"
     ]
    },
    {
     "name": "stderr",
     "output_type": "stream",
     "text": [
      "Epoch 43/100: 100%|█████████████████████████████████| 47/47 [00:00<00:00, 89.68batch/s, loss=0.324196]\n"
     ]
    },
    {
     "name": "stdout",
     "output_type": "stream",
     "text": [
      "Epoch: 43/100, Loss: 0.179149\n"
     ]
    },
    {
     "name": "stderr",
     "output_type": "stream",
     "text": [
      "Epoch 44/100: 100%|█████████████████████████████████| 47/47 [00:00<00:00, 88.27batch/s, loss=0.173882]\n"
     ]
    },
    {
     "name": "stdout",
     "output_type": "stream",
     "text": [
      "Epoch: 44/100, Loss: 0.196194\n"
     ]
    },
    {
     "name": "stderr",
     "output_type": "stream",
     "text": [
      "Epoch 45/100: 100%|█████████████████████████████████| 47/47 [00:00<00:00, 89.82batch/s, loss=0.196391]\n"
     ]
    },
    {
     "name": "stdout",
     "output_type": "stream",
     "text": [
      "Epoch: 45/100, Loss: 0.171994\n"
     ]
    },
    {
     "name": "stderr",
     "output_type": "stream",
     "text": [
      "Epoch 46/100: 100%|█████████████████████████████████| 47/47 [00:00<00:00, 89.05batch/s, loss=0.131919]\n"
     ]
    },
    {
     "name": "stdout",
     "output_type": "stream",
     "text": [
      "Epoch: 46/100, Loss: 0.182329\n"
     ]
    },
    {
     "name": "stderr",
     "output_type": "stream",
     "text": [
      "Epoch 47/100: 100%|█████████████████████████████████| 47/47 [00:00<00:00, 90.32batch/s, loss=0.113852]\n"
     ]
    },
    {
     "name": "stdout",
     "output_type": "stream",
     "text": [
      "Epoch: 47/100, Loss: 0.182469\n"
     ]
    },
    {
     "name": "stderr",
     "output_type": "stream",
     "text": [
      "Epoch 48/100: 100%|█████████████████████████████████| 47/47 [00:00<00:00, 86.53batch/s, loss=0.030468]\n"
     ]
    },
    {
     "name": "stdout",
     "output_type": "stream",
     "text": [
      "Epoch: 48/100, Loss: 0.177518\n"
     ]
    },
    {
     "name": "stderr",
     "output_type": "stream",
     "text": [
      "Epoch 49/100: 100%|█████████████████████████████████| 47/47 [00:00<00:00, 89.62batch/s, loss=0.188701]\n"
     ]
    },
    {
     "name": "stdout",
     "output_type": "stream",
     "text": [
      "Epoch: 49/100, Loss: 0.160624\n"
     ]
    },
    {
     "name": "stderr",
     "output_type": "stream",
     "text": [
      "Epoch 50/100: 100%|█████████████████████████████████| 47/47 [00:00<00:00, 90.42batch/s, loss=0.199772]\n"
     ]
    },
    {
     "name": "stdout",
     "output_type": "stream",
     "text": [
      "Epoch: 50/100, Loss: 0.154823\n"
     ]
    },
    {
     "name": "stderr",
     "output_type": "stream",
     "text": [
      "Epoch 51/100: 100%|█████████████████████████████████| 47/47 [00:00<00:00, 86.98batch/s, loss=0.347668]\n"
     ]
    },
    {
     "name": "stdout",
     "output_type": "stream",
     "text": [
      "Epoch: 51/100, Loss: 0.160607\n"
     ]
    },
    {
     "name": "stderr",
     "output_type": "stream",
     "text": [
      "Epoch 52/100: 100%|█████████████████████████████████| 47/47 [00:00<00:00, 87.33batch/s, loss=0.089622]\n"
     ]
    },
    {
     "name": "stdout",
     "output_type": "stream",
     "text": [
      "Epoch: 52/100, Loss: 0.155317\n"
     ]
    },
    {
     "name": "stderr",
     "output_type": "stream",
     "text": [
      "Epoch 53/100: 100%|█████████████████████████████████| 47/47 [00:00<00:00, 82.88batch/s, loss=0.147836]\n"
     ]
    },
    {
     "name": "stdout",
     "output_type": "stream",
     "text": [
      "Epoch: 53/100, Loss: 0.159443\n"
     ]
    },
    {
     "name": "stderr",
     "output_type": "stream",
     "text": [
      "Epoch 54/100: 100%|█████████████████████████████████| 47/47 [00:00<00:00, 84.09batch/s, loss=0.041558]\n"
     ]
    },
    {
     "name": "stdout",
     "output_type": "stream",
     "text": [
      "Epoch: 54/100, Loss: 0.149609\n"
     ]
    },
    {
     "name": "stderr",
     "output_type": "stream",
     "text": [
      "Epoch 55/100: 100%|█████████████████████████████████| 47/47 [00:00<00:00, 89.76batch/s, loss=0.089744]\n"
     ]
    },
    {
     "name": "stdout",
     "output_type": "stream",
     "text": [
      "Epoch: 55/100, Loss: 0.148949\n"
     ]
    },
    {
     "name": "stderr",
     "output_type": "stream",
     "text": [
      "Epoch 56/100: 100%|█████████████████████████████████| 47/47 [00:00<00:00, 88.62batch/s, loss=0.278543]\n"
     ]
    },
    {
     "name": "stdout",
     "output_type": "stream",
     "text": [
      "Epoch: 56/100, Loss: 0.162359\n"
     ]
    },
    {
     "name": "stderr",
     "output_type": "stream",
     "text": [
      "Epoch 57/100: 100%|█████████████████████████████████| 47/47 [00:00<00:00, 85.73batch/s, loss=0.079986]\n"
     ]
    },
    {
     "name": "stdout",
     "output_type": "stream",
     "text": [
      "Epoch: 57/100, Loss: 0.157921\n"
     ]
    },
    {
     "name": "stderr",
     "output_type": "stream",
     "text": [
      "Epoch 58/100: 100%|█████████████████████████████████| 47/47 [00:00<00:00, 85.14batch/s, loss=0.075462]\n"
     ]
    },
    {
     "name": "stdout",
     "output_type": "stream",
     "text": [
      "Epoch: 58/100, Loss: 0.153255\n"
     ]
    },
    {
     "name": "stderr",
     "output_type": "stream",
     "text": [
      "Epoch 59/100: 100%|█████████████████████████████████| 47/47 [00:00<00:00, 91.03batch/s, loss=0.622006]\n"
     ]
    },
    {
     "name": "stdout",
     "output_type": "stream",
     "text": [
      "Epoch: 59/100, Loss: 0.170929\n"
     ]
    },
    {
     "name": "stderr",
     "output_type": "stream",
     "text": [
      "Epoch 60/100: 100%|█████████████████████████████████| 47/47 [00:00<00:00, 84.14batch/s, loss=0.232237]\n"
     ]
    },
    {
     "name": "stdout",
     "output_type": "stream",
     "text": [
      "Epoch: 60/100, Loss: 0.143063\n"
     ]
    },
    {
     "name": "stderr",
     "output_type": "stream",
     "text": [
      "Epoch 61/100: 100%|█████████████████████████████████| 47/47 [00:00<00:00, 86.37batch/s, loss=0.269174]\n"
     ]
    },
    {
     "name": "stdout",
     "output_type": "stream",
     "text": [
      "Epoch: 61/100, Loss: 0.150659\n"
     ]
    },
    {
     "name": "stderr",
     "output_type": "stream",
     "text": [
      "Epoch 62/100: 100%|█████████████████████████████████| 47/47 [00:00<00:00, 85.02batch/s, loss=0.393409]\n"
     ]
    },
    {
     "name": "stdout",
     "output_type": "stream",
     "text": [
      "Epoch: 62/100, Loss: 0.154844\n"
     ]
    },
    {
     "name": "stderr",
     "output_type": "stream",
     "text": [
      "Epoch 63/100: 100%|█████████████████████████████████| 47/47 [00:00<00:00, 86.31batch/s, loss=0.127405]\n"
     ]
    },
    {
     "name": "stdout",
     "output_type": "stream",
     "text": [
      "Epoch: 63/100, Loss: 0.128893\n"
     ]
    },
    {
     "name": "stderr",
     "output_type": "stream",
     "text": [
      "Epoch 64/100: 100%|█████████████████████████████████| 47/47 [00:00<00:00, 89.71batch/s, loss=0.198570]\n"
     ]
    },
    {
     "name": "stdout",
     "output_type": "stream",
     "text": [
      "Epoch: 64/100, Loss: 0.129539\n"
     ]
    },
    {
     "name": "stderr",
     "output_type": "stream",
     "text": [
      "Epoch 65/100: 100%|█████████████████████████████████| 47/47 [00:00<00:00, 88.27batch/s, loss=0.127930]\n"
     ]
    },
    {
     "name": "stdout",
     "output_type": "stream",
     "text": [
      "Epoch: 65/100, Loss: 0.110729\n"
     ]
    },
    {
     "name": "stderr",
     "output_type": "stream",
     "text": [
      "Epoch 66/100: 100%|█████████████████████████████████| 47/47 [00:00<00:00, 88.04batch/s, loss=0.184011]\n"
     ]
    },
    {
     "name": "stdout",
     "output_type": "stream",
     "text": [
      "Epoch: 66/100, Loss: 0.117551\n"
     ]
    },
    {
     "name": "stderr",
     "output_type": "stream",
     "text": [
      "Epoch 67/100: 100%|█████████████████████████████████| 47/47 [00:00<00:00, 90.53batch/s, loss=0.122533]\n"
     ]
    },
    {
     "name": "stdout",
     "output_type": "stream",
     "text": [
      "Epoch: 67/100, Loss: 0.150795\n"
     ]
    },
    {
     "name": "stderr",
     "output_type": "stream",
     "text": [
      "Epoch 68/100: 100%|█████████████████████████████████| 47/47 [00:00<00:00, 90.42batch/s, loss=0.223365]\n"
     ]
    },
    {
     "name": "stdout",
     "output_type": "stream",
     "text": [
      "Epoch: 68/100, Loss: 0.145426\n"
     ]
    },
    {
     "name": "stderr",
     "output_type": "stream",
     "text": [
      "Epoch 69/100: 100%|█████████████████████████████████| 47/47 [00:00<00:00, 85.49batch/s, loss=0.085129]\n"
     ]
    },
    {
     "name": "stdout",
     "output_type": "stream",
     "text": [
      "Epoch: 69/100, Loss: 0.124912\n"
     ]
    },
    {
     "name": "stderr",
     "output_type": "stream",
     "text": [
      "Epoch 70/100: 100%|█████████████████████████████████| 47/47 [00:00<00:00, 83.84batch/s, loss=0.120021]\n"
     ]
    },
    {
     "name": "stdout",
     "output_type": "stream",
     "text": [
      "Epoch: 70/100, Loss: 0.124720\n"
     ]
    },
    {
     "name": "stderr",
     "output_type": "stream",
     "text": [
      "Epoch 71/100: 100%|█████████████████████████████████| 47/47 [00:00<00:00, 86.43batch/s, loss=0.024725]\n"
     ]
    },
    {
     "name": "stdout",
     "output_type": "stream",
     "text": [
      "Epoch: 71/100, Loss: 0.125114\n"
     ]
    },
    {
     "name": "stderr",
     "output_type": "stream",
     "text": [
      "Epoch 72/100: 100%|█████████████████████████████████| 47/47 [00:00<00:00, 90.75batch/s, loss=0.051784]\n"
     ]
    },
    {
     "name": "stdout",
     "output_type": "stream",
     "text": [
      "Epoch: 72/100, Loss: 0.102447\n"
     ]
    },
    {
     "name": "stderr",
     "output_type": "stream",
     "text": [
      "Epoch 73/100: 100%|█████████████████████████████████| 47/47 [00:00<00:00, 88.17batch/s, loss=0.101535]\n"
     ]
    },
    {
     "name": "stdout",
     "output_type": "stream",
     "text": [
      "Epoch: 73/100, Loss: 0.123151\n"
     ]
    },
    {
     "name": "stderr",
     "output_type": "stream",
     "text": [
      "Epoch 74/100: 100%|█████████████████████████████████| 47/47 [00:00<00:00, 89.83batch/s, loss=0.018450]\n"
     ]
    },
    {
     "name": "stdout",
     "output_type": "stream",
     "text": [
      "Epoch: 74/100, Loss: 0.103397\n"
     ]
    },
    {
     "name": "stderr",
     "output_type": "stream",
     "text": [
      "Epoch 75/100: 100%|█████████████████████████████████| 47/47 [00:00<00:00, 90.87batch/s, loss=0.055772]\n"
     ]
    },
    {
     "name": "stdout",
     "output_type": "stream",
     "text": [
      "Epoch: 75/100, Loss: 0.148913\n"
     ]
    },
    {
     "name": "stderr",
     "output_type": "stream",
     "text": [
      "Epoch 76/100: 100%|█████████████████████████████████| 47/47 [00:00<00:00, 88.97batch/s, loss=0.066076]\n"
     ]
    },
    {
     "name": "stdout",
     "output_type": "stream",
     "text": [
      "Epoch: 76/100, Loss: 0.102991\n"
     ]
    },
    {
     "name": "stderr",
     "output_type": "stream",
     "text": [
      "Epoch 77/100: 100%|█████████████████████████████████| 47/47 [00:00<00:00, 90.29batch/s, loss=0.075953]\n"
     ]
    },
    {
     "name": "stdout",
     "output_type": "stream",
     "text": [
      "Epoch: 77/100, Loss: 0.108047\n"
     ]
    },
    {
     "name": "stderr",
     "output_type": "stream",
     "text": [
      "Epoch 78/100: 100%|█████████████████████████████████| 47/47 [00:00<00:00, 85.58batch/s, loss=0.134624]\n"
     ]
    },
    {
     "name": "stdout",
     "output_type": "stream",
     "text": [
      "Epoch: 78/100, Loss: 0.110227\n"
     ]
    },
    {
     "name": "stderr",
     "output_type": "stream",
     "text": [
      "Epoch 79/100: 100%|█████████████████████████████████| 47/47 [00:00<00:00, 87.93batch/s, loss=0.077720]\n"
     ]
    },
    {
     "name": "stdout",
     "output_type": "stream",
     "text": [
      "Epoch: 79/100, Loss: 0.100548\n"
     ]
    },
    {
     "name": "stderr",
     "output_type": "stream",
     "text": [
      "Epoch 80/100: 100%|█████████████████████████████████| 47/47 [00:00<00:00, 88.11batch/s, loss=0.084108]\n"
     ]
    },
    {
     "name": "stdout",
     "output_type": "stream",
     "text": [
      "Epoch: 80/100, Loss: 0.109819\n"
     ]
    },
    {
     "name": "stderr",
     "output_type": "stream",
     "text": [
      "Epoch 81/100: 100%|█████████████████████████████████| 47/47 [00:00<00:00, 85.45batch/s, loss=0.188181]\n"
     ]
    },
    {
     "name": "stdout",
     "output_type": "stream",
     "text": [
      "Epoch: 81/100, Loss: 0.150803\n"
     ]
    },
    {
     "name": "stderr",
     "output_type": "stream",
     "text": [
      "Epoch 82/100: 100%|█████████████████████████████████| 47/47 [00:00<00:00, 86.24batch/s, loss=0.153927]\n"
     ]
    },
    {
     "name": "stdout",
     "output_type": "stream",
     "text": [
      "Epoch: 82/100, Loss: 0.118118\n"
     ]
    },
    {
     "name": "stderr",
     "output_type": "stream",
     "text": [
      "Epoch 83/100: 100%|█████████████████████████████████| 47/47 [00:00<00:00, 89.61batch/s, loss=0.054611]\n"
     ]
    },
    {
     "name": "stdout",
     "output_type": "stream",
     "text": [
      "Epoch: 83/100, Loss: 0.128985\n"
     ]
    },
    {
     "name": "stderr",
     "output_type": "stream",
     "text": [
      "Epoch 84/100: 100%|█████████████████████████████████| 47/47 [00:00<00:00, 87.52batch/s, loss=0.043880]\n"
     ]
    },
    {
     "name": "stdout",
     "output_type": "stream",
     "text": [
      "Epoch: 84/100, Loss: 0.124531\n"
     ]
    },
    {
     "name": "stderr",
     "output_type": "stream",
     "text": [
      "Epoch 85/100: 100%|█████████████████████████████████| 47/47 [00:00<00:00, 87.66batch/s, loss=0.052150]\n"
     ]
    },
    {
     "name": "stdout",
     "output_type": "stream",
     "text": [
      "Epoch: 85/100, Loss: 0.151736\n"
     ]
    },
    {
     "name": "stderr",
     "output_type": "stream",
     "text": [
      "Epoch 86/100: 100%|█████████████████████████████████| 47/47 [00:00<00:00, 86.08batch/s, loss=0.064608]\n"
     ]
    },
    {
     "name": "stdout",
     "output_type": "stream",
     "text": [
      "Epoch: 86/100, Loss: 0.097009\n"
     ]
    },
    {
     "name": "stderr",
     "output_type": "stream",
     "text": [
      "Epoch 87/100: 100%|█████████████████████████████████| 47/47 [00:00<00:00, 88.26batch/s, loss=0.024736]\n"
     ]
    },
    {
     "name": "stdout",
     "output_type": "stream",
     "text": [
      "Epoch: 87/100, Loss: 0.110915\n"
     ]
    },
    {
     "name": "stderr",
     "output_type": "stream",
     "text": [
      "Epoch 88/100: 100%|█████████████████████████████████| 47/47 [00:00<00:00, 84.65batch/s, loss=0.050001]\n"
     ]
    },
    {
     "name": "stdout",
     "output_type": "stream",
     "text": [
      "Epoch: 88/100, Loss: 0.120703\n"
     ]
    },
    {
     "name": "stderr",
     "output_type": "stream",
     "text": [
      "Epoch 89/100: 100%|█████████████████████████████████| 47/47 [00:00<00:00, 90.39batch/s, loss=0.065574]\n"
     ]
    },
    {
     "name": "stdout",
     "output_type": "stream",
     "text": [
      "Epoch: 89/100, Loss: 0.127020\n"
     ]
    },
    {
     "name": "stderr",
     "output_type": "stream",
     "text": [
      "Epoch 90/100: 100%|█████████████████████████████████| 47/47 [00:00<00:00, 90.18batch/s, loss=0.019079]\n"
     ]
    },
    {
     "name": "stdout",
     "output_type": "stream",
     "text": [
      "Epoch: 90/100, Loss: 0.111622\n"
     ]
    },
    {
     "name": "stderr",
     "output_type": "stream",
     "text": [
      "Epoch 91/100: 100%|█████████████████████████████████| 47/47 [00:00<00:00, 89.64batch/s, loss=0.048309]\n"
     ]
    },
    {
     "name": "stdout",
     "output_type": "stream",
     "text": [
      "Epoch: 91/100, Loss: 0.100123\n"
     ]
    },
    {
     "name": "stderr",
     "output_type": "stream",
     "text": [
      "Epoch 92/100: 100%|█████████████████████████████████| 47/47 [00:00<00:00, 85.93batch/s, loss=0.017085]\n"
     ]
    },
    {
     "name": "stdout",
     "output_type": "stream",
     "text": [
      "Epoch: 92/100, Loss: 0.094626\n"
     ]
    },
    {
     "name": "stderr",
     "output_type": "stream",
     "text": [
      "Epoch 93/100: 100%|█████████████████████████████████| 47/47 [00:00<00:00, 90.74batch/s, loss=0.002853]\n"
     ]
    },
    {
     "name": "stdout",
     "output_type": "stream",
     "text": [
      "Epoch: 93/100, Loss: 0.085577\n"
     ]
    },
    {
     "name": "stderr",
     "output_type": "stream",
     "text": [
      "Epoch 94/100: 100%|█████████████████████████████████| 47/47 [00:00<00:00, 91.51batch/s, loss=0.096617]\n"
     ]
    },
    {
     "name": "stdout",
     "output_type": "stream",
     "text": [
      "Epoch: 94/100, Loss: 0.078797\n"
     ]
    },
    {
     "name": "stderr",
     "output_type": "stream",
     "text": [
      "Epoch 95/100: 100%|█████████████████████████████████| 47/47 [00:00<00:00, 87.74batch/s, loss=0.073966]\n"
     ]
    },
    {
     "name": "stdout",
     "output_type": "stream",
     "text": [
      "Epoch: 95/100, Loss: 0.090109\n"
     ]
    },
    {
     "name": "stderr",
     "output_type": "stream",
     "text": [
      "Epoch 96/100: 100%|█████████████████████████████████| 47/47 [00:00<00:00, 92.30batch/s, loss=0.022981]\n"
     ]
    },
    {
     "name": "stdout",
     "output_type": "stream",
     "text": [
      "Epoch: 96/100, Loss: 0.111021\n"
     ]
    },
    {
     "name": "stderr",
     "output_type": "stream",
     "text": [
      "Epoch 97/100: 100%|█████████████████████████████████| 47/47 [00:00<00:00, 89.03batch/s, loss=0.032923]\n"
     ]
    },
    {
     "name": "stdout",
     "output_type": "stream",
     "text": [
      "Epoch: 97/100, Loss: 0.092426\n"
     ]
    },
    {
     "name": "stderr",
     "output_type": "stream",
     "text": [
      "Epoch 98/100: 100%|█████████████████████████████████| 47/47 [00:00<00:00, 87.96batch/s, loss=0.084160]\n"
     ]
    },
    {
     "name": "stdout",
     "output_type": "stream",
     "text": [
      "Epoch: 98/100, Loss: 0.110520\n"
     ]
    },
    {
     "name": "stderr",
     "output_type": "stream",
     "text": [
      "Epoch 99/100: 100%|█████████████████████████████████| 47/47 [00:00<00:00, 88.44batch/s, loss=0.006724]\n"
     ]
    },
    {
     "name": "stdout",
     "output_type": "stream",
     "text": [
      "Epoch: 99/100, Loss: 0.116826\n"
     ]
    },
    {
     "name": "stderr",
     "output_type": "stream",
     "text": [
      "Epoch 100/100: 100%|████████████████████████████████| 47/47 [00:00<00:00, 84.01batch/s, loss=0.053417]"
     ]
    },
    {
     "name": "stdout",
     "output_type": "stream",
     "text": [
      "Epoch: 100/100, Loss: 0.115268\n",
      "CPU times: user 26.2 s, sys: 29.8 s, total: 56 s\n",
      "Wall time: 53.6 s\n"
     ]
    },
    {
     "name": "stderr",
     "output_type": "stream",
     "text": [
      "\n"
     ]
    }
   ],
   "source": [
    "%%time\n",
    "trainer3.train(cifar100_003, epochs)"
   ]
  },
  {
   "cell_type": "code",
   "execution_count": 29,
   "id": "20e50724-d541-4c57-88bd-b9e35f81a8a4",
   "metadata": {},
   "outputs": [
    {
     "data": {
      "image/png": "[encoded data removed]",
      "text/plain": [
       "<Figure size 1400x600 with 2 Axes>"
      ]
     },
     "metadata": {},
     "output_type": "display_data"
    }
   ],
   "source": [
    "trainer3.plot_training_history()"
   ]
  },
  {
   "cell_type": "markdown",
   "id": "e3a05d8d-e18e-44f5-92bb-08e3391e187f",
   "metadata": {},
   "source": [
    "#### Оценка"
   ]
  },
  {
   "cell_type": "code",
   "execution_count": 30,
   "id": "0845bf8f-9cd0-4dd2-94da-adf6b82d2247",
   "metadata": {},
   "outputs": [
    {
     "name": "stdout",
     "output_type": "stream",
     "text": [
      "Classification report for train dataset:\n",
      "              precision    recall  f1-score   support\n",
      "\n",
      "    wardrobe     1.0000    1.0000    1.0000       500\n",
      "  chimpanzee     0.9960    1.0000    0.9980       500\n",
      "    mushroom     1.0000    0.9960    0.9980       500\n",
      "\n",
      "    accuracy                         0.9987      1500\n",
      "   macro avg     0.9987    0.9987    0.9987      1500\n",
      "weighted avg     0.9987    0.9987    0.9987      1500\n",
      "\n",
      "--------------------------------------------------\n",
      "Classification report for test dataset:\n",
      "              precision    recall  f1-score   support\n",
      "\n",
      "    wardrobe     0.8704    0.9400    0.9038       100\n",
      "  chimpanzee     0.8723    0.8200    0.8454       100\n",
      "    mushroom     0.8571    0.8400    0.8485       100\n",
      "\n",
      "    accuracy                         0.8667       300\n",
      "   macro avg     0.8666    0.8667    0.8659       300\n",
      "weighted avg     0.8666    0.8667    0.8659       300\n",
      "\n",
      "--------------------------------------------------\n"
     ]
    }
   ],
   "source": [
    "trainer3.evaluate(cifar100_003)"
   ]
  },
  {
   "cell_type": "markdown",
   "id": "e25b26b1-bcd9-47c1-8bc1-9f2ecf0d2faa",
   "metadata": {},
   "source": [
    "#### Сохранение модели в ONNX"
   ]
  },
  {
   "cell_type": "code",
   "execution_count": 31,
   "id": "0b9930c0-a18a-4fe5-8c6a-e06aa540e7c1",
   "metadata": {},
   "outputs": [
    {
     "name": "stdout",
     "output_type": "stream",
     "text": [
      "Model saved as: cifar100_8cecb1e8-a588-4c5c-9b07-8067c70f4732.onnx\n",
      "Model UUID: 8cecb1e8-a588-4c5c-9b07-8067c70f4732\n"
     ]
    }
   ],
   "source": [
    "trainer3.save_model(cifar100_003)"
   ]
  },
  {
   "cell_type": "markdown",
   "id": "4b66d818-4ac2-4fbd-a109-c87aa508d63d",
   "metadata": {},
   "source": [
    "### Эксперимент №4"
   ]
  },
  {
   "cell_type": "markdown",
   "id": "df0061c3-199f-4ca0-bc8b-db04b7c7d2bb",
   "metadata": {},
   "source": [
    "#### Гиперпараметры"
   ]
  },
  {
   "cell_type": "code",
   "execution_count": 53,
   "id": "e645fdcc-f185-48df-9d4b-f37fed06c0d7",
   "metadata": {},
   "outputs": [],
   "source": [
    "batch_size=2**5\n",
    "epochs=100\n",
    "criterion=nn.NLLLoss()\n",
    "lr_rate = 1e-4\n",
    "hidden_layers=[2**5, 2**6, 2**7, 2**7, 2**6, 2**5]"
   ]
  },
  {
   "cell_type": "markdown",
   "id": "76fd7cd0-8223-413d-91a1-624f9fa96397",
   "metadata": {},
   "source": [
    "#### Инициализация модели"
   ]
  },
  {
   "cell_type": "code",
   "execution_count": 54,
   "id": "3483658f-f93d-431b-b587-cf57e3a14435",
   "metadata": {},
   "outputs": [
    {
     "name": "stdout",
     "output_type": "stream",
     "text": [
      "Используемое устройство: cuda\n",
      "CPU times: user 188 ms, sys: 314 ms, total: 503 ms\n",
      "Wall time: 362 ms\n"
     ]
    }
   ],
   "source": [
    "%%time\n",
    "trainer4 = CIFAR100Trainer(CLASSES, batch_size, lr_rate, criterion)"
   ]
  },
  {
   "cell_type": "code",
   "execution_count": 55,
   "id": "9f321478-2589-4e8c-a065-4f9141701e67",
   "metadata": {},
   "outputs": [
    {
     "name": "stdout",
     "output_type": "stream",
     "text": [
      "CPU times: user 16.3 ms, sys: 3.1 ms, total: 19.4 ms\n",
      "Wall time: 2.35 ms\n"
     ]
    }
   ],
   "source": [
    "%%time\n",
    "cifar100_004 = CIFAR100Model(\n",
    "    hidden_layers=hidden_layers, \n",
    "    dropout_prob=0.5, \n",
    "    num_classes=CLASSES.__len__()\n",
    ")"
   ]
  },
  {
   "cell_type": "markdown",
   "id": "9dd60b1f-6e27-4df2-b50c-2724a32aaf1c",
   "metadata": {},
   "source": [
    "#### Информация о модели"
   ]
  },
  {
   "cell_type": "code",
   "execution_count": 56,
   "id": "ecf953ad-05ba-4a1a-b9f5-38a35beca2cc",
   "metadata": {},
   "outputs": [
    {
     "data": {
      "text/plain": [
       "CIFAR100Model(\n",
       "  (norm): Normalize()\n",
       "  (seq): Sequential(\n",
       "    (0): Linear(in_features=3072, out_features=32, bias=True)\n",
       "    (1): ReLU()\n",
       "    (2): Dropout(p=0.5, inplace=False)\n",
       "    (3): Linear(in_features=32, out_features=64, bias=True)\n",
       "    (4): ReLU()\n",
       "    (5): Dropout(p=0.5, inplace=False)\n",
       "    (6): Linear(in_features=64, out_features=128, bias=True)\n",
       "    (7): ReLU()\n",
       "    (8): Dropout(p=0.5, inplace=False)\n",
       "    (9): Linear(in_features=128, out_features=128, bias=True)\n",
       "    (10): ReLU()\n",
       "    (11): Dropout(p=0.5, inplace=False)\n",
       "    (12): Linear(in_features=128, out_features=64, bias=True)\n",
       "    (13): ReLU()\n",
       "    (14): Dropout(p=0.5, inplace=False)\n",
       "    (15): Linear(in_features=64, out_features=32, bias=True)\n",
       "    (16): ReLU()\n",
       "    (17): Dropout(p=0.5, inplace=False)\n",
       "    (18): Linear(in_features=32, out_features=3, bias=True)\n",
       "  )\n",
       ")"
      ]
     },
     "execution_count": 56,
     "metadata": {},
     "output_type": "execute_result"
    }
   ],
   "source": [
    "cifar100_004"
   ]
  },
  {
   "cell_type": "markdown",
   "id": "67232ca3-f0e3-416e-9ee7-b7247fa35f58",
   "metadata": {},
   "source": [
    "#### Обучение"
   ]
  },
  {
   "cell_type": "code",
   "execution_count": 57,
   "id": "0fb5030c-28c8-482d-9b0c-f35db1779c91",
   "metadata": {
    "scrolled": true
   },
   "outputs": [
    {
     "name": "stderr",
     "output_type": "stream",
     "text": [
      "Epoch 1/100: 100%|█████████████████████████████████| 47/47 [00:00<00:00, 166.45batch/s, loss=1.074190]\n"
     ]
    },
    {
     "name": "stdout",
     "output_type": "stream",
     "text": [
      "Epoch: 1/100, Loss: 1.102295\n"
     ]
    },
    {
     "name": "stderr",
     "output_type": "stream",
     "text": [
      "Epoch 2/100: 100%|█████████████████████████████████| 47/47 [00:00<00:00, 150.89batch/s, loss=1.078178]\n"
     ]
    },
    {
     "name": "stdout",
     "output_type": "stream",
     "text": [
      "Epoch: 2/100, Loss: 1.096558\n"
     ]
    },
    {
     "name": "stderr",
     "output_type": "stream",
     "text": [
      "Epoch 3/100: 100%|█████████████████████████████████| 47/47 [00:00<00:00, 179.48batch/s, loss=1.074927]\n"
     ]
    },
    {
     "name": "stdout",
     "output_type": "stream",
     "text": [
      "Epoch: 3/100, Loss: 1.085132\n"
     ]
    },
    {
     "name": "stderr",
     "output_type": "stream",
     "text": [
      "Epoch 4/100: 100%|█████████████████████████████████| 47/47 [00:00<00:00, 199.23batch/s, loss=1.019401]\n"
     ]
    },
    {
     "name": "stdout",
     "output_type": "stream",
     "text": [
      "Epoch: 4/100, Loss: 1.055809\n"
     ]
    },
    {
     "name": "stderr",
     "output_type": "stream",
     "text": [
      "Epoch 5/100: 100%|█████████████████████████████████| 47/47 [00:00<00:00, 175.01batch/s, loss=0.986349]\n"
     ]
    },
    {
     "name": "stdout",
     "output_type": "stream",
     "text": [
      "Epoch: 5/100, Loss: 1.036325\n"
     ]
    },
    {
     "name": "stderr",
     "output_type": "stream",
     "text": [
      "Epoch 6/100: 100%|█████████████████████████████████| 47/47 [00:00<00:00, 185.65batch/s, loss=1.039390]\n"
     ]
    },
    {
     "name": "stdout",
     "output_type": "stream",
     "text": [
      "Epoch: 6/100, Loss: 1.007686\n"
     ]
    },
    {
     "name": "stderr",
     "output_type": "stream",
     "text": [
      "Epoch 7/100: 100%|█████████████████████████████████| 47/47 [00:00<00:00, 196.56batch/s, loss=1.057829]\n"
     ]
    },
    {
     "name": "stdout",
     "output_type": "stream",
     "text": [
      "Epoch: 7/100, Loss: 1.003817\n"
     ]
    },
    {
     "name": "stderr",
     "output_type": "stream",
     "text": [
      "Epoch 8/100: 100%|█████████████████████████████████| 47/47 [00:00<00:00, 180.61batch/s, loss=1.006636]\n"
     ]
    },
    {
     "name": "stdout",
     "output_type": "stream",
     "text": [
      "Epoch: 8/100, Loss: 0.986073\n"
     ]
    },
    {
     "name": "stderr",
     "output_type": "stream",
     "text": [
      "Epoch 9/100: 100%|█████████████████████████████████| 47/47 [00:00<00:00, 176.51batch/s, loss=0.928839]\n"
     ]
    },
    {
     "name": "stdout",
     "output_type": "stream",
     "text": [
      "Epoch: 9/100, Loss: 0.978253\n"
     ]
    },
    {
     "name": "stderr",
     "output_type": "stream",
     "text": [
      "Epoch 10/100: 100%|████████████████████████████████| 47/47 [00:00<00:00, 172.94batch/s, loss=0.954112]\n"
     ]
    },
    {
     "name": "stdout",
     "output_type": "stream",
     "text": [
      "Epoch: 10/100, Loss: 0.970752\n"
     ]
    },
    {
     "name": "stderr",
     "output_type": "stream",
     "text": [
      "Epoch 11/100: 100%|████████████████████████████████| 47/47 [00:00<00:00, 180.63batch/s, loss=0.934874]\n"
     ]
    },
    {
     "name": "stdout",
     "output_type": "stream",
     "text": [
      "Epoch: 11/100, Loss: 0.948710\n"
     ]
    },
    {
     "name": "stderr",
     "output_type": "stream",
     "text": [
      "Epoch 12/100: 100%|████████████████████████████████| 47/47 [00:00<00:00, 187.26batch/s, loss=0.912319]\n"
     ]
    },
    {
     "name": "stdout",
     "output_type": "stream",
     "text": [
      "Epoch: 12/100, Loss: 0.946468\n"
     ]
    },
    {
     "name": "stderr",
     "output_type": "stream",
     "text": [
      "Epoch 13/100: 100%|████████████████████████████████| 47/47 [00:00<00:00, 181.28batch/s, loss=0.878795]\n"
     ]
    },
    {
     "name": "stdout",
     "output_type": "stream",
     "text": [
      "Epoch: 13/100, Loss: 0.932387\n"
     ]
    },
    {
     "name": "stderr",
     "output_type": "stream",
     "text": [
      "Epoch 14/100: 100%|████████████████████████████████| 47/47 [00:00<00:00, 191.65batch/s, loss=0.854395]\n"
     ]
    },
    {
     "name": "stdout",
     "output_type": "stream",
     "text": [
      "Epoch: 14/100, Loss: 0.938548\n"
     ]
    },
    {
     "name": "stderr",
     "output_type": "stream",
     "text": [
      "Epoch 15/100: 100%|████████████████████████████████| 47/47 [00:00<00:00, 164.80batch/s, loss=0.847540]\n"
     ]
    },
    {
     "name": "stdout",
     "output_type": "stream",
     "text": [
      "Epoch: 15/100, Loss: 0.915211\n"
     ]
    },
    {
     "name": "stderr",
     "output_type": "stream",
     "text": [
      "Epoch 16/100: 100%|████████████████████████████████| 47/47 [00:00<00:00, 178.06batch/s, loss=0.864670]\n"
     ]
    },
    {
     "name": "stdout",
     "output_type": "stream",
     "text": [
      "Epoch: 16/100, Loss: 0.917449\n"
     ]
    },
    {
     "name": "stderr",
     "output_type": "stream",
     "text": [
      "Epoch 17/100: 100%|████████████████████████████████| 47/47 [00:00<00:00, 174.25batch/s, loss=0.991205]\n"
     ]
    },
    {
     "name": "stdout",
     "output_type": "stream",
     "text": [
      "Epoch: 17/100, Loss: 0.903084\n"
     ]
    },
    {
     "name": "stderr",
     "output_type": "stream",
     "text": [
      "Epoch 18/100: 100%|████████████████████████████████| 47/47 [00:00<00:00, 176.01batch/s, loss=0.851399]\n"
     ]
    },
    {
     "name": "stdout",
     "output_type": "stream",
     "text": [
      "Epoch: 18/100, Loss: 0.895856\n"
     ]
    },
    {
     "name": "stderr",
     "output_type": "stream",
     "text": [
      "Epoch 19/100: 100%|████████████████████████████████| 47/47 [00:00<00:00, 176.23batch/s, loss=0.711375]\n"
     ]
    },
    {
     "name": "stdout",
     "output_type": "stream",
     "text": [
      "Epoch: 19/100, Loss: 0.881042\n"
     ]
    },
    {
     "name": "stderr",
     "output_type": "stream",
     "text": [
      "Epoch 20/100: 100%|████████████████████████████████| 47/47 [00:00<00:00, 190.02batch/s, loss=0.905921]\n"
     ]
    },
    {
     "name": "stdout",
     "output_type": "stream",
     "text": [
      "Epoch: 20/100, Loss: 0.859661\n"
     ]
    },
    {
     "name": "stderr",
     "output_type": "stream",
     "text": [
      "Epoch 21/100: 100%|████████████████████████████████| 47/47 [00:00<00:00, 178.22batch/s, loss=0.771223]\n"
     ]
    },
    {
     "name": "stdout",
     "output_type": "stream",
     "text": [
      "Epoch: 21/100, Loss: 0.847650\n"
     ]
    },
    {
     "name": "stderr",
     "output_type": "stream",
     "text": [
      "Epoch 22/100: 100%|████████████████████████████████| 47/47 [00:00<00:00, 187.64batch/s, loss=0.812948]\n"
     ]
    },
    {
     "name": "stdout",
     "output_type": "stream",
     "text": [
      "Epoch: 22/100, Loss: 0.833482\n"
     ]
    },
    {
     "name": "stderr",
     "output_type": "stream",
     "text": [
      "Epoch 23/100: 100%|████████████████████████████████| 47/47 [00:00<00:00, 186.07batch/s, loss=0.726955]\n"
     ]
    },
    {
     "name": "stdout",
     "output_type": "stream",
     "text": [
      "Epoch: 23/100, Loss: 0.838921\n"
     ]
    },
    {
     "name": "stderr",
     "output_type": "stream",
     "text": [
      "Epoch 24/100: 100%|████████████████████████████████| 47/47 [00:00<00:00, 187.76batch/s, loss=0.709832]\n"
     ]
    },
    {
     "name": "stdout",
     "output_type": "stream",
     "text": [
      "Epoch: 24/100, Loss: 0.798952\n"
     ]
    },
    {
     "name": "stderr",
     "output_type": "stream",
     "text": [
      "Epoch 25/100: 100%|████████████████████████████████| 47/47 [00:00<00:00, 169.12batch/s, loss=0.643326]\n"
     ]
    },
    {
     "name": "stdout",
     "output_type": "stream",
     "text": [
      "Epoch: 25/100, Loss: 0.780353\n"
     ]
    },
    {
     "name": "stderr",
     "output_type": "stream",
     "text": [
      "Epoch 26/100: 100%|████████████████████████████████| 47/47 [00:00<00:00, 180.79batch/s, loss=0.693765]\n"
     ]
    },
    {
     "name": "stdout",
     "output_type": "stream",
     "text": [
      "Epoch: 26/100, Loss: 0.753183\n"
     ]
    },
    {
     "name": "stderr",
     "output_type": "stream",
     "text": [
      "Epoch 27/100: 100%|████████████████████████████████| 47/47 [00:00<00:00, 174.58batch/s, loss=0.749857]\n"
     ]
    },
    {
     "name": "stdout",
     "output_type": "stream",
     "text": [
      "Epoch: 27/100, Loss: 0.755146\n"
     ]
    },
    {
     "name": "stderr",
     "output_type": "stream",
     "text": [
      "Epoch 28/100: 100%|████████████████████████████████| 47/47 [00:00<00:00, 177.81batch/s, loss=0.785321]\n"
     ]
    },
    {
     "name": "stdout",
     "output_type": "stream",
     "text": [
      "Epoch: 28/100, Loss: 0.701663\n"
     ]
    },
    {
     "name": "stderr",
     "output_type": "stream",
     "text": [
      "Epoch 29/100: 100%|████████████████████████████████| 47/47 [00:00<00:00, 176.67batch/s, loss=1.129846]\n"
     ]
    },
    {
     "name": "stdout",
     "output_type": "stream",
     "text": [
      "Epoch: 29/100, Loss: 0.731982\n"
     ]
    },
    {
     "name": "stderr",
     "output_type": "stream",
     "text": [
      "Epoch 30/100: 100%|████████████████████████████████| 47/47 [00:00<00:00, 191.25batch/s, loss=0.725046]\n"
     ]
    },
    {
     "name": "stdout",
     "output_type": "stream",
     "text": [
      "Epoch: 30/100, Loss: 0.702653\n"
     ]
    },
    {
     "name": "stderr",
     "output_type": "stream",
     "text": [
      "Epoch 31/100: 100%|████████████████████████████████| 47/47 [00:00<00:00, 196.28batch/s, loss=0.708454]\n"
     ]
    },
    {
     "name": "stdout",
     "output_type": "stream",
     "text": [
      "Epoch: 31/100, Loss: 0.706816\n"
     ]
    },
    {
     "name": "stderr",
     "output_type": "stream",
     "text": [
      "Epoch 32/100: 100%|████████████████████████████████| 47/47 [00:00<00:00, 197.94batch/s, loss=0.679314]\n"
     ]
    },
    {
     "name": "stdout",
     "output_type": "stream",
     "text": [
      "Epoch: 32/100, Loss: 0.698853\n"
     ]
    },
    {
     "name": "stderr",
     "output_type": "stream",
     "text": [
      "Epoch 33/100: 100%|████████████████████████████████| 47/47 [00:00<00:00, 175.44batch/s, loss=0.574137]\n"
     ]
    },
    {
     "name": "stdout",
     "output_type": "stream",
     "text": [
      "Epoch: 33/100, Loss: 0.655557\n"
     ]
    },
    {
     "name": "stderr",
     "output_type": "stream",
     "text": [
      "Epoch 34/100: 100%|████████████████████████████████| 47/47 [00:00<00:00, 180.55batch/s, loss=0.739685]\n"
     ]
    },
    {
     "name": "stdout",
     "output_type": "stream",
     "text": [
      "Epoch: 34/100, Loss: 0.643566\n"
     ]
    },
    {
     "name": "stderr",
     "output_type": "stream",
     "text": [
      "Epoch 35/100: 100%|████████████████████████████████| 47/47 [00:00<00:00, 174.71batch/s, loss=0.504359]\n"
     ]
    },
    {
     "name": "stdout",
     "output_type": "stream",
     "text": [
      "Epoch: 35/100, Loss: 0.658949\n"
     ]
    },
    {
     "name": "stderr",
     "output_type": "stream",
     "text": [
      "Epoch 36/100: 100%|████████████████████████████████| 47/47 [00:00<00:00, 175.20batch/s, loss=0.650226]\n"
     ]
    },
    {
     "name": "stdout",
     "output_type": "stream",
     "text": [
      "Epoch: 36/100, Loss: 0.628734\n"
     ]
    },
    {
     "name": "stderr",
     "output_type": "stream",
     "text": [
      "Epoch 37/100: 100%|████████████████████████████████| 47/47 [00:00<00:00, 172.61batch/s, loss=0.531824]\n"
     ]
    },
    {
     "name": "stdout",
     "output_type": "stream",
     "text": [
      "Epoch: 37/100, Loss: 0.612621\n"
     ]
    },
    {
     "name": "stderr",
     "output_type": "stream",
     "text": [
      "Epoch 38/100: 100%|████████████████████████████████| 47/47 [00:00<00:00, 176.40batch/s, loss=0.568926]\n"
     ]
    },
    {
     "name": "stdout",
     "output_type": "stream",
     "text": [
      "Epoch: 38/100, Loss: 0.603847\n"
     ]
    },
    {
     "name": "stderr",
     "output_type": "stream",
     "text": [
      "Epoch 39/100: 100%|████████████████████████████████| 47/47 [00:00<00:00, 172.87batch/s, loss=0.475200]\n"
     ]
    },
    {
     "name": "stdout",
     "output_type": "stream",
     "text": [
      "Epoch: 39/100, Loss: 0.563923\n"
     ]
    },
    {
     "name": "stderr",
     "output_type": "stream",
     "text": [
      "Epoch 40/100: 100%|████████████████████████████████| 47/47 [00:00<00:00, 189.19batch/s, loss=0.671515]\n"
     ]
    },
    {
     "name": "stdout",
     "output_type": "stream",
     "text": [
      "Epoch: 40/100, Loss: 0.606259\n"
     ]
    },
    {
     "name": "stderr",
     "output_type": "stream",
     "text": [
      "Epoch 41/100: 100%|████████████████████████████████| 47/47 [00:00<00:00, 178.73batch/s, loss=0.473627]\n"
     ]
    },
    {
     "name": "stdout",
     "output_type": "stream",
     "text": [
      "Epoch: 41/100, Loss: 0.580760\n"
     ]
    },
    {
     "name": "stderr",
     "output_type": "stream",
     "text": [
      "Epoch 42/100: 100%|████████████████████████████████| 47/47 [00:00<00:00, 197.60batch/s, loss=0.692722]\n"
     ]
    },
    {
     "name": "stdout",
     "output_type": "stream",
     "text": [
      "Epoch: 42/100, Loss: 0.567444\n"
     ]
    },
    {
     "name": "stderr",
     "output_type": "stream",
     "text": [
      "Epoch 43/100: 100%|████████████████████████████████| 47/47 [00:00<00:00, 189.34batch/s, loss=1.268870]\n"
     ]
    },
    {
     "name": "stdout",
     "output_type": "stream",
     "text": [
      "Epoch: 43/100, Loss: 0.565958\n"
     ]
    },
    {
     "name": "stderr",
     "output_type": "stream",
     "text": [
      "Epoch 44/100: 100%|████████████████████████████████| 47/47 [00:00<00:00, 172.32batch/s, loss=0.612611]\n"
     ]
    },
    {
     "name": "stdout",
     "output_type": "stream",
     "text": [
      "Epoch: 44/100, Loss: 0.557319\n"
     ]
    },
    {
     "name": "stderr",
     "output_type": "stream",
     "text": [
      "Epoch 45/100: 100%|████████████████████████████████| 47/47 [00:00<00:00, 179.82batch/s, loss=0.699299]\n"
     ]
    },
    {
     "name": "stdout",
     "output_type": "stream",
     "text": [
      "Epoch: 45/100, Loss: 0.586560\n"
     ]
    },
    {
     "name": "stderr",
     "output_type": "stream",
     "text": [
      "Epoch 46/100: 100%|████████████████████████████████| 47/47 [00:00<00:00, 173.17batch/s, loss=0.628881]\n"
     ]
    },
    {
     "name": "stdout",
     "output_type": "stream",
     "text": [
      "Epoch: 46/100, Loss: 0.546208\n"
     ]
    },
    {
     "name": "stderr",
     "output_type": "stream",
     "text": [
      "Epoch 47/100: 100%|████████████████████████████████| 47/47 [00:00<00:00, 194.07batch/s, loss=0.755186]\n"
     ]
    },
    {
     "name": "stdout",
     "output_type": "stream",
     "text": [
      "Epoch: 47/100, Loss: 0.541999\n"
     ]
    },
    {
     "name": "stderr",
     "output_type": "stream",
     "text": [
      "Epoch 48/100: 100%|████████████████████████████████| 47/47 [00:00<00:00, 175.21batch/s, loss=0.547300]\n"
     ]
    },
    {
     "name": "stdout",
     "output_type": "stream",
     "text": [
      "Epoch: 48/100, Loss: 0.515043\n"
     ]
    },
    {
     "name": "stderr",
     "output_type": "stream",
     "text": [
      "Epoch 49/100: 100%|████████████████████████████████| 47/47 [00:00<00:00, 179.68batch/s, loss=0.353926]\n"
     ]
    },
    {
     "name": "stdout",
     "output_type": "stream",
     "text": [
      "Epoch: 49/100, Loss: 0.544319\n"
     ]
    },
    {
     "name": "stderr",
     "output_type": "stream",
     "text": [
      "Epoch 50/100: 100%|████████████████████████████████| 47/47 [00:00<00:00, 173.65batch/s, loss=0.543511]\n"
     ]
    },
    {
     "name": "stdout",
     "output_type": "stream",
     "text": [
      "Epoch: 50/100, Loss: 0.534940\n"
     ]
    },
    {
     "name": "stderr",
     "output_type": "stream",
     "text": [
      "Epoch 51/100: 100%|████████████████████████████████| 47/47 [00:00<00:00, 170.16batch/s, loss=0.397515]\n"
     ]
    },
    {
     "name": "stdout",
     "output_type": "stream",
     "text": [
      "Epoch: 51/100, Loss: 0.515458\n"
     ]
    },
    {
     "name": "stderr",
     "output_type": "stream",
     "text": [
      "Epoch 52/100: 100%|████████████████████████████████| 47/47 [00:00<00:00, 166.95batch/s, loss=0.216550]\n"
     ]
    },
    {
     "name": "stdout",
     "output_type": "stream",
     "text": [
      "Epoch: 52/100, Loss: 0.477955\n"
     ]
    },
    {
     "name": "stderr",
     "output_type": "stream",
     "text": [
      "Epoch 53/100: 100%|████████████████████████████████| 47/47 [00:00<00:00, 166.18batch/s, loss=0.468784]\n"
     ]
    },
    {
     "name": "stdout",
     "output_type": "stream",
     "text": [
      "Epoch: 53/100, Loss: 0.489643\n"
     ]
    },
    {
     "name": "stderr",
     "output_type": "stream",
     "text": [
      "Epoch 54/100: 100%|████████████████████████████████| 47/47 [00:00<00:00, 177.32batch/s, loss=0.714266]\n"
     ]
    },
    {
     "name": "stdout",
     "output_type": "stream",
     "text": [
      "Epoch: 54/100, Loss: 0.468403\n"
     ]
    },
    {
     "name": "stderr",
     "output_type": "stream",
     "text": [
      "Epoch 55/100: 100%|████████████████████████████████| 47/47 [00:00<00:00, 174.28batch/s, loss=0.377239]\n"
     ]
    },
    {
     "name": "stdout",
     "output_type": "stream",
     "text": [
      "Epoch: 55/100, Loss: 0.467257\n"
     ]
    },
    {
     "name": "stderr",
     "output_type": "stream",
     "text": [
      "Epoch 56/100: 100%|████████████████████████████████| 47/47 [00:00<00:00, 176.00batch/s, loss=0.320863]\n"
     ]
    },
    {
     "name": "stdout",
     "output_type": "stream",
     "text": [
      "Epoch: 56/100, Loss: 0.493702\n"
     ]
    },
    {
     "name": "stderr",
     "output_type": "stream",
     "text": [
      "Epoch 57/100: 100%|████████████████████████████████| 47/47 [00:00<00:00, 178.00batch/s, loss=0.276966]\n"
     ]
    },
    {
     "name": "stdout",
     "output_type": "stream",
     "text": [
      "Epoch: 57/100, Loss: 0.458854\n"
     ]
    },
    {
     "name": "stderr",
     "output_type": "stream",
     "text": [
      "Epoch 58/100: 100%|████████████████████████████████| 47/47 [00:00<00:00, 182.26batch/s, loss=0.691593]\n"
     ]
    },
    {
     "name": "stdout",
     "output_type": "stream",
     "text": [
      "Epoch: 58/100, Loss: 0.467524\n"
     ]
    },
    {
     "name": "stderr",
     "output_type": "stream",
     "text": [
      "Epoch 59/100: 100%|████████████████████████████████| 47/47 [00:00<00:00, 182.33batch/s, loss=0.580356]\n"
     ]
    },
    {
     "name": "stdout",
     "output_type": "stream",
     "text": [
      "Epoch: 59/100, Loss: 0.444378\n"
     ]
    },
    {
     "name": "stderr",
     "output_type": "stream",
     "text": [
      "Epoch 60/100: 100%|████████████████████████████████| 47/47 [00:00<00:00, 180.69batch/s, loss=0.399135]\n"
     ]
    },
    {
     "name": "stdout",
     "output_type": "stream",
     "text": [
      "Epoch: 60/100, Loss: 0.445610\n"
     ]
    },
    {
     "name": "stderr",
     "output_type": "stream",
     "text": [
      "Epoch 61/100: 100%|████████████████████████████████| 47/47 [00:00<00:00, 179.90batch/s, loss=0.660802]\n"
     ]
    },
    {
     "name": "stdout",
     "output_type": "stream",
     "text": [
      "Epoch: 61/100, Loss: 0.433562\n"
     ]
    },
    {
     "name": "stderr",
     "output_type": "stream",
     "text": [
      "Epoch 62/100: 100%|████████████████████████████████| 47/47 [00:00<00:00, 171.65batch/s, loss=0.470153]\n"
     ]
    },
    {
     "name": "stdout",
     "output_type": "stream",
     "text": [
      "Epoch: 62/100, Loss: 0.462208\n"
     ]
    },
    {
     "name": "stderr",
     "output_type": "stream",
     "text": [
      "Epoch 63/100: 100%|████████████████████████████████| 47/47 [00:00<00:00, 176.27batch/s, loss=0.530823]\n"
     ]
    },
    {
     "name": "stdout",
     "output_type": "stream",
     "text": [
      "Epoch: 63/100, Loss: 0.437620\n"
     ]
    },
    {
     "name": "stderr",
     "output_type": "stream",
     "text": [
      "Epoch 64/100: 100%|████████████████████████████████| 47/47 [00:00<00:00, 181.68batch/s, loss=0.658464]\n"
     ]
    },
    {
     "name": "stdout",
     "output_type": "stream",
     "text": [
      "Epoch: 64/100, Loss: 0.408652\n"
     ]
    },
    {
     "name": "stderr",
     "output_type": "stream",
     "text": [
      "Epoch 65/100: 100%|████████████████████████████████| 47/47 [00:00<00:00, 177.65batch/s, loss=0.441031]\n"
     ]
    },
    {
     "name": "stdout",
     "output_type": "stream",
     "text": [
      "Epoch: 65/100, Loss: 0.428812\n"
     ]
    },
    {
     "name": "stderr",
     "output_type": "stream",
     "text": [
      "Epoch 66/100: 100%|████████████████████████████████| 47/47 [00:00<00:00, 188.96batch/s, loss=0.288467]\n"
     ]
    },
    {
     "name": "stdout",
     "output_type": "stream",
     "text": [
      "Epoch: 66/100, Loss: 0.407272\n"
     ]
    },
    {
     "name": "stderr",
     "output_type": "stream",
     "text": [
      "Epoch 67/100: 100%|████████████████████████████████| 47/47 [00:00<00:00, 185.29batch/s, loss=0.377460]\n"
     ]
    },
    {
     "name": "stdout",
     "output_type": "stream",
     "text": [
      "Epoch: 67/100, Loss: 0.396149\n"
     ]
    },
    {
     "name": "stderr",
     "output_type": "stream",
     "text": [
      "Epoch 68/100: 100%|████████████████████████████████| 47/47 [00:00<00:00, 165.20batch/s, loss=0.720457]\n"
     ]
    },
    {
     "name": "stdout",
     "output_type": "stream",
     "text": [
      "Epoch: 68/100, Loss: 0.385696\n"
     ]
    },
    {
     "name": "stderr",
     "output_type": "stream",
     "text": [
      "Epoch 69/100: 100%|████████████████████████████████| 47/47 [00:00<00:00, 176.39batch/s, loss=0.455251]\n"
     ]
    },
    {
     "name": "stdout",
     "output_type": "stream",
     "text": [
      "Epoch: 69/100, Loss: 0.417131\n"
     ]
    },
    {
     "name": "stderr",
     "output_type": "stream",
     "text": [
      "Epoch 70/100: 100%|████████████████████████████████| 47/47 [00:00<00:00, 172.95batch/s, loss=0.395637]\n"
     ]
    },
    {
     "name": "stdout",
     "output_type": "stream",
     "text": [
      "Epoch: 70/100, Loss: 0.397997\n"
     ]
    },
    {
     "name": "stderr",
     "output_type": "stream",
     "text": [
      "Epoch 71/100: 100%|████████████████████████████████| 47/47 [00:00<00:00, 174.21batch/s, loss=0.436829]\n"
     ]
    },
    {
     "name": "stdout",
     "output_type": "stream",
     "text": [
      "Epoch: 71/100, Loss: 0.407564\n"
     ]
    },
    {
     "name": "stderr",
     "output_type": "stream",
     "text": [
      "Epoch 72/100: 100%|████████████████████████████████| 47/47 [00:00<00:00, 166.26batch/s, loss=0.571041]\n"
     ]
    },
    {
     "name": "stdout",
     "output_type": "stream",
     "text": [
      "Epoch: 72/100, Loss: 0.371076\n"
     ]
    },
    {
     "name": "stderr",
     "output_type": "stream",
     "text": [
      "Epoch 73/100: 100%|████████████████████████████████| 47/47 [00:00<00:00, 173.15batch/s, loss=0.513314]\n"
     ]
    },
    {
     "name": "stdout",
     "output_type": "stream",
     "text": [
      "Epoch: 73/100, Loss: 0.406642\n"
     ]
    },
    {
     "name": "stderr",
     "output_type": "stream",
     "text": [
      "Epoch 74/100: 100%|████████████████████████████████| 47/47 [00:00<00:00, 182.42batch/s, loss=1.448510]\n"
     ]
    },
    {
     "name": "stdout",
     "output_type": "stream",
     "text": [
      "Epoch: 74/100, Loss: 0.420718\n"
     ]
    },
    {
     "name": "stderr",
     "output_type": "stream",
     "text": [
      "Epoch 75/100: 100%|████████████████████████████████| 47/47 [00:00<00:00, 192.34batch/s, loss=0.462814]\n"
     ]
    },
    {
     "name": "stdout",
     "output_type": "stream",
     "text": [
      "Epoch: 75/100, Loss: 0.395325\n"
     ]
    },
    {
     "name": "stderr",
     "output_type": "stream",
     "text": [
      "Epoch 76/100: 100%|████████████████████████████████| 47/47 [00:00<00:00, 169.69batch/s, loss=0.651284]\n"
     ]
    },
    {
     "name": "stdout",
     "output_type": "stream",
     "text": [
      "Epoch: 76/100, Loss: 0.389288\n"
     ]
    },
    {
     "name": "stderr",
     "output_type": "stream",
     "text": [
      "Epoch 77/100: 100%|████████████████████████████████| 47/47 [00:00<00:00, 163.10batch/s, loss=0.381430]\n"
     ]
    },
    {
     "name": "stdout",
     "output_type": "stream",
     "text": [
      "Epoch: 77/100, Loss: 0.389645\n"
     ]
    },
    {
     "name": "stderr",
     "output_type": "stream",
     "text": [
      "Epoch 78/100: 100%|████████████████████████████████| 47/47 [00:00<00:00, 169.98batch/s, loss=0.367239]\n"
     ]
    },
    {
     "name": "stdout",
     "output_type": "stream",
     "text": [
      "Epoch: 78/100, Loss: 0.378897\n"
     ]
    },
    {
     "name": "stderr",
     "output_type": "stream",
     "text": [
      "Epoch 79/100: 100%|████████████████████████████████| 47/47 [00:00<00:00, 181.96batch/s, loss=0.231683]\n"
     ]
    },
    {
     "name": "stdout",
     "output_type": "stream",
     "text": [
      "Epoch: 79/100, Loss: 0.390640\n"
     ]
    },
    {
     "name": "stderr",
     "output_type": "stream",
     "text": [
      "Epoch 80/100: 100%|████████████████████████████████| 47/47 [00:00<00:00, 181.35batch/s, loss=0.289189]\n"
     ]
    },
    {
     "name": "stdout",
     "output_type": "stream",
     "text": [
      "Epoch: 80/100, Loss: 0.359993\n"
     ]
    },
    {
     "name": "stderr",
     "output_type": "stream",
     "text": [
      "Epoch 81/100: 100%|████████████████████████████████| 47/47 [00:00<00:00, 175.53batch/s, loss=0.387895]\n"
     ]
    },
    {
     "name": "stdout",
     "output_type": "stream",
     "text": [
      "Epoch: 81/100, Loss: 0.337836\n"
     ]
    },
    {
     "name": "stderr",
     "output_type": "stream",
     "text": [
      "Epoch 82/100: 100%|████████████████████████████████| 47/47 [00:00<00:00, 161.20batch/s, loss=0.334513]\n"
     ]
    },
    {
     "name": "stdout",
     "output_type": "stream",
     "text": [
      "Epoch: 82/100, Loss: 0.351358\n"
     ]
    },
    {
     "name": "stderr",
     "output_type": "stream",
     "text": [
      "Epoch 83/100: 100%|████████████████████████████████| 47/47 [00:00<00:00, 168.07batch/s, loss=0.159238]\n"
     ]
    },
    {
     "name": "stdout",
     "output_type": "stream",
     "text": [
      "Epoch: 83/100, Loss: 0.366352\n"
     ]
    },
    {
     "name": "stderr",
     "output_type": "stream",
     "text": [
      "Epoch 84/100: 100%|████████████████████████████████| 47/47 [00:00<00:00, 168.21batch/s, loss=0.400008]\n"
     ]
    },
    {
     "name": "stdout",
     "output_type": "stream",
     "text": [
      "Epoch: 84/100, Loss: 0.327593\n"
     ]
    },
    {
     "name": "stderr",
     "output_type": "stream",
     "text": [
      "Epoch 85/100: 100%|████████████████████████████████| 47/47 [00:00<00:00, 175.82batch/s, loss=0.297839]\n"
     ]
    },
    {
     "name": "stdout",
     "output_type": "stream",
     "text": [
      "Epoch: 85/100, Loss: 0.361016\n"
     ]
    },
    {
     "name": "stderr",
     "output_type": "stream",
     "text": [
      "Epoch 86/100: 100%|████████████████████████████████| 47/47 [00:00<00:00, 172.90batch/s, loss=0.119767]\n"
     ]
    },
    {
     "name": "stdout",
     "output_type": "stream",
     "text": [
      "Epoch: 86/100, Loss: 0.353007\n"
     ]
    },
    {
     "name": "stderr",
     "output_type": "stream",
     "text": [
      "Epoch 87/100: 100%|████████████████████████████████| 47/47 [00:00<00:00, 182.46batch/s, loss=0.294478]\n"
     ]
    },
    {
     "name": "stdout",
     "output_type": "stream",
     "text": [
      "Epoch: 87/100, Loss: 0.366107\n"
     ]
    },
    {
     "name": "stderr",
     "output_type": "stream",
     "text": [
      "Epoch 88/100: 100%|████████████████████████████████| 47/47 [00:00<00:00, 175.74batch/s, loss=0.493120]\n"
     ]
    },
    {
     "name": "stdout",
     "output_type": "stream",
     "text": [
      "Epoch: 88/100, Loss: 0.357992\n"
     ]
    },
    {
     "name": "stderr",
     "output_type": "stream",
     "text": [
      "Epoch 89/100: 100%|████████████████████████████████| 47/47 [00:00<00:00, 170.40batch/s, loss=0.148557]\n"
     ]
    },
    {
     "name": "stdout",
     "output_type": "stream",
     "text": [
      "Epoch: 89/100, Loss: 0.345984\n"
     ]
    },
    {
     "name": "stderr",
     "output_type": "stream",
     "text": [
      "Epoch 90/100: 100%|████████████████████████████████| 47/47 [00:00<00:00, 166.05batch/s, loss=0.314398]\n"
     ]
    },
    {
     "name": "stdout",
     "output_type": "stream",
     "text": [
      "Epoch: 90/100, Loss: 0.357747\n"
     ]
    },
    {
     "name": "stderr",
     "output_type": "stream",
     "text": [
      "Epoch 91/100: 100%|████████████████████████████████| 47/47 [00:00<00:00, 168.43batch/s, loss=0.315009]\n"
     ]
    },
    {
     "name": "stdout",
     "output_type": "stream",
     "text": [
      "Epoch: 91/100, Loss: 0.337141\n"
     ]
    },
    {
     "name": "stderr",
     "output_type": "stream",
     "text": [
      "Epoch 92/100: 100%|████████████████████████████████| 47/47 [00:00<00:00, 168.59batch/s, loss=0.262141]\n"
     ]
    },
    {
     "name": "stdout",
     "output_type": "stream",
     "text": [
      "Epoch: 92/100, Loss: 0.327006\n"
     ]
    },
    {
     "name": "stderr",
     "output_type": "stream",
     "text": [
      "Epoch 93/100: 100%|████████████████████████████████| 47/47 [00:00<00:00, 170.17batch/s, loss=0.237793]\n"
     ]
    },
    {
     "name": "stdout",
     "output_type": "stream",
     "text": [
      "Epoch: 93/100, Loss: 0.296236\n"
     ]
    },
    {
     "name": "stderr",
     "output_type": "stream",
     "text": [
      "Epoch 94/100: 100%|████████████████████████████████| 47/47 [00:00<00:00, 169.79batch/s, loss=0.240667]\n"
     ]
    },
    {
     "name": "stdout",
     "output_type": "stream",
     "text": [
      "Epoch: 94/100, Loss: 0.311439\n"
     ]
    },
    {
     "name": "stderr",
     "output_type": "stream",
     "text": [
      "Epoch 95/100: 100%|████████████████████████████████| 47/47 [00:00<00:00, 171.30batch/s, loss=0.332819]\n"
     ]
    },
    {
     "name": "stdout",
     "output_type": "stream",
     "text": [
      "Epoch: 95/100, Loss: 0.312172\n"
     ]
    },
    {
     "name": "stderr",
     "output_type": "stream",
     "text": [
      "Epoch 96/100: 100%|████████████████████████████████| 47/47 [00:00<00:00, 165.07batch/s, loss=0.195658]\n"
     ]
    },
    {
     "name": "stdout",
     "output_type": "stream",
     "text": [
      "Epoch: 96/100, Loss: 0.312721\n"
     ]
    },
    {
     "name": "stderr",
     "output_type": "stream",
     "text": [
      "Epoch 97/100: 100%|████████████████████████████████| 47/47 [00:00<00:00, 171.95batch/s, loss=0.424808]\n"
     ]
    },
    {
     "name": "stdout",
     "output_type": "stream",
     "text": [
      "Epoch: 97/100, Loss: 0.323325\n"
     ]
    },
    {
     "name": "stderr",
     "output_type": "stream",
     "text": [
      "Epoch 98/100: 100%|████████████████████████████████| 47/47 [00:00<00:00, 176.00batch/s, loss=0.254138]\n"
     ]
    },
    {
     "name": "stdout",
     "output_type": "stream",
     "text": [
      "Epoch: 98/100, Loss: 0.313329\n"
     ]
    },
    {
     "name": "stderr",
     "output_type": "stream",
     "text": [
      "Epoch 99/100: 100%|████████████████████████████████| 47/47 [00:00<00:00, 184.58batch/s, loss=0.347605]\n"
     ]
    },
    {
     "name": "stdout",
     "output_type": "stream",
     "text": [
      "Epoch: 99/100, Loss: 0.337249\n"
     ]
    },
    {
     "name": "stderr",
     "output_type": "stream",
     "text": [
      "Epoch 100/100: 100%|███████████████████████████████| 47/47 [00:00<00:00, 202.48batch/s, loss=0.569661]\n"
     ]
    },
    {
     "name": "stdout",
     "output_type": "stream",
     "text": [
      "Epoch: 100/100, Loss: 0.320085\n",
      "CPU times: user 21.8 s, sys: 6.53 s, total: 28.3 s\n",
      "Wall time: 26.8 s\n"
     ]
    }
   ],
   "source": [
    "%%time\n",
    "trainer4.train(cifar100_004, epochs)"
   ]
  },
  {
   "cell_type": "code",
   "execution_count": 58,
   "id": "e1065eb3-266a-45a8-b9e6-a5f7a72d6cf0",
   "metadata": {},
   "outputs": [
    {
     "data": {
      "image/png": "[encoded data removed]",
      "text/plain": [
       "<Figure size 1400x600 with 2 Axes>"
      ]
     },
     "metadata": {},
     "output_type": "display_data"
    }
   ],
   "source": [
    "trainer4.plot_training_history()"
   ]
  },
  {
   "cell_type": "markdown",
   "id": "fcfe2b14-c8ed-43cc-a3b2-5acfbaa9f4fb",
   "metadata": {},
   "source": [
    "#### Оценка"
   ]
  },
  {
   "cell_type": "code",
   "execution_count": 59,
   "id": "41e6019f-5ec8-479b-8d20-31cba49cbec1",
   "metadata": {},
   "outputs": [
    {
     "name": "stdout",
     "output_type": "stream",
     "text": [
      "Classification report for train dataset:\n",
      "              precision    recall  f1-score   support\n",
      "\n",
      "    wardrobe     0.9663    0.9740    0.9701       500\n",
      "  chimpanzee     0.9131    0.9880    0.9491       500\n",
      "    mushroom     0.9846    0.8960    0.9382       500\n",
      "\n",
      "    accuracy                         0.9527      1500\n",
      "   macro avg     0.9547    0.9527    0.9525      1500\n",
      "weighted avg     0.9547    0.9527    0.9525      1500\n",
      "\n",
      "--------------------------------------------------\n",
      "Classification report for test dataset:\n",
      "              precision    recall  f1-score   support\n",
      "\n",
      "    wardrobe     0.8257    0.9000    0.8612       100\n",
      "  chimpanzee     0.7426    0.7500    0.7463       100\n",
      "    mushroom     0.8111    0.7300    0.7684       100\n",
      "\n",
      "    accuracy                         0.7933       300\n",
      "   macro avg     0.7931    0.7933    0.7920       300\n",
      "weighted avg     0.7931    0.7933    0.7920       300\n",
      "\n",
      "--------------------------------------------------\n"
     ]
    }
   ],
   "source": [
    "trainer4.evaluate(cifar100_004)"
   ]
  },
  {
   "cell_type": "markdown",
   "id": "838198f2-a01a-4be0-b7b5-903075bf1626",
   "metadata": {},
   "source": [
    "#### Сохранение модели в ONNX"
   ]
  },
  {
   "cell_type": "code",
   "execution_count": 60,
   "id": "8fb4b599-bfe8-4b71-baf6-bd3b8c649e5d",
   "metadata": {},
   "outputs": [
    {
     "name": "stdout",
     "output_type": "stream",
     "text": [
      "Model saved as: cifar100_aadfc449-56ea-4ee5-a877-ec7e0ed50789.onnx\n",
      "Model UUID: aadfc449-56ea-4ee5-a877-ec7e0ed50789\n"
     ]
    }
   ],
   "source": [
    "trainer4.save_model(cifar100_004)"
   ]
  },
  {
   "cell_type": "markdown",
   "id": "cee3a144-3852-4db5-86e1-05235679b276",
   "metadata": {},
   "source": [
    "### Эксперимент №5"
   ]
  },
  {
   "cell_type": "markdown",
   "id": "aefb07e9-78f5-4f02-8e92-8cbbea99dcf0",
   "metadata": {},
   "source": [
    "#### Гиперпараметры"
   ]
  },
  {
   "cell_type": "code",
   "execution_count": 63,
   "id": "57cd82f8-4903-4a71-841d-515aae762167",
   "metadata": {},
   "outputs": [],
   "source": [
    "batch_size=2**5\n",
    "epochs=1000\n",
    "criterion=nn.NLLLoss()\n",
    "lr_rate = 1e-4\n",
    "hidden_layers=[2**5, 2**7, 2**10, 2**7, 2**5]"
   ]
  },
  {
   "cell_type": "markdown",
   "id": "c2722725-9a67-4445-ab8e-3392e118b53a",
   "metadata": {},
   "source": [
    "#### Инициализация модели"
   ]
  },
  {
   "cell_type": "code",
   "execution_count": 64,
   "id": "e9f87ac9-f443-4855-9c64-e4b2e2402fd9",
   "metadata": {},
   "outputs": [
    {
     "name": "stdout",
     "output_type": "stream",
     "text": [
      "Используемое устройство: cuda\n",
      "CPU times: user 193 ms, sys: 280 ms, total: 473 ms\n",
      "Wall time: 330 ms\n"
     ]
    }
   ],
   "source": [
    "%%time\n",
    "trainer5 = CIFAR100Trainer(CLASSES, batch_size, lr_rate, criterion)"
   ]
  },
  {
   "cell_type": "code",
   "execution_count": 65,
   "id": "6ff4fd45-fa85-485a-b3b3-9fbe9a40b68c",
   "metadata": {},
   "outputs": [
    {
     "name": "stdout",
     "output_type": "stream",
     "text": [
      "CPU times: user 27.4 ms, sys: 0 ns, total: 27.4 ms\n",
      "Wall time: 3.32 ms\n"
     ]
    }
   ],
   "source": [
    "%%time\n",
    "cifar100_005 = CIFAR100Model(\n",
    "    hidden_layers=hidden_layers, \n",
    "    dropout_prob=0.5, \n",
    "    num_classes=CLASSES.__len__()\n",
    ")"
   ]
  },
  {
   "cell_type": "markdown",
   "id": "0a6eb386-6212-430b-9bd7-2e101b906fda",
   "metadata": {},
   "source": [
    "#### Информация о модели"
   ]
  },
  {
   "cell_type": "code",
   "execution_count": 66,
   "id": "a799a9ce-e17c-4a09-a648-66d69b3e1665",
   "metadata": {},
   "outputs": [
    {
     "data": {
      "text/plain": [
       "CIFAR100Model(\n",
       "  (norm): Normalize()\n",
       "  (seq): Sequential(\n",
       "    (0): Linear(in_features=3072, out_features=32, bias=True)\n",
       "    (1): ReLU()\n",
       "    (2): Dropout(p=0.5, inplace=False)\n",
       "    (3): Linear(in_features=32, out_features=128, bias=True)\n",
       "    (4): ReLU()\n",
       "    (5): Dropout(p=0.5, inplace=False)\n",
       "    (6): Linear(in_features=128, out_features=1024, bias=True)\n",
       "    (7): ReLU()\n",
       "    (8): Dropout(p=0.5, inplace=False)\n",
       "    (9): Linear(in_features=1024, out_features=128, bias=True)\n",
       "    (10): ReLU()\n",
       "    (11): Dropout(p=0.5, inplace=False)\n",
       "    (12): Linear(in_features=128, out_features=32, bias=True)\n",
       "    (13): ReLU()\n",
       "    (14): Dropout(p=0.5, inplace=False)\n",
       "    (15): Linear(in_features=32, out_features=3, bias=True)\n",
       "  )\n",
       ")"
      ]
     },
     "execution_count": 66,
     "metadata": {},
     "output_type": "execute_result"
    }
   ],
   "source": [
    "cifar100_005"
   ]
  },
  {
   "cell_type": "markdown",
   "id": "f2648d48-702f-4b7b-b587-e8063ddefac9",
   "metadata": {},
   "source": [
    "#### Обучение"
   ]
  },
  {
   "cell_type": "code",
   "execution_count": 67,
   "id": "4f289e61-afdb-4053-92bf-a6fda76b23c3",
   "metadata": {
    "scrolled": true
   },
   "outputs": [
    {
     "name": "stderr",
     "output_type": "stream",
     "text": [
      "Epoch 1/1000: 100%|████████████████████████████████| 47/47 [00:00<00:00, 189.62batch/s, loss=1.123906]\n"
     ]
    },
    {
     "name": "stdout",
     "output_type": "stream",
     "text": [
      "Epoch: 1/1000, Loss: 1.099638\n"
     ]
    },
    {
     "name": "stderr",
     "output_type": "stream",
     "text": [
      "Epoch 2/1000: 100%|████████████████████████████████| 47/47 [00:00<00:00, 228.47batch/s, loss=1.103884]\n"
     ]
    },
    {
     "name": "stdout",
     "output_type": "stream",
     "text": [
      "Epoch: 2/1000, Loss: 1.082496\n"
     ]
    },
    {
     "name": "stderr",
     "output_type": "stream",
     "text": [
      "Epoch 3/1000: 100%|████████████████████████████████| 47/47 [00:00<00:00, 248.03batch/s, loss=1.023762]\n"
     ]
    },
    {
     "name": "stdout",
     "output_type": "stream",
     "text": [
      "Epoch: 3/1000, Loss: 1.048739\n"
     ]
    },
    {
     "name": "stderr",
     "output_type": "stream",
     "text": [
      "Epoch 4/1000: 100%|████████████████████████████████| 47/47 [00:00<00:00, 214.72batch/s, loss=0.824424]\n"
     ]
    },
    {
     "name": "stdout",
     "output_type": "stream",
     "text": [
      "Epoch: 4/1000, Loss: 1.000991\n"
     ]
    },
    {
     "name": "stderr",
     "output_type": "stream",
     "text": [
      "Epoch 5/1000: 100%|████████████████████████████████| 47/47 [00:00<00:00, 219.46batch/s, loss=0.868757]\n"
     ]
    },
    {
     "name": "stdout",
     "output_type": "stream",
     "text": [
      "Epoch: 5/1000, Loss: 0.942000\n"
     ]
    },
    {
     "name": "stderr",
     "output_type": "stream",
     "text": [
      "Epoch 6/1000: 100%|████████████████████████████████| 47/47 [00:00<00:00, 282.38batch/s, loss=0.924107]\n"
     ]
    },
    {
     "name": "stdout",
     "output_type": "stream",
     "text": [
      "Epoch: 6/1000, Loss: 0.891169\n"
     ]
    },
    {
     "name": "stderr",
     "output_type": "stream",
     "text": [
      "Epoch 7/1000: 100%|████████████████████████████████| 47/47 [00:00<00:00, 263.17batch/s, loss=0.895985]\n"
     ]
    },
    {
     "name": "stdout",
     "output_type": "stream",
     "text": [
      "Epoch: 7/1000, Loss: 0.848714\n"
     ]
    },
    {
     "name": "stderr",
     "output_type": "stream",
     "text": [
      "Epoch 8/1000: 100%|████████████████████████████████| 47/47 [00:00<00:00, 236.36batch/s, loss=0.858955]\n"
     ]
    },
    {
     "name": "stdout",
     "output_type": "stream",
     "text": [
      "Epoch: 8/1000, Loss: 0.828588\n"
     ]
    },
    {
     "name": "stderr",
     "output_type": "stream",
     "text": [
      "Epoch 9/1000: 100%|████████████████████████████████| 47/47 [00:00<00:00, 259.35batch/s, loss=0.807448]\n"
     ]
    },
    {
     "name": "stdout",
     "output_type": "stream",
     "text": [
      "Epoch: 9/1000, Loss: 0.812080\n"
     ]
    },
    {
     "name": "stderr",
     "output_type": "stream",
     "text": [
      "Epoch 10/1000: 100%|███████████████████████████████| 47/47 [00:00<00:00, 208.28batch/s, loss=0.834280]\n"
     ]
    },
    {
     "name": "stdout",
     "output_type": "stream",
     "text": [
      "Epoch: 10/1000, Loss: 0.781963\n"
     ]
    },
    {
     "name": "stderr",
     "output_type": "stream",
     "text": [
      "Epoch 11/1000: 100%|███████████████████████████████| 47/47 [00:00<00:00, 234.51batch/s, loss=0.757897]\n"
     ]
    },
    {
     "name": "stdout",
     "output_type": "stream",
     "text": [
      "Epoch: 11/1000, Loss: 0.791368\n"
     ]
    },
    {
     "name": "stderr",
     "output_type": "stream",
     "text": [
      "Epoch 12/1000: 100%|███████████████████████████████| 47/47 [00:00<00:00, 238.56batch/s, loss=0.603043]\n"
     ]
    },
    {
     "name": "stdout",
     "output_type": "stream",
     "text": [
      "Epoch: 12/1000, Loss: 0.776679\n"
     ]
    },
    {
     "name": "stderr",
     "output_type": "stream",
     "text": [
      "Epoch 13/1000: 100%|███████████████████████████████| 47/47 [00:00<00:00, 243.83batch/s, loss=0.965717]\n"
     ]
    },
    {
     "name": "stdout",
     "output_type": "stream",
     "text": [
      "Epoch: 13/1000, Loss: 0.749007\n"
     ]
    },
    {
     "name": "stderr",
     "output_type": "stream",
     "text": [
      "Epoch 14/1000: 100%|███████████████████████████████| 47/47 [00:00<00:00, 244.77batch/s, loss=0.634666]\n"
     ]
    },
    {
     "name": "stdout",
     "output_type": "stream",
     "text": [
      "Epoch: 14/1000, Loss: 0.725036\n"
     ]
    },
    {
     "name": "stderr",
     "output_type": "stream",
     "text": [
      "Epoch 15/1000: 100%|███████████████████████████████| 47/47 [00:00<00:00, 233.18batch/s, loss=0.818189]\n"
     ]
    },
    {
     "name": "stdout",
     "output_type": "stream",
     "text": [
      "Epoch: 15/1000, Loss: 0.714230\n"
     ]
    },
    {
     "name": "stderr",
     "output_type": "stream",
     "text": [
      "Epoch 16/1000: 100%|███████████████████████████████| 47/47 [00:00<00:00, 254.17batch/s, loss=0.520542]\n"
     ]
    },
    {
     "name": "stdout",
     "output_type": "stream",
     "text": [
      "Epoch: 16/1000, Loss: 0.726954\n"
     ]
    },
    {
     "name": "stderr",
     "output_type": "stream",
     "text": [
      "Epoch 17/1000: 100%|███████████████████████████████| 47/47 [00:00<00:00, 265.24batch/s, loss=0.711717]\n"
     ]
    },
    {
     "name": "stdout",
     "output_type": "stream",
     "text": [
      "Epoch: 17/1000, Loss: 0.713629\n"
     ]
    },
    {
     "name": "stderr",
     "output_type": "stream",
     "text": [
      "Epoch 18/1000: 100%|███████████████████████████████| 47/47 [00:00<00:00, 239.66batch/s, loss=0.671130]\n"
     ]
    },
    {
     "name": "stdout",
     "output_type": "stream",
     "text": [
      "Epoch: 18/1000, Loss: 0.700892\n"
     ]
    },
    {
     "name": "stderr",
     "output_type": "stream",
     "text": [
      "Epoch 19/1000: 100%|███████████████████████████████| 47/47 [00:00<00:00, 258.69batch/s, loss=0.668786]\n"
     ]
    },
    {
     "name": "stdout",
     "output_type": "stream",
     "text": [
      "Epoch: 19/1000, Loss: 0.689942\n"
     ]
    },
    {
     "name": "stderr",
     "output_type": "stream",
     "text": [
      "Epoch 20/1000: 100%|███████████████████████████████| 47/47 [00:00<00:00, 251.11batch/s, loss=0.567774]\n"
     ]
    },
    {
     "name": "stdout",
     "output_type": "stream",
     "text": [
      "Epoch: 20/1000, Loss: 0.660908\n"
     ]
    },
    {
     "name": "stderr",
     "output_type": "stream",
     "text": [
      "Epoch 21/1000: 100%|███████████████████████████████| 47/47 [00:00<00:00, 222.65batch/s, loss=0.672703]\n"
     ]
    },
    {
     "name": "stdout",
     "output_type": "stream",
     "text": [
      "Epoch: 21/1000, Loss: 0.631959\n"
     ]
    },
    {
     "name": "stderr",
     "output_type": "stream",
     "text": [
      "Epoch 22/1000: 100%|███████████████████████████████| 47/47 [00:00<00:00, 222.85batch/s, loss=0.490031]\n"
     ]
    },
    {
     "name": "stdout",
     "output_type": "stream",
     "text": [
      "Epoch: 22/1000, Loss: 0.634645\n"
     ]
    },
    {
     "name": "stderr",
     "output_type": "stream",
     "text": [
      "Epoch 23/1000: 100%|███████████████████████████████| 47/47 [00:00<00:00, 292.87batch/s, loss=0.592963]\n"
     ]
    },
    {
     "name": "stdout",
     "output_type": "stream",
     "text": [
      "Epoch: 23/1000, Loss: 0.613492\n"
     ]
    },
    {
     "name": "stderr",
     "output_type": "stream",
     "text": [
      "Epoch 24/1000: 100%|███████████████████████████████| 47/47 [00:00<00:00, 248.57batch/s, loss=0.712083]\n"
     ]
    },
    {
     "name": "stdout",
     "output_type": "stream",
     "text": [
      "Epoch: 24/1000, Loss: 0.600932\n"
     ]
    },
    {
     "name": "stderr",
     "output_type": "stream",
     "text": [
      "Epoch 25/1000: 100%|███████████████████████████████| 47/47 [00:00<00:00, 249.29batch/s, loss=0.640197]\n"
     ]
    },
    {
     "name": "stdout",
     "output_type": "stream",
     "text": [
      "Epoch: 25/1000, Loss: 0.605900\n"
     ]
    },
    {
     "name": "stderr",
     "output_type": "stream",
     "text": [
      "Epoch 26/1000: 100%|███████████████████████████████| 47/47 [00:00<00:00, 239.30batch/s, loss=0.547962]\n"
     ]
    },
    {
     "name": "stdout",
     "output_type": "stream",
     "text": [
      "Epoch: 26/1000, Loss: 0.566742\n"
     ]
    },
    {
     "name": "stderr",
     "output_type": "stream",
     "text": [
      "Epoch 27/1000: 100%|███████████████████████████████| 47/47 [00:00<00:00, 245.94batch/s, loss=0.743722]\n"
     ]
    },
    {
     "name": "stdout",
     "output_type": "stream",
     "text": [
      "Epoch: 27/1000, Loss: 0.571315\n"
     ]
    },
    {
     "name": "stderr",
     "output_type": "stream",
     "text": [
      "Epoch 28/1000: 100%|███████████████████████████████| 47/47 [00:00<00:00, 257.20batch/s, loss=0.572500]\n"
     ]
    },
    {
     "name": "stdout",
     "output_type": "stream",
     "text": [
      "Epoch: 28/1000, Loss: 0.531765\n"
     ]
    },
    {
     "name": "stderr",
     "output_type": "stream",
     "text": [
      "Epoch 29/1000: 100%|███████████████████████████████| 47/47 [00:00<00:00, 238.10batch/s, loss=0.406871]\n"
     ]
    },
    {
     "name": "stdout",
     "output_type": "stream",
     "text": [
      "Epoch: 29/1000, Loss: 0.532903\n"
     ]
    },
    {
     "name": "stderr",
     "output_type": "stream",
     "text": [
      "Epoch 30/1000: 100%|███████████████████████████████| 47/47 [00:00<00:00, 253.44batch/s, loss=0.444929]\n"
     ]
    },
    {
     "name": "stdout",
     "output_type": "stream",
     "text": [
      "Epoch: 30/1000, Loss: 0.538378\n"
     ]
    },
    {
     "name": "stderr",
     "output_type": "stream",
     "text": [
      "Epoch 31/1000: 100%|███████████████████████████████| 47/47 [00:00<00:00, 236.23batch/s, loss=0.487684]\n"
     ]
    },
    {
     "name": "stdout",
     "output_type": "stream",
     "text": [
      "Epoch: 31/1000, Loss: 0.504488\n"
     ]
    },
    {
     "name": "stderr",
     "output_type": "stream",
     "text": [
      "Epoch 32/1000: 100%|███████████████████████████████| 47/47 [00:00<00:00, 239.52batch/s, loss=0.404018]\n"
     ]
    },
    {
     "name": "stdout",
     "output_type": "stream",
     "text": [
      "Epoch: 32/1000, Loss: 0.480759\n"
     ]
    },
    {
     "name": "stderr",
     "output_type": "stream",
     "text": [
      "Epoch 33/1000: 100%|███████████████████████████████| 47/47 [00:00<00:00, 226.39batch/s, loss=0.402601]\n"
     ]
    },
    {
     "name": "stdout",
     "output_type": "stream",
     "text": [
      "Epoch: 33/1000, Loss: 0.500761\n"
     ]
    },
    {
     "name": "stderr",
     "output_type": "stream",
     "text": [
      "Epoch 34/1000: 100%|███████████████████████████████| 47/47 [00:00<00:00, 216.53batch/s, loss=0.363017]\n"
     ]
    },
    {
     "name": "stdout",
     "output_type": "stream",
     "text": [
      "Epoch: 34/1000, Loss: 0.464800\n"
     ]
    },
    {
     "name": "stderr",
     "output_type": "stream",
     "text": [
      "Epoch 35/1000: 100%|███████████████████████████████| 47/47 [00:00<00:00, 246.96batch/s, loss=0.354678]\n"
     ]
    },
    {
     "name": "stdout",
     "output_type": "stream",
     "text": [
      "Epoch: 35/1000, Loss: 0.451654\n"
     ]
    },
    {
     "name": "stderr",
     "output_type": "stream",
     "text": [
      "Epoch 36/1000: 100%|███████████████████████████████| 47/47 [00:00<00:00, 272.95batch/s, loss=0.582660]\n"
     ]
    },
    {
     "name": "stdout",
     "output_type": "stream",
     "text": [
      "Epoch: 36/1000, Loss: 0.477686\n"
     ]
    },
    {
     "name": "stderr",
     "output_type": "stream",
     "text": [
      "Epoch 37/1000: 100%|███████████████████████████████| 47/47 [00:00<00:00, 239.00batch/s, loss=0.212102]\n"
     ]
    },
    {
     "name": "stdout",
     "output_type": "stream",
     "text": [
      "Epoch: 37/1000, Loss: 0.477807\n"
     ]
    },
    {
     "name": "stderr",
     "output_type": "stream",
     "text": [
      "Epoch 38/1000: 100%|███████████████████████████████| 47/47 [00:00<00:00, 235.36batch/s, loss=0.370850]\n"
     ]
    },
    {
     "name": "stdout",
     "output_type": "stream",
     "text": [
      "Epoch: 38/1000, Loss: 0.447757\n"
     ]
    },
    {
     "name": "stderr",
     "output_type": "stream",
     "text": [
      "Epoch 39/1000: 100%|███████████████████████████████| 47/47 [00:00<00:00, 285.74batch/s, loss=0.301939]\n"
     ]
    },
    {
     "name": "stdout",
     "output_type": "stream",
     "text": [
      "Epoch: 39/1000, Loss: 0.426124\n"
     ]
    },
    {
     "name": "stderr",
     "output_type": "stream",
     "text": [
      "Epoch 40/1000: 100%|███████████████████████████████| 47/47 [00:00<00:00, 284.92batch/s, loss=0.496094]\n"
     ]
    },
    {
     "name": "stdout",
     "output_type": "stream",
     "text": [
      "Epoch: 40/1000, Loss: 0.404982\n"
     ]
    },
    {
     "name": "stderr",
     "output_type": "stream",
     "text": [
      "Epoch 41/1000: 100%|███████████████████████████████| 47/47 [00:00<00:00, 269.37batch/s, loss=0.276756]\n"
     ]
    },
    {
     "name": "stdout",
     "output_type": "stream",
     "text": [
      "Epoch: 41/1000, Loss: 0.435851\n"
     ]
    },
    {
     "name": "stderr",
     "output_type": "stream",
     "text": [
      "Epoch 42/1000: 100%|███████████████████████████████| 47/47 [00:00<00:00, 246.18batch/s, loss=0.690184]\n"
     ]
    },
    {
     "name": "stdout",
     "output_type": "stream",
     "text": [
      "Epoch: 42/1000, Loss: 0.417579\n"
     ]
    },
    {
     "name": "stderr",
     "output_type": "stream",
     "text": [
      "Epoch 43/1000: 100%|███████████████████████████████| 47/47 [00:00<00:00, 259.96batch/s, loss=0.378030]\n"
     ]
    },
    {
     "name": "stdout",
     "output_type": "stream",
     "text": [
      "Epoch: 43/1000, Loss: 0.425596\n"
     ]
    },
    {
     "name": "stderr",
     "output_type": "stream",
     "text": [
      "Epoch 44/1000: 100%|███████████████████████████████| 47/47 [00:00<00:00, 251.91batch/s, loss=0.500990]\n"
     ]
    },
    {
     "name": "stdout",
     "output_type": "stream",
     "text": [
      "Epoch: 44/1000, Loss: 0.403204\n"
     ]
    },
    {
     "name": "stderr",
     "output_type": "stream",
     "text": [
      "Epoch 45/1000: 100%|███████████████████████████████| 47/47 [00:00<00:00, 272.37batch/s, loss=0.563888]\n"
     ]
    },
    {
     "name": "stdout",
     "output_type": "stream",
     "text": [
      "Epoch: 45/1000, Loss: 0.406701\n"
     ]
    },
    {
     "name": "stderr",
     "output_type": "stream",
     "text": [
      "Epoch 46/1000: 100%|███████████████████████████████| 47/47 [00:00<00:00, 259.15batch/s, loss=0.351308]\n"
     ]
    },
    {
     "name": "stdout",
     "output_type": "stream",
     "text": [
      "Epoch: 46/1000, Loss: 0.397883\n"
     ]
    },
    {
     "name": "stderr",
     "output_type": "stream",
     "text": [
      "Epoch 47/1000: 100%|███████████████████████████████| 47/47 [00:00<00:00, 233.42batch/s, loss=0.409264]\n"
     ]
    },
    {
     "name": "stdout",
     "output_type": "stream",
     "text": [
      "Epoch: 47/1000, Loss: 0.388069\n"
     ]
    },
    {
     "name": "stderr",
     "output_type": "stream",
     "text": [
      "Epoch 48/1000: 100%|███████████████████████████████| 47/47 [00:00<00:00, 224.52batch/s, loss=0.586342]\n"
     ]
    },
    {
     "name": "stdout",
     "output_type": "stream",
     "text": [
      "Epoch: 48/1000, Loss: 0.362304\n"
     ]
    },
    {
     "name": "stderr",
     "output_type": "stream",
     "text": [
      "Epoch 49/1000: 100%|███████████████████████████████| 47/47 [00:00<00:00, 188.46batch/s, loss=0.290985]\n"
     ]
    },
    {
     "name": "stdout",
     "output_type": "stream",
     "text": [
      "Epoch: 49/1000, Loss: 0.370436\n"
     ]
    },
    {
     "name": "stderr",
     "output_type": "stream",
     "text": [
      "Epoch 50/1000: 100%|███████████████████████████████| 47/47 [00:00<00:00, 212.55batch/s, loss=0.189950]\n"
     ]
    },
    {
     "name": "stdout",
     "output_type": "stream",
     "text": [
      "Epoch: 50/1000, Loss: 0.394067\n"
     ]
    },
    {
     "name": "stderr",
     "output_type": "stream",
     "text": [
      "Epoch 51/1000: 100%|███████████████████████████████| 47/47 [00:00<00:00, 191.47batch/s, loss=0.446884]\n"
     ]
    },
    {
     "name": "stdout",
     "output_type": "stream",
     "text": [
      "Epoch: 51/1000, Loss: 0.379118\n"
     ]
    },
    {
     "name": "stderr",
     "output_type": "stream",
     "text": [
      "Epoch 52/1000: 100%|███████████████████████████████| 47/47 [00:00<00:00, 219.22batch/s, loss=0.162329]\n"
     ]
    },
    {
     "name": "stdout",
     "output_type": "stream",
     "text": [
      "Epoch: 52/1000, Loss: 0.370893\n"
     ]
    },
    {
     "name": "stderr",
     "output_type": "stream",
     "text": [
      "Epoch 53/1000: 100%|███████████████████████████████| 47/47 [00:00<00:00, 218.76batch/s, loss=0.186646]\n"
     ]
    },
    {
     "name": "stdout",
     "output_type": "stream",
     "text": [
      "Epoch: 53/1000, Loss: 0.352302\n"
     ]
    },
    {
     "name": "stderr",
     "output_type": "stream",
     "text": [
      "Epoch 54/1000: 100%|███████████████████████████████| 47/47 [00:00<00:00, 205.69batch/s, loss=0.347859]\n"
     ]
    },
    {
     "name": "stdout",
     "output_type": "stream",
     "text": [
      "Epoch: 54/1000, Loss: 0.338121\n"
     ]
    },
    {
     "name": "stderr",
     "output_type": "stream",
     "text": [
      "Epoch 55/1000: 100%|███████████████████████████████| 47/47 [00:00<00:00, 179.84batch/s, loss=0.146666]\n"
     ]
    },
    {
     "name": "stdout",
     "output_type": "stream",
     "text": [
      "Epoch: 55/1000, Loss: 0.346760\n"
     ]
    },
    {
     "name": "stderr",
     "output_type": "stream",
     "text": [
      "Epoch 56/1000: 100%|███████████████████████████████| 47/47 [00:00<00:00, 220.04batch/s, loss=0.226493]\n"
     ]
    },
    {
     "name": "stdout",
     "output_type": "stream",
     "text": [
      "Epoch: 56/1000, Loss: 0.340204\n"
     ]
    },
    {
     "name": "stderr",
     "output_type": "stream",
     "text": [
      "Epoch 57/1000: 100%|███████████████████████████████| 47/47 [00:00<00:00, 253.07batch/s, loss=0.636157]\n"
     ]
    },
    {
     "name": "stdout",
     "output_type": "stream",
     "text": [
      "Epoch: 57/1000, Loss: 0.333725\n"
     ]
    },
    {
     "name": "stderr",
     "output_type": "stream",
     "text": [
      "Epoch 58/1000: 100%|███████████████████████████████| 47/47 [00:00<00:00, 262.17batch/s, loss=0.403449]\n"
     ]
    },
    {
     "name": "stdout",
     "output_type": "stream",
     "text": [
      "Epoch: 58/1000, Loss: 0.351412\n"
     ]
    },
    {
     "name": "stderr",
     "output_type": "stream",
     "text": [
      "Epoch 59/1000: 100%|███████████████████████████████| 47/47 [00:00<00:00, 225.90batch/s, loss=0.469084]\n"
     ]
    },
    {
     "name": "stdout",
     "output_type": "stream",
     "text": [
      "Epoch: 59/1000, Loss: 0.330786\n"
     ]
    },
    {
     "name": "stderr",
     "output_type": "stream",
     "text": [
      "Epoch 60/1000: 100%|███████████████████████████████| 47/47 [00:00<00:00, 242.58batch/s, loss=0.436259]\n"
     ]
    },
    {
     "name": "stdout",
     "output_type": "stream",
     "text": [
      "Epoch: 60/1000, Loss: 0.346613\n"
     ]
    },
    {
     "name": "stderr",
     "output_type": "stream",
     "text": [
      "Epoch 61/1000: 100%|███████████████████████████████| 47/47 [00:00<00:00, 262.65batch/s, loss=0.246215]\n"
     ]
    },
    {
     "name": "stdout",
     "output_type": "stream",
     "text": [
      "Epoch: 61/1000, Loss: 0.305726\n"
     ]
    },
    {
     "name": "stderr",
     "output_type": "stream",
     "text": [
      "Epoch 62/1000: 100%|███████████████████████████████| 47/47 [00:00<00:00, 246.96batch/s, loss=0.224389]\n"
     ]
    },
    {
     "name": "stdout",
     "output_type": "stream",
     "text": [
      "Epoch: 62/1000, Loss: 0.349267\n"
     ]
    },
    {
     "name": "stderr",
     "output_type": "stream",
     "text": [
      "Epoch 63/1000: 100%|███████████████████████████████| 47/47 [00:00<00:00, 189.79batch/s, loss=0.356018]\n"
     ]
    },
    {
     "name": "stdout",
     "output_type": "stream",
     "text": [
      "Epoch: 63/1000, Loss: 0.297553\n"
     ]
    },
    {
     "name": "stderr",
     "output_type": "stream",
     "text": [
      "Epoch 64/1000: 100%|███████████████████████████████| 47/47 [00:00<00:00, 228.54batch/s, loss=0.206665]\n"
     ]
    },
    {
     "name": "stdout",
     "output_type": "stream",
     "text": [
      "Epoch: 64/1000, Loss: 0.314351\n"
     ]
    },
    {
     "name": "stderr",
     "output_type": "stream",
     "text": [
      "Epoch 65/1000: 100%|███████████████████████████████| 47/47 [00:00<00:00, 221.61batch/s, loss=0.262501]\n"
     ]
    },
    {
     "name": "stdout",
     "output_type": "stream",
     "text": [
      "Epoch: 65/1000, Loss: 0.320384\n"
     ]
    },
    {
     "name": "stderr",
     "output_type": "stream",
     "text": [
      "Epoch 66/1000: 100%|███████████████████████████████| 47/47 [00:00<00:00, 229.42batch/s, loss=0.245687]\n"
     ]
    },
    {
     "name": "stdout",
     "output_type": "stream",
     "text": [
      "Epoch: 66/1000, Loss: 0.332853\n"
     ]
    },
    {
     "name": "stderr",
     "output_type": "stream",
     "text": [
      "Epoch 67/1000: 100%|███████████████████████████████| 47/47 [00:00<00:00, 218.84batch/s, loss=0.209927]\n"
     ]
    },
    {
     "name": "stdout",
     "output_type": "stream",
     "text": [
      "Epoch: 67/1000, Loss: 0.302013\n"
     ]
    },
    {
     "name": "stderr",
     "output_type": "stream",
     "text": [
      "Epoch 68/1000: 100%|███████████████████████████████| 47/47 [00:00<00:00, 240.00batch/s, loss=0.303026]\n"
     ]
    },
    {
     "name": "stdout",
     "output_type": "stream",
     "text": [
      "Epoch: 68/1000, Loss: 0.302989\n"
     ]
    },
    {
     "name": "stderr",
     "output_type": "stream",
     "text": [
      "Epoch 69/1000: 100%|███████████████████████████████| 47/47 [00:00<00:00, 201.78batch/s, loss=0.304068]\n"
     ]
    },
    {
     "name": "stdout",
     "output_type": "stream",
     "text": [
      "Epoch: 69/1000, Loss: 0.320675\n"
     ]
    },
    {
     "name": "stderr",
     "output_type": "stream",
     "text": [
      "Epoch 70/1000: 100%|███████████████████████████████| 47/47 [00:00<00:00, 240.07batch/s, loss=0.446564]\n"
     ]
    },
    {
     "name": "stdout",
     "output_type": "stream",
     "text": [
      "Epoch: 70/1000, Loss: 0.308744\n"
     ]
    },
    {
     "name": "stderr",
     "output_type": "stream",
     "text": [
      "Epoch 71/1000: 100%|███████████████████████████████| 47/47 [00:00<00:00, 180.98batch/s, loss=0.461939]\n"
     ]
    },
    {
     "name": "stdout",
     "output_type": "stream",
     "text": [
      "Epoch: 71/1000, Loss: 0.276351\n"
     ]
    },
    {
     "name": "stderr",
     "output_type": "stream",
     "text": [
      "Epoch 72/1000: 100%|███████████████████████████████| 47/47 [00:00<00:00, 271.53batch/s, loss=0.280319]\n"
     ]
    },
    {
     "name": "stdout",
     "output_type": "stream",
     "text": [
      "Epoch: 72/1000, Loss: 0.261619\n"
     ]
    },
    {
     "name": "stderr",
     "output_type": "stream",
     "text": [
      "Epoch 73/1000: 100%|███████████████████████████████| 47/47 [00:00<00:00, 262.78batch/s, loss=0.263662]\n"
     ]
    },
    {
     "name": "stdout",
     "output_type": "stream",
     "text": [
      "Epoch: 73/1000, Loss: 0.315777\n"
     ]
    },
    {
     "name": "stderr",
     "output_type": "stream",
     "text": [
      "Epoch 74/1000: 100%|███████████████████████████████| 47/47 [00:00<00:00, 282.99batch/s, loss=0.436737]\n"
     ]
    },
    {
     "name": "stdout",
     "output_type": "stream",
     "text": [
      "Epoch: 74/1000, Loss: 0.306362\n"
     ]
    },
    {
     "name": "stderr",
     "output_type": "stream",
     "text": [
      "Epoch 75/1000: 100%|███████████████████████████████| 47/47 [00:00<00:00, 302.40batch/s, loss=0.379925]\n"
     ]
    },
    {
     "name": "stdout",
     "output_type": "stream",
     "text": [
      "Epoch: 75/1000, Loss: 0.295462\n"
     ]
    },
    {
     "name": "stderr",
     "output_type": "stream",
     "text": [
      "Epoch 76/1000: 100%|███████████████████████████████| 47/47 [00:00<00:00, 255.05batch/s, loss=0.693810]\n"
     ]
    },
    {
     "name": "stdout",
     "output_type": "stream",
     "text": [
      "Epoch: 76/1000, Loss: 0.299950\n"
     ]
    },
    {
     "name": "stderr",
     "output_type": "stream",
     "text": [
      "Epoch 77/1000: 100%|███████████████████████████████| 47/47 [00:00<00:00, 224.02batch/s, loss=0.238930]\n"
     ]
    },
    {
     "name": "stdout",
     "output_type": "stream",
     "text": [
      "Epoch: 77/1000, Loss: 0.282937\n"
     ]
    },
    {
     "name": "stderr",
     "output_type": "stream",
     "text": [
      "Epoch 78/1000: 100%|███████████████████████████████| 47/47 [00:00<00:00, 230.41batch/s, loss=0.177607]\n"
     ]
    },
    {
     "name": "stdout",
     "output_type": "stream",
     "text": [
      "Epoch: 78/1000, Loss: 0.269551\n"
     ]
    },
    {
     "name": "stderr",
     "output_type": "stream",
     "text": [
      "Epoch 79/1000: 100%|███████████████████████████████| 47/47 [00:00<00:00, 214.67batch/s, loss=0.333069]\n"
     ]
    },
    {
     "name": "stdout",
     "output_type": "stream",
     "text": [
      "Epoch: 79/1000, Loss: 0.267806\n"
     ]
    },
    {
     "name": "stderr",
     "output_type": "stream",
     "text": [
      "Epoch 80/1000: 100%|███████████████████████████████| 47/47 [00:00<00:00, 223.84batch/s, loss=0.295387]\n"
     ]
    },
    {
     "name": "stdout",
     "output_type": "stream",
     "text": [
      "Epoch: 80/1000, Loss: 0.274593\n"
     ]
    },
    {
     "name": "stderr",
     "output_type": "stream",
     "text": [
      "Epoch 81/1000: 100%|███████████████████████████████| 47/47 [00:00<00:00, 225.50batch/s, loss=0.585735]\n"
     ]
    },
    {
     "name": "stdout",
     "output_type": "stream",
     "text": [
      "Epoch: 81/1000, Loss: 0.273019\n"
     ]
    },
    {
     "name": "stderr",
     "output_type": "stream",
     "text": [
      "Epoch 82/1000: 100%|███████████████████████████████| 47/47 [00:00<00:00, 249.48batch/s, loss=0.374020]\n"
     ]
    },
    {
     "name": "stdout",
     "output_type": "stream",
     "text": [
      "Epoch: 82/1000, Loss: 0.287093\n"
     ]
    },
    {
     "name": "stderr",
     "output_type": "stream",
     "text": [
      "Epoch 83/1000: 100%|███████████████████████████████| 47/47 [00:00<00:00, 228.78batch/s, loss=0.219150]\n"
     ]
    },
    {
     "name": "stdout",
     "output_type": "stream",
     "text": [
      "Epoch: 83/1000, Loss: 0.242625\n"
     ]
    },
    {
     "name": "stderr",
     "output_type": "stream",
     "text": [
      "Epoch 84/1000: 100%|███████████████████████████████| 47/47 [00:00<00:00, 218.64batch/s, loss=0.329085]\n"
     ]
    },
    {
     "name": "stdout",
     "output_type": "stream",
     "text": [
      "Epoch: 84/1000, Loss: 0.262285\n"
     ]
    },
    {
     "name": "stderr",
     "output_type": "stream",
     "text": [
      "Epoch 85/1000: 100%|███████████████████████████████| 47/47 [00:00<00:00, 211.88batch/s, loss=0.228270]\n"
     ]
    },
    {
     "name": "stdout",
     "output_type": "stream",
     "text": [
      "Epoch: 85/1000, Loss: 0.265948\n"
     ]
    },
    {
     "name": "stderr",
     "output_type": "stream",
     "text": [
      "Epoch 86/1000: 100%|███████████████████████████████| 47/47 [00:00<00:00, 246.73batch/s, loss=0.264694]\n"
     ]
    },
    {
     "name": "stdout",
     "output_type": "stream",
     "text": [
      "Epoch: 86/1000, Loss: 0.259106\n"
     ]
    },
    {
     "name": "stderr",
     "output_type": "stream",
     "text": [
      "Epoch 87/1000: 100%|███████████████████████████████| 47/47 [00:00<00:00, 202.56batch/s, loss=0.279383]\n"
     ]
    },
    {
     "name": "stdout",
     "output_type": "stream",
     "text": [
      "Epoch: 87/1000, Loss: 0.254310\n"
     ]
    },
    {
     "name": "stderr",
     "output_type": "stream",
     "text": [
      "Epoch 88/1000: 100%|███████████████████████████████| 47/47 [00:00<00:00, 190.33batch/s, loss=0.436608]\n"
     ]
    },
    {
     "name": "stdout",
     "output_type": "stream",
     "text": [
      "Epoch: 88/1000, Loss: 0.237392\n"
     ]
    },
    {
     "name": "stderr",
     "output_type": "stream",
     "text": [
      "Epoch 89/1000: 100%|███████████████████████████████| 47/47 [00:00<00:00, 195.03batch/s, loss=0.100576]\n"
     ]
    },
    {
     "name": "stdout",
     "output_type": "stream",
     "text": [
      "Epoch: 89/1000, Loss: 0.239106\n"
     ]
    },
    {
     "name": "stderr",
     "output_type": "stream",
     "text": [
      "Epoch 90/1000: 100%|███████████████████████████████| 47/47 [00:00<00:00, 203.73batch/s, loss=0.353752]\n"
     ]
    },
    {
     "name": "stdout",
     "output_type": "stream",
     "text": [
      "Epoch: 90/1000, Loss: 0.261831\n"
     ]
    },
    {
     "name": "stderr",
     "output_type": "stream",
     "text": [
      "Epoch 91/1000: 100%|███████████████████████████████| 47/47 [00:00<00:00, 220.79batch/s, loss=0.232426]\n"
     ]
    },
    {
     "name": "stdout",
     "output_type": "stream",
     "text": [
      "Epoch: 91/1000, Loss: 0.240237\n"
     ]
    },
    {
     "name": "stderr",
     "output_type": "stream",
     "text": [
      "Epoch 92/1000: 100%|███████████████████████████████| 47/47 [00:00<00:00, 282.40batch/s, loss=0.240849]\n"
     ]
    },
    {
     "name": "stdout",
     "output_type": "stream",
     "text": [
      "Epoch: 92/1000, Loss: 0.204428\n"
     ]
    },
    {
     "name": "stderr",
     "output_type": "stream",
     "text": [
      "Epoch 93/1000: 100%|███████████████████████████████| 47/47 [00:00<00:00, 248.14batch/s, loss=0.433442]\n"
     ]
    },
    {
     "name": "stdout",
     "output_type": "stream",
     "text": [
      "Epoch: 93/1000, Loss: 0.233048\n"
     ]
    },
    {
     "name": "stderr",
     "output_type": "stream",
     "text": [
      "Epoch 94/1000: 100%|███████████████████████████████| 47/47 [00:00<00:00, 256.61batch/s, loss=0.605511]\n"
     ]
    },
    {
     "name": "stdout",
     "output_type": "stream",
     "text": [
      "Epoch: 94/1000, Loss: 0.255650\n"
     ]
    },
    {
     "name": "stderr",
     "output_type": "stream",
     "text": [
      "Epoch 95/1000: 100%|███████████████████████████████| 47/47 [00:00<00:00, 235.84batch/s, loss=0.165895]\n"
     ]
    },
    {
     "name": "stdout",
     "output_type": "stream",
     "text": [
      "Epoch: 95/1000, Loss: 0.243713\n"
     ]
    },
    {
     "name": "stderr",
     "output_type": "stream",
     "text": [
      "Epoch 96/1000: 100%|███████████████████████████████| 47/47 [00:00<00:00, 266.73batch/s, loss=0.386444]\n"
     ]
    },
    {
     "name": "stdout",
     "output_type": "stream",
     "text": [
      "Epoch: 96/1000, Loss: 0.236553\n"
     ]
    },
    {
     "name": "stderr",
     "output_type": "stream",
     "text": [
      "Epoch 97/1000: 100%|███████████████████████████████| 47/47 [00:00<00:00, 241.47batch/s, loss=0.239442]\n"
     ]
    },
    {
     "name": "stdout",
     "output_type": "stream",
     "text": [
      "Epoch: 97/1000, Loss: 0.225103\n"
     ]
    },
    {
     "name": "stderr",
     "output_type": "stream",
     "text": [
      "Epoch 98/1000: 100%|███████████████████████████████| 47/47 [00:00<00:00, 234.09batch/s, loss=0.191911]\n"
     ]
    },
    {
     "name": "stdout",
     "output_type": "stream",
     "text": [
      "Epoch: 98/1000, Loss: 0.203608\n"
     ]
    },
    {
     "name": "stderr",
     "output_type": "stream",
     "text": [
      "Epoch 99/1000: 100%|███████████████████████████████| 47/47 [00:00<00:00, 244.19batch/s, loss=0.224431]\n"
     ]
    },
    {
     "name": "stdout",
     "output_type": "stream",
     "text": [
      "Epoch: 99/1000, Loss: 0.250121\n"
     ]
    },
    {
     "name": "stderr",
     "output_type": "stream",
     "text": [
      "Epoch 100/1000: 100%|██████████████████████████████| 47/47 [00:00<00:00, 294.86batch/s, loss=0.247968]\n"
     ]
    },
    {
     "name": "stdout",
     "output_type": "stream",
     "text": [
      "Epoch: 100/1000, Loss: 0.246828\n"
     ]
    },
    {
     "name": "stderr",
     "output_type": "stream",
     "text": [
      "Epoch 101/1000: 100%|██████████████████████████████| 47/47 [00:00<00:00, 265.25batch/s, loss=0.313160]\n"
     ]
    },
    {
     "name": "stdout",
     "output_type": "stream",
     "text": [
      "Epoch: 101/1000, Loss: 0.242512\n"
     ]
    },
    {
     "name": "stderr",
     "output_type": "stream",
     "text": [
      "Epoch 102/1000: 100%|██████████████████████████████| 47/47 [00:00<00:00, 237.83batch/s, loss=0.166463]\n"
     ]
    },
    {
     "name": "stdout",
     "output_type": "stream",
     "text": [
      "Epoch: 102/1000, Loss: 0.250470\n"
     ]
    },
    {
     "name": "stderr",
     "output_type": "stream",
     "text": [
      "Epoch 103/1000: 100%|██████████████████████████████| 47/47 [00:00<00:00, 263.58batch/s, loss=0.154963]\n"
     ]
    },
    {
     "name": "stdout",
     "output_type": "stream",
     "text": [
      "Epoch: 103/1000, Loss: 0.237897\n"
     ]
    },
    {
     "name": "stderr",
     "output_type": "stream",
     "text": [
      "Epoch 104/1000: 100%|██████████████████████████████| 47/47 [00:00<00:00, 239.56batch/s, loss=0.340269]\n"
     ]
    },
    {
     "name": "stdout",
     "output_type": "stream",
     "text": [
      "Epoch: 104/1000, Loss: 0.226850\n"
     ]
    },
    {
     "name": "stderr",
     "output_type": "stream",
     "text": [
      "Epoch 105/1000: 100%|██████████████████████████████| 47/47 [00:00<00:00, 237.12batch/s, loss=0.136872]"
     ]
    },
    {
     "name": "stdout",
     "output_type": "stream",
     "text": [
      "Epoch: 105/1000, Loss: 0.245381\n"
     ]
    },
    {
     "name": "stderr",
     "output_type": "stream",
     "text": [
      "\n",
      "Epoch 106/1000: 100%|██████████████████████████████| 47/47 [00:00<00:00, 208.00batch/s, loss=0.062282]\n"
     ]
    },
    {
     "name": "stdout",
     "output_type": "stream",
     "text": [
      "Epoch: 106/1000, Loss: 0.227716\n"
     ]
    },
    {
     "name": "stderr",
     "output_type": "stream",
     "text": [
      "Epoch 107/1000: 100%|██████████████████████████████| 47/47 [00:00<00:00, 280.78batch/s, loss=0.173161]\n"
     ]
    },
    {
     "name": "stdout",
     "output_type": "stream",
     "text": [
      "Epoch: 107/1000, Loss: 0.207245\n"
     ]
    },
    {
     "name": "stderr",
     "output_type": "stream",
     "text": [
      "Epoch 108/1000: 100%|██████████████████████████████| 47/47 [00:00<00:00, 221.12batch/s, loss=0.067059]\n"
     ]
    },
    {
     "name": "stdout",
     "output_type": "stream",
     "text": [
      "Epoch: 108/1000, Loss: 0.192002\n"
     ]
    },
    {
     "name": "stderr",
     "output_type": "stream",
     "text": [
      "Epoch 109/1000: 100%|██████████████████████████████| 47/47 [00:00<00:00, 219.15batch/s, loss=0.340607]\n"
     ]
    },
    {
     "name": "stdout",
     "output_type": "stream",
     "text": [
      "Epoch: 109/1000, Loss: 0.206800\n"
     ]
    },
    {
     "name": "stderr",
     "output_type": "stream",
     "text": [
      "Epoch 110/1000: 100%|██████████████████████████████| 47/47 [00:00<00:00, 222.96batch/s, loss=0.220321]\n"
     ]
    },
    {
     "name": "stdout",
     "output_type": "stream",
     "text": [
      "Epoch: 110/1000, Loss: 0.201049\n"
     ]
    },
    {
     "name": "stderr",
     "output_type": "stream",
     "text": [
      "Epoch 111/1000: 100%|██████████████████████████████| 47/47 [00:00<00:00, 231.94batch/s, loss=0.131531]\n"
     ]
    },
    {
     "name": "stdout",
     "output_type": "stream",
     "text": [
      "Epoch: 111/1000, Loss: 0.220598\n"
     ]
    },
    {
     "name": "stderr",
     "output_type": "stream",
     "text": [
      "Epoch 112/1000: 100%|██████████████████████████████| 47/47 [00:00<00:00, 202.22batch/s, loss=0.065556]\n"
     ]
    },
    {
     "name": "stdout",
     "output_type": "stream",
     "text": [
      "Epoch: 112/1000, Loss: 0.213107\n"
     ]
    },
    {
     "name": "stderr",
     "output_type": "stream",
     "text": [
      "Epoch 113/1000: 100%|██████████████████████████████| 47/47 [00:00<00:00, 230.23batch/s, loss=0.140134]\n"
     ]
    },
    {
     "name": "stdout",
     "output_type": "stream",
     "text": [
      "Epoch: 113/1000, Loss: 0.240534\n"
     ]
    },
    {
     "name": "stderr",
     "output_type": "stream",
     "text": [
      "Epoch 114/1000: 100%|██████████████████████████████| 47/47 [00:00<00:00, 195.24batch/s, loss=0.148248]\n"
     ]
    },
    {
     "name": "stdout",
     "output_type": "stream",
     "text": [
      "Epoch: 114/1000, Loss: 0.202910\n"
     ]
    },
    {
     "name": "stderr",
     "output_type": "stream",
     "text": [
      "Epoch 115/1000: 100%|██████████████████████████████| 47/47 [00:00<00:00, 208.38batch/s, loss=0.112423]\n"
     ]
    },
    {
     "name": "stdout",
     "output_type": "stream",
     "text": [
      "Epoch: 115/1000, Loss: 0.212197\n"
     ]
    },
    {
     "name": "stderr",
     "output_type": "stream",
     "text": [
      "Epoch 116/1000: 100%|██████████████████████████████| 47/47 [00:00<00:00, 205.35batch/s, loss=0.287198]\n"
     ]
    },
    {
     "name": "stdout",
     "output_type": "stream",
     "text": [
      "Epoch: 116/1000, Loss: 0.192600\n"
     ]
    },
    {
     "name": "stderr",
     "output_type": "stream",
     "text": [
      "Epoch 117/1000: 100%|██████████████████████████████| 47/47 [00:00<00:00, 180.51batch/s, loss=0.225295]\n"
     ]
    },
    {
     "name": "stdout",
     "output_type": "stream",
     "text": [
      "Epoch: 117/1000, Loss: 0.190299\n"
     ]
    },
    {
     "name": "stderr",
     "output_type": "stream",
     "text": [
      "Epoch 118/1000: 100%|██████████████████████████████| 47/47 [00:00<00:00, 169.47batch/s, loss=0.182465]\n"
     ]
    },
    {
     "name": "stdout",
     "output_type": "stream",
     "text": [
      "Epoch: 118/1000, Loss: 0.209959\n"
     ]
    },
    {
     "name": "stderr",
     "output_type": "stream",
     "text": [
      "Epoch 119/1000: 100%|██████████████████████████████| 47/47 [00:00<00:00, 179.66batch/s, loss=0.065827]\n"
     ]
    },
    {
     "name": "stdout",
     "output_type": "stream",
     "text": [
      "Epoch: 119/1000, Loss: 0.188740\n"
     ]
    },
    {
     "name": "stderr",
     "output_type": "stream",
     "text": [
      "Epoch 120/1000: 100%|██████████████████████████████| 47/47 [00:00<00:00, 183.37batch/s, loss=0.311057]\n"
     ]
    },
    {
     "name": "stdout",
     "output_type": "stream",
     "text": [
      "Epoch: 120/1000, Loss: 0.234744\n"
     ]
    },
    {
     "name": "stderr",
     "output_type": "stream",
     "text": [
      "Epoch 121/1000: 100%|██████████████████████████████| 47/47 [00:00<00:00, 267.66batch/s, loss=0.081233]\n"
     ]
    },
    {
     "name": "stdout",
     "output_type": "stream",
     "text": [
      "Epoch: 121/1000, Loss: 0.193226\n"
     ]
    },
    {
     "name": "stderr",
     "output_type": "stream",
     "text": [
      "Epoch 122/1000: 100%|██████████████████████████████| 47/47 [00:00<00:00, 196.62batch/s, loss=0.682501]\n"
     ]
    },
    {
     "name": "stdout",
     "output_type": "stream",
     "text": [
      "Epoch: 122/1000, Loss: 0.212348\n"
     ]
    },
    {
     "name": "stderr",
     "output_type": "stream",
     "text": [
      "Epoch 123/1000: 100%|██████████████████████████████| 47/47 [00:00<00:00, 216.60batch/s, loss=0.586580]\n"
     ]
    },
    {
     "name": "stdout",
     "output_type": "stream",
     "text": [
      "Epoch: 123/1000, Loss: 0.183890\n"
     ]
    },
    {
     "name": "stderr",
     "output_type": "stream",
     "text": [
      "Epoch 124/1000: 100%|██████████████████████████████| 47/47 [00:00<00:00, 228.92batch/s, loss=0.097675]\n"
     ]
    },
    {
     "name": "stdout",
     "output_type": "stream",
     "text": [
      "Epoch: 124/1000, Loss: 0.205291\n"
     ]
    },
    {
     "name": "stderr",
     "output_type": "stream",
     "text": [
      "Epoch 125/1000: 100%|██████████████████████████████| 47/47 [00:00<00:00, 207.14batch/s, loss=0.073883]\n"
     ]
    },
    {
     "name": "stdout",
     "output_type": "stream",
     "text": [
      "Epoch: 125/1000, Loss: 0.183866\n"
     ]
    },
    {
     "name": "stderr",
     "output_type": "stream",
     "text": [
      "Epoch 126/1000: 100%|██████████████████████████████| 47/47 [00:00<00:00, 217.40batch/s, loss=0.138935]\n"
     ]
    },
    {
     "name": "stdout",
     "output_type": "stream",
     "text": [
      "Epoch: 126/1000, Loss: 0.193995\n"
     ]
    },
    {
     "name": "stderr",
     "output_type": "stream",
     "text": [
      "Epoch 127/1000: 100%|██████████████████████████████| 47/47 [00:00<00:00, 253.49batch/s, loss=0.125468]\n"
     ]
    },
    {
     "name": "stdout",
     "output_type": "stream",
     "text": [
      "Epoch: 127/1000, Loss: 0.148784\n"
     ]
    },
    {
     "name": "stderr",
     "output_type": "stream",
     "text": [
      "Epoch 128/1000: 100%|██████████████████████████████| 47/47 [00:00<00:00, 254.96batch/s, loss=0.340942]\n"
     ]
    },
    {
     "name": "stdout",
     "output_type": "stream",
     "text": [
      "Epoch: 128/1000, Loss: 0.190109\n"
     ]
    },
    {
     "name": "stderr",
     "output_type": "stream",
     "text": [
      "Epoch 129/1000: 100%|██████████████████████████████| 47/47 [00:00<00:00, 224.44batch/s, loss=0.310735]\n"
     ]
    },
    {
     "name": "stdout",
     "output_type": "stream",
     "text": [
      "Epoch: 129/1000, Loss: 0.174542\n"
     ]
    },
    {
     "name": "stderr",
     "output_type": "stream",
     "text": [
      "Epoch 130/1000: 100%|██████████████████████████████| 47/47 [00:00<00:00, 187.59batch/s, loss=0.140396]\n"
     ]
    },
    {
     "name": "stdout",
     "output_type": "stream",
     "text": [
      "Epoch: 130/1000, Loss: 0.169829\n"
     ]
    },
    {
     "name": "stderr",
     "output_type": "stream",
     "text": [
      "Epoch 131/1000: 100%|██████████████████████████████| 47/47 [00:00<00:00, 228.75batch/s, loss=0.641336]\n"
     ]
    },
    {
     "name": "stdout",
     "output_type": "stream",
     "text": [
      "Epoch: 131/1000, Loss: 0.166690\n"
     ]
    },
    {
     "name": "stderr",
     "output_type": "stream",
     "text": [
      "Epoch 132/1000: 100%|██████████████████████████████| 47/47 [00:00<00:00, 202.73batch/s, loss=0.290088]\n"
     ]
    },
    {
     "name": "stdout",
     "output_type": "stream",
     "text": [
      "Epoch: 132/1000, Loss: 0.176178\n"
     ]
    },
    {
     "name": "stderr",
     "output_type": "stream",
     "text": [
      "Epoch 133/1000: 100%|██████████████████████████████| 47/47 [00:00<00:00, 213.35batch/s, loss=0.154099]\n"
     ]
    },
    {
     "name": "stdout",
     "output_type": "stream",
     "text": [
      "Epoch: 133/1000, Loss: 0.181225\n"
     ]
    },
    {
     "name": "stderr",
     "output_type": "stream",
     "text": [
      "Epoch 134/1000: 100%|██████████████████████████████| 47/47 [00:00<00:00, 193.51batch/s, loss=0.101086]\n"
     ]
    },
    {
     "name": "stdout",
     "output_type": "stream",
     "text": [
      "Epoch: 134/1000, Loss: 0.196099\n"
     ]
    },
    {
     "name": "stderr",
     "output_type": "stream",
     "text": [
      "Epoch 135/1000: 100%|██████████████████████████████| 47/47 [00:00<00:00, 191.57batch/s, loss=0.090713]\n"
     ]
    },
    {
     "name": "stdout",
     "output_type": "stream",
     "text": [
      "Epoch: 135/1000, Loss: 0.186511\n"
     ]
    },
    {
     "name": "stderr",
     "output_type": "stream",
     "text": [
      "Epoch 136/1000: 100%|██████████████████████████████| 47/47 [00:00<00:00, 205.17batch/s, loss=0.044699]\n"
     ]
    },
    {
     "name": "stdout",
     "output_type": "stream",
     "text": [
      "Epoch: 136/1000, Loss: 0.170665\n"
     ]
    },
    {
     "name": "stderr",
     "output_type": "stream",
     "text": [
      "Epoch 137/1000: 100%|██████████████████████████████| 47/47 [00:00<00:00, 200.21batch/s, loss=0.107654]\n"
     ]
    },
    {
     "name": "stdout",
     "output_type": "stream",
     "text": [
      "Epoch: 137/1000, Loss: 0.172460\n"
     ]
    },
    {
     "name": "stderr",
     "output_type": "stream",
     "text": [
      "Epoch 138/1000: 100%|██████████████████████████████| 47/47 [00:00<00:00, 216.08batch/s, loss=0.410434]\n"
     ]
    },
    {
     "name": "stdout",
     "output_type": "stream",
     "text": [
      "Epoch: 138/1000, Loss: 0.181115\n"
     ]
    },
    {
     "name": "stderr",
     "output_type": "stream",
     "text": [
      "Epoch 139/1000: 100%|██████████████████████████████| 47/47 [00:00<00:00, 216.34batch/s, loss=0.243788]\n"
     ]
    },
    {
     "name": "stdout",
     "output_type": "stream",
     "text": [
      "Epoch: 139/1000, Loss: 0.149889\n"
     ]
    },
    {
     "name": "stderr",
     "output_type": "stream",
     "text": [
      "Epoch 140/1000: 100%|██████████████████████████████| 47/47 [00:00<00:00, 202.54batch/s, loss=0.076237]\n"
     ]
    },
    {
     "name": "stdout",
     "output_type": "stream",
     "text": [
      "Epoch: 140/1000, Loss: 0.175018\n"
     ]
    },
    {
     "name": "stderr",
     "output_type": "stream",
     "text": [
      "Epoch 141/1000: 100%|██████████████████████████████| 47/47 [00:00<00:00, 235.30batch/s, loss=0.120156]\n"
     ]
    },
    {
     "name": "stdout",
     "output_type": "stream",
     "text": [
      "Epoch: 141/1000, Loss: 0.154858\n"
     ]
    },
    {
     "name": "stderr",
     "output_type": "stream",
     "text": [
      "Epoch 142/1000: 100%|██████████████████████████████| 47/47 [00:00<00:00, 222.42batch/s, loss=0.072111]\n"
     ]
    },
    {
     "name": "stdout",
     "output_type": "stream",
     "text": [
      "Epoch: 142/1000, Loss: 0.182106\n"
     ]
    },
    {
     "name": "stderr",
     "output_type": "stream",
     "text": [
      "Epoch 143/1000: 100%|██████████████████████████████| 47/47 [00:00<00:00, 233.90batch/s, loss=0.052563]\n"
     ]
    },
    {
     "name": "stdout",
     "output_type": "stream",
     "text": [
      "Epoch: 143/1000, Loss: 0.157650\n"
     ]
    },
    {
     "name": "stderr",
     "output_type": "stream",
     "text": [
      "Epoch 144/1000: 100%|██████████████████████████████| 47/47 [00:00<00:00, 232.12batch/s, loss=0.157004]\n"
     ]
    },
    {
     "name": "stdout",
     "output_type": "stream",
     "text": [
      "Epoch: 144/1000, Loss: 0.149218\n"
     ]
    },
    {
     "name": "stderr",
     "output_type": "stream",
     "text": [
      "Epoch 145/1000: 100%|██████████████████████████████| 47/47 [00:00<00:00, 191.26batch/s, loss=0.063982]\n"
     ]
    },
    {
     "name": "stdout",
     "output_type": "stream",
     "text": [
      "Epoch: 145/1000, Loss: 0.158154\n"
     ]
    },
    {
     "name": "stderr",
     "output_type": "stream",
     "text": [
      "Epoch 146/1000: 100%|██████████████████████████████| 47/47 [00:00<00:00, 242.51batch/s, loss=0.009225]\n"
     ]
    },
    {
     "name": "stdout",
     "output_type": "stream",
     "text": [
      "Epoch: 146/1000, Loss: 0.149934\n"
     ]
    },
    {
     "name": "stderr",
     "output_type": "stream",
     "text": [
      "Epoch 147/1000: 100%|██████████████████████████████| 47/47 [00:00<00:00, 237.73batch/s, loss=0.081705]\n"
     ]
    },
    {
     "name": "stdout",
     "output_type": "stream",
     "text": [
      "Epoch: 147/1000, Loss: 0.169827\n"
     ]
    },
    {
     "name": "stderr",
     "output_type": "stream",
     "text": [
      "Epoch 148/1000: 100%|██████████████████████████████| 47/47 [00:00<00:00, 238.43batch/s, loss=0.228105]\n"
     ]
    },
    {
     "name": "stdout",
     "output_type": "stream",
     "text": [
      "Epoch: 148/1000, Loss: 0.205656\n"
     ]
    },
    {
     "name": "stderr",
     "output_type": "stream",
     "text": [
      "Epoch 149/1000: 100%|██████████████████████████████| 47/47 [00:00<00:00, 235.18batch/s, loss=0.186255]\n"
     ]
    },
    {
     "name": "stdout",
     "output_type": "stream",
     "text": [
      "Epoch: 149/1000, Loss: 0.163298\n"
     ]
    },
    {
     "name": "stderr",
     "output_type": "stream",
     "text": [
      "Epoch 150/1000: 100%|██████████████████████████████| 47/47 [00:00<00:00, 232.98batch/s, loss=0.185722]\n"
     ]
    },
    {
     "name": "stdout",
     "output_type": "stream",
     "text": [
      "Epoch: 150/1000, Loss: 0.236273\n"
     ]
    },
    {
     "name": "stderr",
     "output_type": "stream",
     "text": [
      "Epoch 151/1000: 100%|██████████████████████████████| 47/47 [00:00<00:00, 236.46batch/s, loss=0.191264]\n"
     ]
    },
    {
     "name": "stdout",
     "output_type": "stream",
     "text": [
      "Epoch: 151/1000, Loss: 0.161317\n"
     ]
    },
    {
     "name": "stderr",
     "output_type": "stream",
     "text": [
      "Epoch 152/1000: 100%|██████████████████████████████| 47/47 [00:00<00:00, 225.98batch/s, loss=0.119633]\n"
     ]
    },
    {
     "name": "stdout",
     "output_type": "stream",
     "text": [
      "Epoch: 152/1000, Loss: 0.205862\n"
     ]
    },
    {
     "name": "stderr",
     "output_type": "stream",
     "text": [
      "Epoch 153/1000: 100%|██████████████████████████████| 47/47 [00:00<00:00, 225.98batch/s, loss=0.279221]\n"
     ]
    },
    {
     "name": "stdout",
     "output_type": "stream",
     "text": [
      "Epoch: 153/1000, Loss: 0.156523\n"
     ]
    },
    {
     "name": "stderr",
     "output_type": "stream",
     "text": [
      "Epoch 154/1000: 100%|██████████████████████████████| 47/47 [00:00<00:00, 237.94batch/s, loss=0.199534]\n"
     ]
    },
    {
     "name": "stdout",
     "output_type": "stream",
     "text": [
      "Epoch: 154/1000, Loss: 0.207044\n"
     ]
    },
    {
     "name": "stderr",
     "output_type": "stream",
     "text": [
      "Epoch 155/1000: 100%|██████████████████████████████| 47/47 [00:00<00:00, 244.57batch/s, loss=0.184643]\n"
     ]
    },
    {
     "name": "stdout",
     "output_type": "stream",
     "text": [
      "Epoch: 155/1000, Loss: 0.143916\n"
     ]
    },
    {
     "name": "stderr",
     "output_type": "stream",
     "text": [
      "Epoch 156/1000: 100%|██████████████████████████████| 47/47 [00:00<00:00, 245.42batch/s, loss=0.124622]\n"
     ]
    },
    {
     "name": "stdout",
     "output_type": "stream",
     "text": [
      "Epoch: 156/1000, Loss: 0.152404\n"
     ]
    },
    {
     "name": "stderr",
     "output_type": "stream",
     "text": [
      "Epoch 157/1000: 100%|██████████████████████████████| 47/47 [00:00<00:00, 238.22batch/s, loss=0.096263]\n"
     ]
    },
    {
     "name": "stdout",
     "output_type": "stream",
     "text": [
      "Epoch: 157/1000, Loss: 0.132990\n"
     ]
    },
    {
     "name": "stderr",
     "output_type": "stream",
     "text": [
      "Epoch 158/1000: 100%|██████████████████████████████| 47/47 [00:00<00:00, 212.44batch/s, loss=0.029855]\n"
     ]
    },
    {
     "name": "stdout",
     "output_type": "stream",
     "text": [
      "Epoch: 158/1000, Loss: 0.160210\n"
     ]
    },
    {
     "name": "stderr",
     "output_type": "stream",
     "text": [
      "Epoch 159/1000: 100%|██████████████████████████████| 47/47 [00:00<00:00, 246.81batch/s, loss=0.055507]\n"
     ]
    },
    {
     "name": "stdout",
     "output_type": "stream",
     "text": [
      "Epoch: 159/1000, Loss: 0.156315\n"
     ]
    },
    {
     "name": "stderr",
     "output_type": "stream",
     "text": [
      "Epoch 160/1000: 100%|██████████████████████████████| 47/47 [00:00<00:00, 245.09batch/s, loss=0.382035]\n"
     ]
    },
    {
     "name": "stdout",
     "output_type": "stream",
     "text": [
      "Epoch: 160/1000, Loss: 0.194477\n"
     ]
    },
    {
     "name": "stderr",
     "output_type": "stream",
     "text": [
      "Epoch 161/1000: 100%|██████████████████████████████| 47/47 [00:00<00:00, 218.62batch/s, loss=0.085531]\n"
     ]
    },
    {
     "name": "stdout",
     "output_type": "stream",
     "text": [
      "Epoch: 161/1000, Loss: 0.178628\n"
     ]
    },
    {
     "name": "stderr",
     "output_type": "stream",
     "text": [
      "Epoch 162/1000: 100%|██████████████████████████████| 47/47 [00:00<00:00, 238.30batch/s, loss=0.131382]\n"
     ]
    },
    {
     "name": "stdout",
     "output_type": "stream",
     "text": [
      "Epoch: 162/1000, Loss: 0.153766\n"
     ]
    },
    {
     "name": "stderr",
     "output_type": "stream",
     "text": [
      "Epoch 163/1000: 100%|██████████████████████████████| 47/47 [00:00<00:00, 282.99batch/s, loss=0.027400]\n"
     ]
    },
    {
     "name": "stdout",
     "output_type": "stream",
     "text": [
      "Epoch: 163/1000, Loss: 0.181543\n"
     ]
    },
    {
     "name": "stderr",
     "output_type": "stream",
     "text": [
      "Epoch 164/1000: 100%|██████████████████████████████| 47/47 [00:00<00:00, 246.19batch/s, loss=0.409555]\n"
     ]
    },
    {
     "name": "stdout",
     "output_type": "stream",
     "text": [
      "Epoch: 164/1000, Loss: 0.148838\n"
     ]
    },
    {
     "name": "stderr",
     "output_type": "stream",
     "text": [
      "Epoch 165/1000: 100%|██████████████████████████████| 47/47 [00:00<00:00, 235.37batch/s, loss=0.107810]\n"
     ]
    },
    {
     "name": "stdout",
     "output_type": "stream",
     "text": [
      "Epoch: 165/1000, Loss: 0.155142\n"
     ]
    },
    {
     "name": "stderr",
     "output_type": "stream",
     "text": [
      "Epoch 166/1000: 100%|██████████████████████████████| 47/47 [00:00<00:00, 245.89batch/s, loss=0.105438]\n"
     ]
    },
    {
     "name": "stdout",
     "output_type": "stream",
     "text": [
      "Epoch: 166/1000, Loss: 0.148791\n"
     ]
    },
    {
     "name": "stderr",
     "output_type": "stream",
     "text": [
      "Epoch 167/1000: 100%|██████████████████████████████| 47/47 [00:00<00:00, 196.88batch/s, loss=0.354995]\n"
     ]
    },
    {
     "name": "stdout",
     "output_type": "stream",
     "text": [
      "Epoch: 167/1000, Loss: 0.150788\n"
     ]
    },
    {
     "name": "stderr",
     "output_type": "stream",
     "text": [
      "Epoch 168/1000: 100%|██████████████████████████████| 47/47 [00:00<00:00, 232.23batch/s, loss=0.182206]\n"
     ]
    },
    {
     "name": "stdout",
     "output_type": "stream",
     "text": [
      "Epoch: 168/1000, Loss: 0.157010\n"
     ]
    },
    {
     "name": "stderr",
     "output_type": "stream",
     "text": [
      "Epoch 169/1000: 100%|██████████████████████████████| 47/47 [00:00<00:00, 236.58batch/s, loss=0.039555]\n"
     ]
    },
    {
     "name": "stdout",
     "output_type": "stream",
     "text": [
      "Epoch: 169/1000, Loss: 0.137699\n"
     ]
    },
    {
     "name": "stderr",
     "output_type": "stream",
     "text": [
      "Epoch 170/1000: 100%|██████████████████████████████| 47/47 [00:00<00:00, 239.23batch/s, loss=0.303080]\n"
     ]
    },
    {
     "name": "stdout",
     "output_type": "stream",
     "text": [
      "Epoch: 170/1000, Loss: 0.161724\n"
     ]
    },
    {
     "name": "stderr",
     "output_type": "stream",
     "text": [
      "Epoch 171/1000: 100%|██████████████████████████████| 47/47 [00:00<00:00, 239.38batch/s, loss=0.203314]\n"
     ]
    },
    {
     "name": "stdout",
     "output_type": "stream",
     "text": [
      "Epoch: 171/1000, Loss: 0.144054\n"
     ]
    },
    {
     "name": "stderr",
     "output_type": "stream",
     "text": [
      "Epoch 172/1000: 100%|██████████████████████████████| 47/47 [00:00<00:00, 207.30batch/s, loss=0.300036]\n"
     ]
    },
    {
     "name": "stdout",
     "output_type": "stream",
     "text": [
      "Epoch: 172/1000, Loss: 0.163790\n"
     ]
    },
    {
     "name": "stderr",
     "output_type": "stream",
     "text": [
      "Epoch 173/1000: 100%|██████████████████████████████| 47/47 [00:00<00:00, 218.79batch/s, loss=0.202465]\n"
     ]
    },
    {
     "name": "stdout",
     "output_type": "stream",
     "text": [
      "Epoch: 173/1000, Loss: 0.151356\n"
     ]
    },
    {
     "name": "stderr",
     "output_type": "stream",
     "text": [
      "Epoch 174/1000: 100%|██████████████████████████████| 47/47 [00:00<00:00, 182.65batch/s, loss=0.098865]\n"
     ]
    },
    {
     "name": "stdout",
     "output_type": "stream",
     "text": [
      "Epoch: 174/1000, Loss: 0.133174\n"
     ]
    },
    {
     "name": "stderr",
     "output_type": "stream",
     "text": [
      "Epoch 175/1000: 100%|██████████████████████████████| 47/47 [00:00<00:00, 220.41batch/s, loss=0.088994]\n"
     ]
    },
    {
     "name": "stdout",
     "output_type": "stream",
     "text": [
      "Epoch: 175/1000, Loss: 0.144137\n"
     ]
    },
    {
     "name": "stderr",
     "output_type": "stream",
     "text": [
      "Epoch 176/1000: 100%|██████████████████████████████| 47/47 [00:00<00:00, 239.55batch/s, loss=0.034035]\n"
     ]
    },
    {
     "name": "stdout",
     "output_type": "stream",
     "text": [
      "Epoch: 176/1000, Loss: 0.122902\n"
     ]
    },
    {
     "name": "stderr",
     "output_type": "stream",
     "text": [
      "Epoch 177/1000: 100%|██████████████████████████████| 47/47 [00:00<00:00, 221.24batch/s, loss=0.009997]\n"
     ]
    },
    {
     "name": "stdout",
     "output_type": "stream",
     "text": [
      "Epoch: 177/1000, Loss: 0.162002\n"
     ]
    },
    {
     "name": "stderr",
     "output_type": "stream",
     "text": [
      "Epoch 178/1000: 100%|██████████████████████████████| 47/47 [00:00<00:00, 270.62batch/s, loss=0.159139]\n"
     ]
    },
    {
     "name": "stdout",
     "output_type": "stream",
     "text": [
      "Epoch: 178/1000, Loss: 0.129555\n"
     ]
    },
    {
     "name": "stderr",
     "output_type": "stream",
     "text": [
      "Epoch 179/1000: 100%|██████████████████████████████| 47/47 [00:00<00:00, 238.78batch/s, loss=0.160412]\n"
     ]
    },
    {
     "name": "stdout",
     "output_type": "stream",
     "text": [
      "Epoch: 179/1000, Loss: 0.142576\n"
     ]
    },
    {
     "name": "stderr",
     "output_type": "stream",
     "text": [
      "Epoch 180/1000: 100%|██████████████████████████████| 47/47 [00:00<00:00, 203.58batch/s, loss=0.222898]\n"
     ]
    },
    {
     "name": "stdout",
     "output_type": "stream",
     "text": [
      "Epoch: 180/1000, Loss: 0.134924\n"
     ]
    },
    {
     "name": "stderr",
     "output_type": "stream",
     "text": [
      "Epoch 181/1000: 100%|██████████████████████████████| 47/47 [00:00<00:00, 222.06batch/s, loss=0.165442]\n"
     ]
    },
    {
     "name": "stdout",
     "output_type": "stream",
     "text": [
      "Epoch: 181/1000, Loss: 0.148748\n"
     ]
    },
    {
     "name": "stderr",
     "output_type": "stream",
     "text": [
      "Epoch 182/1000: 100%|██████████████████████████████| 47/47 [00:00<00:00, 204.37batch/s, loss=0.034326]\n"
     ]
    },
    {
     "name": "stdout",
     "output_type": "stream",
     "text": [
      "Epoch: 182/1000, Loss: 0.177005\n"
     ]
    },
    {
     "name": "stderr",
     "output_type": "stream",
     "text": [
      "Epoch 183/1000: 100%|██████████████████████████████| 47/47 [00:00<00:00, 240.33batch/s, loss=0.049680]\n"
     ]
    },
    {
     "name": "stdout",
     "output_type": "stream",
     "text": [
      "Epoch: 183/1000, Loss: 0.160305\n"
     ]
    },
    {
     "name": "stderr",
     "output_type": "stream",
     "text": [
      "Epoch 184/1000: 100%|██████████████████████████████| 47/47 [00:00<00:00, 207.23batch/s, loss=0.175020]\n"
     ]
    },
    {
     "name": "stdout",
     "output_type": "stream",
     "text": [
      "Epoch: 184/1000, Loss: 0.126349\n"
     ]
    },
    {
     "name": "stderr",
     "output_type": "stream",
     "text": [
      "Epoch 185/1000: 100%|██████████████████████████████| 47/47 [00:00<00:00, 241.72batch/s, loss=0.294678]\n"
     ]
    },
    {
     "name": "stdout",
     "output_type": "stream",
     "text": [
      "Epoch: 185/1000, Loss: 0.141720\n"
     ]
    },
    {
     "name": "stderr",
     "output_type": "stream",
     "text": [
      "Epoch 186/1000: 100%|██████████████████████████████| 47/47 [00:00<00:00, 249.97batch/s, loss=0.052928]\n"
     ]
    },
    {
     "name": "stdout",
     "output_type": "stream",
     "text": [
      "Epoch: 186/1000, Loss: 0.090015\n"
     ]
    },
    {
     "name": "stderr",
     "output_type": "stream",
     "text": [
      "Epoch 187/1000: 100%|██████████████████████████████| 47/47 [00:00<00:00, 237.52batch/s, loss=0.252402]\n"
     ]
    },
    {
     "name": "stdout",
     "output_type": "stream",
     "text": [
      "Epoch: 187/1000, Loss: 0.140705\n"
     ]
    },
    {
     "name": "stderr",
     "output_type": "stream",
     "text": [
      "Epoch 188/1000: 100%|██████████████████████████████| 47/47 [00:00<00:00, 239.11batch/s, loss=0.255081]\n"
     ]
    },
    {
     "name": "stdout",
     "output_type": "stream",
     "text": [
      "Epoch: 188/1000, Loss: 0.212246\n"
     ]
    },
    {
     "name": "stderr",
     "output_type": "stream",
     "text": [
      "Epoch 189/1000: 100%|██████████████████████████████| 47/47 [00:00<00:00, 242.46batch/s, loss=0.107147]\n"
     ]
    },
    {
     "name": "stdout",
     "output_type": "stream",
     "text": [
      "Epoch: 189/1000, Loss: 0.140749\n"
     ]
    },
    {
     "name": "stderr",
     "output_type": "stream",
     "text": [
      "Epoch 190/1000: 100%|██████████████████████████████| 47/47 [00:00<00:00, 240.33batch/s, loss=0.029081]\n"
     ]
    },
    {
     "name": "stdout",
     "output_type": "stream",
     "text": [
      "Epoch: 190/1000, Loss: 0.124969\n"
     ]
    },
    {
     "name": "stderr",
     "output_type": "stream",
     "text": [
      "Epoch 191/1000: 100%|██████████████████████████████| 47/47 [00:00<00:00, 213.71batch/s, loss=0.040866]\n"
     ]
    },
    {
     "name": "stdout",
     "output_type": "stream",
     "text": [
      "Epoch: 191/1000, Loss: 0.144488\n"
     ]
    },
    {
     "name": "stderr",
     "output_type": "stream",
     "text": [
      "Epoch 192/1000: 100%|██████████████████████████████| 47/47 [00:00<00:00, 205.17batch/s, loss=0.094259]\n"
     ]
    },
    {
     "name": "stdout",
     "output_type": "stream",
     "text": [
      "Epoch: 192/1000, Loss: 0.129747\n"
     ]
    },
    {
     "name": "stderr",
     "output_type": "stream",
     "text": [
      "Epoch 193/1000: 100%|██████████████████████████████| 47/47 [00:00<00:00, 234.20batch/s, loss=0.065543]\n"
     ]
    },
    {
     "name": "stdout",
     "output_type": "stream",
     "text": [
      "Epoch: 193/1000, Loss: 0.151890\n"
     ]
    },
    {
     "name": "stderr",
     "output_type": "stream",
     "text": [
      "Epoch 194/1000: 100%|██████████████████████████████| 47/47 [00:00<00:00, 260.29batch/s, loss=0.078148]\n"
     ]
    },
    {
     "name": "stdout",
     "output_type": "stream",
     "text": [
      "Epoch: 194/1000, Loss: 0.142769\n"
     ]
    },
    {
     "name": "stderr",
     "output_type": "stream",
     "text": [
      "Epoch 195/1000: 100%|██████████████████████████████| 47/47 [00:00<00:00, 237.82batch/s, loss=0.044076]\n"
     ]
    },
    {
     "name": "stdout",
     "output_type": "stream",
     "text": [
      "Epoch: 195/1000, Loss: 0.152766\n"
     ]
    },
    {
     "name": "stderr",
     "output_type": "stream",
     "text": [
      "Epoch 196/1000: 100%|██████████████████████████████| 47/47 [00:00<00:00, 242.37batch/s, loss=0.048004]\n"
     ]
    },
    {
     "name": "stdout",
     "output_type": "stream",
     "text": [
      "Epoch: 196/1000, Loss: 0.138001\n"
     ]
    },
    {
     "name": "stderr",
     "output_type": "stream",
     "text": [
      "Epoch 197/1000: 100%|██████████████████████████████| 47/47 [00:00<00:00, 237.97batch/s, loss=0.062422]\n"
     ]
    },
    {
     "name": "stdout",
     "output_type": "stream",
     "text": [
      "Epoch: 197/1000, Loss: 0.115405\n"
     ]
    },
    {
     "name": "stderr",
     "output_type": "stream",
     "text": [
      "Epoch 198/1000: 100%|██████████████████████████████| 47/47 [00:00<00:00, 235.91batch/s, loss=0.119595]\n"
     ]
    },
    {
     "name": "stdout",
     "output_type": "stream",
     "text": [
      "Epoch: 198/1000, Loss: 0.132875\n"
     ]
    },
    {
     "name": "stderr",
     "output_type": "stream",
     "text": [
      "Epoch 199/1000: 100%|██████████████████████████████| 47/47 [00:00<00:00, 244.52batch/s, loss=0.068164]\n"
     ]
    },
    {
     "name": "stdout",
     "output_type": "stream",
     "text": [
      "Epoch: 199/1000, Loss: 0.122523\n"
     ]
    },
    {
     "name": "stderr",
     "output_type": "stream",
     "text": [
      "Epoch 200/1000: 100%|██████████████████████████████| 47/47 [00:00<00:00, 216.79batch/s, loss=0.033679]\n"
     ]
    },
    {
     "name": "stdout",
     "output_type": "stream",
     "text": [
      "Epoch: 200/1000, Loss: 0.105049\n"
     ]
    },
    {
     "name": "stderr",
     "output_type": "stream",
     "text": [
      "Epoch 201/1000: 100%|██████████████████████████████| 47/47 [00:00<00:00, 246.98batch/s, loss=0.058537]\n"
     ]
    },
    {
     "name": "stdout",
     "output_type": "stream",
     "text": [
      "Epoch: 201/1000, Loss: 0.134193\n"
     ]
    },
    {
     "name": "stderr",
     "output_type": "stream",
     "text": [
      "Epoch 202/1000: 100%|██████████████████████████████| 47/47 [00:00<00:00, 240.77batch/s, loss=0.050027]\n"
     ]
    },
    {
     "name": "stdout",
     "output_type": "stream",
     "text": [
      "Epoch: 202/1000, Loss: 0.137895\n"
     ]
    },
    {
     "name": "stderr",
     "output_type": "stream",
     "text": [
      "Epoch 203/1000: 100%|██████████████████████████████| 47/47 [00:00<00:00, 282.77batch/s, loss=0.057018]\n"
     ]
    },
    {
     "name": "stdout",
     "output_type": "stream",
     "text": [
      "Epoch: 203/1000, Loss: 0.118257\n"
     ]
    },
    {
     "name": "stderr",
     "output_type": "stream",
     "text": [
      "Epoch 204/1000: 100%|██████████████████████████████| 47/47 [00:00<00:00, 268.48batch/s, loss=0.035250]\n"
     ]
    },
    {
     "name": "stdout",
     "output_type": "stream",
     "text": [
      "Epoch: 204/1000, Loss: 0.127107\n"
     ]
    },
    {
     "name": "stderr",
     "output_type": "stream",
     "text": [
      "Epoch 205/1000: 100%|██████████████████████████████| 47/47 [00:00<00:00, 241.30batch/s, loss=0.320611]\n"
     ]
    },
    {
     "name": "stdout",
     "output_type": "stream",
     "text": [
      "Epoch: 205/1000, Loss: 0.117801\n"
     ]
    },
    {
     "name": "stderr",
     "output_type": "stream",
     "text": [
      "Epoch 206/1000: 100%|██████████████████████████████| 47/47 [00:00<00:00, 239.12batch/s, loss=0.337582]\n"
     ]
    },
    {
     "name": "stdout",
     "output_type": "stream",
     "text": [
      "Epoch: 206/1000, Loss: 0.129186\n"
     ]
    },
    {
     "name": "stderr",
     "output_type": "stream",
     "text": [
      "Epoch 207/1000: 100%|██████████████████████████████| 47/47 [00:00<00:00, 243.50batch/s, loss=0.035241]\n"
     ]
    },
    {
     "name": "stdout",
     "output_type": "stream",
     "text": [
      "Epoch: 207/1000, Loss: 0.127858\n"
     ]
    },
    {
     "name": "stderr",
     "output_type": "stream",
     "text": [
      "Epoch 208/1000: 100%|██████████████████████████████| 47/47 [00:00<00:00, 241.22batch/s, loss=0.186423]\n"
     ]
    },
    {
     "name": "stdout",
     "output_type": "stream",
     "text": [
      "Epoch: 208/1000, Loss: 0.137174\n"
     ]
    },
    {
     "name": "stderr",
     "output_type": "stream",
     "text": [
      "Epoch 209/1000: 100%|██████████████████████████████| 47/47 [00:00<00:00, 244.32batch/s, loss=0.081559]\n"
     ]
    },
    {
     "name": "stdout",
     "output_type": "stream",
     "text": [
      "Epoch: 209/1000, Loss: 0.133245\n"
     ]
    },
    {
     "name": "stderr",
     "output_type": "stream",
     "text": [
      "Epoch 210/1000: 100%|██████████████████████████████| 47/47 [00:00<00:00, 236.82batch/s, loss=0.082393]\n"
     ]
    },
    {
     "name": "stdout",
     "output_type": "stream",
     "text": [
      "Epoch: 210/1000, Loss: 0.149323\n"
     ]
    },
    {
     "name": "stderr",
     "output_type": "stream",
     "text": [
      "Epoch 211/1000: 100%|██████████████████████████████| 47/47 [00:00<00:00, 213.50batch/s, loss=0.060927]\n"
     ]
    },
    {
     "name": "stdout",
     "output_type": "stream",
     "text": [
      "Epoch: 211/1000, Loss: 0.165037\n"
     ]
    },
    {
     "name": "stderr",
     "output_type": "stream",
     "text": [
      "Epoch 212/1000: 100%|██████████████████████████████| 47/47 [00:00<00:00, 217.43batch/s, loss=0.080045]\n"
     ]
    },
    {
     "name": "stdout",
     "output_type": "stream",
     "text": [
      "Epoch: 212/1000, Loss: 0.140444\n"
     ]
    },
    {
     "name": "stderr",
     "output_type": "stream",
     "text": [
      "Epoch 213/1000: 100%|██████████████████████████████| 47/47 [00:00<00:00, 213.41batch/s, loss=0.062004]\n"
     ]
    },
    {
     "name": "stdout",
     "output_type": "stream",
     "text": [
      "Epoch: 213/1000, Loss: 0.135173\n"
     ]
    },
    {
     "name": "stderr",
     "output_type": "stream",
     "text": [
      "Epoch 214/1000: 100%|██████████████████████████████| 47/47 [00:00<00:00, 272.54batch/s, loss=0.302619]\n"
     ]
    },
    {
     "name": "stdout",
     "output_type": "stream",
     "text": [
      "Epoch: 214/1000, Loss: 0.152885\n"
     ]
    },
    {
     "name": "stderr",
     "output_type": "stream",
     "text": [
      "Epoch 215/1000: 100%|██████████████████████████████| 47/47 [00:00<00:00, 230.96batch/s, loss=0.135215]\n"
     ]
    },
    {
     "name": "stdout",
     "output_type": "stream",
     "text": [
      "Epoch: 215/1000, Loss: 0.121342\n"
     ]
    },
    {
     "name": "stderr",
     "output_type": "stream",
     "text": [
      "Epoch 216/1000: 100%|██████████████████████████████| 47/47 [00:00<00:00, 224.46batch/s, loss=0.010584]\n"
     ]
    },
    {
     "name": "stdout",
     "output_type": "stream",
     "text": [
      "Epoch: 216/1000, Loss: 0.117313\n"
     ]
    },
    {
     "name": "stderr",
     "output_type": "stream",
     "text": [
      "Epoch 217/1000: 100%|██████████████████████████████| 47/47 [00:00<00:00, 250.79batch/s, loss=0.080039]\n"
     ]
    },
    {
     "name": "stdout",
     "output_type": "stream",
     "text": [
      "Epoch: 217/1000, Loss: 0.122091\n"
     ]
    },
    {
     "name": "stderr",
     "output_type": "stream",
     "text": [
      "Epoch 218/1000: 100%|██████████████████████████████| 47/47 [00:00<00:00, 208.82batch/s, loss=0.105131]\n"
     ]
    },
    {
     "name": "stdout",
     "output_type": "stream",
     "text": [
      "Epoch: 218/1000, Loss: 0.133378\n"
     ]
    },
    {
     "name": "stderr",
     "output_type": "stream",
     "text": [
      "Epoch 219/1000: 100%|██████████████████████████████| 47/47 [00:00<00:00, 245.19batch/s, loss=0.091818]\n"
     ]
    },
    {
     "name": "stdout",
     "output_type": "stream",
     "text": [
      "Epoch: 219/1000, Loss: 0.147379\n"
     ]
    },
    {
     "name": "stderr",
     "output_type": "stream",
     "text": [
      "Epoch 220/1000: 100%|██████████████████████████████| 47/47 [00:00<00:00, 245.11batch/s, loss=0.065338]\n"
     ]
    },
    {
     "name": "stdout",
     "output_type": "stream",
     "text": [
      "Epoch: 220/1000, Loss: 0.119164\n"
     ]
    },
    {
     "name": "stderr",
     "output_type": "stream",
     "text": [
      "Epoch 221/1000: 100%|██████████████████████████████| 47/47 [00:00<00:00, 231.37batch/s, loss=0.152276]\n"
     ]
    },
    {
     "name": "stdout",
     "output_type": "stream",
     "text": [
      "Epoch: 221/1000, Loss: 0.128321\n"
     ]
    },
    {
     "name": "stderr",
     "output_type": "stream",
     "text": [
      "Epoch 222/1000: 100%|██████████████████████████████| 47/47 [00:00<00:00, 207.40batch/s, loss=0.109595]\n"
     ]
    },
    {
     "name": "stdout",
     "output_type": "stream",
     "text": [
      "Epoch: 222/1000, Loss: 0.162075\n"
     ]
    },
    {
     "name": "stderr",
     "output_type": "stream",
     "text": [
      "Epoch 223/1000: 100%|██████████████████████████████| 47/47 [00:00<00:00, 216.11batch/s, loss=0.247769]\n"
     ]
    },
    {
     "name": "stdout",
     "output_type": "stream",
     "text": [
      "Epoch: 223/1000, Loss: 0.112271\n"
     ]
    },
    {
     "name": "stderr",
     "output_type": "stream",
     "text": [
      "Epoch 224/1000: 100%|██████████████████████████████| 47/47 [00:00<00:00, 230.38batch/s, loss=0.024940]\n"
     ]
    },
    {
     "name": "stdout",
     "output_type": "stream",
     "text": [
      "Epoch: 224/1000, Loss: 0.109692\n"
     ]
    },
    {
     "name": "stderr",
     "output_type": "stream",
     "text": [
      "Epoch 225/1000: 100%|██████████████████████████████| 47/47 [00:00<00:00, 238.74batch/s, loss=0.032701]\n"
     ]
    },
    {
     "name": "stdout",
     "output_type": "stream",
     "text": [
      "Epoch: 225/1000, Loss: 0.109554\n"
     ]
    },
    {
     "name": "stderr",
     "output_type": "stream",
     "text": [
      "Epoch 226/1000: 100%|██████████████████████████████| 47/47 [00:00<00:00, 240.38batch/s, loss=0.055167]\n"
     ]
    },
    {
     "name": "stdout",
     "output_type": "stream",
     "text": [
      "Epoch: 226/1000, Loss: 0.124229\n"
     ]
    },
    {
     "name": "stderr",
     "output_type": "stream",
     "text": [
      "Epoch 227/1000: 100%|██████████████████████████████| 47/47 [00:00<00:00, 227.37batch/s, loss=0.033347]\n"
     ]
    },
    {
     "name": "stdout",
     "output_type": "stream",
     "text": [
      "Epoch: 227/1000, Loss: 0.100082\n"
     ]
    },
    {
     "name": "stderr",
     "output_type": "stream",
     "text": [
      "Epoch 228/1000: 100%|██████████████████████████████| 47/47 [00:00<00:00, 257.00batch/s, loss=0.015979]\n"
     ]
    },
    {
     "name": "stdout",
     "output_type": "stream",
     "text": [
      "Epoch: 228/1000, Loss: 0.098708\n"
     ]
    },
    {
     "name": "stderr",
     "output_type": "stream",
     "text": [
      "Epoch 229/1000: 100%|██████████████████████████████| 47/47 [00:00<00:00, 213.05batch/s, loss=0.025032]\n"
     ]
    },
    {
     "name": "stdout",
     "output_type": "stream",
     "text": [
      "Epoch: 229/1000, Loss: 0.118860\n"
     ]
    },
    {
     "name": "stderr",
     "output_type": "stream",
     "text": [
      "Epoch 230/1000: 100%|██████████████████████████████| 47/47 [00:00<00:00, 287.16batch/s, loss=0.022216]\n"
     ]
    },
    {
     "name": "stdout",
     "output_type": "stream",
     "text": [
      "Epoch: 230/1000, Loss: 0.113089\n"
     ]
    },
    {
     "name": "stderr",
     "output_type": "stream",
     "text": [
      "Epoch 231/1000: 100%|██████████████████████████████| 47/47 [00:00<00:00, 161.33batch/s, loss=0.238043]\n"
     ]
    },
    {
     "name": "stdout",
     "output_type": "stream",
     "text": [
      "Epoch: 231/1000, Loss: 0.095760\n"
     ]
    },
    {
     "name": "stderr",
     "output_type": "stream",
     "text": [
      "Epoch 232/1000: 100%|██████████████████████████████| 47/47 [00:00<00:00, 170.95batch/s, loss=0.067275]\n"
     ]
    },
    {
     "name": "stdout",
     "output_type": "stream",
     "text": [
      "Epoch: 232/1000, Loss: 0.100676\n"
     ]
    },
    {
     "name": "stderr",
     "output_type": "stream",
     "text": [
      "Epoch 233/1000: 100%|██████████████████████████████| 47/47 [00:00<00:00, 290.97batch/s, loss=0.055037]\n"
     ]
    },
    {
     "name": "stdout",
     "output_type": "stream",
     "text": [
      "Epoch: 233/1000, Loss: 0.120107\n"
     ]
    },
    {
     "name": "stderr",
     "output_type": "stream",
     "text": [
      "Epoch 234/1000: 100%|██████████████████████████████| 47/47 [00:00<00:00, 203.83batch/s, loss=0.302728]\n"
     ]
    },
    {
     "name": "stdout",
     "output_type": "stream",
     "text": [
      "Epoch: 234/1000, Loss: 0.101678\n"
     ]
    },
    {
     "name": "stderr",
     "output_type": "stream",
     "text": [
      "Epoch 235/1000: 100%|██████████████████████████████| 47/47 [00:00<00:00, 201.09batch/s, loss=0.333307]\n"
     ]
    },
    {
     "name": "stdout",
     "output_type": "stream",
     "text": [
      "Epoch: 235/1000, Loss: 0.104982\n"
     ]
    },
    {
     "name": "stderr",
     "output_type": "stream",
     "text": [
      "Epoch 236/1000: 100%|██████████████████████████████| 47/47 [00:00<00:00, 202.64batch/s, loss=0.064821]\n"
     ]
    },
    {
     "name": "stdout",
     "output_type": "stream",
     "text": [
      "Epoch: 236/1000, Loss: 0.127489\n"
     ]
    },
    {
     "name": "stderr",
     "output_type": "stream",
     "text": [
      "Epoch 237/1000: 100%|██████████████████████████████| 47/47 [00:00<00:00, 197.93batch/s, loss=0.292850]\n"
     ]
    },
    {
     "name": "stdout",
     "output_type": "stream",
     "text": [
      "Epoch: 237/1000, Loss: 0.137468\n"
     ]
    },
    {
     "name": "stderr",
     "output_type": "stream",
     "text": [
      "Epoch 238/1000: 100%|██████████████████████████████| 47/47 [00:00<00:00, 214.60batch/s, loss=0.174443]\n"
     ]
    },
    {
     "name": "stdout",
     "output_type": "stream",
     "text": [
      "Epoch: 238/1000, Loss: 0.132101\n"
     ]
    },
    {
     "name": "stderr",
     "output_type": "stream",
     "text": [
      "Epoch 239/1000: 100%|██████████████████████████████| 47/47 [00:00<00:00, 207.20batch/s, loss=0.020977]\n"
     ]
    },
    {
     "name": "stdout",
     "output_type": "stream",
     "text": [
      "Epoch: 239/1000, Loss: 0.136006\n"
     ]
    },
    {
     "name": "stderr",
     "output_type": "stream",
     "text": [
      "Epoch 240/1000: 100%|██████████████████████████████| 47/47 [00:00<00:00, 193.21batch/s, loss=0.012735]\n"
     ]
    },
    {
     "name": "stdout",
     "output_type": "stream",
     "text": [
      "Epoch: 240/1000, Loss: 0.112105\n"
     ]
    },
    {
     "name": "stderr",
     "output_type": "stream",
     "text": [
      "Epoch 241/1000: 100%|██████████████████████████████| 47/47 [00:00<00:00, 220.50batch/s, loss=0.231510]\n"
     ]
    },
    {
     "name": "stdout",
     "output_type": "stream",
     "text": [
      "Epoch: 241/1000, Loss: 0.114103\n"
     ]
    },
    {
     "name": "stderr",
     "output_type": "stream",
     "text": [
      "Epoch 242/1000: 100%|██████████████████████████████| 47/47 [00:00<00:00, 200.46batch/s, loss=0.091758]\n"
     ]
    },
    {
     "name": "stdout",
     "output_type": "stream",
     "text": [
      "Epoch: 242/1000, Loss: 0.126825\n"
     ]
    },
    {
     "name": "stderr",
     "output_type": "stream",
     "text": [
      "Epoch 243/1000: 100%|██████████████████████████████| 47/47 [00:00<00:00, 220.26batch/s, loss=0.058960]\n"
     ]
    },
    {
     "name": "stdout",
     "output_type": "stream",
     "text": [
      "Epoch: 243/1000, Loss: 0.113497\n"
     ]
    },
    {
     "name": "stderr",
     "output_type": "stream",
     "text": [
      "Epoch 244/1000: 100%|██████████████████████████████| 47/47 [00:00<00:00, 211.79batch/s, loss=0.157083]\n"
     ]
    },
    {
     "name": "stdout",
     "output_type": "stream",
     "text": [
      "Epoch: 244/1000, Loss: 0.107105\n"
     ]
    },
    {
     "name": "stderr",
     "output_type": "stream",
     "text": [
      "Epoch 245/1000: 100%|██████████████████████████████| 47/47 [00:00<00:00, 222.65batch/s, loss=0.185638]\n"
     ]
    },
    {
     "name": "stdout",
     "output_type": "stream",
     "text": [
      "Epoch: 245/1000, Loss: 0.113112\n"
     ]
    },
    {
     "name": "stderr",
     "output_type": "stream",
     "text": [
      "Epoch 246/1000: 100%|██████████████████████████████| 47/47 [00:00<00:00, 276.74batch/s, loss=0.038305]\n"
     ]
    },
    {
     "name": "stdout",
     "output_type": "stream",
     "text": [
      "Epoch: 246/1000, Loss: 0.119980\n"
     ]
    },
    {
     "name": "stderr",
     "output_type": "stream",
     "text": [
      "Epoch 247/1000: 100%|██████████████████████████████| 47/47 [00:00<00:00, 246.52batch/s, loss=0.105158]\n"
     ]
    },
    {
     "name": "stdout",
     "output_type": "stream",
     "text": [
      "Epoch: 247/1000, Loss: 0.087638\n"
     ]
    },
    {
     "name": "stderr",
     "output_type": "stream",
     "text": [
      "Epoch 248/1000: 100%|██████████████████████████████| 47/47 [00:00<00:00, 273.49batch/s, loss=0.099842]\n"
     ]
    },
    {
     "name": "stdout",
     "output_type": "stream",
     "text": [
      "Epoch: 248/1000, Loss: 0.080304\n"
     ]
    },
    {
     "name": "stderr",
     "output_type": "stream",
     "text": [
      "Epoch 249/1000: 100%|██████████████████████████████| 47/47 [00:00<00:00, 220.76batch/s, loss=0.063404]\n"
     ]
    },
    {
     "name": "stdout",
     "output_type": "stream",
     "text": [
      "Epoch: 249/1000, Loss: 0.113765\n"
     ]
    },
    {
     "name": "stderr",
     "output_type": "stream",
     "text": [
      "Epoch 250/1000: 100%|██████████████████████████████| 47/47 [00:00<00:00, 224.92batch/s, loss=0.026212]\n"
     ]
    },
    {
     "name": "stdout",
     "output_type": "stream",
     "text": [
      "Epoch: 250/1000, Loss: 0.105718\n"
     ]
    },
    {
     "name": "stderr",
     "output_type": "stream",
     "text": [
      "Epoch 251/1000: 100%|██████████████████████████████| 47/47 [00:00<00:00, 221.36batch/s, loss=0.145292]\n"
     ]
    },
    {
     "name": "stdout",
     "output_type": "stream",
     "text": [
      "Epoch: 251/1000, Loss: 0.097282\n"
     ]
    },
    {
     "name": "stderr",
     "output_type": "stream",
     "text": [
      "Epoch 252/1000: 100%|██████████████████████████████| 47/47 [00:00<00:00, 250.28batch/s, loss=0.084616]\n"
     ]
    },
    {
     "name": "stdout",
     "output_type": "stream",
     "text": [
      "Epoch: 252/1000, Loss: 0.129184\n"
     ]
    },
    {
     "name": "stderr",
     "output_type": "stream",
     "text": [
      "Epoch 253/1000: 100%|██████████████████████████████| 47/47 [00:00<00:00, 242.40batch/s, loss=0.191182]\n"
     ]
    },
    {
     "name": "stdout",
     "output_type": "stream",
     "text": [
      "Epoch: 253/1000, Loss: 0.111825\n"
     ]
    },
    {
     "name": "stderr",
     "output_type": "stream",
     "text": [
      "Epoch 254/1000: 100%|██████████████████████████████| 47/47 [00:00<00:00, 207.36batch/s, loss=0.053443]\n"
     ]
    },
    {
     "name": "stdout",
     "output_type": "stream",
     "text": [
      "Epoch: 254/1000, Loss: 0.113378\n"
     ]
    },
    {
     "name": "stderr",
     "output_type": "stream",
     "text": [
      "Epoch 255/1000: 100%|██████████████████████████████| 47/47 [00:00<00:00, 245.87batch/s, loss=0.428010]\n"
     ]
    },
    {
     "name": "stdout",
     "output_type": "stream",
     "text": [
      "Epoch: 255/1000, Loss: 0.121170\n"
     ]
    },
    {
     "name": "stderr",
     "output_type": "stream",
     "text": [
      "Epoch 256/1000: 100%|██████████████████████████████| 47/47 [00:00<00:00, 211.73batch/s, loss=0.060990]\n"
     ]
    },
    {
     "name": "stdout",
     "output_type": "stream",
     "text": [
      "Epoch: 256/1000, Loss: 0.092655\n"
     ]
    },
    {
     "name": "stderr",
     "output_type": "stream",
     "text": [
      "Epoch 257/1000: 100%|██████████████████████████████| 47/47 [00:00<00:00, 244.75batch/s, loss=0.146805]\n"
     ]
    },
    {
     "name": "stdout",
     "output_type": "stream",
     "text": [
      "Epoch: 257/1000, Loss: 0.095034\n"
     ]
    },
    {
     "name": "stderr",
     "output_type": "stream",
     "text": [
      "Epoch 258/1000: 100%|██████████████████████████████| 47/47 [00:00<00:00, 223.17batch/s, loss=0.360507]\n"
     ]
    },
    {
     "name": "stdout",
     "output_type": "stream",
     "text": [
      "Epoch: 258/1000, Loss: 0.117220\n"
     ]
    },
    {
     "name": "stderr",
     "output_type": "stream",
     "text": [
      "Epoch 259/1000: 100%|██████████████████████████████| 47/47 [00:00<00:00, 250.52batch/s, loss=0.150194]\n"
     ]
    },
    {
     "name": "stdout",
     "output_type": "stream",
     "text": [
      "Epoch: 259/1000, Loss: 0.121194\n"
     ]
    },
    {
     "name": "stderr",
     "output_type": "stream",
     "text": [
      "Epoch 260/1000: 100%|██████████████████████████████| 47/47 [00:00<00:00, 237.82batch/s, loss=0.012664]\n"
     ]
    },
    {
     "name": "stdout",
     "output_type": "stream",
     "text": [
      "Epoch: 260/1000, Loss: 0.108541\n"
     ]
    },
    {
     "name": "stderr",
     "output_type": "stream",
     "text": [
      "Epoch 261/1000: 100%|██████████████████████████████| 47/47 [00:00<00:00, 245.38batch/s, loss=0.152643]\n"
     ]
    },
    {
     "name": "stdout",
     "output_type": "stream",
     "text": [
      "Epoch: 261/1000, Loss: 0.122567\n"
     ]
    },
    {
     "name": "stderr",
     "output_type": "stream",
     "text": [
      "Epoch 262/1000: 100%|██████████████████████████████| 47/47 [00:00<00:00, 241.46batch/s, loss=0.158340]\n"
     ]
    },
    {
     "name": "stdout",
     "output_type": "stream",
     "text": [
      "Epoch: 262/1000, Loss: 0.133179\n"
     ]
    },
    {
     "name": "stderr",
     "output_type": "stream",
     "text": [
      "Epoch 263/1000: 100%|██████████████████████████████| 47/47 [00:00<00:00, 238.65batch/s, loss=0.573273]\n"
     ]
    },
    {
     "name": "stdout",
     "output_type": "stream",
     "text": [
      "Epoch: 263/1000, Loss: 0.161819\n"
     ]
    },
    {
     "name": "stderr",
     "output_type": "stream",
     "text": [
      "Epoch 264/1000: 100%|██████████████████████████████| 47/47 [00:00<00:00, 249.75batch/s, loss=0.058126]\n"
     ]
    },
    {
     "name": "stdout",
     "output_type": "stream",
     "text": [
      "Epoch: 264/1000, Loss: 0.120203\n"
     ]
    },
    {
     "name": "stderr",
     "output_type": "stream",
     "text": [
      "Epoch 265/1000: 100%|██████████████████████████████| 47/47 [00:00<00:00, 244.37batch/s, loss=0.229292]\n"
     ]
    },
    {
     "name": "stdout",
     "output_type": "stream",
     "text": [
      "Epoch: 265/1000, Loss: 0.111161\n"
     ]
    },
    {
     "name": "stderr",
     "output_type": "stream",
     "text": [
      "Epoch 266/1000: 100%|██████████████████████████████| 47/47 [00:00<00:00, 242.04batch/s, loss=0.019330]\n"
     ]
    },
    {
     "name": "stdout",
     "output_type": "stream",
     "text": [
      "Epoch: 266/1000, Loss: 0.097878\n"
     ]
    },
    {
     "name": "stderr",
     "output_type": "stream",
     "text": [
      "Epoch 267/1000: 100%|██████████████████████████████| 47/47 [00:00<00:00, 224.51batch/s, loss=0.021031]\n"
     ]
    },
    {
     "name": "stdout",
     "output_type": "stream",
     "text": [
      "Epoch: 267/1000, Loss: 0.097954\n"
     ]
    },
    {
     "name": "stderr",
     "output_type": "stream",
     "text": [
      "Epoch 268/1000: 100%|██████████████████████████████| 47/47 [00:00<00:00, 255.83batch/s, loss=0.085412]\n"
     ]
    },
    {
     "name": "stdout",
     "output_type": "stream",
     "text": [
      "Epoch: 268/1000, Loss: 0.092132\n"
     ]
    },
    {
     "name": "stderr",
     "output_type": "stream",
     "text": [
      "Epoch 269/1000: 100%|██████████████████████████████| 47/47 [00:00<00:00, 249.81batch/s, loss=0.171417]\n"
     ]
    },
    {
     "name": "stdout",
     "output_type": "stream",
     "text": [
      "Epoch: 269/1000, Loss: 0.130562\n"
     ]
    },
    {
     "name": "stderr",
     "output_type": "stream",
     "text": [
      "Epoch 270/1000: 100%|██████████████████████████████| 47/47 [00:00<00:00, 214.56batch/s, loss=0.427730]\n"
     ]
    },
    {
     "name": "stdout",
     "output_type": "stream",
     "text": [
      "Epoch: 270/1000, Loss: 0.103047\n"
     ]
    },
    {
     "name": "stderr",
     "output_type": "stream",
     "text": [
      "Epoch 271/1000: 100%|██████████████████████████████| 47/47 [00:00<00:00, 231.54batch/s, loss=0.239587]\n"
     ]
    },
    {
     "name": "stdout",
     "output_type": "stream",
     "text": [
      "Epoch: 271/1000, Loss: 0.109349\n"
     ]
    },
    {
     "name": "stderr",
     "output_type": "stream",
     "text": [
      "Epoch 272/1000: 100%|██████████████████████████████| 47/47 [00:00<00:00, 248.33batch/s, loss=0.160405]\n"
     ]
    },
    {
     "name": "stdout",
     "output_type": "stream",
     "text": [
      "Epoch: 272/1000, Loss: 0.101888\n"
     ]
    },
    {
     "name": "stderr",
     "output_type": "stream",
     "text": [
      "Epoch 273/1000: 100%|██████████████████████████████| 47/47 [00:00<00:00, 250.63batch/s, loss=0.054993]\n"
     ]
    },
    {
     "name": "stdout",
     "output_type": "stream",
     "text": [
      "Epoch: 273/1000, Loss: 0.111965\n"
     ]
    },
    {
     "name": "stderr",
     "output_type": "stream",
     "text": [
      "Epoch 274/1000: 100%|██████████████████████████████| 47/47 [00:00<00:00, 232.34batch/s, loss=0.028866]\n"
     ]
    },
    {
     "name": "stdout",
     "output_type": "stream",
     "text": [
      "Epoch: 274/1000, Loss: 0.088948\n"
     ]
    },
    {
     "name": "stderr",
     "output_type": "stream",
     "text": [
      "Epoch 275/1000: 100%|██████████████████████████████| 47/47 [00:00<00:00, 196.35batch/s, loss=0.081343]\n"
     ]
    },
    {
     "name": "stdout",
     "output_type": "stream",
     "text": [
      "Epoch: 275/1000, Loss: 0.117406\n"
     ]
    },
    {
     "name": "stderr",
     "output_type": "stream",
     "text": [
      "Epoch 276/1000: 100%|██████████████████████████████| 47/47 [00:00<00:00, 176.73batch/s, loss=0.043367]\n"
     ]
    },
    {
     "name": "stdout",
     "output_type": "stream",
     "text": [
      "Epoch: 276/1000, Loss: 0.112810\n"
     ]
    },
    {
     "name": "stderr",
     "output_type": "stream",
     "text": [
      "Epoch 277/1000: 100%|██████████████████████████████| 47/47 [00:00<00:00, 190.06batch/s, loss=0.102483]\n"
     ]
    },
    {
     "name": "stdout",
     "output_type": "stream",
     "text": [
      "Epoch: 277/1000, Loss: 0.150865\n"
     ]
    },
    {
     "name": "stderr",
     "output_type": "stream",
     "text": [
      "Epoch 278/1000: 100%|██████████████████████████████| 47/47 [00:00<00:00, 211.08batch/s, loss=0.070575]\n"
     ]
    },
    {
     "name": "stdout",
     "output_type": "stream",
     "text": [
      "Epoch: 278/1000, Loss: 0.114525\n"
     ]
    },
    {
     "name": "stderr",
     "output_type": "stream",
     "text": [
      "Epoch 279/1000: 100%|██████████████████████████████| 47/47 [00:00<00:00, 216.66batch/s, loss=0.068623]\n"
     ]
    },
    {
     "name": "stdout",
     "output_type": "stream",
     "text": [
      "Epoch: 279/1000, Loss: 0.107655\n"
     ]
    },
    {
     "name": "stderr",
     "output_type": "stream",
     "text": [
      "Epoch 280/1000: 100%|██████████████████████████████| 47/47 [00:00<00:00, 234.65batch/s, loss=0.612202]\n"
     ]
    },
    {
     "name": "stdout",
     "output_type": "stream",
     "text": [
      "Epoch: 280/1000, Loss: 0.100328\n"
     ]
    },
    {
     "name": "stderr",
     "output_type": "stream",
     "text": [
      "Epoch 281/1000: 100%|██████████████████████████████| 47/47 [00:00<00:00, 237.36batch/s, loss=0.027867]\n"
     ]
    },
    {
     "name": "stdout",
     "output_type": "stream",
     "text": [
      "Epoch: 281/1000, Loss: 0.142398\n"
     ]
    },
    {
     "name": "stderr",
     "output_type": "stream",
     "text": [
      "Epoch 282/1000: 100%|██████████████████████████████| 47/47 [00:00<00:00, 215.29batch/s, loss=0.179127]\n"
     ]
    },
    {
     "name": "stdout",
     "output_type": "stream",
     "text": [
      "Epoch: 282/1000, Loss: 0.103754\n"
     ]
    },
    {
     "name": "stderr",
     "output_type": "stream",
     "text": [
      "Epoch 283/1000: 100%|██████████████████████████████| 47/47 [00:00<00:00, 230.18batch/s, loss=0.006748]\n"
     ]
    },
    {
     "name": "stdout",
     "output_type": "stream",
     "text": [
      "Epoch: 283/1000, Loss: 0.079441\n"
     ]
    },
    {
     "name": "stderr",
     "output_type": "stream",
     "text": [
      "Epoch 284/1000: 100%|██████████████████████████████| 47/47 [00:00<00:00, 201.11batch/s, loss=0.115095]\n"
     ]
    },
    {
     "name": "stdout",
     "output_type": "stream",
     "text": [
      "Epoch: 284/1000, Loss: 0.084882\n"
     ]
    },
    {
     "name": "stderr",
     "output_type": "stream",
     "text": [
      "Epoch 285/1000: 100%|██████████████████████████████| 47/47 [00:00<00:00, 189.51batch/s, loss=0.034083]\n"
     ]
    },
    {
     "name": "stdout",
     "output_type": "stream",
     "text": [
      "Epoch: 285/1000, Loss: 0.112089\n"
     ]
    },
    {
     "name": "stderr",
     "output_type": "stream",
     "text": [
      "Epoch 286/1000: 100%|██████████████████████████████| 47/47 [00:00<00:00, 176.48batch/s, loss=0.180211]\n"
     ]
    },
    {
     "name": "stdout",
     "output_type": "stream",
     "text": [
      "Epoch: 286/1000, Loss: 0.127352\n"
     ]
    },
    {
     "name": "stderr",
     "output_type": "stream",
     "text": [
      "Epoch 287/1000: 100%|██████████████████████████████| 47/47 [00:00<00:00, 178.57batch/s, loss=0.204880]\n"
     ]
    },
    {
     "name": "stdout",
     "output_type": "stream",
     "text": [
      "Epoch: 287/1000, Loss: 0.136492\n"
     ]
    },
    {
     "name": "stderr",
     "output_type": "stream",
     "text": [
      "Epoch 288/1000: 100%|██████████████████████████████| 47/47 [00:00<00:00, 179.86batch/s, loss=0.150871]\n"
     ]
    },
    {
     "name": "stdout",
     "output_type": "stream",
     "text": [
      "Epoch: 288/1000, Loss: 0.167984\n"
     ]
    },
    {
     "name": "stderr",
     "output_type": "stream",
     "text": [
      "Epoch 289/1000: 100%|██████████████████████████████| 47/47 [00:00<00:00, 214.14batch/s, loss=0.076678]\n"
     ]
    },
    {
     "name": "stdout",
     "output_type": "stream",
     "text": [
      "Epoch: 289/1000, Loss: 0.122937\n"
     ]
    },
    {
     "name": "stderr",
     "output_type": "stream",
     "text": [
      "Epoch 290/1000: 100%|██████████████████████████████| 47/47 [00:00<00:00, 217.68batch/s, loss=0.046704]\n"
     ]
    },
    {
     "name": "stdout",
     "output_type": "stream",
     "text": [
      "Epoch: 290/1000, Loss: 0.088774\n"
     ]
    },
    {
     "name": "stderr",
     "output_type": "stream",
     "text": [
      "Epoch 291/1000: 100%|██████████████████████████████| 47/47 [00:00<00:00, 239.20batch/s, loss=0.396418]\n"
     ]
    },
    {
     "name": "stdout",
     "output_type": "stream",
     "text": [
      "Epoch: 291/1000, Loss: 0.096084\n"
     ]
    },
    {
     "name": "stderr",
     "output_type": "stream",
     "text": [
      "Epoch 292/1000: 100%|██████████████████████████████| 47/47 [00:00<00:00, 236.54batch/s, loss=0.053347]\n"
     ]
    },
    {
     "name": "stdout",
     "output_type": "stream",
     "text": [
      "Epoch: 292/1000, Loss: 0.098499\n"
     ]
    },
    {
     "name": "stderr",
     "output_type": "stream",
     "text": [
      "Epoch 293/1000: 100%|██████████████████████████████| 47/47 [00:00<00:00, 248.91batch/s, loss=0.168173]\n"
     ]
    },
    {
     "name": "stdout",
     "output_type": "stream",
     "text": [
      "Epoch: 293/1000, Loss: 0.114805\n"
     ]
    },
    {
     "name": "stderr",
     "output_type": "stream",
     "text": [
      "Epoch 294/1000: 100%|██████████████████████████████| 47/47 [00:00<00:00, 209.76batch/s, loss=0.117624]\n"
     ]
    },
    {
     "name": "stdout",
     "output_type": "stream",
     "text": [
      "Epoch: 294/1000, Loss: 0.076657\n"
     ]
    },
    {
     "name": "stderr",
     "output_type": "stream",
     "text": [
      "Epoch 295/1000: 100%|██████████████████████████████| 47/47 [00:00<00:00, 229.30batch/s, loss=0.019319]\n"
     ]
    },
    {
     "name": "stdout",
     "output_type": "stream",
     "text": [
      "Epoch: 295/1000, Loss: 0.089731\n"
     ]
    },
    {
     "name": "stderr",
     "output_type": "stream",
     "text": [
      "Epoch 296/1000: 100%|██████████████████████████████| 47/47 [00:00<00:00, 238.29batch/s, loss=0.074107]\n"
     ]
    },
    {
     "name": "stdout",
     "output_type": "stream",
     "text": [
      "Epoch: 296/1000, Loss: 0.113481\n"
     ]
    },
    {
     "name": "stderr",
     "output_type": "stream",
     "text": [
      "Epoch 297/1000: 100%|██████████████████████████████| 47/47 [00:00<00:00, 198.18batch/s, loss=0.110536]\n"
     ]
    },
    {
     "name": "stdout",
     "output_type": "stream",
     "text": [
      "Epoch: 297/1000, Loss: 0.122134\n"
     ]
    },
    {
     "name": "stderr",
     "output_type": "stream",
     "text": [
      "Epoch 298/1000: 100%|██████████████████████████████| 47/47 [00:00<00:00, 262.45batch/s, loss=0.045570]\n"
     ]
    },
    {
     "name": "stdout",
     "output_type": "stream",
     "text": [
      "Epoch: 298/1000, Loss: 0.115528\n"
     ]
    },
    {
     "name": "stderr",
     "output_type": "stream",
     "text": [
      "Epoch 299/1000: 100%|██████████████████████████████| 47/47 [00:00<00:00, 227.15batch/s, loss=0.086686]\n"
     ]
    },
    {
     "name": "stdout",
     "output_type": "stream",
     "text": [
      "Epoch: 299/1000, Loss: 0.110593\n"
     ]
    },
    {
     "name": "stderr",
     "output_type": "stream",
     "text": [
      "Epoch 300/1000: 100%|██████████████████████████████| 47/47 [00:00<00:00, 232.14batch/s, loss=0.093309]\n"
     ]
    },
    {
     "name": "stdout",
     "output_type": "stream",
     "text": [
      "Epoch: 300/1000, Loss: 0.117913\n"
     ]
    },
    {
     "name": "stderr",
     "output_type": "stream",
     "text": [
      "Epoch 301/1000: 100%|██████████████████████████████| 47/47 [00:00<00:00, 229.71batch/s, loss=0.168698]\n"
     ]
    },
    {
     "name": "stdout",
     "output_type": "stream",
     "text": [
      "Epoch: 301/1000, Loss: 0.152142\n"
     ]
    },
    {
     "name": "stderr",
     "output_type": "stream",
     "text": [
      "Epoch 302/1000: 100%|██████████████████████████████| 47/47 [00:00<00:00, 225.26batch/s, loss=0.030748]\n"
     ]
    },
    {
     "name": "stdout",
     "output_type": "stream",
     "text": [
      "Epoch: 302/1000, Loss: 0.122406\n"
     ]
    },
    {
     "name": "stderr",
     "output_type": "stream",
     "text": [
      "Epoch 303/1000: 100%|██████████████████████████████| 47/47 [00:00<00:00, 237.50batch/s, loss=0.526908]\n"
     ]
    },
    {
     "name": "stdout",
     "output_type": "stream",
     "text": [
      "Epoch: 303/1000, Loss: 0.115597\n"
     ]
    },
    {
     "name": "stderr",
     "output_type": "stream",
     "text": [
      "Epoch 304/1000: 100%|██████████████████████████████| 47/47 [00:00<00:00, 260.93batch/s, loss=0.203643]\n"
     ]
    },
    {
     "name": "stdout",
     "output_type": "stream",
     "text": [
      "Epoch: 304/1000, Loss: 0.120620\n"
     ]
    },
    {
     "name": "stderr",
     "output_type": "stream",
     "text": [
      "Epoch 305/1000: 100%|██████████████████████████████| 47/47 [00:00<00:00, 233.78batch/s, loss=0.041158]\n"
     ]
    },
    {
     "name": "stdout",
     "output_type": "stream",
     "text": [
      "Epoch: 305/1000, Loss: 0.105910\n"
     ]
    },
    {
     "name": "stderr",
     "output_type": "stream",
     "text": [
      "Epoch 306/1000: 100%|██████████████████████████████| 47/47 [00:00<00:00, 224.90batch/s, loss=0.040594]\n"
     ]
    },
    {
     "name": "stdout",
     "output_type": "stream",
     "text": [
      "Epoch: 306/1000, Loss: 0.088186\n"
     ]
    },
    {
     "name": "stderr",
     "output_type": "stream",
     "text": [
      "Epoch 307/1000: 100%|██████████████████████████████| 47/47 [00:00<00:00, 219.71batch/s, loss=0.153132]\n"
     ]
    },
    {
     "name": "stdout",
     "output_type": "stream",
     "text": [
      "Epoch: 307/1000, Loss: 0.092256\n"
     ]
    },
    {
     "name": "stderr",
     "output_type": "stream",
     "text": [
      "Epoch 308/1000: 100%|██████████████████████████████| 47/47 [00:00<00:00, 199.77batch/s, loss=0.216538]\n"
     ]
    },
    {
     "name": "stdout",
     "output_type": "stream",
     "text": [
      "Epoch: 308/1000, Loss: 0.110093\n"
     ]
    },
    {
     "name": "stderr",
     "output_type": "stream",
     "text": [
      "Epoch 309/1000: 100%|██████████████████████████████| 47/47 [00:00<00:00, 220.12batch/s, loss=0.259966]\n"
     ]
    },
    {
     "name": "stdout",
     "output_type": "stream",
     "text": [
      "Epoch: 309/1000, Loss: 0.128200\n"
     ]
    },
    {
     "name": "stderr",
     "output_type": "stream",
     "text": [
      "Epoch 310/1000: 100%|██████████████████████████████| 47/47 [00:00<00:00, 233.64batch/s, loss=0.216216]\n"
     ]
    },
    {
     "name": "stdout",
     "output_type": "stream",
     "text": [
      "Epoch: 310/1000, Loss: 0.131891\n"
     ]
    },
    {
     "name": "stderr",
     "output_type": "stream",
     "text": [
      "Epoch 311/1000: 100%|██████████████████████████████| 47/47 [00:00<00:00, 200.50batch/s, loss=0.076108]\n"
     ]
    },
    {
     "name": "stdout",
     "output_type": "stream",
     "text": [
      "Epoch: 311/1000, Loss: 0.122932\n"
     ]
    },
    {
     "name": "stderr",
     "output_type": "stream",
     "text": [
      "Epoch 312/1000: 100%|██████████████████████████████| 47/47 [00:00<00:00, 255.34batch/s, loss=0.073112]\n"
     ]
    },
    {
     "name": "stdout",
     "output_type": "stream",
     "text": [
      "Epoch: 312/1000, Loss: 0.108074\n"
     ]
    },
    {
     "name": "stderr",
     "output_type": "stream",
     "text": [
      "Epoch 313/1000: 100%|██████████████████████████████| 47/47 [00:00<00:00, 239.12batch/s, loss=0.214509]\n"
     ]
    },
    {
     "name": "stdout",
     "output_type": "stream",
     "text": [
      "Epoch: 313/1000, Loss: 0.103611\n"
     ]
    },
    {
     "name": "stderr",
     "output_type": "stream",
     "text": [
      "Epoch 314/1000: 100%|██████████████████████████████| 47/47 [00:00<00:00, 236.03batch/s, loss=0.059478]\n"
     ]
    },
    {
     "name": "stdout",
     "output_type": "stream",
     "text": [
      "Epoch: 314/1000, Loss: 0.099141\n"
     ]
    },
    {
     "name": "stderr",
     "output_type": "stream",
     "text": [
      "Epoch 315/1000: 100%|██████████████████████████████| 47/47 [00:00<00:00, 251.55batch/s, loss=0.041486]\n"
     ]
    },
    {
     "name": "stdout",
     "output_type": "stream",
     "text": [
      "Epoch: 315/1000, Loss: 0.087543\n"
     ]
    },
    {
     "name": "stderr",
     "output_type": "stream",
     "text": [
      "Epoch 316/1000: 100%|██████████████████████████████| 47/47 [00:00<00:00, 247.09batch/s, loss=0.018790]\n"
     ]
    },
    {
     "name": "stdout",
     "output_type": "stream",
     "text": [
      "Epoch: 316/1000, Loss: 0.104963\n"
     ]
    },
    {
     "name": "stderr",
     "output_type": "stream",
     "text": [
      "Epoch 317/1000: 100%|██████████████████████████████| 47/47 [00:00<00:00, 243.64batch/s, loss=0.016466]\n"
     ]
    },
    {
     "name": "stdout",
     "output_type": "stream",
     "text": [
      "Epoch: 317/1000, Loss: 0.095295\n"
     ]
    },
    {
     "name": "stderr",
     "output_type": "stream",
     "text": [
      "Epoch 318/1000: 100%|██████████████████████████████| 47/47 [00:00<00:00, 257.88batch/s, loss=0.010160]\n"
     ]
    },
    {
     "name": "stdout",
     "output_type": "stream",
     "text": [
      "Epoch: 318/1000, Loss: 0.088420\n"
     ]
    },
    {
     "name": "stderr",
     "output_type": "stream",
     "text": [
      "Epoch 319/1000: 100%|██████████████████████████████| 47/47 [00:00<00:00, 258.45batch/s, loss=0.051424]\n"
     ]
    },
    {
     "name": "stdout",
     "output_type": "stream",
     "text": [
      "Epoch: 319/1000, Loss: 0.093969\n"
     ]
    },
    {
     "name": "stderr",
     "output_type": "stream",
     "text": [
      "Epoch 320/1000: 100%|██████████████████████████████| 47/47 [00:00<00:00, 272.73batch/s, loss=0.139929]\n"
     ]
    },
    {
     "name": "stdout",
     "output_type": "stream",
     "text": [
      "Epoch: 320/1000, Loss: 0.093516\n"
     ]
    },
    {
     "name": "stderr",
     "output_type": "stream",
     "text": [
      "Epoch 321/1000: 100%|██████████████████████████████| 47/47 [00:00<00:00, 249.98batch/s, loss=0.077878]\n"
     ]
    },
    {
     "name": "stdout",
     "output_type": "stream",
     "text": [
      "Epoch: 321/1000, Loss: 0.084662\n"
     ]
    },
    {
     "name": "stderr",
     "output_type": "stream",
     "text": [
      "Epoch 322/1000: 100%|██████████████████████████████| 47/47 [00:00<00:00, 238.69batch/s, loss=0.204419]\n"
     ]
    },
    {
     "name": "stdout",
     "output_type": "stream",
     "text": [
      "Epoch: 322/1000, Loss: 0.119087\n"
     ]
    },
    {
     "name": "stderr",
     "output_type": "stream",
     "text": [
      "Epoch 323/1000: 100%|██████████████████████████████| 47/47 [00:00<00:00, 258.38batch/s, loss=0.067680]\n"
     ]
    },
    {
     "name": "stdout",
     "output_type": "stream",
     "text": [
      "Epoch: 323/1000, Loss: 0.117906\n"
     ]
    },
    {
     "name": "stderr",
     "output_type": "stream",
     "text": [
      "Epoch 324/1000: 100%|██████████████████████████████| 47/47 [00:00<00:00, 255.95batch/s, loss=0.029854]\n"
     ]
    },
    {
     "name": "stdout",
     "output_type": "stream",
     "text": [
      "Epoch: 324/1000, Loss: 0.088066\n"
     ]
    },
    {
     "name": "stderr",
     "output_type": "stream",
     "text": [
      "Epoch 325/1000: 100%|██████████████████████████████| 47/47 [00:00<00:00, 223.62batch/s, loss=0.070273]\n"
     ]
    },
    {
     "name": "stdout",
     "output_type": "stream",
     "text": [
      "Epoch: 325/1000, Loss: 0.083891\n"
     ]
    },
    {
     "name": "stderr",
     "output_type": "stream",
     "text": [
      "Epoch 326/1000: 100%|██████████████████████████████| 47/47 [00:00<00:00, 272.72batch/s, loss=0.038815]\n"
     ]
    },
    {
     "name": "stdout",
     "output_type": "stream",
     "text": [
      "Epoch: 326/1000, Loss: 0.098092\n"
     ]
    },
    {
     "name": "stderr",
     "output_type": "stream",
     "text": [
      "Epoch 327/1000: 100%|██████████████████████████████| 47/47 [00:00<00:00, 258.99batch/s, loss=0.306003]\n"
     ]
    },
    {
     "name": "stdout",
     "output_type": "stream",
     "text": [
      "Epoch: 327/1000, Loss: 0.085150\n"
     ]
    },
    {
     "name": "stderr",
     "output_type": "stream",
     "text": [
      "Epoch 328/1000: 100%|██████████████████████████████| 47/47 [00:00<00:00, 265.91batch/s, loss=0.200230]\n"
     ]
    },
    {
     "name": "stdout",
     "output_type": "stream",
     "text": [
      "Epoch: 328/1000, Loss: 0.102458\n"
     ]
    },
    {
     "name": "stderr",
     "output_type": "stream",
     "text": [
      "Epoch 329/1000: 100%|██████████████████████████████| 47/47 [00:00<00:00, 260.92batch/s, loss=0.052398]\n"
     ]
    },
    {
     "name": "stdout",
     "output_type": "stream",
     "text": [
      "Epoch: 329/1000, Loss: 0.073705\n"
     ]
    },
    {
     "name": "stderr",
     "output_type": "stream",
     "text": [
      "Epoch 330/1000: 100%|██████████████████████████████| 47/47 [00:00<00:00, 283.97batch/s, loss=0.032080]\n"
     ]
    },
    {
     "name": "stdout",
     "output_type": "stream",
     "text": [
      "Epoch: 330/1000, Loss: 0.088557\n"
     ]
    },
    {
     "name": "stderr",
     "output_type": "stream",
     "text": [
      "Epoch 331/1000: 100%|██████████████████████████████| 47/47 [00:00<00:00, 277.64batch/s, loss=0.123370]\n"
     ]
    },
    {
     "name": "stdout",
     "output_type": "stream",
     "text": [
      "Epoch: 331/1000, Loss: 0.132626\n"
     ]
    },
    {
     "name": "stderr",
     "output_type": "stream",
     "text": [
      "Epoch 332/1000: 100%|██████████████████████████████| 47/47 [00:00<00:00, 265.92batch/s, loss=0.044400]\n"
     ]
    },
    {
     "name": "stdout",
     "output_type": "stream",
     "text": [
      "Epoch: 332/1000, Loss: 0.118115\n"
     ]
    },
    {
     "name": "stderr",
     "output_type": "stream",
     "text": [
      "Epoch 333/1000: 100%|██████████████████████████████| 47/47 [00:00<00:00, 255.56batch/s, loss=0.226591]\n"
     ]
    },
    {
     "name": "stdout",
     "output_type": "stream",
     "text": [
      "Epoch: 333/1000, Loss: 0.117809\n"
     ]
    },
    {
     "name": "stderr",
     "output_type": "stream",
     "text": [
      "Epoch 334/1000: 100%|██████████████████████████████| 47/47 [00:00<00:00, 239.40batch/s, loss=0.100578]\n"
     ]
    },
    {
     "name": "stdout",
     "output_type": "stream",
     "text": [
      "Epoch: 334/1000, Loss: 0.140714\n"
     ]
    },
    {
     "name": "stderr",
     "output_type": "stream",
     "text": [
      "Epoch 335/1000: 100%|██████████████████████████████| 47/47 [00:00<00:00, 227.16batch/s, loss=0.014450]\n"
     ]
    },
    {
     "name": "stdout",
     "output_type": "stream",
     "text": [
      "Epoch: 335/1000, Loss: 0.128441\n"
     ]
    },
    {
     "name": "stderr",
     "output_type": "stream",
     "text": [
      "Epoch 336/1000: 100%|██████████████████████████████| 47/47 [00:00<00:00, 263.41batch/s, loss=0.136292]\n"
     ]
    },
    {
     "name": "stdout",
     "output_type": "stream",
     "text": [
      "Epoch: 336/1000, Loss: 0.115112\n"
     ]
    },
    {
     "name": "stderr",
     "output_type": "stream",
     "text": [
      "Epoch 337/1000: 100%|██████████████████████████████| 47/47 [00:00<00:00, 262.88batch/s, loss=0.216463]\n"
     ]
    },
    {
     "name": "stdout",
     "output_type": "stream",
     "text": [
      "Epoch: 337/1000, Loss: 0.121260\n"
     ]
    },
    {
     "name": "stderr",
     "output_type": "stream",
     "text": [
      "Epoch 338/1000: 100%|██████████████████████████████| 47/47 [00:00<00:00, 259.14batch/s, loss=0.092403]\n"
     ]
    },
    {
     "name": "stdout",
     "output_type": "stream",
     "text": [
      "Epoch: 338/1000, Loss: 0.113784\n"
     ]
    },
    {
     "name": "stderr",
     "output_type": "stream",
     "text": [
      "Epoch 339/1000: 100%|██████████████████████████████| 47/47 [00:00<00:00, 251.04batch/s, loss=0.014255]\n"
     ]
    },
    {
     "name": "stdout",
     "output_type": "stream",
     "text": [
      "Epoch: 339/1000, Loss: 0.095848\n"
     ]
    },
    {
     "name": "stderr",
     "output_type": "stream",
     "text": [
      "Epoch 340/1000: 100%|██████████████████████████████| 47/47 [00:00<00:00, 222.48batch/s, loss=0.028980]\n"
     ]
    },
    {
     "name": "stdout",
     "output_type": "stream",
     "text": [
      "Epoch: 340/1000, Loss: 0.096176\n"
     ]
    },
    {
     "name": "stderr",
     "output_type": "stream",
     "text": [
      "Epoch 341/1000: 100%|██████████████████████████████| 47/47 [00:00<00:00, 212.76batch/s, loss=0.056721]\n"
     ]
    },
    {
     "name": "stdout",
     "output_type": "stream",
     "text": [
      "Epoch: 341/1000, Loss: 0.077988\n"
     ]
    },
    {
     "name": "stderr",
     "output_type": "stream",
     "text": [
      "Epoch 342/1000: 100%|██████████████████████████████| 47/47 [00:00<00:00, 212.83batch/s, loss=0.031292]\n"
     ]
    },
    {
     "name": "stdout",
     "output_type": "stream",
     "text": [
      "Epoch: 342/1000, Loss: 0.094755\n"
     ]
    },
    {
     "name": "stderr",
     "output_type": "stream",
     "text": [
      "Epoch 343/1000: 100%|██████████████████████████████| 47/47 [00:00<00:00, 219.45batch/s, loss=0.034079]\n"
     ]
    },
    {
     "name": "stdout",
     "output_type": "stream",
     "text": [
      "Epoch: 343/1000, Loss: 0.097142\n"
     ]
    },
    {
     "name": "stderr",
     "output_type": "stream",
     "text": [
      "Epoch 344/1000: 100%|██████████████████████████████| 47/47 [00:00<00:00, 220.22batch/s, loss=0.151639]\n"
     ]
    },
    {
     "name": "stdout",
     "output_type": "stream",
     "text": [
      "Epoch: 344/1000, Loss: 0.104944\n"
     ]
    },
    {
     "name": "stderr",
     "output_type": "stream",
     "text": [
      "Epoch 345/1000: 100%|██████████████████████████████| 47/47 [00:00<00:00, 235.35batch/s, loss=0.090355]\n"
     ]
    },
    {
     "name": "stdout",
     "output_type": "stream",
     "text": [
      "Epoch: 345/1000, Loss: 0.103928\n"
     ]
    },
    {
     "name": "stderr",
     "output_type": "stream",
     "text": [
      "Epoch 346/1000: 100%|██████████████████████████████| 47/47 [00:00<00:00, 201.56batch/s, loss=0.161626]\n"
     ]
    },
    {
     "name": "stdout",
     "output_type": "stream",
     "text": [
      "Epoch: 346/1000, Loss: 0.107851\n"
     ]
    },
    {
     "name": "stderr",
     "output_type": "stream",
     "text": [
      "Epoch 347/1000: 100%|██████████████████████████████| 47/47 [00:00<00:00, 221.28batch/s, loss=0.028596]\n"
     ]
    },
    {
     "name": "stdout",
     "output_type": "stream",
     "text": [
      "Epoch: 347/1000, Loss: 0.088166\n"
     ]
    },
    {
     "name": "stderr",
     "output_type": "stream",
     "text": [
      "Epoch 348/1000: 100%|██████████████████████████████| 47/47 [00:00<00:00, 211.41batch/s, loss=0.078676]\n"
     ]
    },
    {
     "name": "stdout",
     "output_type": "stream",
     "text": [
      "Epoch: 348/1000, Loss: 0.098272\n"
     ]
    },
    {
     "name": "stderr",
     "output_type": "stream",
     "text": [
      "Epoch 349/1000: 100%|██████████████████████████████| 47/47 [00:00<00:00, 243.05batch/s, loss=0.036367]\n"
     ]
    },
    {
     "name": "stdout",
     "output_type": "stream",
     "text": [
      "Epoch: 349/1000, Loss: 0.089645\n"
     ]
    },
    {
     "name": "stderr",
     "output_type": "stream",
     "text": [
      "Epoch 350/1000: 100%|██████████████████████████████| 47/47 [00:00<00:00, 215.03batch/s, loss=0.168072]\n"
     ]
    },
    {
     "name": "stdout",
     "output_type": "stream",
     "text": [
      "Epoch: 350/1000, Loss: 0.096686\n"
     ]
    },
    {
     "name": "stderr",
     "output_type": "stream",
     "text": [
      "Epoch 351/1000: 100%|██████████████████████████████| 47/47 [00:00<00:00, 193.45batch/s, loss=0.069311]\n"
     ]
    },
    {
     "name": "stdout",
     "output_type": "stream",
     "text": [
      "Epoch: 351/1000, Loss: 0.111749\n"
     ]
    },
    {
     "name": "stderr",
     "output_type": "stream",
     "text": [
      "Epoch 352/1000: 100%|██████████████████████████████| 47/47 [00:00<00:00, 206.35batch/s, loss=0.039405]\n"
     ]
    },
    {
     "name": "stdout",
     "output_type": "stream",
     "text": [
      "Epoch: 352/1000, Loss: 0.117888\n"
     ]
    },
    {
     "name": "stderr",
     "output_type": "stream",
     "text": [
      "Epoch 353/1000: 100%|██████████████████████████████| 47/47 [00:00<00:00, 182.77batch/s, loss=0.097869]\n"
     ]
    },
    {
     "name": "stdout",
     "output_type": "stream",
     "text": [
      "Epoch: 353/1000, Loss: 0.130166\n"
     ]
    },
    {
     "name": "stderr",
     "output_type": "stream",
     "text": [
      "Epoch 354/1000: 100%|██████████████████████████████| 47/47 [00:00<00:00, 189.74batch/s, loss=0.332504]\n"
     ]
    },
    {
     "name": "stdout",
     "output_type": "stream",
     "text": [
      "Epoch: 354/1000, Loss: 0.093905\n"
     ]
    },
    {
     "name": "stderr",
     "output_type": "stream",
     "text": [
      "Epoch 355/1000: 100%|██████████████████████████████| 47/47 [00:00<00:00, 224.39batch/s, loss=0.104633]\n"
     ]
    },
    {
     "name": "stdout",
     "output_type": "stream",
     "text": [
      "Epoch: 355/1000, Loss: 0.122474\n"
     ]
    },
    {
     "name": "stderr",
     "output_type": "stream",
     "text": [
      "Epoch 356/1000: 100%|██████████████████████████████| 47/47 [00:00<00:00, 241.27batch/s, loss=0.324035]\n"
     ]
    },
    {
     "name": "stdout",
     "output_type": "stream",
     "text": [
      "Epoch: 356/1000, Loss: 0.089138\n"
     ]
    },
    {
     "name": "stderr",
     "output_type": "stream",
     "text": [
      "Epoch 357/1000: 100%|██████████████████████████████| 47/47 [00:00<00:00, 236.68batch/s, loss=0.041796]\n"
     ]
    },
    {
     "name": "stdout",
     "output_type": "stream",
     "text": [
      "Epoch: 357/1000, Loss: 0.115457\n"
     ]
    },
    {
     "name": "stderr",
     "output_type": "stream",
     "text": [
      "Epoch 358/1000: 100%|██████████████████████████████| 47/47 [00:00<00:00, 220.14batch/s, loss=0.059133]\n"
     ]
    },
    {
     "name": "stdout",
     "output_type": "stream",
     "text": [
      "Epoch: 358/1000, Loss: 0.083593\n"
     ]
    },
    {
     "name": "stderr",
     "output_type": "stream",
     "text": [
      "Epoch 359/1000: 100%|██████████████████████████████| 47/47 [00:00<00:00, 219.88batch/s, loss=0.088664]\n"
     ]
    },
    {
     "name": "stdout",
     "output_type": "stream",
     "text": [
      "Epoch: 359/1000, Loss: 0.110337\n"
     ]
    },
    {
     "name": "stderr",
     "output_type": "stream",
     "text": [
      "Epoch 360/1000: 100%|██████████████████████████████| 47/47 [00:00<00:00, 205.16batch/s, loss=0.125045]\n"
     ]
    },
    {
     "name": "stdout",
     "output_type": "stream",
     "text": [
      "Epoch: 360/1000, Loss: 0.121745\n"
     ]
    },
    {
     "name": "stderr",
     "output_type": "stream",
     "text": [
      "Epoch 361/1000: 100%|██████████████████████████████| 47/47 [00:00<00:00, 215.55batch/s, loss=0.219169]\n"
     ]
    },
    {
     "name": "stdout",
     "output_type": "stream",
     "text": [
      "Epoch: 361/1000, Loss: 0.117527\n"
     ]
    },
    {
     "name": "stderr",
     "output_type": "stream",
     "text": [
      "Epoch 362/1000: 100%|██████████████████████████████| 47/47 [00:00<00:00, 211.60batch/s, loss=0.103836]\n"
     ]
    },
    {
     "name": "stdout",
     "output_type": "stream",
     "text": [
      "Epoch: 362/1000, Loss: 0.081637\n"
     ]
    },
    {
     "name": "stderr",
     "output_type": "stream",
     "text": [
      "Epoch 363/1000: 100%|██████████████████████████████| 47/47 [00:00<00:00, 189.89batch/s, loss=0.086797]\n"
     ]
    },
    {
     "name": "stdout",
     "output_type": "stream",
     "text": [
      "Epoch: 363/1000, Loss: 0.067232\n"
     ]
    },
    {
     "name": "stderr",
     "output_type": "stream",
     "text": [
      "Epoch 364/1000: 100%|██████████████████████████████| 47/47 [00:00<00:00, 175.25batch/s, loss=0.040758]\n"
     ]
    },
    {
     "name": "stdout",
     "output_type": "stream",
     "text": [
      "Epoch: 364/1000, Loss: 0.074247\n"
     ]
    },
    {
     "name": "stderr",
     "output_type": "stream",
     "text": [
      "Epoch 365/1000: 100%|██████████████████████████████| 47/47 [00:00<00:00, 216.30batch/s, loss=0.025660]\n"
     ]
    },
    {
     "name": "stdout",
     "output_type": "stream",
     "text": [
      "Epoch: 365/1000, Loss: 0.074380\n"
     ]
    },
    {
     "name": "stderr",
     "output_type": "stream",
     "text": [
      "Epoch 366/1000: 100%|██████████████████████████████| 47/47 [00:00<00:00, 217.66batch/s, loss=0.056115]\n"
     ]
    },
    {
     "name": "stdout",
     "output_type": "stream",
     "text": [
      "Epoch: 366/1000, Loss: 0.072331\n"
     ]
    },
    {
     "name": "stderr",
     "output_type": "stream",
     "text": [
      "Epoch 367/1000: 100%|██████████████████████████████| 47/47 [00:00<00:00, 189.91batch/s, loss=0.009165]\n"
     ]
    },
    {
     "name": "stdout",
     "output_type": "stream",
     "text": [
      "Epoch: 367/1000, Loss: 0.059969\n"
     ]
    },
    {
     "name": "stderr",
     "output_type": "stream",
     "text": [
      "Epoch 368/1000: 100%|██████████████████████████████| 47/47 [00:00<00:00, 217.90batch/s, loss=0.430163]\n"
     ]
    },
    {
     "name": "stdout",
     "output_type": "stream",
     "text": [
      "Epoch: 368/1000, Loss: 0.085770\n"
     ]
    },
    {
     "name": "stderr",
     "output_type": "stream",
     "text": [
      "Epoch 369/1000: 100%|██████████████████████████████| 47/47 [00:00<00:00, 242.68batch/s, loss=0.018989]\n"
     ]
    },
    {
     "name": "stdout",
     "output_type": "stream",
     "text": [
      "Epoch: 369/1000, Loss: 0.083436\n"
     ]
    },
    {
     "name": "stderr",
     "output_type": "stream",
     "text": [
      "Epoch 370/1000: 100%|██████████████████████████████| 47/47 [00:00<00:00, 209.20batch/s, loss=0.065516]\n"
     ]
    },
    {
     "name": "stdout",
     "output_type": "stream",
     "text": [
      "Epoch: 370/1000, Loss: 0.119546\n"
     ]
    },
    {
     "name": "stderr",
     "output_type": "stream",
     "text": [
      "Epoch 371/1000: 100%|██████████████████████████████| 47/47 [00:00<00:00, 235.12batch/s, loss=0.014377]\n"
     ]
    },
    {
     "name": "stdout",
     "output_type": "stream",
     "text": [
      "Epoch: 371/1000, Loss: 0.083082\n"
     ]
    },
    {
     "name": "stderr",
     "output_type": "stream",
     "text": [
      "Epoch 372/1000: 100%|██████████████████████████████| 47/47 [00:00<00:00, 238.92batch/s, loss=0.146178]\n"
     ]
    },
    {
     "name": "stdout",
     "output_type": "stream",
     "text": [
      "Epoch: 372/1000, Loss: 0.115639\n"
     ]
    },
    {
     "name": "stderr",
     "output_type": "stream",
     "text": [
      "Epoch 373/1000: 100%|██████████████████████████████| 47/47 [00:00<00:00, 233.78batch/s, loss=0.082398]\n"
     ]
    },
    {
     "name": "stdout",
     "output_type": "stream",
     "text": [
      "Epoch: 373/1000, Loss: 0.140882\n"
     ]
    },
    {
     "name": "stderr",
     "output_type": "stream",
     "text": [
      "Epoch 374/1000: 100%|██████████████████████████████| 47/47 [00:00<00:00, 239.98batch/s, loss=0.211154]\n"
     ]
    },
    {
     "name": "stdout",
     "output_type": "stream",
     "text": [
      "Epoch: 374/1000, Loss: 0.121453\n"
     ]
    },
    {
     "name": "stderr",
     "output_type": "stream",
     "text": [
      "Epoch 375/1000: 100%|██████████████████████████████| 47/47 [00:00<00:00, 204.40batch/s, loss=0.190912]\n"
     ]
    },
    {
     "name": "stdout",
     "output_type": "stream",
     "text": [
      "Epoch: 375/1000, Loss: 0.103639\n"
     ]
    },
    {
     "name": "stderr",
     "output_type": "stream",
     "text": [
      "Epoch 376/1000: 100%|██████████████████████████████| 47/47 [00:00<00:00, 210.37batch/s, loss=0.063815]\n"
     ]
    },
    {
     "name": "stdout",
     "output_type": "stream",
     "text": [
      "Epoch: 376/1000, Loss: 0.074265\n"
     ]
    },
    {
     "name": "stderr",
     "output_type": "stream",
     "text": [
      "Epoch 377/1000: 100%|██████████████████████████████| 47/47 [00:00<00:00, 252.94batch/s, loss=0.186171]\n"
     ]
    },
    {
     "name": "stdout",
     "output_type": "stream",
     "text": [
      "Epoch: 377/1000, Loss: 0.066306\n"
     ]
    },
    {
     "name": "stderr",
     "output_type": "stream",
     "text": [
      "Epoch 378/1000: 100%|██████████████████████████████| 47/47 [00:00<00:00, 207.03batch/s, loss=0.068732]\n"
     ]
    },
    {
     "name": "stdout",
     "output_type": "stream",
     "text": [
      "Epoch: 378/1000, Loss: 0.080477\n"
     ]
    },
    {
     "name": "stderr",
     "output_type": "stream",
     "text": [
      "Epoch 379/1000: 100%|██████████████████████████████| 47/47 [00:00<00:00, 213.01batch/s, loss=0.191561]\n"
     ]
    },
    {
     "name": "stdout",
     "output_type": "stream",
     "text": [
      "Epoch: 379/1000, Loss: 0.096222\n"
     ]
    },
    {
     "name": "stderr",
     "output_type": "stream",
     "text": [
      "Epoch 380/1000: 100%|██████████████████████████████| 47/47 [00:00<00:00, 225.15batch/s, loss=0.010458]\n"
     ]
    },
    {
     "name": "stdout",
     "output_type": "stream",
     "text": [
      "Epoch: 380/1000, Loss: 0.080126\n"
     ]
    },
    {
     "name": "stderr",
     "output_type": "stream",
     "text": [
      "Epoch 381/1000: 100%|██████████████████████████████| 47/47 [00:00<00:00, 225.08batch/s, loss=0.020642]\n"
     ]
    },
    {
     "name": "stdout",
     "output_type": "stream",
     "text": [
      "Epoch: 381/1000, Loss: 0.062504\n"
     ]
    },
    {
     "name": "stderr",
     "output_type": "stream",
     "text": [
      "Epoch 382/1000: 100%|██████████████████████████████| 47/47 [00:00<00:00, 198.38batch/s, loss=0.134776]\n"
     ]
    },
    {
     "name": "stdout",
     "output_type": "stream",
     "text": [
      "Epoch: 382/1000, Loss: 0.112166\n"
     ]
    },
    {
     "name": "stderr",
     "output_type": "stream",
     "text": [
      "Epoch 383/1000: 100%|██████████████████████████████| 47/47 [00:00<00:00, 216.02batch/s, loss=0.460117]\n"
     ]
    },
    {
     "name": "stdout",
     "output_type": "stream",
     "text": [
      "Epoch: 383/1000, Loss: 0.101824\n"
     ]
    },
    {
     "name": "stderr",
     "output_type": "stream",
     "text": [
      "Epoch 384/1000: 100%|██████████████████████████████| 47/47 [00:00<00:00, 224.23batch/s, loss=0.021899]\n"
     ]
    },
    {
     "name": "stdout",
     "output_type": "stream",
     "text": [
      "Epoch: 384/1000, Loss: 0.106255\n"
     ]
    },
    {
     "name": "stderr",
     "output_type": "stream",
     "text": [
      "Epoch 385/1000: 100%|██████████████████████████████| 47/47 [00:00<00:00, 245.95batch/s, loss=0.025883]\n"
     ]
    },
    {
     "name": "stdout",
     "output_type": "stream",
     "text": [
      "Epoch: 385/1000, Loss: 0.097098\n"
     ]
    },
    {
     "name": "stderr",
     "output_type": "stream",
     "text": [
      "Epoch 386/1000: 100%|██████████████████████████████| 47/47 [00:00<00:00, 237.00batch/s, loss=0.052966]\n"
     ]
    },
    {
     "name": "stdout",
     "output_type": "stream",
     "text": [
      "Epoch: 386/1000, Loss: 0.090240\n"
     ]
    },
    {
     "name": "stderr",
     "output_type": "stream",
     "text": [
      "Epoch 387/1000: 100%|██████████████████████████████| 47/47 [00:00<00:00, 260.33batch/s, loss=0.009209]\n"
     ]
    },
    {
     "name": "stdout",
     "output_type": "stream",
     "text": [
      "Epoch: 387/1000, Loss: 0.093675\n"
     ]
    },
    {
     "name": "stderr",
     "output_type": "stream",
     "text": [
      "Epoch 388/1000: 100%|██████████████████████████████| 47/47 [00:00<00:00, 240.61batch/s, loss=0.231783]\n"
     ]
    },
    {
     "name": "stdout",
     "output_type": "stream",
     "text": [
      "Epoch: 388/1000, Loss: 0.094689\n"
     ]
    },
    {
     "name": "stderr",
     "output_type": "stream",
     "text": [
      "Epoch 389/1000: 100%|██████████████████████████████| 47/47 [00:00<00:00, 240.44batch/s, loss=0.173784]\n"
     ]
    },
    {
     "name": "stdout",
     "output_type": "stream",
     "text": [
      "Epoch: 389/1000, Loss: 0.102421\n"
     ]
    },
    {
     "name": "stderr",
     "output_type": "stream",
     "text": [
      "Epoch 390/1000: 100%|██████████████████████████████| 47/47 [00:00<00:00, 237.92batch/s, loss=0.085700]\n"
     ]
    },
    {
     "name": "stdout",
     "output_type": "stream",
     "text": [
      "Epoch: 390/1000, Loss: 0.066385\n"
     ]
    },
    {
     "name": "stderr",
     "output_type": "stream",
     "text": [
      "Epoch 391/1000: 100%|██████████████████████████████| 47/47 [00:00<00:00, 268.69batch/s, loss=0.022412]\n"
     ]
    },
    {
     "name": "stdout",
     "output_type": "stream",
     "text": [
      "Epoch: 391/1000, Loss: 0.114542\n"
     ]
    },
    {
     "name": "stderr",
     "output_type": "stream",
     "text": [
      "Epoch 392/1000: 100%|██████████████████████████████| 47/47 [00:00<00:00, 284.09batch/s, loss=0.026378]\n"
     ]
    },
    {
     "name": "stdout",
     "output_type": "stream",
     "text": [
      "Epoch: 392/1000, Loss: 0.083782\n"
     ]
    },
    {
     "name": "stderr",
     "output_type": "stream",
     "text": [
      "Epoch 393/1000: 100%|██████████████████████████████| 47/47 [00:00<00:00, 276.07batch/s, loss=0.020965]\n"
     ]
    },
    {
     "name": "stdout",
     "output_type": "stream",
     "text": [
      "Epoch: 393/1000, Loss: 0.106932\n"
     ]
    },
    {
     "name": "stderr",
     "output_type": "stream",
     "text": [
      "Epoch 394/1000: 100%|██████████████████████████████| 47/47 [00:00<00:00, 261.59batch/s, loss=0.223545]\n"
     ]
    },
    {
     "name": "stdout",
     "output_type": "stream",
     "text": [
      "Epoch: 394/1000, Loss: 0.098247\n"
     ]
    },
    {
     "name": "stderr",
     "output_type": "stream",
     "text": [
      "Epoch 395/1000: 100%|██████████████████████████████| 47/47 [00:00<00:00, 237.72batch/s, loss=0.281947]\n"
     ]
    },
    {
     "name": "stdout",
     "output_type": "stream",
     "text": [
      "Epoch: 395/1000, Loss: 0.143970\n"
     ]
    },
    {
     "name": "stderr",
     "output_type": "stream",
     "text": [
      "Epoch 396/1000: 100%|██████████████████████████████| 47/47 [00:00<00:00, 240.82batch/s, loss=0.086883]\n"
     ]
    },
    {
     "name": "stdout",
     "output_type": "stream",
     "text": [
      "Epoch: 396/1000, Loss: 0.084257\n"
     ]
    },
    {
     "name": "stderr",
     "output_type": "stream",
     "text": [
      "Epoch 397/1000: 100%|██████████████████████████████| 47/47 [00:00<00:00, 245.08batch/s, loss=0.033631]\n"
     ]
    },
    {
     "name": "stdout",
     "output_type": "stream",
     "text": [
      "Epoch: 397/1000, Loss: 0.072805\n"
     ]
    },
    {
     "name": "stderr",
     "output_type": "stream",
     "text": [
      "Epoch 398/1000: 100%|██████████████████████████████| 47/47 [00:00<00:00, 252.90batch/s, loss=0.086137]\n"
     ]
    },
    {
     "name": "stdout",
     "output_type": "stream",
     "text": [
      "Epoch: 398/1000, Loss: 0.083465\n"
     ]
    },
    {
     "name": "stderr",
     "output_type": "stream",
     "text": [
      "Epoch 399/1000: 100%|██████████████████████████████| 47/47 [00:00<00:00, 224.24batch/s, loss=0.114704]\n"
     ]
    },
    {
     "name": "stdout",
     "output_type": "stream",
     "text": [
      "Epoch: 399/1000, Loss: 0.084752\n"
     ]
    },
    {
     "name": "stderr",
     "output_type": "stream",
     "text": [
      "Epoch 400/1000: 100%|██████████████████████████████| 47/47 [00:00<00:00, 221.75batch/s, loss=0.100922]\n"
     ]
    },
    {
     "name": "stdout",
     "output_type": "stream",
     "text": [
      "Epoch: 400/1000, Loss: 0.104314\n"
     ]
    },
    {
     "name": "stderr",
     "output_type": "stream",
     "text": [
      "Epoch 401/1000: 100%|██████████████████████████████| 47/47 [00:00<00:00, 213.89batch/s, loss=0.114288]\n"
     ]
    },
    {
     "name": "stdout",
     "output_type": "stream",
     "text": [
      "Epoch: 401/1000, Loss: 0.086981\n"
     ]
    },
    {
     "name": "stderr",
     "output_type": "stream",
     "text": [
      "Epoch 402/1000: 100%|██████████████████████████████| 47/47 [00:00<00:00, 212.16batch/s, loss=0.011047]\n"
     ]
    },
    {
     "name": "stdout",
     "output_type": "stream",
     "text": [
      "Epoch: 402/1000, Loss: 0.107661\n"
     ]
    },
    {
     "name": "stderr",
     "output_type": "stream",
     "text": [
      "Epoch 403/1000: 100%|██████████████████████████████| 47/47 [00:00<00:00, 210.49batch/s, loss=0.045187]\n"
     ]
    },
    {
     "name": "stdout",
     "output_type": "stream",
     "text": [
      "Epoch: 403/1000, Loss: 0.083578\n"
     ]
    },
    {
     "name": "stderr",
     "output_type": "stream",
     "text": [
      "Epoch 404/1000: 100%|██████████████████████████████| 47/47 [00:00<00:00, 208.61batch/s, loss=0.004379]\n"
     ]
    },
    {
     "name": "stdout",
     "output_type": "stream",
     "text": [
      "Epoch: 404/1000, Loss: 0.062431\n"
     ]
    },
    {
     "name": "stderr",
     "output_type": "stream",
     "text": [
      "Epoch 405/1000: 100%|██████████████████████████████| 47/47 [00:00<00:00, 226.24batch/s, loss=0.458691]\n"
     ]
    },
    {
     "name": "stdout",
     "output_type": "stream",
     "text": [
      "Epoch: 405/1000, Loss: 0.142410\n"
     ]
    },
    {
     "name": "stderr",
     "output_type": "stream",
     "text": [
      "Epoch 406/1000: 100%|██████████████████████████████| 47/47 [00:00<00:00, 236.40batch/s, loss=0.022841]\n"
     ]
    },
    {
     "name": "stdout",
     "output_type": "stream",
     "text": [
      "Epoch: 406/1000, Loss: 0.109969\n"
     ]
    },
    {
     "name": "stderr",
     "output_type": "stream",
     "text": [
      "Epoch 407/1000: 100%|██████████████████████████████| 47/47 [00:00<00:00, 222.25batch/s, loss=0.026742]\n"
     ]
    },
    {
     "name": "stdout",
     "output_type": "stream",
     "text": [
      "Epoch: 407/1000, Loss: 0.110064\n"
     ]
    },
    {
     "name": "stderr",
     "output_type": "stream",
     "text": [
      "Epoch 408/1000: 100%|██████████████████████████████| 47/47 [00:00<00:00, 230.77batch/s, loss=0.039107]\n"
     ]
    },
    {
     "name": "stdout",
     "output_type": "stream",
     "text": [
      "Epoch: 408/1000, Loss: 0.084803\n"
     ]
    },
    {
     "name": "stderr",
     "output_type": "stream",
     "text": [
      "Epoch 409/1000: 100%|██████████████████████████████| 47/47 [00:00<00:00, 241.41batch/s, loss=0.163173]\n"
     ]
    },
    {
     "name": "stdout",
     "output_type": "stream",
     "text": [
      "Epoch: 409/1000, Loss: 0.080458\n"
     ]
    },
    {
     "name": "stderr",
     "output_type": "stream",
     "text": [
      "Epoch 410/1000: 100%|██████████████████████████████| 47/47 [00:00<00:00, 252.65batch/s, loss=0.124080]\n"
     ]
    },
    {
     "name": "stdout",
     "output_type": "stream",
     "text": [
      "Epoch: 410/1000, Loss: 0.090884\n"
     ]
    },
    {
     "name": "stderr",
     "output_type": "stream",
     "text": [
      "Epoch 411/1000: 100%|██████████████████████████████| 47/47 [00:00<00:00, 226.91batch/s, loss=0.067925]\n"
     ]
    },
    {
     "name": "stdout",
     "output_type": "stream",
     "text": [
      "Epoch: 411/1000, Loss: 0.089771\n"
     ]
    },
    {
     "name": "stderr",
     "output_type": "stream",
     "text": [
      "Epoch 412/1000: 100%|██████████████████████████████| 47/47 [00:00<00:00, 241.21batch/s, loss=0.023353]\n"
     ]
    },
    {
     "name": "stdout",
     "output_type": "stream",
     "text": [
      "Epoch: 412/1000, Loss: 0.059736\n"
     ]
    },
    {
     "name": "stderr",
     "output_type": "stream",
     "text": [
      "Epoch 413/1000: 100%|██████████████████████████████| 47/47 [00:00<00:00, 236.73batch/s, loss=0.161473]\n"
     ]
    },
    {
     "name": "stdout",
     "output_type": "stream",
     "text": [
      "Epoch: 413/1000, Loss: 0.187015\n"
     ]
    },
    {
     "name": "stderr",
     "output_type": "stream",
     "text": [
      "Epoch 414/1000: 100%|██████████████████████████████| 47/47 [00:00<00:00, 207.56batch/s, loss=0.056101]\n"
     ]
    },
    {
     "name": "stdout",
     "output_type": "stream",
     "text": [
      "Epoch: 414/1000, Loss: 0.076422\n"
     ]
    },
    {
     "name": "stderr",
     "output_type": "stream",
     "text": [
      "Epoch 415/1000: 100%|██████████████████████████████| 47/47 [00:00<00:00, 217.72batch/s, loss=0.036851]\n"
     ]
    },
    {
     "name": "stdout",
     "output_type": "stream",
     "text": [
      "Epoch: 415/1000, Loss: 0.083566\n"
     ]
    },
    {
     "name": "stderr",
     "output_type": "stream",
     "text": [
      "Epoch 416/1000: 100%|██████████████████████████████| 47/47 [00:00<00:00, 261.55batch/s, loss=0.221743]\n"
     ]
    },
    {
     "name": "stdout",
     "output_type": "stream",
     "text": [
      "Epoch: 416/1000, Loss: 0.094726\n"
     ]
    },
    {
     "name": "stderr",
     "output_type": "stream",
     "text": [
      "Epoch 417/1000: 100%|██████████████████████████████| 47/47 [00:00<00:00, 276.80batch/s, loss=0.102066]\n"
     ]
    },
    {
     "name": "stdout",
     "output_type": "stream",
     "text": [
      "Epoch: 417/1000, Loss: 0.081612\n"
     ]
    },
    {
     "name": "stderr",
     "output_type": "stream",
     "text": [
      "Epoch 418/1000: 100%|██████████████████████████████| 47/47 [00:00<00:00, 244.87batch/s, loss=0.019929]\n"
     ]
    },
    {
     "name": "stdout",
     "output_type": "stream",
     "text": [
      "Epoch: 418/1000, Loss: 0.065505\n"
     ]
    },
    {
     "name": "stderr",
     "output_type": "stream",
     "text": [
      "Epoch 419/1000: 100%|██████████████████████████████| 47/47 [00:00<00:00, 281.32batch/s, loss=0.048481]\n"
     ]
    },
    {
     "name": "stdout",
     "output_type": "stream",
     "text": [
      "Epoch: 419/1000, Loss: 0.066085\n"
     ]
    },
    {
     "name": "stderr",
     "output_type": "stream",
     "text": [
      "Epoch 420/1000: 100%|██████████████████████████████| 47/47 [00:00<00:00, 260.17batch/s, loss=0.287047]\n"
     ]
    },
    {
     "name": "stdout",
     "output_type": "stream",
     "text": [
      "Epoch: 420/1000, Loss: 0.080010\n"
     ]
    },
    {
     "name": "stderr",
     "output_type": "stream",
     "text": [
      "Epoch 421/1000: 100%|██████████████████████████████| 47/47 [00:00<00:00, 237.87batch/s, loss=0.179082]\n"
     ]
    },
    {
     "name": "stdout",
     "output_type": "stream",
     "text": [
      "Epoch: 421/1000, Loss: 0.098482\n"
     ]
    },
    {
     "name": "stderr",
     "output_type": "stream",
     "text": [
      "Epoch 422/1000: 100%|██████████████████████████████| 47/47 [00:00<00:00, 242.79batch/s, loss=0.007744]\n"
     ]
    },
    {
     "name": "stdout",
     "output_type": "stream",
     "text": [
      "Epoch: 422/1000, Loss: 0.099136\n"
     ]
    },
    {
     "name": "stderr",
     "output_type": "stream",
     "text": [
      "Epoch 423/1000: 100%|██████████████████████████████| 47/47 [00:00<00:00, 285.80batch/s, loss=0.188824]\n"
     ]
    },
    {
     "name": "stdout",
     "output_type": "stream",
     "text": [
      "Epoch: 423/1000, Loss: 0.113283\n"
     ]
    },
    {
     "name": "stderr",
     "output_type": "stream",
     "text": [
      "Epoch 424/1000: 100%|██████████████████████████████| 47/47 [00:00<00:00, 281.91batch/s, loss=0.092699]\n"
     ]
    },
    {
     "name": "stdout",
     "output_type": "stream",
     "text": [
      "Epoch: 424/1000, Loss: 0.095449\n"
     ]
    },
    {
     "name": "stderr",
     "output_type": "stream",
     "text": [
      "Epoch 425/1000: 100%|██████████████████████████████| 47/47 [00:00<00:00, 284.22batch/s, loss=0.019509]\n"
     ]
    },
    {
     "name": "stdout",
     "output_type": "stream",
     "text": [
      "Epoch: 425/1000, Loss: 0.081048\n"
     ]
    },
    {
     "name": "stderr",
     "output_type": "stream",
     "text": [
      "Epoch 426/1000: 100%|██████████████████████████████| 47/47 [00:00<00:00, 229.90batch/s, loss=0.006721]\n"
     ]
    },
    {
     "name": "stdout",
     "output_type": "stream",
     "text": [
      "Epoch: 426/1000, Loss: 0.066545\n"
     ]
    },
    {
     "name": "stderr",
     "output_type": "stream",
     "text": [
      "Epoch 427/1000: 100%|██████████████████████████████| 47/47 [00:00<00:00, 240.14batch/s, loss=0.024245]\n"
     ]
    },
    {
     "name": "stdout",
     "output_type": "stream",
     "text": [
      "Epoch: 427/1000, Loss: 0.089804\n"
     ]
    },
    {
     "name": "stderr",
     "output_type": "stream",
     "text": [
      "Epoch 428/1000: 100%|██████████████████████████████| 47/47 [00:00<00:00, 237.44batch/s, loss=0.008723]\n"
     ]
    },
    {
     "name": "stdout",
     "output_type": "stream",
     "text": [
      "Epoch: 428/1000, Loss: 0.116475\n"
     ]
    },
    {
     "name": "stderr",
     "output_type": "stream",
     "text": [
      "Epoch 429/1000: 100%|██████████████████████████████| 47/47 [00:00<00:00, 211.23batch/s, loss=0.024169]\n"
     ]
    },
    {
     "name": "stdout",
     "output_type": "stream",
     "text": [
      "Epoch: 429/1000, Loss: 0.085562\n"
     ]
    },
    {
     "name": "stderr",
     "output_type": "stream",
     "text": [
      "Epoch 430/1000: 100%|██████████████████████████████| 47/47 [00:00<00:00, 200.84batch/s, loss=0.011583]\n"
     ]
    },
    {
     "name": "stdout",
     "output_type": "stream",
     "text": [
      "Epoch: 430/1000, Loss: 0.107248\n"
     ]
    },
    {
     "name": "stderr",
     "output_type": "stream",
     "text": [
      "Epoch 431/1000: 100%|██████████████████████████████| 47/47 [00:00<00:00, 185.10batch/s, loss=0.013830]\n"
     ]
    },
    {
     "name": "stdout",
     "output_type": "stream",
     "text": [
      "Epoch: 431/1000, Loss: 0.070170\n"
     ]
    },
    {
     "name": "stderr",
     "output_type": "stream",
     "text": [
      "Epoch 432/1000: 100%|██████████████████████████████| 47/47 [00:00<00:00, 238.18batch/s, loss=0.134103]\n"
     ]
    },
    {
     "name": "stdout",
     "output_type": "stream",
     "text": [
      "Epoch: 432/1000, Loss: 0.090836\n"
     ]
    },
    {
     "name": "stderr",
     "output_type": "stream",
     "text": [
      "Epoch 433/1000: 100%|██████████████████████████████| 47/47 [00:00<00:00, 247.84batch/s, loss=0.119164]\n"
     ]
    },
    {
     "name": "stdout",
     "output_type": "stream",
     "text": [
      "Epoch: 433/1000, Loss: 0.093540\n"
     ]
    },
    {
     "name": "stderr",
     "output_type": "stream",
     "text": [
      "Epoch 434/1000: 100%|██████████████████████████████| 47/47 [00:00<00:00, 241.48batch/s, loss=0.012206]\n"
     ]
    },
    {
     "name": "stdout",
     "output_type": "stream",
     "text": [
      "Epoch: 434/1000, Loss: 0.076324\n"
     ]
    },
    {
     "name": "stderr",
     "output_type": "stream",
     "text": [
      "Epoch 435/1000: 100%|██████████████████████████████| 47/47 [00:00<00:00, 238.75batch/s, loss=0.108230]\n"
     ]
    },
    {
     "name": "stdout",
     "output_type": "stream",
     "text": [
      "Epoch: 435/1000, Loss: 0.098136\n"
     ]
    },
    {
     "name": "stderr",
     "output_type": "stream",
     "text": [
      "Epoch 436/1000: 100%|██████████████████████████████| 47/47 [00:00<00:00, 239.28batch/s, loss=0.053021]\n"
     ]
    },
    {
     "name": "stdout",
     "output_type": "stream",
     "text": [
      "Epoch: 436/1000, Loss: 0.085785\n"
     ]
    },
    {
     "name": "stderr",
     "output_type": "stream",
     "text": [
      "Epoch 437/1000: 100%|██████████████████████████████| 47/47 [00:00<00:00, 232.69batch/s, loss=0.023892]\n"
     ]
    },
    {
     "name": "stdout",
     "output_type": "stream",
     "text": [
      "Epoch: 437/1000, Loss: 0.083691\n"
     ]
    },
    {
     "name": "stderr",
     "output_type": "stream",
     "text": [
      "Epoch 438/1000: 100%|██████████████████████████████| 47/47 [00:00<00:00, 210.66batch/s, loss=0.061378]\n"
     ]
    },
    {
     "name": "stdout",
     "output_type": "stream",
     "text": [
      "Epoch: 438/1000, Loss: 0.104513\n"
     ]
    },
    {
     "name": "stderr",
     "output_type": "stream",
     "text": [
      "Epoch 439/1000: 100%|██████████████████████████████| 47/47 [00:00<00:00, 264.53batch/s, loss=0.035130]\n"
     ]
    },
    {
     "name": "stdout",
     "output_type": "stream",
     "text": [
      "Epoch: 439/1000, Loss: 0.091552\n"
     ]
    },
    {
     "name": "stderr",
     "output_type": "stream",
     "text": [
      "Epoch 440/1000: 100%|██████████████████████████████| 47/47 [00:00<00:00, 248.85batch/s, loss=0.056595]\n"
     ]
    },
    {
     "name": "stdout",
     "output_type": "stream",
     "text": [
      "Epoch: 440/1000, Loss: 0.103542\n"
     ]
    },
    {
     "name": "stderr",
     "output_type": "stream",
     "text": [
      "Epoch 441/1000: 100%|██████████████████████████████| 47/47 [00:00<00:00, 238.70batch/s, loss=0.027003]\n"
     ]
    },
    {
     "name": "stdout",
     "output_type": "stream",
     "text": [
      "Epoch: 441/1000, Loss: 0.051972\n"
     ]
    },
    {
     "name": "stderr",
     "output_type": "stream",
     "text": [
      "Epoch 442/1000: 100%|██████████████████████████████| 47/47 [00:00<00:00, 240.09batch/s, loss=0.029604]\n"
     ]
    },
    {
     "name": "stdout",
     "output_type": "stream",
     "text": [
      "Epoch: 442/1000, Loss: 0.067535\n"
     ]
    },
    {
     "name": "stderr",
     "output_type": "stream",
     "text": [
      "Epoch 443/1000: 100%|██████████████████████████████| 47/47 [00:00<00:00, 243.38batch/s, loss=0.017381]\n"
     ]
    },
    {
     "name": "stdout",
     "output_type": "stream",
     "text": [
      "Epoch: 443/1000, Loss: 0.052772\n"
     ]
    },
    {
     "name": "stderr",
     "output_type": "stream",
     "text": [
      "Epoch 444/1000: 100%|██████████████████████████████| 47/47 [00:00<00:00, 242.69batch/s, loss=0.121212]\n"
     ]
    },
    {
     "name": "stdout",
     "output_type": "stream",
     "text": [
      "Epoch: 444/1000, Loss: 0.063521\n"
     ]
    },
    {
     "name": "stderr",
     "output_type": "stream",
     "text": [
      "Epoch 445/1000: 100%|██████████████████████████████| 47/47 [00:00<00:00, 241.47batch/s, loss=0.057282]\n"
     ]
    },
    {
     "name": "stdout",
     "output_type": "stream",
     "text": [
      "Epoch: 445/1000, Loss: 0.088610\n"
     ]
    },
    {
     "name": "stderr",
     "output_type": "stream",
     "text": [
      "Epoch 446/1000: 100%|██████████████████████████████| 47/47 [00:00<00:00, 211.99batch/s, loss=0.262930]\n"
     ]
    },
    {
     "name": "stdout",
     "output_type": "stream",
     "text": [
      "Epoch: 446/1000, Loss: 0.110110\n"
     ]
    },
    {
     "name": "stderr",
     "output_type": "stream",
     "text": [
      "Epoch 447/1000: 100%|██████████████████████████████| 47/47 [00:00<00:00, 219.30batch/s, loss=0.073519]\n"
     ]
    },
    {
     "name": "stdout",
     "output_type": "stream",
     "text": [
      "Epoch: 447/1000, Loss: 0.091003\n"
     ]
    },
    {
     "name": "stderr",
     "output_type": "stream",
     "text": [
      "Epoch 448/1000: 100%|██████████████████████████████| 47/47 [00:00<00:00, 242.29batch/s, loss=0.113415]\n"
     ]
    },
    {
     "name": "stdout",
     "output_type": "stream",
     "text": [
      "Epoch: 448/1000, Loss: 0.083018\n"
     ]
    },
    {
     "name": "stderr",
     "output_type": "stream",
     "text": [
      "Epoch 449/1000: 100%|██████████████████████████████| 47/47 [00:00<00:00, 238.94batch/s, loss=0.019351]\n"
     ]
    },
    {
     "name": "stdout",
     "output_type": "stream",
     "text": [
      "Epoch: 449/1000, Loss: 0.084381\n"
     ]
    },
    {
     "name": "stderr",
     "output_type": "stream",
     "text": [
      "Epoch 450/1000: 100%|██████████████████████████████| 47/47 [00:00<00:00, 265.46batch/s, loss=0.207818]\n"
     ]
    },
    {
     "name": "stdout",
     "output_type": "stream",
     "text": [
      "Epoch: 450/1000, Loss: 0.072448\n"
     ]
    },
    {
     "name": "stderr",
     "output_type": "stream",
     "text": [
      "Epoch 451/1000: 100%|██████████████████████████████| 47/47 [00:00<00:00, 242.41batch/s, loss=0.042544]\n"
     ]
    },
    {
     "name": "stdout",
     "output_type": "stream",
     "text": [
      "Epoch: 451/1000, Loss: 0.086208\n"
     ]
    },
    {
     "name": "stderr",
     "output_type": "stream",
     "text": [
      "Epoch 452/1000: 100%|██████████████████████████████| 47/47 [00:00<00:00, 278.45batch/s, loss=0.019184]\n"
     ]
    },
    {
     "name": "stdout",
     "output_type": "stream",
     "text": [
      "Epoch: 452/1000, Loss: 0.072333\n"
     ]
    },
    {
     "name": "stderr",
     "output_type": "stream",
     "text": [
      "Epoch 453/1000: 100%|██████████████████████████████| 47/47 [00:00<00:00, 275.83batch/s, loss=0.067836]\n"
     ]
    },
    {
     "name": "stdout",
     "output_type": "stream",
     "text": [
      "Epoch: 453/1000, Loss: 0.122662\n"
     ]
    },
    {
     "name": "stderr",
     "output_type": "stream",
     "text": [
      "Epoch 454/1000: 100%|██████████████████████████████| 47/47 [00:00<00:00, 242.82batch/s, loss=0.048705]\n"
     ]
    },
    {
     "name": "stdout",
     "output_type": "stream",
     "text": [
      "Epoch: 454/1000, Loss: 0.124383\n"
     ]
    },
    {
     "name": "stderr",
     "output_type": "stream",
     "text": [
      "Epoch 455/1000: 100%|██████████████████████████████| 47/47 [00:00<00:00, 233.07batch/s, loss=0.242627]\n"
     ]
    },
    {
     "name": "stdout",
     "output_type": "stream",
     "text": [
      "Epoch: 455/1000, Loss: 0.114261\n"
     ]
    },
    {
     "name": "stderr",
     "output_type": "stream",
     "text": [
      "Epoch 456/1000: 100%|██████████████████████████████| 47/47 [00:00<00:00, 278.62batch/s, loss=0.083274]\n"
     ]
    },
    {
     "name": "stdout",
     "output_type": "stream",
     "text": [
      "Epoch: 456/1000, Loss: 0.117123\n"
     ]
    },
    {
     "name": "stderr",
     "output_type": "stream",
     "text": [
      "Epoch 457/1000: 100%|██████████████████████████████| 47/47 [00:00<00:00, 275.35batch/s, loss=0.024999]\n"
     ]
    },
    {
     "name": "stdout",
     "output_type": "stream",
     "text": [
      "Epoch: 457/1000, Loss: 0.081213\n"
     ]
    },
    {
     "name": "stderr",
     "output_type": "stream",
     "text": [
      "Epoch 458/1000: 100%|██████████████████████████████| 47/47 [00:00<00:00, 273.39batch/s, loss=0.035762]\n"
     ]
    },
    {
     "name": "stdout",
     "output_type": "stream",
     "text": [
      "Epoch: 458/1000, Loss: 0.079539\n"
     ]
    },
    {
     "name": "stderr",
     "output_type": "stream",
     "text": [
      "Epoch 459/1000: 100%|██████████████████████████████| 47/47 [00:00<00:00, 272.95batch/s, loss=0.009893]\n"
     ]
    },
    {
     "name": "stdout",
     "output_type": "stream",
     "text": [
      "Epoch: 459/1000, Loss: 0.087925\n"
     ]
    },
    {
     "name": "stderr",
     "output_type": "stream",
     "text": [
      "Epoch 460/1000: 100%|██████████████████████████████| 47/47 [00:00<00:00, 279.45batch/s, loss=0.194414]\n"
     ]
    },
    {
     "name": "stdout",
     "output_type": "stream",
     "text": [
      "Epoch: 460/1000, Loss: 0.065155\n"
     ]
    },
    {
     "name": "stderr",
     "output_type": "stream",
     "text": [
      "Epoch 461/1000: 100%|██████████████████████████████| 47/47 [00:00<00:00, 250.26batch/s, loss=0.325739]\n"
     ]
    },
    {
     "name": "stdout",
     "output_type": "stream",
     "text": [
      "Epoch: 461/1000, Loss: 0.103624\n"
     ]
    },
    {
     "name": "stderr",
     "output_type": "stream",
     "text": [
      "Epoch 462/1000: 100%|██████████████████████████████| 47/47 [00:00<00:00, 256.24batch/s, loss=0.117727]\n"
     ]
    },
    {
     "name": "stdout",
     "output_type": "stream",
     "text": [
      "Epoch: 462/1000, Loss: 0.076950\n"
     ]
    },
    {
     "name": "stderr",
     "output_type": "stream",
     "text": [
      "Epoch 463/1000: 100%|██████████████████████████████| 47/47 [00:00<00:00, 266.95batch/s, loss=0.098936]\n"
     ]
    },
    {
     "name": "stdout",
     "output_type": "stream",
     "text": [
      "Epoch: 463/1000, Loss: 0.107125\n"
     ]
    },
    {
     "name": "stderr",
     "output_type": "stream",
     "text": [
      "Epoch 464/1000: 100%|██████████████████████████████| 47/47 [00:00<00:00, 242.87batch/s, loss=0.110127]\n"
     ]
    },
    {
     "name": "stdout",
     "output_type": "stream",
     "text": [
      "Epoch: 464/1000, Loss: 0.087564\n"
     ]
    },
    {
     "name": "stderr",
     "output_type": "stream",
     "text": [
      "Epoch 465/1000: 100%|██████████████████████████████| 47/47 [00:00<00:00, 248.33batch/s, loss=0.062491]\n"
     ]
    },
    {
     "name": "stdout",
     "output_type": "stream",
     "text": [
      "Epoch: 465/1000, Loss: 0.086318\n"
     ]
    },
    {
     "name": "stderr",
     "output_type": "stream",
     "text": [
      "Epoch 466/1000: 100%|██████████████████████████████| 47/47 [00:00<00:00, 279.74batch/s, loss=0.100212]\n"
     ]
    },
    {
     "name": "stdout",
     "output_type": "stream",
     "text": [
      "Epoch: 466/1000, Loss: 0.093578\n"
     ]
    },
    {
     "name": "stderr",
     "output_type": "stream",
     "text": [
      "Epoch 467/1000: 100%|██████████████████████████████| 47/47 [00:00<00:00, 254.51batch/s, loss=0.051939]\n"
     ]
    },
    {
     "name": "stdout",
     "output_type": "stream",
     "text": [
      "Epoch: 467/1000, Loss: 0.082660\n"
     ]
    },
    {
     "name": "stderr",
     "output_type": "stream",
     "text": [
      "Epoch 468/1000: 100%|██████████████████████████████| 47/47 [00:00<00:00, 242.25batch/s, loss=0.049190]\n"
     ]
    },
    {
     "name": "stdout",
     "output_type": "stream",
     "text": [
      "Epoch: 468/1000, Loss: 0.093654\n"
     ]
    },
    {
     "name": "stderr",
     "output_type": "stream",
     "text": [
      "Epoch 469/1000: 100%|██████████████████████████████| 47/47 [00:00<00:00, 231.77batch/s, loss=0.015073]\n"
     ]
    },
    {
     "name": "stdout",
     "output_type": "stream",
     "text": [
      "Epoch: 469/1000, Loss: 0.102710\n"
     ]
    },
    {
     "name": "stderr",
     "output_type": "stream",
     "text": [
      "Epoch 470/1000: 100%|██████████████████████████████| 47/47 [00:00<00:00, 238.89batch/s, loss=0.127313]\n"
     ]
    },
    {
     "name": "stdout",
     "output_type": "stream",
     "text": [
      "Epoch: 470/1000, Loss: 0.089172\n"
     ]
    },
    {
     "name": "stderr",
     "output_type": "stream",
     "text": [
      "Epoch 471/1000: 100%|██████████████████████████████| 47/47 [00:00<00:00, 240.25batch/s, loss=0.036164]\n"
     ]
    },
    {
     "name": "stdout",
     "output_type": "stream",
     "text": [
      "Epoch: 471/1000, Loss: 0.090337\n"
     ]
    },
    {
     "name": "stderr",
     "output_type": "stream",
     "text": [
      "Epoch 472/1000: 100%|██████████████████████████████| 47/47 [00:00<00:00, 237.93batch/s, loss=0.031358]\n"
     ]
    },
    {
     "name": "stdout",
     "output_type": "stream",
     "text": [
      "Epoch: 472/1000, Loss: 0.090736\n"
     ]
    },
    {
     "name": "stderr",
     "output_type": "stream",
     "text": [
      "Epoch 473/1000: 100%|██████████████████████████████| 47/47 [00:00<00:00, 235.35batch/s, loss=0.058876]\n"
     ]
    },
    {
     "name": "stdout",
     "output_type": "stream",
     "text": [
      "Epoch: 473/1000, Loss: 0.104010\n"
     ]
    },
    {
     "name": "stderr",
     "output_type": "stream",
     "text": [
      "Epoch 474/1000: 100%|██████████████████████████████| 47/47 [00:00<00:00, 239.71batch/s, loss=0.022460]\n"
     ]
    },
    {
     "name": "stdout",
     "output_type": "stream",
     "text": [
      "Epoch: 474/1000, Loss: 0.104511\n"
     ]
    },
    {
     "name": "stderr",
     "output_type": "stream",
     "text": [
      "Epoch 475/1000: 100%|██████████████████████████████| 47/47 [00:00<00:00, 265.11batch/s, loss=0.014144]\n"
     ]
    },
    {
     "name": "stdout",
     "output_type": "stream",
     "text": [
      "Epoch: 475/1000, Loss: 0.077688\n"
     ]
    },
    {
     "name": "stderr",
     "output_type": "stream",
     "text": [
      "Epoch 476/1000: 100%|██████████████████████████████| 47/47 [00:00<00:00, 257.66batch/s, loss=0.310175]\n"
     ]
    },
    {
     "name": "stdout",
     "output_type": "stream",
     "text": [
      "Epoch: 476/1000, Loss: 0.077750\n"
     ]
    },
    {
     "name": "stderr",
     "output_type": "stream",
     "text": [
      "Epoch 477/1000: 100%|██████████████████████████████| 47/47 [00:00<00:00, 273.43batch/s, loss=0.026642]\n"
     ]
    },
    {
     "name": "stdout",
     "output_type": "stream",
     "text": [
      "Epoch: 477/1000, Loss: 0.066782\n"
     ]
    },
    {
     "name": "stderr",
     "output_type": "stream",
     "text": [
      "Epoch 478/1000: 100%|██████████████████████████████| 47/47 [00:00<00:00, 227.19batch/s, loss=0.231085]\n"
     ]
    },
    {
     "name": "stdout",
     "output_type": "stream",
     "text": [
      "Epoch: 478/1000, Loss: 0.078854\n"
     ]
    },
    {
     "name": "stderr",
     "output_type": "stream",
     "text": [
      "Epoch 479/1000: 100%|██████████████████████████████| 47/47 [00:00<00:00, 217.30batch/s, loss=0.029713]\n"
     ]
    },
    {
     "name": "stdout",
     "output_type": "stream",
     "text": [
      "Epoch: 479/1000, Loss: 0.068248\n"
     ]
    },
    {
     "name": "stderr",
     "output_type": "stream",
     "text": [
      "Epoch 480/1000: 100%|██████████████████████████████| 47/47 [00:00<00:00, 238.16batch/s, loss=0.034129]\n"
     ]
    },
    {
     "name": "stdout",
     "output_type": "stream",
     "text": [
      "Epoch: 480/1000, Loss: 0.089970\n"
     ]
    },
    {
     "name": "stderr",
     "output_type": "stream",
     "text": [
      "Epoch 481/1000: 100%|██████████████████████████████| 47/47 [00:00<00:00, 230.44batch/s, loss=0.506768]\n"
     ]
    },
    {
     "name": "stdout",
     "output_type": "stream",
     "text": [
      "Epoch: 481/1000, Loss: 0.106766\n"
     ]
    },
    {
     "name": "stderr",
     "output_type": "stream",
     "text": [
      "Epoch 482/1000: 100%|██████████████████████████████| 47/47 [00:00<00:00, 227.59batch/s, loss=0.004160]\n"
     ]
    },
    {
     "name": "stdout",
     "output_type": "stream",
     "text": [
      "Epoch: 482/1000, Loss: 0.104899\n"
     ]
    },
    {
     "name": "stderr",
     "output_type": "stream",
     "text": [
      "Epoch 483/1000: 100%|██████████████████████████████| 47/47 [00:00<00:00, 215.07batch/s, loss=0.129050]\n"
     ]
    },
    {
     "name": "stdout",
     "output_type": "stream",
     "text": [
      "Epoch: 483/1000, Loss: 0.069938\n"
     ]
    },
    {
     "name": "stderr",
     "output_type": "stream",
     "text": [
      "Epoch 484/1000: 100%|██████████████████████████████| 47/47 [00:00<00:00, 242.71batch/s, loss=0.009181]\n"
     ]
    },
    {
     "name": "stdout",
     "output_type": "stream",
     "text": [
      "Epoch: 484/1000, Loss: 0.077749\n"
     ]
    },
    {
     "name": "stderr",
     "output_type": "stream",
     "text": [
      "Epoch 485/1000: 100%|██████████████████████████████| 47/47 [00:00<00:00, 242.69batch/s, loss=0.287909]\n"
     ]
    },
    {
     "name": "stdout",
     "output_type": "stream",
     "text": [
      "Epoch: 485/1000, Loss: 0.089521\n"
     ]
    },
    {
     "name": "stderr",
     "output_type": "stream",
     "text": [
      "Epoch 486/1000: 100%|██████████████████████████████| 47/47 [00:00<00:00, 236.83batch/s, loss=0.042154]"
     ]
    },
    {
     "name": "stdout",
     "output_type": "stream",
     "text": [
      "Epoch: 486/1000, Loss: 0.110251\n"
     ]
    },
    {
     "name": "stderr",
     "output_type": "stream",
     "text": [
      "\n",
      "Epoch 487/1000: 100%|██████████████████████████████| 47/47 [00:00<00:00, 243.68batch/s, loss=0.006488]\n"
     ]
    },
    {
     "name": "stdout",
     "output_type": "stream",
     "text": [
      "Epoch: 487/1000, Loss: 0.099944\n"
     ]
    },
    {
     "name": "stderr",
     "output_type": "stream",
     "text": [
      "Epoch 488/1000: 100%|██████████████████████████████| 47/47 [00:00<00:00, 221.33batch/s, loss=0.210299]\n"
     ]
    },
    {
     "name": "stdout",
     "output_type": "stream",
     "text": [
      "Epoch: 488/1000, Loss: 0.085806\n"
     ]
    },
    {
     "name": "stderr",
     "output_type": "stream",
     "text": [
      "Epoch 489/1000: 100%|██████████████████████████████| 47/47 [00:00<00:00, 231.16batch/s, loss=0.008588]\n"
     ]
    },
    {
     "name": "stdout",
     "output_type": "stream",
     "text": [
      "Epoch: 489/1000, Loss: 0.068586\n"
     ]
    },
    {
     "name": "stderr",
     "output_type": "stream",
     "text": [
      "Epoch 490/1000: 100%|██████████████████████████████| 47/47 [00:00<00:00, 240.04batch/s, loss=0.024725]\n"
     ]
    },
    {
     "name": "stdout",
     "output_type": "stream",
     "text": [
      "Epoch: 490/1000, Loss: 0.083654\n"
     ]
    },
    {
     "name": "stderr",
     "output_type": "stream",
     "text": [
      "Epoch 491/1000: 100%|██████████████████████████████| 47/47 [00:00<00:00, 239.35batch/s, loss=0.015290]\n"
     ]
    },
    {
     "name": "stdout",
     "output_type": "stream",
     "text": [
      "Epoch: 491/1000, Loss: 0.079276\n"
     ]
    },
    {
     "name": "stderr",
     "output_type": "stream",
     "text": [
      "Epoch 492/1000: 100%|██████████████████████████████| 47/47 [00:00<00:00, 204.95batch/s, loss=0.024645]\n"
     ]
    },
    {
     "name": "stdout",
     "output_type": "stream",
     "text": [
      "Epoch: 492/1000, Loss: 0.069350\n"
     ]
    },
    {
     "name": "stderr",
     "output_type": "stream",
     "text": [
      "Epoch 493/1000: 100%|██████████████████████████████| 47/47 [00:00<00:00, 240.58batch/s, loss=0.024166]\n"
     ]
    },
    {
     "name": "stdout",
     "output_type": "stream",
     "text": [
      "Epoch: 493/1000, Loss: 0.085350\n"
     ]
    },
    {
     "name": "stderr",
     "output_type": "stream",
     "text": [
      "Epoch 494/1000: 100%|██████████████████████████████| 47/47 [00:00<00:00, 237.49batch/s, loss=0.042448]\n"
     ]
    },
    {
     "name": "stdout",
     "output_type": "stream",
     "text": [
      "Epoch: 494/1000, Loss: 0.107326\n"
     ]
    },
    {
     "name": "stderr",
     "output_type": "stream",
     "text": [
      "Epoch 495/1000: 100%|██████████████████████████████| 47/47 [00:00<00:00, 179.88batch/s, loss=0.385738]\n"
     ]
    },
    {
     "name": "stdout",
     "output_type": "stream",
     "text": [
      "Epoch: 495/1000, Loss: 0.089213\n"
     ]
    },
    {
     "name": "stderr",
     "output_type": "stream",
     "text": [
      "Epoch 496/1000: 100%|██████████████████████████████| 47/47 [00:00<00:00, 227.62batch/s, loss=0.028837]\n"
     ]
    },
    {
     "name": "stdout",
     "output_type": "stream",
     "text": [
      "Epoch: 496/1000, Loss: 0.083581\n"
     ]
    },
    {
     "name": "stderr",
     "output_type": "stream",
     "text": [
      "Epoch 497/1000: 100%|██████████████████████████████| 47/47 [00:00<00:00, 253.51batch/s, loss=0.045507]\n"
     ]
    },
    {
     "name": "stdout",
     "output_type": "stream",
     "text": [
      "Epoch: 497/1000, Loss: 0.101238\n"
     ]
    },
    {
     "name": "stderr",
     "output_type": "stream",
     "text": [
      "Epoch 498/1000: 100%|██████████████████████████████| 47/47 [00:00<00:00, 245.49batch/s, loss=0.062414]\n"
     ]
    },
    {
     "name": "stdout",
     "output_type": "stream",
     "text": [
      "Epoch: 498/1000, Loss: 0.087772\n"
     ]
    },
    {
     "name": "stderr",
     "output_type": "stream",
     "text": [
      "Epoch 499/1000: 100%|██████████████████████████████| 47/47 [00:00<00:00, 239.65batch/s, loss=0.028322]\n"
     ]
    },
    {
     "name": "stdout",
     "output_type": "stream",
     "text": [
      "Epoch: 499/1000, Loss: 0.089226\n"
     ]
    },
    {
     "name": "stderr",
     "output_type": "stream",
     "text": [
      "Epoch 500/1000: 100%|██████████████████████████████| 47/47 [00:00<00:00, 240.74batch/s, loss=0.060470]\n"
     ]
    },
    {
     "name": "stdout",
     "output_type": "stream",
     "text": [
      "Epoch: 500/1000, Loss: 0.077119\n"
     ]
    },
    {
     "name": "stderr",
     "output_type": "stream",
     "text": [
      "Epoch 501/1000: 100%|██████████████████████████████| 47/47 [00:00<00:00, 232.52batch/s, loss=0.028809]\n"
     ]
    },
    {
     "name": "stdout",
     "output_type": "stream",
     "text": [
      "Epoch: 501/1000, Loss: 0.115535\n"
     ]
    },
    {
     "name": "stderr",
     "output_type": "stream",
     "text": [
      "Epoch 502/1000: 100%|██████████████████████████████| 47/47 [00:00<00:00, 225.37batch/s, loss=0.026949]\n"
     ]
    },
    {
     "name": "stdout",
     "output_type": "stream",
     "text": [
      "Epoch: 502/1000, Loss: 0.108945\n"
     ]
    },
    {
     "name": "stderr",
     "output_type": "stream",
     "text": [
      "Epoch 503/1000: 100%|██████████████████████████████| 47/47 [00:00<00:00, 238.96batch/s, loss=0.004627]\n"
     ]
    },
    {
     "name": "stdout",
     "output_type": "stream",
     "text": [
      "Epoch: 503/1000, Loss: 0.086402\n"
     ]
    },
    {
     "name": "stderr",
     "output_type": "stream",
     "text": [
      "Epoch 504/1000: 100%|██████████████████████████████| 47/47 [00:00<00:00, 238.55batch/s, loss=0.100397]\n"
     ]
    },
    {
     "name": "stdout",
     "output_type": "stream",
     "text": [
      "Epoch: 504/1000, Loss: 0.156991\n"
     ]
    },
    {
     "name": "stderr",
     "output_type": "stream",
     "text": [
      "Epoch 505/1000: 100%|██████████████████████████████| 47/47 [00:00<00:00, 241.89batch/s, loss=0.055518]\n"
     ]
    },
    {
     "name": "stdout",
     "output_type": "stream",
     "text": [
      "Epoch: 505/1000, Loss: 0.083129\n"
     ]
    },
    {
     "name": "stderr",
     "output_type": "stream",
     "text": [
      "Epoch 506/1000: 100%|██████████████████████████████| 47/47 [00:00<00:00, 217.38batch/s, loss=0.081668]\n"
     ]
    },
    {
     "name": "stdout",
     "output_type": "stream",
     "text": [
      "Epoch: 506/1000, Loss: 0.089577\n"
     ]
    },
    {
     "name": "stderr",
     "output_type": "stream",
     "text": [
      "Epoch 507/1000: 100%|██████████████████████████████| 47/47 [00:00<00:00, 258.99batch/s, loss=0.007424]\n"
     ]
    },
    {
     "name": "stdout",
     "output_type": "stream",
     "text": [
      "Epoch: 507/1000, Loss: 0.060246\n"
     ]
    },
    {
     "name": "stderr",
     "output_type": "stream",
     "text": [
      "Epoch 508/1000: 100%|██████████████████████████████| 47/47 [00:00<00:00, 262.42batch/s, loss=0.030422]\n"
     ]
    },
    {
     "name": "stdout",
     "output_type": "stream",
     "text": [
      "Epoch: 508/1000, Loss: 0.061235\n"
     ]
    },
    {
     "name": "stderr",
     "output_type": "stream",
     "text": [
      "Epoch 509/1000: 100%|██████████████████████████████| 47/47 [00:00<00:00, 256.35batch/s, loss=0.067760]\n"
     ]
    },
    {
     "name": "stdout",
     "output_type": "stream",
     "text": [
      "Epoch: 509/1000, Loss: 0.085011\n"
     ]
    },
    {
     "name": "stderr",
     "output_type": "stream",
     "text": [
      "Epoch 510/1000: 100%|██████████████████████████████| 47/47 [00:00<00:00, 253.86batch/s, loss=0.006722]\n"
     ]
    },
    {
     "name": "stdout",
     "output_type": "stream",
     "text": [
      "Epoch: 510/1000, Loss: 0.083382\n"
     ]
    },
    {
     "name": "stderr",
     "output_type": "stream",
     "text": [
      "Epoch 511/1000: 100%|██████████████████████████████| 47/47 [00:00<00:00, 241.69batch/s, loss=0.012445]\n"
     ]
    },
    {
     "name": "stdout",
     "output_type": "stream",
     "text": [
      "Epoch: 511/1000, Loss: 0.079824\n"
     ]
    },
    {
     "name": "stderr",
     "output_type": "stream",
     "text": [
      "Epoch 512/1000: 100%|██████████████████████████████| 47/47 [00:00<00:00, 262.97batch/s, loss=0.010137]\n"
     ]
    },
    {
     "name": "stdout",
     "output_type": "stream",
     "text": [
      "Epoch: 512/1000, Loss: 0.056234\n"
     ]
    },
    {
     "name": "stderr",
     "output_type": "stream",
     "text": [
      "Epoch 513/1000: 100%|██████████████████████████████| 47/47 [00:00<00:00, 252.88batch/s, loss=0.009870]\n"
     ]
    },
    {
     "name": "stdout",
     "output_type": "stream",
     "text": [
      "Epoch: 513/1000, Loss: 0.069181\n"
     ]
    },
    {
     "name": "stderr",
     "output_type": "stream",
     "text": [
      "Epoch 514/1000: 100%|██████████████████████████████| 47/47 [00:00<00:00, 244.18batch/s, loss=0.135621]\n"
     ]
    },
    {
     "name": "stdout",
     "output_type": "stream",
     "text": [
      "Epoch: 514/1000, Loss: 0.079648\n"
     ]
    },
    {
     "name": "stderr",
     "output_type": "stream",
     "text": [
      "Epoch 515/1000: 100%|██████████████████████████████| 47/47 [00:00<00:00, 232.00batch/s, loss=0.222901]\n"
     ]
    },
    {
     "name": "stdout",
     "output_type": "stream",
     "text": [
      "Epoch: 515/1000, Loss: 0.074783\n"
     ]
    },
    {
     "name": "stderr",
     "output_type": "stream",
     "text": [
      "Epoch 516/1000: 100%|██████████████████████████████| 47/47 [00:00<00:00, 237.50batch/s, loss=0.011569]\n"
     ]
    },
    {
     "name": "stdout",
     "output_type": "stream",
     "text": [
      "Epoch: 516/1000, Loss: 0.075796\n"
     ]
    },
    {
     "name": "stderr",
     "output_type": "stream",
     "text": [
      "Epoch 517/1000: 100%|██████████████████████████████| 47/47 [00:00<00:00, 241.02batch/s, loss=0.009628]\n"
     ]
    },
    {
     "name": "stdout",
     "output_type": "stream",
     "text": [
      "Epoch: 517/1000, Loss: 0.068744\n"
     ]
    },
    {
     "name": "stderr",
     "output_type": "stream",
     "text": [
      "Epoch 518/1000: 100%|██████████████████████████████| 47/47 [00:00<00:00, 273.10batch/s, loss=0.313496]\n"
     ]
    },
    {
     "name": "stdout",
     "output_type": "stream",
     "text": [
      "Epoch: 518/1000, Loss: 0.088230\n"
     ]
    },
    {
     "name": "stderr",
     "output_type": "stream",
     "text": [
      "Epoch 519/1000: 100%|██████████████████████████████| 47/47 [00:00<00:00, 283.46batch/s, loss=0.230449]\n"
     ]
    },
    {
     "name": "stdout",
     "output_type": "stream",
     "text": [
      "Epoch: 519/1000, Loss: 0.084355\n"
     ]
    },
    {
     "name": "stderr",
     "output_type": "stream",
     "text": [
      "Epoch 520/1000: 100%|██████████████████████████████| 47/47 [00:00<00:00, 264.14batch/s, loss=0.105961]\n"
     ]
    },
    {
     "name": "stdout",
     "output_type": "stream",
     "text": [
      "Epoch: 520/1000, Loss: 0.073164\n"
     ]
    },
    {
     "name": "stderr",
     "output_type": "stream",
     "text": [
      "Epoch 521/1000: 100%|██████████████████████████████| 47/47 [00:00<00:00, 254.50batch/s, loss=0.025325]\n"
     ]
    },
    {
     "name": "stdout",
     "output_type": "stream",
     "text": [
      "Epoch: 521/1000, Loss: 0.067471\n"
     ]
    },
    {
     "name": "stderr",
     "output_type": "stream",
     "text": [
      "Epoch 522/1000: 100%|██████████████████████████████| 47/47 [00:00<00:00, 261.97batch/s, loss=0.140569]\n"
     ]
    },
    {
     "name": "stdout",
     "output_type": "stream",
     "text": [
      "Epoch: 522/1000, Loss: 0.077494\n"
     ]
    },
    {
     "name": "stderr",
     "output_type": "stream",
     "text": [
      "Epoch 523/1000: 100%|██████████████████████████████| 47/47 [00:00<00:00, 236.97batch/s, loss=0.060217]\n"
     ]
    },
    {
     "name": "stdout",
     "output_type": "stream",
     "text": [
      "Epoch: 523/1000, Loss: 0.091932\n"
     ]
    },
    {
     "name": "stderr",
     "output_type": "stream",
     "text": [
      "Epoch 524/1000: 100%|██████████████████████████████| 47/47 [00:00<00:00, 247.43batch/s, loss=0.030797]\n"
     ]
    },
    {
     "name": "stdout",
     "output_type": "stream",
     "text": [
      "Epoch: 524/1000, Loss: 0.065560\n"
     ]
    },
    {
     "name": "stderr",
     "output_type": "stream",
     "text": [
      "Epoch 525/1000: 100%|██████████████████████████████| 47/47 [00:00<00:00, 237.27batch/s, loss=0.049122]\n"
     ]
    },
    {
     "name": "stdout",
     "output_type": "stream",
     "text": [
      "Epoch: 525/1000, Loss: 0.052775\n"
     ]
    },
    {
     "name": "stderr",
     "output_type": "stream",
     "text": [
      "Epoch 526/1000: 100%|██████████████████████████████| 47/47 [00:00<00:00, 261.55batch/s, loss=0.017803]\n"
     ]
    },
    {
     "name": "stdout",
     "output_type": "stream",
     "text": [
      "Epoch: 526/1000, Loss: 0.062459\n"
     ]
    },
    {
     "name": "stderr",
     "output_type": "stream",
     "text": [
      "Epoch 527/1000: 100%|██████████████████████████████| 47/47 [00:00<00:00, 235.49batch/s, loss=0.005650]\n"
     ]
    },
    {
     "name": "stdout",
     "output_type": "stream",
     "text": [
      "Epoch: 527/1000, Loss: 0.044016\n"
     ]
    },
    {
     "name": "stderr",
     "output_type": "stream",
     "text": [
      "Epoch 528/1000: 100%|██████████████████████████████| 47/47 [00:00<00:00, 252.37batch/s, loss=0.061204]\n"
     ]
    },
    {
     "name": "stdout",
     "output_type": "stream",
     "text": [
      "Epoch: 528/1000, Loss: 0.077907\n"
     ]
    },
    {
     "name": "stderr",
     "output_type": "stream",
     "text": [
      "Epoch 529/1000: 100%|██████████████████████████████| 47/47 [00:00<00:00, 229.91batch/s, loss=0.253926]\n"
     ]
    },
    {
     "name": "stdout",
     "output_type": "stream",
     "text": [
      "Epoch: 529/1000, Loss: 0.064931\n"
     ]
    },
    {
     "name": "stderr",
     "output_type": "stream",
     "text": [
      "Epoch 530/1000: 100%|██████████████████████████████| 47/47 [00:00<00:00, 234.27batch/s, loss=0.800769]\n"
     ]
    },
    {
     "name": "stdout",
     "output_type": "stream",
     "text": [
      "Epoch: 530/1000, Loss: 0.112171\n"
     ]
    },
    {
     "name": "stderr",
     "output_type": "stream",
     "text": [
      "Epoch 531/1000: 100%|██████████████████████████████| 47/47 [00:00<00:00, 270.66batch/s, loss=0.006633]\n"
     ]
    },
    {
     "name": "stdout",
     "output_type": "stream",
     "text": [
      "Epoch: 531/1000, Loss: 0.078648\n"
     ]
    },
    {
     "name": "stderr",
     "output_type": "stream",
     "text": [
      "Epoch 532/1000: 100%|██████████████████████████████| 47/47 [00:00<00:00, 222.32batch/s, loss=0.040087]\n"
     ]
    },
    {
     "name": "stdout",
     "output_type": "stream",
     "text": [
      "Epoch: 532/1000, Loss: 0.100962\n"
     ]
    },
    {
     "name": "stderr",
     "output_type": "stream",
     "text": [
      "Epoch 533/1000: 100%|██████████████████████████████| 47/47 [00:00<00:00, 236.48batch/s, loss=0.014750]\n"
     ]
    },
    {
     "name": "stdout",
     "output_type": "stream",
     "text": [
      "Epoch: 533/1000, Loss: 0.072354\n"
     ]
    },
    {
     "name": "stderr",
     "output_type": "stream",
     "text": [
      "Epoch 534/1000: 100%|██████████████████████████████| 47/47 [00:00<00:00, 237.89batch/s, loss=0.066587]\n"
     ]
    },
    {
     "name": "stdout",
     "output_type": "stream",
     "text": [
      "Epoch: 534/1000, Loss: 0.116209\n"
     ]
    },
    {
     "name": "stderr",
     "output_type": "stream",
     "text": [
      "Epoch 535/1000: 100%|██████████████████████████████| 47/47 [00:00<00:00, 237.63batch/s, loss=0.158771]\n"
     ]
    },
    {
     "name": "stdout",
     "output_type": "stream",
     "text": [
      "Epoch: 535/1000, Loss: 0.087484\n"
     ]
    },
    {
     "name": "stderr",
     "output_type": "stream",
     "text": [
      "Epoch 536/1000: 100%|██████████████████████████████| 47/47 [00:00<00:00, 236.91batch/s, loss=0.182479]\n"
     ]
    },
    {
     "name": "stdout",
     "output_type": "stream",
     "text": [
      "Epoch: 536/1000, Loss: 0.119652\n"
     ]
    },
    {
     "name": "stderr",
     "output_type": "stream",
     "text": [
      "Epoch 537/1000: 100%|██████████████████████████████| 47/47 [00:00<00:00, 235.55batch/s, loss=0.070324]\n"
     ]
    },
    {
     "name": "stdout",
     "output_type": "stream",
     "text": [
      "Epoch: 537/1000, Loss: 0.087677\n"
     ]
    },
    {
     "name": "stderr",
     "output_type": "stream",
     "text": [
      "Epoch 538/1000: 100%|██████████████████████████████| 47/47 [00:00<00:00, 234.91batch/s, loss=0.030899]\n"
     ]
    },
    {
     "name": "stdout",
     "output_type": "stream",
     "text": [
      "Epoch: 538/1000, Loss: 0.068324\n"
     ]
    },
    {
     "name": "stderr",
     "output_type": "stream",
     "text": [
      "Epoch 539/1000: 100%|██████████████████████████████| 47/47 [00:00<00:00, 235.55batch/s, loss=0.019617]\n"
     ]
    },
    {
     "name": "stdout",
     "output_type": "stream",
     "text": [
      "Epoch: 539/1000, Loss: 0.112786\n"
     ]
    },
    {
     "name": "stderr",
     "output_type": "stream",
     "text": [
      "Epoch 540/1000: 100%|██████████████████████████████| 47/47 [00:00<00:00, 256.74batch/s, loss=0.018163]\n"
     ]
    },
    {
     "name": "stdout",
     "output_type": "stream",
     "text": [
      "Epoch: 540/1000, Loss: 0.074267\n"
     ]
    },
    {
     "name": "stderr",
     "output_type": "stream",
     "text": [
      "Epoch 541/1000: 100%|██████████████████████████████| 47/47 [00:00<00:00, 233.24batch/s, loss=0.127179]\n"
     ]
    },
    {
     "name": "stdout",
     "output_type": "stream",
     "text": [
      "Epoch: 541/1000, Loss: 0.070629\n"
     ]
    },
    {
     "name": "stderr",
     "output_type": "stream",
     "text": [
      "Epoch 542/1000: 100%|██████████████████████████████| 47/47 [00:00<00:00, 239.65batch/s, loss=0.009046]\n"
     ]
    },
    {
     "name": "stdout",
     "output_type": "stream",
     "text": [
      "Epoch: 542/1000, Loss: 0.089987\n"
     ]
    },
    {
     "name": "stderr",
     "output_type": "stream",
     "text": [
      "Epoch 543/1000: 100%|██████████████████████████████| 47/47 [00:00<00:00, 234.56batch/s, loss=0.021873]\n"
     ]
    },
    {
     "name": "stdout",
     "output_type": "stream",
     "text": [
      "Epoch: 543/1000, Loss: 0.076598\n"
     ]
    },
    {
     "name": "stderr",
     "output_type": "stream",
     "text": [
      "Epoch 544/1000: 100%|██████████████████████████████| 47/47 [00:00<00:00, 233.33batch/s, loss=0.006784]\n"
     ]
    },
    {
     "name": "stdout",
     "output_type": "stream",
     "text": [
      "Epoch: 544/1000, Loss: 0.064033\n"
     ]
    },
    {
     "name": "stderr",
     "output_type": "stream",
     "text": [
      "Epoch 545/1000: 100%|██████████████████████████████| 47/47 [00:00<00:00, 266.64batch/s, loss=0.278407]\n"
     ]
    },
    {
     "name": "stdout",
     "output_type": "stream",
     "text": [
      "Epoch: 545/1000, Loss: 0.067858\n"
     ]
    },
    {
     "name": "stderr",
     "output_type": "stream",
     "text": [
      "Epoch 546/1000: 100%|██████████████████████████████| 47/47 [00:00<00:00, 250.70batch/s, loss=0.061615]\n"
     ]
    },
    {
     "name": "stdout",
     "output_type": "stream",
     "text": [
      "Epoch: 546/1000, Loss: 0.066480\n"
     ]
    },
    {
     "name": "stderr",
     "output_type": "stream",
     "text": [
      "Epoch 547/1000: 100%|██████████████████████████████| 47/47 [00:00<00:00, 238.59batch/s, loss=0.278969]\n"
     ]
    },
    {
     "name": "stdout",
     "output_type": "stream",
     "text": [
      "Epoch: 547/1000, Loss: 0.096929\n"
     ]
    },
    {
     "name": "stderr",
     "output_type": "stream",
     "text": [
      "Epoch 548/1000: 100%|██████████████████████████████| 47/47 [00:00<00:00, 237.29batch/s, loss=0.148412]\n"
     ]
    },
    {
     "name": "stdout",
     "output_type": "stream",
     "text": [
      "Epoch: 548/1000, Loss: 0.105975\n"
     ]
    },
    {
     "name": "stderr",
     "output_type": "stream",
     "text": [
      "Epoch 549/1000: 100%|██████████████████████████████| 47/47 [00:00<00:00, 260.61batch/s, loss=0.011190]\n"
     ]
    },
    {
     "name": "stdout",
     "output_type": "stream",
     "text": [
      "Epoch: 549/1000, Loss: 0.082738\n"
     ]
    },
    {
     "name": "stderr",
     "output_type": "stream",
     "text": [
      "Epoch 550/1000: 100%|██████████████████████████████| 47/47 [00:00<00:00, 250.39batch/s, loss=0.033900]\n"
     ]
    },
    {
     "name": "stdout",
     "output_type": "stream",
     "text": [
      "Epoch: 550/1000, Loss: 0.078764\n"
     ]
    },
    {
     "name": "stderr",
     "output_type": "stream",
     "text": [
      "Epoch 551/1000: 100%|██████████████████████████████| 47/47 [00:00<00:00, 221.57batch/s, loss=0.017296]\n"
     ]
    },
    {
     "name": "stdout",
     "output_type": "stream",
     "text": [
      "Epoch: 551/1000, Loss: 0.098255\n"
     ]
    },
    {
     "name": "stderr",
     "output_type": "stream",
     "text": [
      "Epoch 552/1000: 100%|██████████████████████████████| 47/47 [00:00<00:00, 236.91batch/s, loss=0.026851]\n"
     ]
    },
    {
     "name": "stdout",
     "output_type": "stream",
     "text": [
      "Epoch: 552/1000, Loss: 0.095262\n"
     ]
    },
    {
     "name": "stderr",
     "output_type": "stream",
     "text": [
      "Epoch 553/1000: 100%|██████████████████████████████| 47/47 [00:00<00:00, 236.76batch/s, loss=0.014977]\n"
     ]
    },
    {
     "name": "stdout",
     "output_type": "stream",
     "text": [
      "Epoch: 553/1000, Loss: 0.124165\n"
     ]
    },
    {
     "name": "stderr",
     "output_type": "stream",
     "text": [
      "Epoch 554/1000: 100%|██████████████████████████████| 47/47 [00:00<00:00, 237.74batch/s, loss=0.013988]\n"
     ]
    },
    {
     "name": "stdout",
     "output_type": "stream",
     "text": [
      "Epoch: 554/1000, Loss: 0.094026\n"
     ]
    },
    {
     "name": "stderr",
     "output_type": "stream",
     "text": [
      "Epoch 555/1000: 100%|██████████████████████████████| 47/47 [00:00<00:00, 225.95batch/s, loss=0.042452]\n"
     ]
    },
    {
     "name": "stdout",
     "output_type": "stream",
     "text": [
      "Epoch: 555/1000, Loss: 0.068405\n"
     ]
    },
    {
     "name": "stderr",
     "output_type": "stream",
     "text": [
      "Epoch 556/1000: 100%|██████████████████████████████| 47/47 [00:00<00:00, 222.59batch/s, loss=0.064764]\n"
     ]
    },
    {
     "name": "stdout",
     "output_type": "stream",
     "text": [
      "Epoch: 556/1000, Loss: 0.086380\n"
     ]
    },
    {
     "name": "stderr",
     "output_type": "stream",
     "text": [
      "Epoch 557/1000: 100%|██████████████████████████████| 47/47 [00:00<00:00, 235.42batch/s, loss=0.039053]\n"
     ]
    },
    {
     "name": "stdout",
     "output_type": "stream",
     "text": [
      "Epoch: 557/1000, Loss: 0.059797\n"
     ]
    },
    {
     "name": "stderr",
     "output_type": "stream",
     "text": [
      "Epoch 558/1000: 100%|██████████████████████████████| 47/47 [00:00<00:00, 234.54batch/s, loss=0.025175]\n"
     ]
    },
    {
     "name": "stdout",
     "output_type": "stream",
     "text": [
      "Epoch: 558/1000, Loss: 0.047441\n"
     ]
    },
    {
     "name": "stderr",
     "output_type": "stream",
     "text": [
      "Epoch 559/1000: 100%|██████████████████████████████| 47/47 [00:00<00:00, 235.73batch/s, loss=0.047656]\n"
     ]
    },
    {
     "name": "stdout",
     "output_type": "stream",
     "text": [
      "Epoch: 559/1000, Loss: 0.074440\n"
     ]
    },
    {
     "name": "stderr",
     "output_type": "stream",
     "text": [
      "Epoch 560/1000: 100%|██████████████████████████████| 47/47 [00:00<00:00, 238.07batch/s, loss=0.085396]\n"
     ]
    },
    {
     "name": "stdout",
     "output_type": "stream",
     "text": [
      "Epoch: 560/1000, Loss: 0.056847\n"
     ]
    },
    {
     "name": "stderr",
     "output_type": "stream",
     "text": [
      "Epoch 561/1000: 100%|██████████████████████████████| 47/47 [00:00<00:00, 239.41batch/s, loss=0.018989]\n"
     ]
    },
    {
     "name": "stdout",
     "output_type": "stream",
     "text": [
      "Epoch: 561/1000, Loss: 0.054112\n"
     ]
    },
    {
     "name": "stderr",
     "output_type": "stream",
     "text": [
      "Epoch 562/1000: 100%|██████████████████████████████| 47/47 [00:00<00:00, 253.67batch/s, loss=0.551618]\n"
     ]
    },
    {
     "name": "stdout",
     "output_type": "stream",
     "text": [
      "Epoch: 562/1000, Loss: 0.079778\n"
     ]
    },
    {
     "name": "stderr",
     "output_type": "stream",
     "text": [
      "Epoch 563/1000: 100%|██████████████████████████████| 47/47 [00:00<00:00, 252.31batch/s, loss=0.131335]\n"
     ]
    },
    {
     "name": "stdout",
     "output_type": "stream",
     "text": [
      "Epoch: 563/1000, Loss: 0.097238\n"
     ]
    },
    {
     "name": "stderr",
     "output_type": "stream",
     "text": [
      "Epoch 564/1000: 100%|██████████████████████████████| 47/47 [00:00<00:00, 241.15batch/s, loss=0.150602]\n"
     ]
    },
    {
     "name": "stdout",
     "output_type": "stream",
     "text": [
      "Epoch: 564/1000, Loss: 0.078171\n"
     ]
    },
    {
     "name": "stderr",
     "output_type": "stream",
     "text": [
      "Epoch 565/1000: 100%|██████████████████████████████| 47/47 [00:00<00:00, 237.29batch/s, loss=0.091869]\n"
     ]
    },
    {
     "name": "stdout",
     "output_type": "stream",
     "text": [
      "Epoch: 565/1000, Loss: 0.069363\n"
     ]
    },
    {
     "name": "stderr",
     "output_type": "stream",
     "text": [
      "Epoch 566/1000: 100%|██████████████████████████████| 47/47 [00:00<00:00, 238.10batch/s, loss=0.088923]\n"
     ]
    },
    {
     "name": "stdout",
     "output_type": "stream",
     "text": [
      "Epoch: 566/1000, Loss: 0.073910\n"
     ]
    },
    {
     "name": "stderr",
     "output_type": "stream",
     "text": [
      "Epoch 567/1000: 100%|██████████████████████████████| 47/47 [00:00<00:00, 237.70batch/s, loss=0.001202]\n"
     ]
    },
    {
     "name": "stdout",
     "output_type": "stream",
     "text": [
      "Epoch: 567/1000, Loss: 0.063752\n"
     ]
    },
    {
     "name": "stderr",
     "output_type": "stream",
     "text": [
      "Epoch 568/1000: 100%|██████████████████████████████| 47/47 [00:00<00:00, 239.35batch/s, loss=0.398175]\n"
     ]
    },
    {
     "name": "stdout",
     "output_type": "stream",
     "text": [
      "Epoch: 568/1000, Loss: 0.091514\n"
     ]
    },
    {
     "name": "stderr",
     "output_type": "stream",
     "text": [
      "Epoch 569/1000: 100%|██████████████████████████████| 47/47 [00:00<00:00, 238.49batch/s, loss=0.022792]\n"
     ]
    },
    {
     "name": "stdout",
     "output_type": "stream",
     "text": [
      "Epoch: 569/1000, Loss: 0.077577\n"
     ]
    },
    {
     "name": "stderr",
     "output_type": "stream",
     "text": [
      "Epoch 570/1000: 100%|██████████████████████████████| 47/47 [00:00<00:00, 241.26batch/s, loss=0.076122]\n"
     ]
    },
    {
     "name": "stdout",
     "output_type": "stream",
     "text": [
      "Epoch: 570/1000, Loss: 0.066913\n"
     ]
    },
    {
     "name": "stderr",
     "output_type": "stream",
     "text": [
      "Epoch 571/1000: 100%|██████████████████████████████| 47/47 [00:00<00:00, 212.50batch/s, loss=0.019924]\n"
     ]
    },
    {
     "name": "stdout",
     "output_type": "stream",
     "text": [
      "Epoch: 571/1000, Loss: 0.058195\n"
     ]
    },
    {
     "name": "stderr",
     "output_type": "stream",
     "text": [
      "Epoch 572/1000: 100%|██████████████████████████████| 47/47 [00:00<00:00, 233.07batch/s, loss=0.004413]\n"
     ]
    },
    {
     "name": "stdout",
     "output_type": "stream",
     "text": [
      "Epoch: 572/1000, Loss: 0.071132\n"
     ]
    },
    {
     "name": "stderr",
     "output_type": "stream",
     "text": [
      "Epoch 573/1000: 100%|██████████████████████████████| 47/47 [00:00<00:00, 252.69batch/s, loss=0.027729]\n"
     ]
    },
    {
     "name": "stdout",
     "output_type": "stream",
     "text": [
      "Epoch: 573/1000, Loss: 0.085358\n"
     ]
    },
    {
     "name": "stderr",
     "output_type": "stream",
     "text": [
      "Epoch 574/1000: 100%|██████████████████████████████| 47/47 [00:00<00:00, 234.67batch/s, loss=0.018406]\n"
     ]
    },
    {
     "name": "stdout",
     "output_type": "stream",
     "text": [
      "Epoch: 574/1000, Loss: 0.059521\n"
     ]
    },
    {
     "name": "stderr",
     "output_type": "stream",
     "text": [
      "Epoch 575/1000: 100%|██████████████████████████████| 47/47 [00:00<00:00, 221.75batch/s, loss=0.087788]\n"
     ]
    },
    {
     "name": "stdout",
     "output_type": "stream",
     "text": [
      "Epoch: 575/1000, Loss: 0.081016\n"
     ]
    },
    {
     "name": "stderr",
     "output_type": "stream",
     "text": [
      "Epoch 576/1000: 100%|██████████████████████████████| 47/47 [00:00<00:00, 261.76batch/s, loss=0.077192]\n"
     ]
    },
    {
     "name": "stdout",
     "output_type": "stream",
     "text": [
      "Epoch: 576/1000, Loss: 0.052264\n"
     ]
    },
    {
     "name": "stderr",
     "output_type": "stream",
     "text": [
      "Epoch 577/1000: 100%|██████████████████████████████| 47/47 [00:00<00:00, 267.46batch/s, loss=0.083437]\n"
     ]
    },
    {
     "name": "stdout",
     "output_type": "stream",
     "text": [
      "Epoch: 577/1000, Loss: 0.053575\n"
     ]
    },
    {
     "name": "stderr",
     "output_type": "stream",
     "text": [
      "Epoch 578/1000: 100%|██████████████████████████████| 47/47 [00:00<00:00, 250.63batch/s, loss=0.031668]\n"
     ]
    },
    {
     "name": "stdout",
     "output_type": "stream",
     "text": [
      "Epoch: 578/1000, Loss: 0.082064\n"
     ]
    },
    {
     "name": "stderr",
     "output_type": "stream",
     "text": [
      "Epoch 579/1000: 100%|██████████████████████████████| 47/47 [00:00<00:00, 238.78batch/s, loss=0.100001]\n"
     ]
    },
    {
     "name": "stdout",
     "output_type": "stream",
     "text": [
      "Epoch: 579/1000, Loss: 0.059834\n"
     ]
    },
    {
     "name": "stderr",
     "output_type": "stream",
     "text": [
      "Epoch 580/1000: 100%|██████████████████████████████| 47/47 [00:00<00:00, 245.57batch/s, loss=0.020506]\n"
     ]
    },
    {
     "name": "stdout",
     "output_type": "stream",
     "text": [
      "Epoch: 580/1000, Loss: 0.063189\n"
     ]
    },
    {
     "name": "stderr",
     "output_type": "stream",
     "text": [
      "Epoch 581/1000: 100%|██████████████████████████████| 47/47 [00:00<00:00, 264.42batch/s, loss=1.121567]\n"
     ]
    },
    {
     "name": "stdout",
     "output_type": "stream",
     "text": [
      "Epoch: 581/1000, Loss: 0.107048\n"
     ]
    },
    {
     "name": "stderr",
     "output_type": "stream",
     "text": [
      "Epoch 582/1000: 100%|██████████████████████████████| 47/47 [00:00<00:00, 231.27batch/s, loss=0.005844]\n"
     ]
    },
    {
     "name": "stdout",
     "output_type": "stream",
     "text": [
      "Epoch: 582/1000, Loss: 0.088228\n"
     ]
    },
    {
     "name": "stderr",
     "output_type": "stream",
     "text": [
      "Epoch 583/1000: 100%|██████████████████████████████| 47/47 [00:00<00:00, 224.86batch/s, loss=0.018055]\n"
     ]
    },
    {
     "name": "stdout",
     "output_type": "stream",
     "text": [
      "Epoch: 583/1000, Loss: 0.085615\n"
     ]
    },
    {
     "name": "stderr",
     "output_type": "stream",
     "text": [
      "Epoch 584/1000: 100%|██████████████████████████████| 47/47 [00:00<00:00, 237.03batch/s, loss=0.004147]\n"
     ]
    },
    {
     "name": "stdout",
     "output_type": "stream",
     "text": [
      "Epoch: 584/1000, Loss: 0.070701\n"
     ]
    },
    {
     "name": "stderr",
     "output_type": "stream",
     "text": [
      "Epoch 585/1000: 100%|██████████████████████████████| 47/47 [00:00<00:00, 235.18batch/s, loss=0.008203]\n"
     ]
    },
    {
     "name": "stdout",
     "output_type": "stream",
     "text": [
      "Epoch: 585/1000, Loss: 0.094782\n"
     ]
    },
    {
     "name": "stderr",
     "output_type": "stream",
     "text": [
      "Epoch 586/1000: 100%|██████████████████████████████| 47/47 [00:00<00:00, 231.86batch/s, loss=0.070425]\n"
     ]
    },
    {
     "name": "stdout",
     "output_type": "stream",
     "text": [
      "Epoch: 586/1000, Loss: 0.067660\n"
     ]
    },
    {
     "name": "stderr",
     "output_type": "stream",
     "text": [
      "Epoch 587/1000: 100%|██████████████████████████████| 47/47 [00:00<00:00, 215.18batch/s, loss=0.016832]\n"
     ]
    },
    {
     "name": "stdout",
     "output_type": "stream",
     "text": [
      "Epoch: 587/1000, Loss: 0.070427\n"
     ]
    },
    {
     "name": "stderr",
     "output_type": "stream",
     "text": [
      "Epoch 588/1000: 100%|██████████████████████████████| 47/47 [00:00<00:00, 261.23batch/s, loss=0.033744]\n"
     ]
    },
    {
     "name": "stdout",
     "output_type": "stream",
     "text": [
      "Epoch: 588/1000, Loss: 0.097458\n"
     ]
    },
    {
     "name": "stderr",
     "output_type": "stream",
     "text": [
      "Epoch 589/1000: 100%|██████████████████████████████| 47/47 [00:00<00:00, 240.67batch/s, loss=0.007795]\n"
     ]
    },
    {
     "name": "stdout",
     "output_type": "stream",
     "text": [
      "Epoch: 589/1000, Loss: 0.085521\n"
     ]
    },
    {
     "name": "stderr",
     "output_type": "stream",
     "text": [
      "Epoch 590/1000: 100%|██████████████████████████████| 47/47 [00:00<00:00, 237.60batch/s, loss=0.041816]\n"
     ]
    },
    {
     "name": "stdout",
     "output_type": "stream",
     "text": [
      "Epoch: 590/1000, Loss: 0.085416\n"
     ]
    },
    {
     "name": "stderr",
     "output_type": "stream",
     "text": [
      "Epoch 591/1000: 100%|██████████████████████████████| 47/47 [00:00<00:00, 245.49batch/s, loss=0.007406]\n"
     ]
    },
    {
     "name": "stdout",
     "output_type": "stream",
     "text": [
      "Epoch: 591/1000, Loss: 0.086593\n"
     ]
    },
    {
     "name": "stderr",
     "output_type": "stream",
     "text": [
      "Epoch 592/1000: 100%|██████████████████████████████| 47/47 [00:00<00:00, 246.90batch/s, loss=0.255962]\n"
     ]
    },
    {
     "name": "stdout",
     "output_type": "stream",
     "text": [
      "Epoch: 592/1000, Loss: 0.072728\n"
     ]
    },
    {
     "name": "stderr",
     "output_type": "stream",
     "text": [
      "Epoch 593/1000: 100%|██████████████████████████████| 47/47 [00:00<00:00, 228.62batch/s, loss=0.027458]\n"
     ]
    },
    {
     "name": "stdout",
     "output_type": "stream",
     "text": [
      "Epoch: 593/1000, Loss: 0.053009\n"
     ]
    },
    {
     "name": "stderr",
     "output_type": "stream",
     "text": [
      "Epoch 594/1000: 100%|██████████████████████████████| 47/47 [00:00<00:00, 216.90batch/s, loss=0.072988]\n"
     ]
    },
    {
     "name": "stdout",
     "output_type": "stream",
     "text": [
      "Epoch: 594/1000, Loss: 0.058447\n"
     ]
    },
    {
     "name": "stderr",
     "output_type": "stream",
     "text": [
      "Epoch 595/1000: 100%|██████████████████████████████| 47/47 [00:00<00:00, 245.04batch/s, loss=0.028454]\n"
     ]
    },
    {
     "name": "stdout",
     "output_type": "stream",
     "text": [
      "Epoch: 595/1000, Loss: 0.072999\n"
     ]
    },
    {
     "name": "stderr",
     "output_type": "stream",
     "text": [
      "Epoch 596/1000: 100%|██████████████████████████████| 47/47 [00:00<00:00, 229.21batch/s, loss=0.007234]\n"
     ]
    },
    {
     "name": "stdout",
     "output_type": "stream",
     "text": [
      "Epoch: 596/1000, Loss: 0.048369\n"
     ]
    },
    {
     "name": "stderr",
     "output_type": "stream",
     "text": [
      "Epoch 597/1000: 100%|██████████████████████████████| 47/47 [00:00<00:00, 232.71batch/s, loss=0.015944]\n"
     ]
    },
    {
     "name": "stdout",
     "output_type": "stream",
     "text": [
      "Epoch: 597/1000, Loss: 0.047765\n"
     ]
    },
    {
     "name": "stderr",
     "output_type": "stream",
     "text": [
      "Epoch 598/1000: 100%|██████████████████████████████| 47/47 [00:00<00:00, 237.43batch/s, loss=0.039809]\n"
     ]
    },
    {
     "name": "stdout",
     "output_type": "stream",
     "text": [
      "Epoch: 598/1000, Loss: 0.102041\n"
     ]
    },
    {
     "name": "stderr",
     "output_type": "stream",
     "text": [
      "Epoch 599/1000: 100%|██████████████████████████████| 47/47 [00:00<00:00, 244.22batch/s, loss=0.177422]\n"
     ]
    },
    {
     "name": "stdout",
     "output_type": "stream",
     "text": [
      "Epoch: 599/1000, Loss: 0.084582\n"
     ]
    },
    {
     "name": "stderr",
     "output_type": "stream",
     "text": [
      "Epoch 600/1000: 100%|██████████████████████████████| 47/47 [00:00<00:00, 230.56batch/s, loss=0.094983]\n"
     ]
    },
    {
     "name": "stdout",
     "output_type": "stream",
     "text": [
      "Epoch: 600/1000, Loss: 0.109353\n"
     ]
    },
    {
     "name": "stderr",
     "output_type": "stream",
     "text": [
      "Epoch 601/1000: 100%|██████████████████████████████| 47/47 [00:00<00:00, 227.34batch/s, loss=0.089006]\n"
     ]
    },
    {
     "name": "stdout",
     "output_type": "stream",
     "text": [
      "Epoch: 601/1000, Loss: 0.079880\n"
     ]
    },
    {
     "name": "stderr",
     "output_type": "stream",
     "text": [
      "Epoch 602/1000: 100%|██████████████████████████████| 47/47 [00:00<00:00, 221.22batch/s, loss=0.045113]\n"
     ]
    },
    {
     "name": "stdout",
     "output_type": "stream",
     "text": [
      "Epoch: 602/1000, Loss: 0.065767\n"
     ]
    },
    {
     "name": "stderr",
     "output_type": "stream",
     "text": [
      "Epoch 603/1000: 100%|██████████████████████████████| 47/47 [00:00<00:00, 243.43batch/s, loss=0.044881]\n"
     ]
    },
    {
     "name": "stdout",
     "output_type": "stream",
     "text": [
      "Epoch: 603/1000, Loss: 0.065524\n"
     ]
    },
    {
     "name": "stderr",
     "output_type": "stream",
     "text": [
      "Epoch 604/1000: 100%|██████████████████████████████| 47/47 [00:00<00:00, 236.82batch/s, loss=0.033744]\n"
     ]
    },
    {
     "name": "stdout",
     "output_type": "stream",
     "text": [
      "Epoch: 604/1000, Loss: 0.073756\n"
     ]
    },
    {
     "name": "stderr",
     "output_type": "stream",
     "text": [
      "Epoch 605/1000: 100%|██████████████████████████████| 47/47 [00:00<00:00, 215.01batch/s, loss=0.017273]\n"
     ]
    },
    {
     "name": "stdout",
     "output_type": "stream",
     "text": [
      "Epoch: 605/1000, Loss: 0.082605\n"
     ]
    },
    {
     "name": "stderr",
     "output_type": "stream",
     "text": [
      "Epoch 606/1000: 100%|██████████████████████████████| 47/47 [00:00<00:00, 241.16batch/s, loss=0.002494]\n"
     ]
    },
    {
     "name": "stdout",
     "output_type": "stream",
     "text": [
      "Epoch: 606/1000, Loss: 0.072676\n"
     ]
    },
    {
     "name": "stderr",
     "output_type": "stream",
     "text": [
      "Epoch 607/1000: 100%|██████████████████████████████| 47/47 [00:00<00:00, 237.81batch/s, loss=0.028148]\n"
     ]
    },
    {
     "name": "stdout",
     "output_type": "stream",
     "text": [
      "Epoch: 607/1000, Loss: 0.085945\n"
     ]
    },
    {
     "name": "stderr",
     "output_type": "stream",
     "text": [
      "Epoch 608/1000: 100%|██████████████████████████████| 47/47 [00:00<00:00, 196.63batch/s, loss=0.040653]\n"
     ]
    },
    {
     "name": "stdout",
     "output_type": "stream",
     "text": [
      "Epoch: 608/1000, Loss: 0.058264\n"
     ]
    },
    {
     "name": "stderr",
     "output_type": "stream",
     "text": [
      "Epoch 609/1000: 100%|██████████████████████████████| 47/47 [00:00<00:00, 239.24batch/s, loss=0.052729]\n"
     ]
    },
    {
     "name": "stdout",
     "output_type": "stream",
     "text": [
      "Epoch: 609/1000, Loss: 0.063681\n"
     ]
    },
    {
     "name": "stderr",
     "output_type": "stream",
     "text": [
      "Epoch 610/1000: 100%|██████████████████████████████| 47/47 [00:00<00:00, 223.21batch/s, loss=0.026015]\n"
     ]
    },
    {
     "name": "stdout",
     "output_type": "stream",
     "text": [
      "Epoch: 610/1000, Loss: 0.067213\n"
     ]
    },
    {
     "name": "stderr",
     "output_type": "stream",
     "text": [
      "Epoch 611/1000: 100%|██████████████████████████████| 47/47 [00:00<00:00, 214.78batch/s, loss=0.062704]\n"
     ]
    },
    {
     "name": "stdout",
     "output_type": "stream",
     "text": [
      "Epoch: 611/1000, Loss: 0.058526\n"
     ]
    },
    {
     "name": "stderr",
     "output_type": "stream",
     "text": [
      "Epoch 612/1000: 100%|██████████████████████████████| 47/47 [00:00<00:00, 250.24batch/s, loss=0.027907]\n"
     ]
    },
    {
     "name": "stdout",
     "output_type": "stream",
     "text": [
      "Epoch: 612/1000, Loss: 0.045096\n"
     ]
    },
    {
     "name": "stderr",
     "output_type": "stream",
     "text": [
      "Epoch 613/1000: 100%|██████████████████████████████| 47/47 [00:00<00:00, 266.37batch/s, loss=0.013129]\n"
     ]
    },
    {
     "name": "stdout",
     "output_type": "stream",
     "text": [
      "Epoch: 613/1000, Loss: 0.078142\n"
     ]
    },
    {
     "name": "stderr",
     "output_type": "stream",
     "text": [
      "Epoch 614/1000: 100%|██████████████████████████████| 47/47 [00:00<00:00, 259.53batch/s, loss=0.015443]\n"
     ]
    },
    {
     "name": "stdout",
     "output_type": "stream",
     "text": [
      "Epoch: 614/1000, Loss: 0.062506\n"
     ]
    },
    {
     "name": "stderr",
     "output_type": "stream",
     "text": [
      "Epoch 615/1000: 100%|██████████████████████████████| 47/47 [00:00<00:00, 282.39batch/s, loss=0.017437]\n"
     ]
    },
    {
     "name": "stdout",
     "output_type": "stream",
     "text": [
      "Epoch: 615/1000, Loss: 0.049107\n"
     ]
    },
    {
     "name": "stderr",
     "output_type": "stream",
     "text": [
      "Epoch 616/1000: 100%|██████████████████████████████| 47/47 [00:00<00:00, 252.71batch/s, loss=0.153640]\n"
     ]
    },
    {
     "name": "stdout",
     "output_type": "stream",
     "text": [
      "Epoch: 616/1000, Loss: 0.061456\n"
     ]
    },
    {
     "name": "stderr",
     "output_type": "stream",
     "text": [
      "Epoch 617/1000: 100%|██████████████████████████████| 47/47 [00:00<00:00, 252.55batch/s, loss=0.020495]\n"
     ]
    },
    {
     "name": "stdout",
     "output_type": "stream",
     "text": [
      "Epoch: 617/1000, Loss: 0.046831\n"
     ]
    },
    {
     "name": "stderr",
     "output_type": "stream",
     "text": [
      "Epoch 618/1000: 100%|██████████████████████████████| 47/47 [00:00<00:00, 256.87batch/s, loss=0.015755]\n"
     ]
    },
    {
     "name": "stdout",
     "output_type": "stream",
     "text": [
      "Epoch: 618/1000, Loss: 0.062040\n"
     ]
    },
    {
     "name": "stderr",
     "output_type": "stream",
     "text": [
      "Epoch 619/1000: 100%|██████████████████████████████| 47/47 [00:00<00:00, 254.10batch/s, loss=0.033678]\n"
     ]
    },
    {
     "name": "stdout",
     "output_type": "stream",
     "text": [
      "Epoch: 619/1000, Loss: 0.070882\n"
     ]
    },
    {
     "name": "stderr",
     "output_type": "stream",
     "text": [
      "Epoch 620/1000: 100%|██████████████████████████████| 47/47 [00:00<00:00, 253.09batch/s, loss=0.197662]\n"
     ]
    },
    {
     "name": "stdout",
     "output_type": "stream",
     "text": [
      "Epoch: 620/1000, Loss: 0.042060\n"
     ]
    },
    {
     "name": "stderr",
     "output_type": "stream",
     "text": [
      "Epoch 621/1000: 100%|██████████████████████████████| 47/47 [00:00<00:00, 248.36batch/s, loss=0.220019]\n"
     ]
    },
    {
     "name": "stdout",
     "output_type": "stream",
     "text": [
      "Epoch: 621/1000, Loss: 0.089620\n"
     ]
    },
    {
     "name": "stderr",
     "output_type": "stream",
     "text": [
      "Epoch 622/1000: 100%|██████████████████████████████| 47/47 [00:00<00:00, 216.22batch/s, loss=0.093186]\n"
     ]
    },
    {
     "name": "stdout",
     "output_type": "stream",
     "text": [
      "Epoch: 622/1000, Loss: 0.100694\n"
     ]
    },
    {
     "name": "stderr",
     "output_type": "stream",
     "text": [
      "Epoch 623/1000: 100%|██████████████████████████████| 47/47 [00:00<00:00, 233.65batch/s, loss=0.097717]\n"
     ]
    },
    {
     "name": "stdout",
     "output_type": "stream",
     "text": [
      "Epoch: 623/1000, Loss: 0.066119\n"
     ]
    },
    {
     "name": "stderr",
     "output_type": "stream",
     "text": [
      "Epoch 624/1000: 100%|██████████████████████████████| 47/47 [00:00<00:00, 232.32batch/s, loss=0.051336]\n"
     ]
    },
    {
     "name": "stdout",
     "output_type": "stream",
     "text": [
      "Epoch: 624/1000, Loss: 0.072098\n"
     ]
    },
    {
     "name": "stderr",
     "output_type": "stream",
     "text": [
      "Epoch 625/1000: 100%|██████████████████████████████| 47/47 [00:00<00:00, 218.51batch/s, loss=0.093703]\n"
     ]
    },
    {
     "name": "stdout",
     "output_type": "stream",
     "text": [
      "Epoch: 625/1000, Loss: 0.072586\n"
     ]
    },
    {
     "name": "stderr",
     "output_type": "stream",
     "text": [
      "Epoch 626/1000: 100%|██████████████████████████████| 47/47 [00:00<00:00, 254.83batch/s, loss=0.004743]\n"
     ]
    },
    {
     "name": "stdout",
     "output_type": "stream",
     "text": [
      "Epoch: 626/1000, Loss: 0.095039\n"
     ]
    },
    {
     "name": "stderr",
     "output_type": "stream",
     "text": [
      "Epoch 627/1000: 100%|██████████████████████████████| 47/47 [00:00<00:00, 235.14batch/s, loss=0.267091]\n"
     ]
    },
    {
     "name": "stdout",
     "output_type": "stream",
     "text": [
      "Epoch: 627/1000, Loss: 0.088869\n"
     ]
    },
    {
     "name": "stderr",
     "output_type": "stream",
     "text": [
      "Epoch 628/1000: 100%|██████████████████████████████| 47/47 [00:00<00:00, 237.67batch/s, loss=0.016720]\n"
     ]
    },
    {
     "name": "stdout",
     "output_type": "stream",
     "text": [
      "Epoch: 628/1000, Loss: 0.059245\n"
     ]
    },
    {
     "name": "stderr",
     "output_type": "stream",
     "text": [
      "Epoch 629/1000: 100%|██████████████████████████████| 47/47 [00:00<00:00, 241.46batch/s, loss=0.041036]\n"
     ]
    },
    {
     "name": "stdout",
     "output_type": "stream",
     "text": [
      "Epoch: 629/1000, Loss: 0.071411\n"
     ]
    },
    {
     "name": "stderr",
     "output_type": "stream",
     "text": [
      "Epoch 630/1000: 100%|██████████████████████████████| 47/47 [00:00<00:00, 281.45batch/s, loss=0.020450]\n"
     ]
    },
    {
     "name": "stdout",
     "output_type": "stream",
     "text": [
      "Epoch: 630/1000, Loss: 0.076656\n"
     ]
    },
    {
     "name": "stderr",
     "output_type": "stream",
     "text": [
      "Epoch 631/1000: 100%|██████████████████████████████| 47/47 [00:00<00:00, 245.24batch/s, loss=0.034256]\n"
     ]
    },
    {
     "name": "stdout",
     "output_type": "stream",
     "text": [
      "Epoch: 631/1000, Loss: 0.080388\n"
     ]
    },
    {
     "name": "stderr",
     "output_type": "stream",
     "text": [
      "Epoch 632/1000: 100%|██████████████████████████████| 47/47 [00:00<00:00, 219.00batch/s, loss=0.051972]\n"
     ]
    },
    {
     "name": "stdout",
     "output_type": "stream",
     "text": [
      "Epoch: 632/1000, Loss: 0.071156\n"
     ]
    },
    {
     "name": "stderr",
     "output_type": "stream",
     "text": [
      "Epoch 633/1000: 100%|██████████████████████████████| 47/47 [00:00<00:00, 220.86batch/s, loss=0.018932]\n"
     ]
    },
    {
     "name": "stdout",
     "output_type": "stream",
     "text": [
      "Epoch: 633/1000, Loss: 0.080221\n"
     ]
    },
    {
     "name": "stderr",
     "output_type": "stream",
     "text": [
      "Epoch 634/1000: 100%|██████████████████████████████| 47/47 [00:00<00:00, 260.66batch/s, loss=0.069088]\n"
     ]
    },
    {
     "name": "stdout",
     "output_type": "stream",
     "text": [
      "Epoch: 634/1000, Loss: 0.071870\n"
     ]
    },
    {
     "name": "stderr",
     "output_type": "stream",
     "text": [
      "Epoch 635/1000: 100%|██████████████████████████████| 47/47 [00:00<00:00, 239.07batch/s, loss=0.017687]\n"
     ]
    },
    {
     "name": "stdout",
     "output_type": "stream",
     "text": [
      "Epoch: 635/1000, Loss: 0.051550\n"
     ]
    },
    {
     "name": "stderr",
     "output_type": "stream",
     "text": [
      "Epoch 636/1000: 100%|██████████████████████████████| 47/47 [00:00<00:00, 233.25batch/s, loss=0.017430]\n"
     ]
    },
    {
     "name": "stdout",
     "output_type": "stream",
     "text": [
      "Epoch: 636/1000, Loss: 0.059006\n"
     ]
    },
    {
     "name": "stderr",
     "output_type": "stream",
     "text": [
      "Epoch 637/1000: 100%|██████████████████████████████| 47/47 [00:00<00:00, 243.74batch/s, loss=0.039283]\n"
     ]
    },
    {
     "name": "stdout",
     "output_type": "stream",
     "text": [
      "Epoch: 637/1000, Loss: 0.056921\n"
     ]
    },
    {
     "name": "stderr",
     "output_type": "stream",
     "text": [
      "Epoch 638/1000: 100%|██████████████████████████████| 47/47 [00:00<00:00, 228.63batch/s, loss=0.016182]\n"
     ]
    },
    {
     "name": "stdout",
     "output_type": "stream",
     "text": [
      "Epoch: 638/1000, Loss: 0.074100\n"
     ]
    },
    {
     "name": "stderr",
     "output_type": "stream",
     "text": [
      "Epoch 639/1000: 100%|██████████████████████████████| 47/47 [00:00<00:00, 278.84batch/s, loss=0.018652]\n"
     ]
    },
    {
     "name": "stdout",
     "output_type": "stream",
     "text": [
      "Epoch: 639/1000, Loss: 0.140984\n"
     ]
    },
    {
     "name": "stderr",
     "output_type": "stream",
     "text": [
      "Epoch 640/1000: 100%|██████████████████████████████| 47/47 [00:00<00:00, 285.43batch/s, loss=0.104848]\n"
     ]
    },
    {
     "name": "stdout",
     "output_type": "stream",
     "text": [
      "Epoch: 640/1000, Loss: 0.094632\n"
     ]
    },
    {
     "name": "stderr",
     "output_type": "stream",
     "text": [
      "Epoch 641/1000: 100%|██████████████████████████████| 47/47 [00:00<00:00, 215.87batch/s, loss=0.008630]\n"
     ]
    },
    {
     "name": "stdout",
     "output_type": "stream",
     "text": [
      "Epoch: 641/1000, Loss: 0.055168\n"
     ]
    },
    {
     "name": "stderr",
     "output_type": "stream",
     "text": [
      "Epoch 642/1000: 100%|██████████████████████████████| 47/47 [00:00<00:00, 249.20batch/s, loss=0.021126]\n"
     ]
    },
    {
     "name": "stdout",
     "output_type": "stream",
     "text": [
      "Epoch: 642/1000, Loss: 0.076597\n"
     ]
    },
    {
     "name": "stderr",
     "output_type": "stream",
     "text": [
      "Epoch 643/1000: 100%|██████████████████████████████| 47/47 [00:00<00:00, 264.73batch/s, loss=0.028710]\n"
     ]
    },
    {
     "name": "stdout",
     "output_type": "stream",
     "text": [
      "Epoch: 643/1000, Loss: 0.064103\n"
     ]
    },
    {
     "name": "stderr",
     "output_type": "stream",
     "text": [
      "Epoch 644/1000: 100%|██████████████████████████████| 47/47 [00:00<00:00, 285.33batch/s, loss=0.009596]\n"
     ]
    },
    {
     "name": "stdout",
     "output_type": "stream",
     "text": [
      "Epoch: 644/1000, Loss: 0.071673\n"
     ]
    },
    {
     "name": "stderr",
     "output_type": "stream",
     "text": [
      "Epoch 645/1000: 100%|██████████████████████████████| 47/47 [00:00<00:00, 252.89batch/s, loss=0.009496]\n"
     ]
    },
    {
     "name": "stdout",
     "output_type": "stream",
     "text": [
      "Epoch: 645/1000, Loss: 0.065869\n"
     ]
    },
    {
     "name": "stderr",
     "output_type": "stream",
     "text": [
      "Epoch 646/1000: 100%|██████████████████████████████| 47/47 [00:00<00:00, 283.42batch/s, loss=0.324510]\n"
     ]
    },
    {
     "name": "stdout",
     "output_type": "stream",
     "text": [
      "Epoch: 646/1000, Loss: 0.062247\n"
     ]
    },
    {
     "name": "stderr",
     "output_type": "stream",
     "text": [
      "Epoch 647/1000: 100%|██████████████████████████████| 47/47 [00:00<00:00, 280.78batch/s, loss=0.026128]\n"
     ]
    },
    {
     "name": "stdout",
     "output_type": "stream",
     "text": [
      "Epoch: 647/1000, Loss: 0.060757\n"
     ]
    },
    {
     "name": "stderr",
     "output_type": "stream",
     "text": [
      "Epoch 648/1000: 100%|██████████████████████████████| 47/47 [00:00<00:00, 267.91batch/s, loss=0.015861]\n"
     ]
    },
    {
     "name": "stdout",
     "output_type": "stream",
     "text": [
      "Epoch: 648/1000, Loss: 0.039698\n"
     ]
    },
    {
     "name": "stderr",
     "output_type": "stream",
     "text": [
      "Epoch 649/1000: 100%|██████████████████████████████| 47/47 [00:00<00:00, 276.16batch/s, loss=0.024340]\n"
     ]
    },
    {
     "name": "stdout",
     "output_type": "stream",
     "text": [
      "Epoch: 649/1000, Loss: 0.063573\n"
     ]
    },
    {
     "name": "stderr",
     "output_type": "stream",
     "text": [
      "Epoch 650/1000: 100%|██████████████████████████████| 47/47 [00:00<00:00, 262.98batch/s, loss=0.016894]\n"
     ]
    },
    {
     "name": "stdout",
     "output_type": "stream",
     "text": [
      "Epoch: 650/1000, Loss: 0.056367\n"
     ]
    },
    {
     "name": "stderr",
     "output_type": "stream",
     "text": [
      "Epoch 651/1000: 100%|██████████████████████████████| 47/47 [00:00<00:00, 236.75batch/s, loss=0.011005]\n"
     ]
    },
    {
     "name": "stdout",
     "output_type": "stream",
     "text": [
      "Epoch: 651/1000, Loss: 0.047612\n"
     ]
    },
    {
     "name": "stderr",
     "output_type": "stream",
     "text": [
      "Epoch 652/1000: 100%|██████████████████████████████| 47/47 [00:00<00:00, 228.66batch/s, loss=0.184764]\n"
     ]
    },
    {
     "name": "stdout",
     "output_type": "stream",
     "text": [
      "Epoch: 652/1000, Loss: 0.105616\n"
     ]
    },
    {
     "name": "stderr",
     "output_type": "stream",
     "text": [
      "Epoch 653/1000: 100%|██████████████████████████████| 47/47 [00:00<00:00, 242.25batch/s, loss=0.052504]\n"
     ]
    },
    {
     "name": "stdout",
     "output_type": "stream",
     "text": [
      "Epoch: 653/1000, Loss: 0.070232\n"
     ]
    },
    {
     "name": "stderr",
     "output_type": "stream",
     "text": [
      "Epoch 654/1000: 100%|██████████████████████████████| 47/47 [00:00<00:00, 240.64batch/s, loss=0.030703]\n"
     ]
    },
    {
     "name": "stdout",
     "output_type": "stream",
     "text": [
      "Epoch: 654/1000, Loss: 0.066284\n"
     ]
    },
    {
     "name": "stderr",
     "output_type": "stream",
     "text": [
      "Epoch 655/1000: 100%|██████████████████████████████| 47/47 [00:00<00:00, 238.77batch/s, loss=0.028829]\n"
     ]
    },
    {
     "name": "stdout",
     "output_type": "stream",
     "text": [
      "Epoch: 655/1000, Loss: 0.072314\n"
     ]
    },
    {
     "name": "stderr",
     "output_type": "stream",
     "text": [
      "Epoch 656/1000: 100%|██████████████████████████████| 47/47 [00:00<00:00, 194.76batch/s, loss=0.112565]\n"
     ]
    },
    {
     "name": "stdout",
     "output_type": "stream",
     "text": [
      "Epoch: 656/1000, Loss: 0.051895\n"
     ]
    },
    {
     "name": "stderr",
     "output_type": "stream",
     "text": [
      "Epoch 657/1000: 100%|██████████████████████████████| 47/47 [00:00<00:00, 219.21batch/s, loss=0.022414]\n"
     ]
    },
    {
     "name": "stdout",
     "output_type": "stream",
     "text": [
      "Epoch: 657/1000, Loss: 0.052322\n"
     ]
    },
    {
     "name": "stderr",
     "output_type": "stream",
     "text": [
      "Epoch 658/1000: 100%|██████████████████████████████| 47/47 [00:00<00:00, 217.27batch/s, loss=0.014220]\n"
     ]
    },
    {
     "name": "stdout",
     "output_type": "stream",
     "text": [
      "Epoch: 658/1000, Loss: 0.064340\n"
     ]
    },
    {
     "name": "stderr",
     "output_type": "stream",
     "text": [
      "Epoch 659/1000: 100%|██████████████████████████████| 47/47 [00:00<00:00, 247.16batch/s, loss=0.023549]\n"
     ]
    },
    {
     "name": "stdout",
     "output_type": "stream",
     "text": [
      "Epoch: 659/1000, Loss: 0.086857\n"
     ]
    },
    {
     "name": "stderr",
     "output_type": "stream",
     "text": [
      "Epoch 660/1000: 100%|██████████████████████████████| 47/47 [00:00<00:00, 243.56batch/s, loss=0.018717]\n"
     ]
    },
    {
     "name": "stdout",
     "output_type": "stream",
     "text": [
      "Epoch: 660/1000, Loss: 0.063641\n"
     ]
    },
    {
     "name": "stderr",
     "output_type": "stream",
     "text": [
      "Epoch 661/1000: 100%|██████████████████████████████| 47/47 [00:00<00:00, 214.57batch/s, loss=0.022867]\n"
     ]
    },
    {
     "name": "stdout",
     "output_type": "stream",
     "text": [
      "Epoch: 661/1000, Loss: 0.065629\n"
     ]
    },
    {
     "name": "stderr",
     "output_type": "stream",
     "text": [
      "Epoch 662/1000: 100%|██████████████████████████████| 47/47 [00:00<00:00, 255.91batch/s, loss=0.024327]\n"
     ]
    },
    {
     "name": "stdout",
     "output_type": "stream",
     "text": [
      "Epoch: 662/1000, Loss: 0.063652\n"
     ]
    },
    {
     "name": "stderr",
     "output_type": "stream",
     "text": [
      "Epoch 663/1000: 100%|██████████████████████████████| 47/47 [00:00<00:00, 286.13batch/s, loss=0.053873]\n"
     ]
    },
    {
     "name": "stdout",
     "output_type": "stream",
     "text": [
      "Epoch: 663/1000, Loss: 0.094874\n"
     ]
    },
    {
     "name": "stderr",
     "output_type": "stream",
     "text": [
      "Epoch 664/1000: 100%|██████████████████████████████| 47/47 [00:00<00:00, 286.57batch/s, loss=0.028082]\n"
     ]
    },
    {
     "name": "stdout",
     "output_type": "stream",
     "text": [
      "Epoch: 664/1000, Loss: 0.080649\n"
     ]
    },
    {
     "name": "stderr",
     "output_type": "stream",
     "text": [
      "Epoch 665/1000: 100%|██████████████████████████████| 47/47 [00:00<00:00, 289.23batch/s, loss=0.006835]\n"
     ]
    },
    {
     "name": "stdout",
     "output_type": "stream",
     "text": [
      "Epoch: 665/1000, Loss: 0.092286\n"
     ]
    },
    {
     "name": "stderr",
     "output_type": "stream",
     "text": [
      "Epoch 666/1000: 100%|██████████████████████████████| 47/47 [00:00<00:00, 288.29batch/s, loss=0.073090]\n"
     ]
    },
    {
     "name": "stdout",
     "output_type": "stream",
     "text": [
      "Epoch: 666/1000, Loss: 0.069997\n"
     ]
    },
    {
     "name": "stderr",
     "output_type": "stream",
     "text": [
      "Epoch 667/1000: 100%|██████████████████████████████| 47/47 [00:00<00:00, 288.30batch/s, loss=0.066828]\n"
     ]
    },
    {
     "name": "stdout",
     "output_type": "stream",
     "text": [
      "Epoch: 667/1000, Loss: 0.111828\n"
     ]
    },
    {
     "name": "stderr",
     "output_type": "stream",
     "text": [
      "Epoch 668/1000: 100%|██████████████████████████████| 47/47 [00:00<00:00, 248.43batch/s, loss=0.154783]\n"
     ]
    },
    {
     "name": "stdout",
     "output_type": "stream",
     "text": [
      "Epoch: 668/1000, Loss: 0.091199\n"
     ]
    },
    {
     "name": "stderr",
     "output_type": "stream",
     "text": [
      "Epoch 669/1000: 100%|██████████████████████████████| 47/47 [00:00<00:00, 204.69batch/s, loss=0.023407]\n"
     ]
    },
    {
     "name": "stdout",
     "output_type": "stream",
     "text": [
      "Epoch: 669/1000, Loss: 0.051684\n"
     ]
    },
    {
     "name": "stderr",
     "output_type": "stream",
     "text": [
      "Epoch 670/1000: 100%|██████████████████████████████| 47/47 [00:00<00:00, 221.87batch/s, loss=0.007214]\n"
     ]
    },
    {
     "name": "stdout",
     "output_type": "stream",
     "text": [
      "Epoch: 670/1000, Loss: 0.078436\n"
     ]
    },
    {
     "name": "stderr",
     "output_type": "stream",
     "text": [
      "Epoch 671/1000: 100%|██████████████████████████████| 47/47 [00:00<00:00, 247.61batch/s, loss=0.030790]\n"
     ]
    },
    {
     "name": "stdout",
     "output_type": "stream",
     "text": [
      "Epoch: 671/1000, Loss: 0.067893\n"
     ]
    },
    {
     "name": "stderr",
     "output_type": "stream",
     "text": [
      "Epoch 672/1000: 100%|██████████████████████████████| 47/47 [00:00<00:00, 243.90batch/s, loss=0.025132]\n"
     ]
    },
    {
     "name": "stdout",
     "output_type": "stream",
     "text": [
      "Epoch: 672/1000, Loss: 0.064380\n"
     ]
    },
    {
     "name": "stderr",
     "output_type": "stream",
     "text": [
      "Epoch 673/1000: 100%|██████████████████████████████| 47/47 [00:00<00:00, 245.64batch/s, loss=0.005582]\n"
     ]
    },
    {
     "name": "stdout",
     "output_type": "stream",
     "text": [
      "Epoch: 673/1000, Loss: 0.052434\n"
     ]
    },
    {
     "name": "stderr",
     "output_type": "stream",
     "text": [
      "Epoch 674/1000: 100%|██████████████████████████████| 47/47 [00:00<00:00, 251.60batch/s, loss=0.062225]\n"
     ]
    },
    {
     "name": "stdout",
     "output_type": "stream",
     "text": [
      "Epoch: 674/1000, Loss: 0.062613\n"
     ]
    },
    {
     "name": "stderr",
     "output_type": "stream",
     "text": [
      "Epoch 675/1000: 100%|██████████████████████████████| 47/47 [00:00<00:00, 245.34batch/s, loss=0.157674]\n"
     ]
    },
    {
     "name": "stdout",
     "output_type": "stream",
     "text": [
      "Epoch: 675/1000, Loss: 0.056042\n"
     ]
    },
    {
     "name": "stderr",
     "output_type": "stream",
     "text": [
      "Epoch 676/1000: 100%|██████████████████████████████| 47/47 [00:00<00:00, 250.19batch/s, loss=0.013545]\n"
     ]
    },
    {
     "name": "stdout",
     "output_type": "stream",
     "text": [
      "Epoch: 676/1000, Loss: 0.075611\n"
     ]
    },
    {
     "name": "stderr",
     "output_type": "stream",
     "text": [
      "Epoch 677/1000: 100%|██████████████████████████████| 47/47 [00:00<00:00, 244.44batch/s, loss=0.271667]\n"
     ]
    },
    {
     "name": "stdout",
     "output_type": "stream",
     "text": [
      "Epoch: 677/1000, Loss: 0.065361\n"
     ]
    },
    {
     "name": "stderr",
     "output_type": "stream",
     "text": [
      "Epoch 678/1000: 100%|██████████████████████████████| 47/47 [00:00<00:00, 242.45batch/s, loss=0.013056]\n"
     ]
    },
    {
     "name": "stdout",
     "output_type": "stream",
     "text": [
      "Epoch: 678/1000, Loss: 0.062689\n"
     ]
    },
    {
     "name": "stderr",
     "output_type": "stream",
     "text": [
      "Epoch 679/1000: 100%|██████████████████████████████| 47/47 [00:00<00:00, 259.61batch/s, loss=0.040963]\n"
     ]
    },
    {
     "name": "stdout",
     "output_type": "stream",
     "text": [
      "Epoch: 679/1000, Loss: 0.088337\n"
     ]
    },
    {
     "name": "stderr",
     "output_type": "stream",
     "text": [
      "Epoch 680/1000: 100%|██████████████████████████████| 47/47 [00:00<00:00, 279.78batch/s, loss=0.011233]\n"
     ]
    },
    {
     "name": "stdout",
     "output_type": "stream",
     "text": [
      "Epoch: 680/1000, Loss: 0.122817\n"
     ]
    },
    {
     "name": "stderr",
     "output_type": "stream",
     "text": [
      "Epoch 681/1000: 100%|██████████████████████████████| 47/47 [00:00<00:00, 280.82batch/s, loss=0.047693]\n"
     ]
    },
    {
     "name": "stdout",
     "output_type": "stream",
     "text": [
      "Epoch: 681/1000, Loss: 0.079089\n"
     ]
    },
    {
     "name": "stderr",
     "output_type": "stream",
     "text": [
      "Epoch 682/1000: 100%|██████████████████████████████| 47/47 [00:00<00:00, 269.88batch/s, loss=0.052826]\n"
     ]
    },
    {
     "name": "stdout",
     "output_type": "stream",
     "text": [
      "Epoch: 682/1000, Loss: 0.079222\n"
     ]
    },
    {
     "name": "stderr",
     "output_type": "stream",
     "text": [
      "Epoch 683/1000: 100%|██████████████████████████████| 47/47 [00:00<00:00, 240.27batch/s, loss=0.020394]\n"
     ]
    },
    {
     "name": "stdout",
     "output_type": "stream",
     "text": [
      "Epoch: 683/1000, Loss: 0.061216\n"
     ]
    },
    {
     "name": "stderr",
     "output_type": "stream",
     "text": [
      "Epoch 684/1000: 100%|██████████████████████████████| 47/47 [00:00<00:00, 239.32batch/s, loss=0.027902]\n"
     ]
    },
    {
     "name": "stdout",
     "output_type": "stream",
     "text": [
      "Epoch: 684/1000, Loss: 0.055726\n"
     ]
    },
    {
     "name": "stderr",
     "output_type": "stream",
     "text": [
      "Epoch 685/1000: 100%|██████████████████████████████| 47/47 [00:00<00:00, 218.65batch/s, loss=0.086924]\n"
     ]
    },
    {
     "name": "stdout",
     "output_type": "stream",
     "text": [
      "Epoch: 685/1000, Loss: 0.056859\n"
     ]
    },
    {
     "name": "stderr",
     "output_type": "stream",
     "text": [
      "Epoch 686/1000: 100%|██████████████████████████████| 47/47 [00:00<00:00, 231.27batch/s, loss=0.019381]\n"
     ]
    },
    {
     "name": "stdout",
     "output_type": "stream",
     "text": [
      "Epoch: 686/1000, Loss: 0.058829\n"
     ]
    },
    {
     "name": "stderr",
     "output_type": "stream",
     "text": [
      "Epoch 687/1000: 100%|██████████████████████████████| 47/47 [00:00<00:00, 255.71batch/s, loss=0.008828]\n"
     ]
    },
    {
     "name": "stdout",
     "output_type": "stream",
     "text": [
      "Epoch: 687/1000, Loss: 0.056642\n"
     ]
    },
    {
     "name": "stderr",
     "output_type": "stream",
     "text": [
      "Epoch 688/1000: 100%|██████████████████████████████| 47/47 [00:00<00:00, 243.45batch/s, loss=0.082964]\n"
     ]
    },
    {
     "name": "stdout",
     "output_type": "stream",
     "text": [
      "Epoch: 688/1000, Loss: 0.040007\n"
     ]
    },
    {
     "name": "stderr",
     "output_type": "stream",
     "text": [
      "Epoch 689/1000: 100%|██████████████████████████████| 47/47 [00:00<00:00, 243.41batch/s, loss=0.014901]\n"
     ]
    },
    {
     "name": "stdout",
     "output_type": "stream",
     "text": [
      "Epoch: 689/1000, Loss: 0.071448\n"
     ]
    },
    {
     "name": "stderr",
     "output_type": "stream",
     "text": [
      "Epoch 690/1000: 100%|██████████████████████████████| 47/47 [00:00<00:00, 247.80batch/s, loss=0.041752]\n"
     ]
    },
    {
     "name": "stdout",
     "output_type": "stream",
     "text": [
      "Epoch: 690/1000, Loss: 0.100561\n"
     ]
    },
    {
     "name": "stderr",
     "output_type": "stream",
     "text": [
      "Epoch 691/1000: 100%|██████████████████████████████| 47/47 [00:00<00:00, 243.00batch/s, loss=0.037825]\n"
     ]
    },
    {
     "name": "stdout",
     "output_type": "stream",
     "text": [
      "Epoch: 691/1000, Loss: 0.069189\n"
     ]
    },
    {
     "name": "stderr",
     "output_type": "stream",
     "text": [
      "Epoch 692/1000: 100%|██████████████████████████████| 47/47 [00:00<00:00, 240.10batch/s, loss=0.013499]\n"
     ]
    },
    {
     "name": "stdout",
     "output_type": "stream",
     "text": [
      "Epoch: 692/1000, Loss: 0.080287\n"
     ]
    },
    {
     "name": "stderr",
     "output_type": "stream",
     "text": [
      "Epoch 693/1000: 100%|██████████████████████████████| 47/47 [00:00<00:00, 238.41batch/s, loss=0.158657]\n"
     ]
    },
    {
     "name": "stdout",
     "output_type": "stream",
     "text": [
      "Epoch: 693/1000, Loss: 0.073172\n"
     ]
    },
    {
     "name": "stderr",
     "output_type": "stream",
     "text": [
      "Epoch 694/1000: 100%|██████████████████████████████| 47/47 [00:00<00:00, 248.46batch/s, loss=0.095003]\n"
     ]
    },
    {
     "name": "stdout",
     "output_type": "stream",
     "text": [
      "Epoch: 694/1000, Loss: 0.063065\n"
     ]
    },
    {
     "name": "stderr",
     "output_type": "stream",
     "text": [
      "Epoch 695/1000: 100%|██████████████████████████████| 47/47 [00:00<00:00, 247.34batch/s, loss=0.130397]\n"
     ]
    },
    {
     "name": "stdout",
     "output_type": "stream",
     "text": [
      "Epoch: 695/1000, Loss: 0.071228\n"
     ]
    },
    {
     "name": "stderr",
     "output_type": "stream",
     "text": [
      "Epoch 696/1000: 100%|██████████████████████████████| 47/47 [00:00<00:00, 235.08batch/s, loss=0.005909]\n"
     ]
    },
    {
     "name": "stdout",
     "output_type": "stream",
     "text": [
      "Epoch: 696/1000, Loss: 0.064749\n"
     ]
    },
    {
     "name": "stderr",
     "output_type": "stream",
     "text": [
      "Epoch 697/1000: 100%|██████████████████████████████| 47/47 [00:00<00:00, 224.74batch/s, loss=0.032702]\n"
     ]
    },
    {
     "name": "stdout",
     "output_type": "stream",
     "text": [
      "Epoch: 697/1000, Loss: 0.084453\n"
     ]
    },
    {
     "name": "stderr",
     "output_type": "stream",
     "text": [
      "Epoch 698/1000: 100%|██████████████████████████████| 47/47 [00:00<00:00, 249.88batch/s, loss=0.040506]\n"
     ]
    },
    {
     "name": "stdout",
     "output_type": "stream",
     "text": [
      "Epoch: 698/1000, Loss: 0.090326\n"
     ]
    },
    {
     "name": "stderr",
     "output_type": "stream",
     "text": [
      "Epoch 699/1000: 100%|██████████████████████████████| 47/47 [00:00<00:00, 229.14batch/s, loss=0.108860]\n"
     ]
    },
    {
     "name": "stdout",
     "output_type": "stream",
     "text": [
      "Epoch: 699/1000, Loss: 0.076079\n"
     ]
    },
    {
     "name": "stderr",
     "output_type": "stream",
     "text": [
      "Epoch 700/1000: 100%|██████████████████████████████| 47/47 [00:00<00:00, 250.70batch/s, loss=0.087333]\n"
     ]
    },
    {
     "name": "stdout",
     "output_type": "stream",
     "text": [
      "Epoch: 700/1000, Loss: 0.064383\n"
     ]
    },
    {
     "name": "stderr",
     "output_type": "stream",
     "text": [
      "Epoch 701/1000: 100%|██████████████████████████████| 47/47 [00:00<00:00, 273.48batch/s, loss=0.007163]\n"
     ]
    },
    {
     "name": "stdout",
     "output_type": "stream",
     "text": [
      "Epoch: 701/1000, Loss: 0.068503\n"
     ]
    },
    {
     "name": "stderr",
     "output_type": "stream",
     "text": [
      "Epoch 702/1000: 100%|██████████████████████████████| 47/47 [00:00<00:00, 278.05batch/s, loss=0.130374]\n"
     ]
    },
    {
     "name": "stdout",
     "output_type": "stream",
     "text": [
      "Epoch: 702/1000, Loss: 0.062683\n"
     ]
    },
    {
     "name": "stderr",
     "output_type": "stream",
     "text": [
      "Epoch 703/1000: 100%|██████████████████████████████| 47/47 [00:00<00:00, 243.75batch/s, loss=0.019734]\n"
     ]
    },
    {
     "name": "stdout",
     "output_type": "stream",
     "text": [
      "Epoch: 703/1000, Loss: 0.091180\n"
     ]
    },
    {
     "name": "stderr",
     "output_type": "stream",
     "text": [
      "Epoch 704/1000: 100%|██████████████████████████████| 47/47 [00:00<00:00, 238.22batch/s, loss=0.020259]\n"
     ]
    },
    {
     "name": "stdout",
     "output_type": "stream",
     "text": [
      "Epoch: 704/1000, Loss: 0.066563\n"
     ]
    },
    {
     "name": "stderr",
     "output_type": "stream",
     "text": [
      "Epoch 705/1000: 100%|██████████████████████████████| 47/47 [00:00<00:00, 238.01batch/s, loss=0.019496]\n"
     ]
    },
    {
     "name": "stdout",
     "output_type": "stream",
     "text": [
      "Epoch: 705/1000, Loss: 0.042402\n"
     ]
    },
    {
     "name": "stderr",
     "output_type": "stream",
     "text": [
      "Epoch 706/1000: 100%|██████████████████████████████| 47/47 [00:00<00:00, 237.78batch/s, loss=0.009412]\n"
     ]
    },
    {
     "name": "stdout",
     "output_type": "stream",
     "text": [
      "Epoch: 706/1000, Loss: 0.059999\n"
     ]
    },
    {
     "name": "stderr",
     "output_type": "stream",
     "text": [
      "Epoch 707/1000: 100%|██████████████████████████████| 47/47 [00:00<00:00, 235.47batch/s, loss=0.079163]\n"
     ]
    },
    {
     "name": "stdout",
     "output_type": "stream",
     "text": [
      "Epoch: 707/1000, Loss: 0.052316\n"
     ]
    },
    {
     "name": "stderr",
     "output_type": "stream",
     "text": [
      "Epoch 708/1000: 100%|██████████████████████████████| 47/47 [00:00<00:00, 184.65batch/s, loss=0.019002]\n"
     ]
    },
    {
     "name": "stdout",
     "output_type": "stream",
     "text": [
      "Epoch: 708/1000, Loss: 0.066329\n"
     ]
    },
    {
     "name": "stderr",
     "output_type": "stream",
     "text": [
      "Epoch 709/1000: 100%|██████████████████████████████| 47/47 [00:00<00:00, 209.50batch/s, loss=0.005589]\n"
     ]
    },
    {
     "name": "stdout",
     "output_type": "stream",
     "text": [
      "Epoch: 709/1000, Loss: 0.053848\n"
     ]
    },
    {
     "name": "stderr",
     "output_type": "stream",
     "text": [
      "Epoch 710/1000: 100%|██████████████████████████████| 47/47 [00:00<00:00, 267.56batch/s, loss=0.031517]\n"
     ]
    },
    {
     "name": "stdout",
     "output_type": "stream",
     "text": [
      "Epoch: 710/1000, Loss: 0.070823\n"
     ]
    },
    {
     "name": "stderr",
     "output_type": "stream",
     "text": [
      "Epoch 711/1000: 100%|██████████████████████████████| 47/47 [00:00<00:00, 259.67batch/s, loss=0.030351]\n"
     ]
    },
    {
     "name": "stdout",
     "output_type": "stream",
     "text": [
      "Epoch: 711/1000, Loss: 0.079103\n"
     ]
    },
    {
     "name": "stderr",
     "output_type": "stream",
     "text": [
      "Epoch 712/1000: 100%|██████████████████████████████| 47/47 [00:00<00:00, 239.07batch/s, loss=0.011911]\n"
     ]
    },
    {
     "name": "stdout",
     "output_type": "stream",
     "text": [
      "Epoch: 712/1000, Loss: 0.067188\n"
     ]
    },
    {
     "name": "stderr",
     "output_type": "stream",
     "text": [
      "Epoch 713/1000: 100%|██████████████████████████████| 47/47 [00:00<00:00, 242.98batch/s, loss=0.005908]\n"
     ]
    },
    {
     "name": "stdout",
     "output_type": "stream",
     "text": [
      "Epoch: 713/1000, Loss: 0.043527\n"
     ]
    },
    {
     "name": "stderr",
     "output_type": "stream",
     "text": [
      "Epoch 714/1000: 100%|██████████████████████████████| 47/47 [00:00<00:00, 242.15batch/s, loss=0.361131]\n"
     ]
    },
    {
     "name": "stdout",
     "output_type": "stream",
     "text": [
      "Epoch: 714/1000, Loss: 0.069428\n"
     ]
    },
    {
     "name": "stderr",
     "output_type": "stream",
     "text": [
      "Epoch 715/1000: 100%|██████████████████████████████| 47/47 [00:00<00:00, 235.12batch/s, loss=0.007386]\n"
     ]
    },
    {
     "name": "stdout",
     "output_type": "stream",
     "text": [
      "Epoch: 715/1000, Loss: 0.052256\n"
     ]
    },
    {
     "name": "stderr",
     "output_type": "stream",
     "text": [
      "Epoch 716/1000: 100%|██████████████████████████████| 47/47 [00:00<00:00, 227.48batch/s, loss=0.014453]\n"
     ]
    },
    {
     "name": "stdout",
     "output_type": "stream",
     "text": [
      "Epoch: 716/1000, Loss: 0.064896\n"
     ]
    },
    {
     "name": "stderr",
     "output_type": "stream",
     "text": [
      "Epoch 717/1000: 100%|██████████████████████████████| 47/47 [00:00<00:00, 239.11batch/s, loss=0.066620]\n"
     ]
    },
    {
     "name": "stdout",
     "output_type": "stream",
     "text": [
      "Epoch: 717/1000, Loss: 0.048299\n"
     ]
    },
    {
     "name": "stderr",
     "output_type": "stream",
     "text": [
      "Epoch 718/1000: 100%|██████████████████████████████| 47/47 [00:00<00:00, 238.26batch/s, loss=0.214361]\n"
     ]
    },
    {
     "name": "stdout",
     "output_type": "stream",
     "text": [
      "Epoch: 718/1000, Loss: 0.067562\n"
     ]
    },
    {
     "name": "stderr",
     "output_type": "stream",
     "text": [
      "Epoch 719/1000: 100%|██████████████████████████████| 47/47 [00:00<00:00, 242.05batch/s, loss=0.113634]\n"
     ]
    },
    {
     "name": "stdout",
     "output_type": "stream",
     "text": [
      "Epoch: 719/1000, Loss: 0.101145\n"
     ]
    },
    {
     "name": "stderr",
     "output_type": "stream",
     "text": [
      "Epoch 720/1000: 100%|██████████████████████████████| 47/47 [00:00<00:00, 236.60batch/s, loss=0.082458]\n"
     ]
    },
    {
     "name": "stdout",
     "output_type": "stream",
     "text": [
      "Epoch: 720/1000, Loss: 0.088592\n"
     ]
    },
    {
     "name": "stderr",
     "output_type": "stream",
     "text": [
      "Epoch 721/1000: 100%|██████████████████████████████| 47/47 [00:00<00:00, 237.28batch/s, loss=0.063564]\n"
     ]
    },
    {
     "name": "stdout",
     "output_type": "stream",
     "text": [
      "Epoch: 721/1000, Loss: 0.055041\n"
     ]
    },
    {
     "name": "stderr",
     "output_type": "stream",
     "text": [
      "Epoch 722/1000: 100%|██████████████████████████████| 47/47 [00:00<00:00, 238.72batch/s, loss=0.096910]\n"
     ]
    },
    {
     "name": "stdout",
     "output_type": "stream",
     "text": [
      "Epoch: 722/1000, Loss: 0.065484\n"
     ]
    },
    {
     "name": "stderr",
     "output_type": "stream",
     "text": [
      "Epoch 723/1000: 100%|██████████████████████████████| 47/47 [00:00<00:00, 243.28batch/s, loss=0.225184]\n"
     ]
    },
    {
     "name": "stdout",
     "output_type": "stream",
     "text": [
      "Epoch: 723/1000, Loss: 0.084758\n"
     ]
    },
    {
     "name": "stderr",
     "output_type": "stream",
     "text": [
      "Epoch 724/1000: 100%|██████████████████████████████| 47/47 [00:00<00:00, 242.93batch/s, loss=0.039422]\n"
     ]
    },
    {
     "name": "stdout",
     "output_type": "stream",
     "text": [
      "Epoch: 724/1000, Loss: 0.086245\n"
     ]
    },
    {
     "name": "stderr",
     "output_type": "stream",
     "text": [
      "Epoch 725/1000: 100%|██████████████████████████████| 47/47 [00:00<00:00, 258.65batch/s, loss=0.031894]\n"
     ]
    },
    {
     "name": "stdout",
     "output_type": "stream",
     "text": [
      "Epoch: 725/1000, Loss: 0.070512\n"
     ]
    },
    {
     "name": "stderr",
     "output_type": "stream",
     "text": [
      "Epoch 726/1000: 100%|██████████████████████████████| 47/47 [00:00<00:00, 243.95batch/s, loss=0.100930]\n"
     ]
    },
    {
     "name": "stdout",
     "output_type": "stream",
     "text": [
      "Epoch: 726/1000, Loss: 0.066001\n"
     ]
    },
    {
     "name": "stderr",
     "output_type": "stream",
     "text": [
      "Epoch 727/1000: 100%|██████████████████████████████| 47/47 [00:00<00:00, 226.06batch/s, loss=0.192473]\n"
     ]
    },
    {
     "name": "stdout",
     "output_type": "stream",
     "text": [
      "Epoch: 727/1000, Loss: 0.095021\n"
     ]
    },
    {
     "name": "stderr",
     "output_type": "stream",
     "text": [
      "Epoch 728/1000: 100%|██████████████████████████████| 47/47 [00:00<00:00, 238.02batch/s, loss=0.192034]\n"
     ]
    },
    {
     "name": "stdout",
     "output_type": "stream",
     "text": [
      "Epoch: 728/1000, Loss: 0.078132\n"
     ]
    },
    {
     "name": "stderr",
     "output_type": "stream",
     "text": [
      "Epoch 729/1000: 100%|██████████████████████████████| 47/47 [00:00<00:00, 236.69batch/s, loss=0.016742]\n"
     ]
    },
    {
     "name": "stdout",
     "output_type": "stream",
     "text": [
      "Epoch: 729/1000, Loss: 0.051960\n"
     ]
    },
    {
     "name": "stderr",
     "output_type": "stream",
     "text": [
      "Epoch 730/1000: 100%|██████████████████████████████| 47/47 [00:00<00:00, 248.06batch/s, loss=0.020540]\n"
     ]
    },
    {
     "name": "stdout",
     "output_type": "stream",
     "text": [
      "Epoch: 730/1000, Loss: 0.067631\n"
     ]
    },
    {
     "name": "stderr",
     "output_type": "stream",
     "text": [
      "Epoch 731/1000: 100%|██████████████████████████████| 47/47 [00:00<00:00, 224.39batch/s, loss=0.198934]\n"
     ]
    },
    {
     "name": "stdout",
     "output_type": "stream",
     "text": [
      "Epoch: 731/1000, Loss: 0.117714\n"
     ]
    },
    {
     "name": "stderr",
     "output_type": "stream",
     "text": [
      "Epoch 732/1000: 100%|██████████████████████████████| 47/47 [00:00<00:00, 234.97batch/s, loss=0.039310]\n"
     ]
    },
    {
     "name": "stdout",
     "output_type": "stream",
     "text": [
      "Epoch: 732/1000, Loss: 0.057870\n"
     ]
    },
    {
     "name": "stderr",
     "output_type": "stream",
     "text": [
      "Epoch 733/1000: 100%|██████████████████████████████| 47/47 [00:00<00:00, 242.50batch/s, loss=0.009422]\n"
     ]
    },
    {
     "name": "stdout",
     "output_type": "stream",
     "text": [
      "Epoch: 733/1000, Loss: 0.047618\n"
     ]
    },
    {
     "name": "stderr",
     "output_type": "stream",
     "text": [
      "Epoch 734/1000: 100%|██████████████████████████████| 47/47 [00:00<00:00, 255.56batch/s, loss=0.005335]\n"
     ]
    },
    {
     "name": "stdout",
     "output_type": "stream",
     "text": [
      "Epoch: 734/1000, Loss: 0.065696\n"
     ]
    },
    {
     "name": "stderr",
     "output_type": "stream",
     "text": [
      "Epoch 735/1000: 100%|██████████████████████████████| 47/47 [00:00<00:00, 257.76batch/s, loss=0.130117]\n"
     ]
    },
    {
     "name": "stdout",
     "output_type": "stream",
     "text": [
      "Epoch: 735/1000, Loss: 0.087430\n"
     ]
    },
    {
     "name": "stderr",
     "output_type": "stream",
     "text": [
      "Epoch 736/1000: 100%|██████████████████████████████| 47/47 [00:00<00:00, 237.93batch/s, loss=0.029291]\n"
     ]
    },
    {
     "name": "stdout",
     "output_type": "stream",
     "text": [
      "Epoch: 736/1000, Loss: 0.061041\n"
     ]
    },
    {
     "name": "stderr",
     "output_type": "stream",
     "text": [
      "Epoch 737/1000: 100%|██████████████████████████████| 47/47 [00:00<00:00, 271.96batch/s, loss=0.013669]\n"
     ]
    },
    {
     "name": "stdout",
     "output_type": "stream",
     "text": [
      "Epoch: 737/1000, Loss: 0.067653\n"
     ]
    },
    {
     "name": "stderr",
     "output_type": "stream",
     "text": [
      "Epoch 738/1000: 100%|██████████████████████████████| 47/47 [00:00<00:00, 261.34batch/s, loss=0.318203]\n"
     ]
    },
    {
     "name": "stdout",
     "output_type": "stream",
     "text": [
      "Epoch: 738/1000, Loss: 0.056584\n"
     ]
    },
    {
     "name": "stderr",
     "output_type": "stream",
     "text": [
      "Epoch 739/1000: 100%|██████████████████████████████| 47/47 [00:00<00:00, 246.74batch/s, loss=0.013005]\n"
     ]
    },
    {
     "name": "stdout",
     "output_type": "stream",
     "text": [
      "Epoch: 739/1000, Loss: 0.055345\n"
     ]
    },
    {
     "name": "stderr",
     "output_type": "stream",
     "text": [
      "Epoch 740/1000: 100%|██████████████████████████████| 47/47 [00:00<00:00, 211.34batch/s, loss=0.197355]\n"
     ]
    },
    {
     "name": "stdout",
     "output_type": "stream",
     "text": [
      "Epoch: 740/1000, Loss: 0.077949\n"
     ]
    },
    {
     "name": "stderr",
     "output_type": "stream",
     "text": [
      "Epoch 741/1000: 100%|██████████████████████████████| 47/47 [00:00<00:00, 219.46batch/s, loss=0.035579]\n"
     ]
    },
    {
     "name": "stdout",
     "output_type": "stream",
     "text": [
      "Epoch: 741/1000, Loss: 0.043438\n"
     ]
    },
    {
     "name": "stderr",
     "output_type": "stream",
     "text": [
      "Epoch 742/1000: 100%|██████████████████████████████| 47/47 [00:00<00:00, 238.18batch/s, loss=0.007165]\n"
     ]
    },
    {
     "name": "stdout",
     "output_type": "stream",
     "text": [
      "Epoch: 742/1000, Loss: 0.067418\n"
     ]
    },
    {
     "name": "stderr",
     "output_type": "stream",
     "text": [
      "Epoch 743/1000: 100%|██████████████████████████████| 47/47 [00:00<00:00, 237.21batch/s, loss=0.406130]\n"
     ]
    },
    {
     "name": "stdout",
     "output_type": "stream",
     "text": [
      "Epoch: 743/1000, Loss: 0.075971\n"
     ]
    },
    {
     "name": "stderr",
     "output_type": "stream",
     "text": [
      "Epoch 744/1000: 100%|██████████████████████████████| 47/47 [00:00<00:00, 213.78batch/s, loss=0.027875]\n"
     ]
    },
    {
     "name": "stdout",
     "output_type": "stream",
     "text": [
      "Epoch: 744/1000, Loss: 0.110381\n"
     ]
    },
    {
     "name": "stderr",
     "output_type": "stream",
     "text": [
      "Epoch 745/1000: 100%|██████████████████████████████| 47/47 [00:00<00:00, 253.76batch/s, loss=0.066312]\n"
     ]
    },
    {
     "name": "stdout",
     "output_type": "stream",
     "text": [
      "Epoch: 745/1000, Loss: 0.065124\n"
     ]
    },
    {
     "name": "stderr",
     "output_type": "stream",
     "text": [
      "Epoch 746/1000: 100%|██████████████████████████████| 47/47 [00:00<00:00, 265.12batch/s, loss=0.151485]\n"
     ]
    },
    {
     "name": "stdout",
     "output_type": "stream",
     "text": [
      "Epoch: 746/1000, Loss: 0.082971\n"
     ]
    },
    {
     "name": "stderr",
     "output_type": "stream",
     "text": [
      "Epoch 747/1000: 100%|██████████████████████████████| 47/47 [00:00<00:00, 239.44batch/s, loss=0.066064]\n"
     ]
    },
    {
     "name": "stdout",
     "output_type": "stream",
     "text": [
      "Epoch: 747/1000, Loss: 0.066452\n"
     ]
    },
    {
     "name": "stderr",
     "output_type": "stream",
     "text": [
      "Epoch 748/1000: 100%|██████████████████████████████| 47/47 [00:00<00:00, 234.84batch/s, loss=0.033571]\n"
     ]
    },
    {
     "name": "stdout",
     "output_type": "stream",
     "text": [
      "Epoch: 748/1000, Loss: 0.082787\n"
     ]
    },
    {
     "name": "stderr",
     "output_type": "stream",
     "text": [
      "Epoch 749/1000: 100%|██████████████████████████████| 47/47 [00:00<00:00, 242.23batch/s, loss=0.536706]\n"
     ]
    },
    {
     "name": "stdout",
     "output_type": "stream",
     "text": [
      "Epoch: 749/1000, Loss: 0.069457\n"
     ]
    },
    {
     "name": "stderr",
     "output_type": "stream",
     "text": [
      "Epoch 750/1000: 100%|██████████████████████████████| 47/47 [00:00<00:00, 235.04batch/s, loss=0.047313]\n"
     ]
    },
    {
     "name": "stdout",
     "output_type": "stream",
     "text": [
      "Epoch: 750/1000, Loss: 0.073443\n"
     ]
    },
    {
     "name": "stderr",
     "output_type": "stream",
     "text": [
      "Epoch 751/1000: 100%|██████████████████████████████| 47/47 [00:00<00:00, 231.87batch/s, loss=0.016144]\n"
     ]
    },
    {
     "name": "stdout",
     "output_type": "stream",
     "text": [
      "Epoch: 751/1000, Loss: 0.049982\n"
     ]
    },
    {
     "name": "stderr",
     "output_type": "stream",
     "text": [
      "Epoch 752/1000: 100%|██████████████████████████████| 47/47 [00:00<00:00, 237.08batch/s, loss=0.063842]\n"
     ]
    },
    {
     "name": "stdout",
     "output_type": "stream",
     "text": [
      "Epoch: 752/1000, Loss: 0.039788\n"
     ]
    },
    {
     "name": "stderr",
     "output_type": "stream",
     "text": [
      "Epoch 753/1000: 100%|██████████████████████████████| 47/47 [00:00<00:00, 235.92batch/s, loss=0.010882]\n"
     ]
    },
    {
     "name": "stdout",
     "output_type": "stream",
     "text": [
      "Epoch: 753/1000, Loss: 0.043658\n"
     ]
    },
    {
     "name": "stderr",
     "output_type": "stream",
     "text": [
      "Epoch 754/1000: 100%|██████████████████████████████| 47/47 [00:00<00:00, 225.10batch/s, loss=0.002577]\n"
     ]
    },
    {
     "name": "stdout",
     "output_type": "stream",
     "text": [
      "Epoch: 754/1000, Loss: 0.050049\n"
     ]
    },
    {
     "name": "stderr",
     "output_type": "stream",
     "text": [
      "Epoch 755/1000: 100%|██████████████████████████████| 47/47 [00:00<00:00, 220.45batch/s, loss=0.138748]\n"
     ]
    },
    {
     "name": "stdout",
     "output_type": "stream",
     "text": [
      "Epoch: 755/1000, Loss: 0.090472\n"
     ]
    },
    {
     "name": "stderr",
     "output_type": "stream",
     "text": [
      "Epoch 756/1000: 100%|██████████████████████████████| 47/47 [00:00<00:00, 243.32batch/s, loss=0.130124]\n"
     ]
    },
    {
     "name": "stdout",
     "output_type": "stream",
     "text": [
      "Epoch: 756/1000, Loss: 0.091921\n"
     ]
    },
    {
     "name": "stderr",
     "output_type": "stream",
     "text": [
      "Epoch 757/1000: 100%|██████████████████████████████| 47/47 [00:00<00:00, 223.02batch/s, loss=0.042512]\n"
     ]
    },
    {
     "name": "stdout",
     "output_type": "stream",
     "text": [
      "Epoch: 757/1000, Loss: 0.072031\n"
     ]
    },
    {
     "name": "stderr",
     "output_type": "stream",
     "text": [
      "Epoch 758/1000: 100%|██████████████████████████████| 47/47 [00:00<00:00, 237.36batch/s, loss=0.067914]\n"
     ]
    },
    {
     "name": "stdout",
     "output_type": "stream",
     "text": [
      "Epoch: 758/1000, Loss: 0.048927\n"
     ]
    },
    {
     "name": "stderr",
     "output_type": "stream",
     "text": [
      "Epoch 759/1000: 100%|██████████████████████████████| 47/47 [00:00<00:00, 236.15batch/s, loss=0.132255]\n"
     ]
    },
    {
     "name": "stdout",
     "output_type": "stream",
     "text": [
      "Epoch: 759/1000, Loss: 0.071673\n"
     ]
    },
    {
     "name": "stderr",
     "output_type": "stream",
     "text": [
      "Epoch 760/1000: 100%|██████████████████████████████| 47/47 [00:00<00:00, 232.86batch/s, loss=0.009774]\n"
     ]
    },
    {
     "name": "stdout",
     "output_type": "stream",
     "text": [
      "Epoch: 760/1000, Loss: 0.053223\n"
     ]
    },
    {
     "name": "stderr",
     "output_type": "stream",
     "text": [
      "Epoch 761/1000: 100%|██████████████████████████████| 47/47 [00:00<00:00, 253.76batch/s, loss=0.080796]\n"
     ]
    },
    {
     "name": "stdout",
     "output_type": "stream",
     "text": [
      "Epoch: 761/1000, Loss: 0.057147\n"
     ]
    },
    {
     "name": "stderr",
     "output_type": "stream",
     "text": [
      "Epoch 762/1000: 100%|██████████████████████████████| 47/47 [00:00<00:00, 277.74batch/s, loss=0.053021]\n"
     ]
    },
    {
     "name": "stdout",
     "output_type": "stream",
     "text": [
      "Epoch: 762/1000, Loss: 0.060328\n"
     ]
    },
    {
     "name": "stderr",
     "output_type": "stream",
     "text": [
      "Epoch 763/1000: 100%|██████████████████████████████| 47/47 [00:00<00:00, 276.71batch/s, loss=0.001587]\n"
     ]
    },
    {
     "name": "stdout",
     "output_type": "stream",
     "text": [
      "Epoch: 763/1000, Loss: 0.054451\n"
     ]
    },
    {
     "name": "stderr",
     "output_type": "stream",
     "text": [
      "Epoch 764/1000: 100%|██████████████████████████████| 47/47 [00:00<00:00, 280.41batch/s, loss=0.023421]\n"
     ]
    },
    {
     "name": "stdout",
     "output_type": "stream",
     "text": [
      "Epoch: 764/1000, Loss: 0.027286\n"
     ]
    },
    {
     "name": "stderr",
     "output_type": "stream",
     "text": [
      "Epoch 765/1000: 100%|██████████████████████████████| 47/47 [00:00<00:00, 278.89batch/s, loss=0.179528]\n"
     ]
    },
    {
     "name": "stdout",
     "output_type": "stream",
     "text": [
      "Epoch: 765/1000, Loss: 0.068105\n"
     ]
    },
    {
     "name": "stderr",
     "output_type": "stream",
     "text": [
      "Epoch 766/1000: 100%|██████████████████████████████| 47/47 [00:00<00:00, 279.54batch/s, loss=0.026100]\n"
     ]
    },
    {
     "name": "stdout",
     "output_type": "stream",
     "text": [
      "Epoch: 766/1000, Loss: 0.063154\n"
     ]
    },
    {
     "name": "stderr",
     "output_type": "stream",
     "text": [
      "Epoch 767/1000: 100%|██████████████████████████████| 47/47 [00:00<00:00, 279.19batch/s, loss=0.021882]\n"
     ]
    },
    {
     "name": "stdout",
     "output_type": "stream",
     "text": [
      "Epoch: 767/1000, Loss: 0.090679\n"
     ]
    },
    {
     "name": "stderr",
     "output_type": "stream",
     "text": [
      "Epoch 768/1000: 100%|██████████████████████████████| 47/47 [00:00<00:00, 277.88batch/s, loss=0.529026]\n"
     ]
    },
    {
     "name": "stdout",
     "output_type": "stream",
     "text": [
      "Epoch: 768/1000, Loss: 0.111201\n"
     ]
    },
    {
     "name": "stderr",
     "output_type": "stream",
     "text": [
      "Epoch 769/1000: 100%|██████████████████████████████| 47/47 [00:00<00:00, 250.27batch/s, loss=0.006885]\n"
     ]
    },
    {
     "name": "stdout",
     "output_type": "stream",
     "text": [
      "Epoch: 769/1000, Loss: 0.060529\n"
     ]
    },
    {
     "name": "stderr",
     "output_type": "stream",
     "text": [
      "Epoch 770/1000: 100%|██████████████████████████████| 47/47 [00:00<00:00, 272.98batch/s, loss=0.015629]\n"
     ]
    },
    {
     "name": "stdout",
     "output_type": "stream",
     "text": [
      "Epoch: 770/1000, Loss: 0.060875\n"
     ]
    },
    {
     "name": "stderr",
     "output_type": "stream",
     "text": [
      "Epoch 771/1000: 100%|██████████████████████████████| 47/47 [00:00<00:00, 277.19batch/s, loss=0.187435]\n"
     ]
    },
    {
     "name": "stdout",
     "output_type": "stream",
     "text": [
      "Epoch: 771/1000, Loss: 0.062063\n"
     ]
    },
    {
     "name": "stderr",
     "output_type": "stream",
     "text": [
      "Epoch 772/1000: 100%|██████████████████████████████| 47/47 [00:00<00:00, 279.30batch/s, loss=0.368296]\n"
     ]
    },
    {
     "name": "stdout",
     "output_type": "stream",
     "text": [
      "Epoch: 772/1000, Loss: 0.071011\n"
     ]
    },
    {
     "name": "stderr",
     "output_type": "stream",
     "text": [
      "Epoch 773/1000: 100%|██████████████████████████████| 47/47 [00:00<00:00, 246.92batch/s, loss=0.087256]\n"
     ]
    },
    {
     "name": "stdout",
     "output_type": "stream",
     "text": [
      "Epoch: 773/1000, Loss: 0.066531\n"
     ]
    },
    {
     "name": "stderr",
     "output_type": "stream",
     "text": [
      "Epoch 774/1000: 100%|██████████████████████████████| 47/47 [00:00<00:00, 249.01batch/s, loss=0.088706]\n"
     ]
    },
    {
     "name": "stdout",
     "output_type": "stream",
     "text": [
      "Epoch: 774/1000, Loss: 0.054433\n"
     ]
    },
    {
     "name": "stderr",
     "output_type": "stream",
     "text": [
      "Epoch 775/1000: 100%|██████████████████████████████| 47/47 [00:00<00:00, 218.92batch/s, loss=0.013503]\n"
     ]
    },
    {
     "name": "stdout",
     "output_type": "stream",
     "text": [
      "Epoch: 775/1000, Loss: 0.055345\n"
     ]
    },
    {
     "name": "stderr",
     "output_type": "stream",
     "text": [
      "Epoch 776/1000: 100%|██████████████████████████████| 47/47 [00:00<00:00, 253.51batch/s, loss=0.060159]\n"
     ]
    },
    {
     "name": "stdout",
     "output_type": "stream",
     "text": [
      "Epoch: 776/1000, Loss: 0.074987\n"
     ]
    },
    {
     "name": "stderr",
     "output_type": "stream",
     "text": [
      "Epoch 777/1000: 100%|██████████████████████████████| 47/47 [00:00<00:00, 277.10batch/s, loss=0.053239]\n"
     ]
    },
    {
     "name": "stdout",
     "output_type": "stream",
     "text": [
      "Epoch: 777/1000, Loss: 0.086401\n"
     ]
    },
    {
     "name": "stderr",
     "output_type": "stream",
     "text": [
      "Epoch 778/1000: 100%|██████████████████████████████| 47/47 [00:00<00:00, 278.59batch/s, loss=0.061845]\n"
     ]
    },
    {
     "name": "stdout",
     "output_type": "stream",
     "text": [
      "Epoch: 778/1000, Loss: 0.060248\n"
     ]
    },
    {
     "name": "stderr",
     "output_type": "stream",
     "text": [
      "Epoch 779/1000: 100%|██████████████████████████████| 47/47 [00:00<00:00, 276.06batch/s, loss=0.027841]\n"
     ]
    },
    {
     "name": "stdout",
     "output_type": "stream",
     "text": [
      "Epoch: 779/1000, Loss: 0.047936\n"
     ]
    },
    {
     "name": "stderr",
     "output_type": "stream",
     "text": [
      "Epoch 780/1000: 100%|██████████████████████████████| 47/47 [00:00<00:00, 277.30batch/s, loss=0.002407]\n"
     ]
    },
    {
     "name": "stdout",
     "output_type": "stream",
     "text": [
      "Epoch: 780/1000, Loss: 0.050979\n"
     ]
    },
    {
     "name": "stderr",
     "output_type": "stream",
     "text": [
      "Epoch 781/1000: 100%|██████████████████████████████| 47/47 [00:00<00:00, 275.71batch/s, loss=0.054162]\n"
     ]
    },
    {
     "name": "stdout",
     "output_type": "stream",
     "text": [
      "Epoch: 781/1000, Loss: 0.044558\n"
     ]
    },
    {
     "name": "stderr",
     "output_type": "stream",
     "text": [
      "Epoch 782/1000: 100%|██████████████████████████████| 47/47 [00:00<00:00, 274.30batch/s, loss=0.012142]\n"
     ]
    },
    {
     "name": "stdout",
     "output_type": "stream",
     "text": [
      "Epoch: 782/1000, Loss: 0.040443\n"
     ]
    },
    {
     "name": "stderr",
     "output_type": "stream",
     "text": [
      "Epoch 783/1000: 100%|██████████████████████████████| 47/47 [00:00<00:00, 268.96batch/s, loss=0.011232]\n"
     ]
    },
    {
     "name": "stdout",
     "output_type": "stream",
     "text": [
      "Epoch: 783/1000, Loss: 0.062555\n"
     ]
    },
    {
     "name": "stderr",
     "output_type": "stream",
     "text": [
      "Epoch 784/1000: 100%|██████████████████████████████| 47/47 [00:00<00:00, 250.13batch/s, loss=0.073661]\n"
     ]
    },
    {
     "name": "stdout",
     "output_type": "stream",
     "text": [
      "Epoch: 784/1000, Loss: 0.062541\n"
     ]
    },
    {
     "name": "stderr",
     "output_type": "stream",
     "text": [
      "Epoch 785/1000: 100%|██████████████████████████████| 47/47 [00:00<00:00, 289.03batch/s, loss=0.041639]\n"
     ]
    },
    {
     "name": "stdout",
     "output_type": "stream",
     "text": [
      "Epoch: 785/1000, Loss: 0.046732\n"
     ]
    },
    {
     "name": "stderr",
     "output_type": "stream",
     "text": [
      "Epoch 786/1000: 100%|██████████████████████████████| 47/47 [00:00<00:00, 289.15batch/s, loss=0.009598]\n"
     ]
    },
    {
     "name": "stdout",
     "output_type": "stream",
     "text": [
      "Epoch: 786/1000, Loss: 0.035700\n"
     ]
    },
    {
     "name": "stderr",
     "output_type": "stream",
     "text": [
      "Epoch 787/1000: 100%|██████████████████████████████| 47/47 [00:00<00:00, 252.96batch/s, loss=0.033197]\n"
     ]
    },
    {
     "name": "stdout",
     "output_type": "stream",
     "text": [
      "Epoch: 787/1000, Loss: 0.058700\n"
     ]
    },
    {
     "name": "stderr",
     "output_type": "stream",
     "text": [
      "Epoch 788/1000: 100%|██████████████████████████████| 47/47 [00:00<00:00, 228.13batch/s, loss=0.050306]\n"
     ]
    },
    {
     "name": "stdout",
     "output_type": "stream",
     "text": [
      "Epoch: 788/1000, Loss: 0.068937\n"
     ]
    },
    {
     "name": "stderr",
     "output_type": "stream",
     "text": [
      "Epoch 789/1000: 100%|██████████████████████████████| 47/47 [00:00<00:00, 246.17batch/s, loss=0.018026]\n"
     ]
    },
    {
     "name": "stdout",
     "output_type": "stream",
     "text": [
      "Epoch: 789/1000, Loss: 0.072021\n"
     ]
    },
    {
     "name": "stderr",
     "output_type": "stream",
     "text": [
      "Epoch 790/1000: 100%|██████████████████████████████| 47/47 [00:00<00:00, 238.80batch/s, loss=0.025705]\n"
     ]
    },
    {
     "name": "stdout",
     "output_type": "stream",
     "text": [
      "Epoch: 790/1000, Loss: 0.068721\n"
     ]
    },
    {
     "name": "stderr",
     "output_type": "stream",
     "text": [
      "Epoch 791/1000: 100%|██████████████████████████████| 47/47 [00:00<00:00, 239.27batch/s, loss=0.004433]\n"
     ]
    },
    {
     "name": "stdout",
     "output_type": "stream",
     "text": [
      "Epoch: 791/1000, Loss: 0.074041\n"
     ]
    },
    {
     "name": "stderr",
     "output_type": "stream",
     "text": [
      "Epoch 792/1000: 100%|██████████████████████████████| 47/47 [00:00<00:00, 240.86batch/s, loss=0.013578]\n"
     ]
    },
    {
     "name": "stdout",
     "output_type": "stream",
     "text": [
      "Epoch: 792/1000, Loss: 0.057580\n"
     ]
    },
    {
     "name": "stderr",
     "output_type": "stream",
     "text": [
      "Epoch 793/1000: 100%|██████████████████████████████| 47/47 [00:00<00:00, 270.45batch/s, loss=0.154788]\n"
     ]
    },
    {
     "name": "stdout",
     "output_type": "stream",
     "text": [
      "Epoch: 793/1000, Loss: 0.085904\n"
     ]
    },
    {
     "name": "stderr",
     "output_type": "stream",
     "text": [
      "Epoch 794/1000: 100%|██████████████████████████████| 47/47 [00:00<00:00, 250.21batch/s, loss=0.049893]\n"
     ]
    },
    {
     "name": "stdout",
     "output_type": "stream",
     "text": [
      "Epoch: 794/1000, Loss: 0.051718\n"
     ]
    },
    {
     "name": "stderr",
     "output_type": "stream",
     "text": [
      "Epoch 795/1000: 100%|██████████████████████████████| 47/47 [00:00<00:00, 251.34batch/s, loss=0.021842]\n"
     ]
    },
    {
     "name": "stdout",
     "output_type": "stream",
     "text": [
      "Epoch: 795/1000, Loss: 0.050503\n"
     ]
    },
    {
     "name": "stderr",
     "output_type": "stream",
     "text": [
      "Epoch 796/1000: 100%|██████████████████████████████| 47/47 [00:00<00:00, 247.34batch/s, loss=0.030391]\n"
     ]
    },
    {
     "name": "stdout",
     "output_type": "stream",
     "text": [
      "Epoch: 796/1000, Loss: 0.077216\n"
     ]
    },
    {
     "name": "stderr",
     "output_type": "stream",
     "text": [
      "Epoch 797/1000: 100%|██████████████████████████████| 47/47 [00:00<00:00, 239.93batch/s, loss=0.028718]\n"
     ]
    },
    {
     "name": "stdout",
     "output_type": "stream",
     "text": [
      "Epoch: 797/1000, Loss: 0.064649\n"
     ]
    },
    {
     "name": "stderr",
     "output_type": "stream",
     "text": [
      "Epoch 798/1000: 100%|██████████████████████████████| 47/47 [00:00<00:00, 219.99batch/s, loss=0.094172]\n"
     ]
    },
    {
     "name": "stdout",
     "output_type": "stream",
     "text": [
      "Epoch: 798/1000, Loss: 0.046772\n"
     ]
    },
    {
     "name": "stderr",
     "output_type": "stream",
     "text": [
      "Epoch 799/1000: 100%|██████████████████████████████| 47/47 [00:00<00:00, 250.80batch/s, loss=0.019629]\n"
     ]
    },
    {
     "name": "stdout",
     "output_type": "stream",
     "text": [
      "Epoch: 799/1000, Loss: 0.068167\n"
     ]
    },
    {
     "name": "stderr",
     "output_type": "stream",
     "text": [
      "Epoch 800/1000: 100%|██████████████████████████████| 47/47 [00:00<00:00, 257.87batch/s, loss=0.040880]\n"
     ]
    },
    {
     "name": "stdout",
     "output_type": "stream",
     "text": [
      "Epoch: 800/1000, Loss: 0.065489\n"
     ]
    },
    {
     "name": "stderr",
     "output_type": "stream",
     "text": [
      "Epoch 801/1000: 100%|██████████████████████████████| 47/47 [00:00<00:00, 249.90batch/s, loss=0.041925]\n"
     ]
    },
    {
     "name": "stdout",
     "output_type": "stream",
     "text": [
      "Epoch: 801/1000, Loss: 0.055335\n"
     ]
    },
    {
     "name": "stderr",
     "output_type": "stream",
     "text": [
      "Epoch 802/1000: 100%|██████████████████████████████| 47/47 [00:00<00:00, 254.10batch/s, loss=0.023006]\n"
     ]
    },
    {
     "name": "stdout",
     "output_type": "stream",
     "text": [
      "Epoch: 802/1000, Loss: 0.065225\n"
     ]
    },
    {
     "name": "stderr",
     "output_type": "stream",
     "text": [
      "Epoch 803/1000: 100%|██████████████████████████████| 47/47 [00:00<00:00, 249.70batch/s, loss=0.010716]\n"
     ]
    },
    {
     "name": "stdout",
     "output_type": "stream",
     "text": [
      "Epoch: 803/1000, Loss: 0.048236\n"
     ]
    },
    {
     "name": "stderr",
     "output_type": "stream",
     "text": [
      "Epoch 804/1000: 100%|██████████████████████████████| 47/47 [00:00<00:00, 236.15batch/s, loss=0.018578]\n"
     ]
    },
    {
     "name": "stdout",
     "output_type": "stream",
     "text": [
      "Epoch: 804/1000, Loss: 0.076823\n"
     ]
    },
    {
     "name": "stderr",
     "output_type": "stream",
     "text": [
      "Epoch 805/1000: 100%|██████████████████████████████| 47/47 [00:00<00:00, 232.82batch/s, loss=0.013267]\n"
     ]
    },
    {
     "name": "stdout",
     "output_type": "stream",
     "text": [
      "Epoch: 805/1000, Loss: 0.066645\n"
     ]
    },
    {
     "name": "stderr",
     "output_type": "stream",
     "text": [
      "Epoch 806/1000: 100%|██████████████████████████████| 47/47 [00:00<00:00, 236.89batch/s, loss=0.006617]"
     ]
    },
    {
     "name": "stdout",
     "output_type": "stream",
     "text": [
      "Epoch: 806/1000, Loss: 0.051851\n"
     ]
    },
    {
     "name": "stderr",
     "output_type": "stream",
     "text": [
      "\n",
      "Epoch 807/1000: 100%|██████████████████████████████| 47/47 [00:00<00:00, 244.21batch/s, loss=0.033406]\n"
     ]
    },
    {
     "name": "stdout",
     "output_type": "stream",
     "text": [
      "Epoch: 807/1000, Loss: 0.077441\n"
     ]
    },
    {
     "name": "stderr",
     "output_type": "stream",
     "text": [
      "Epoch 808/1000: 100%|██████████████████████████████| 47/47 [00:00<00:00, 256.06batch/s, loss=0.030237]\n"
     ]
    },
    {
     "name": "stdout",
     "output_type": "stream",
     "text": [
      "Epoch: 808/1000, Loss: 0.065086\n"
     ]
    },
    {
     "name": "stderr",
     "output_type": "stream",
     "text": [
      "Epoch 809/1000: 100%|██████████████████████████████| 47/47 [00:00<00:00, 237.82batch/s, loss=0.002349]\n"
     ]
    },
    {
     "name": "stdout",
     "output_type": "stream",
     "text": [
      "Epoch: 809/1000, Loss: 0.078182\n"
     ]
    },
    {
     "name": "stderr",
     "output_type": "stream",
     "text": [
      "Epoch 810/1000: 100%|██████████████████████████████| 47/47 [00:00<00:00, 226.71batch/s, loss=0.017801]\n"
     ]
    },
    {
     "name": "stdout",
     "output_type": "stream",
     "text": [
      "Epoch: 810/1000, Loss: 0.057998\n"
     ]
    },
    {
     "name": "stderr",
     "output_type": "stream",
     "text": [
      "Epoch 811/1000: 100%|██████████████████████████████| 47/47 [00:00<00:00, 284.91batch/s, loss=0.066600]\n"
     ]
    },
    {
     "name": "stdout",
     "output_type": "stream",
     "text": [
      "Epoch: 811/1000, Loss: 0.066358\n"
     ]
    },
    {
     "name": "stderr",
     "output_type": "stream",
     "text": [
      "Epoch 812/1000: 100%|██████████████████████████████| 47/47 [00:00<00:00, 282.91batch/s, loss=0.022619]\n"
     ]
    },
    {
     "name": "stdout",
     "output_type": "stream",
     "text": [
      "Epoch: 812/1000, Loss: 0.074405\n"
     ]
    },
    {
     "name": "stderr",
     "output_type": "stream",
     "text": [
      "Epoch 813/1000: 100%|██████████████████████████████| 47/47 [00:00<00:00, 277.80batch/s, loss=0.039240]\n"
     ]
    },
    {
     "name": "stdout",
     "output_type": "stream",
     "text": [
      "Epoch: 813/1000, Loss: 0.103284\n"
     ]
    },
    {
     "name": "stderr",
     "output_type": "stream",
     "text": [
      "Epoch 814/1000: 100%|██████████████████████████████| 47/47 [00:00<00:00, 238.03batch/s, loss=0.021623]\n"
     ]
    },
    {
     "name": "stdout",
     "output_type": "stream",
     "text": [
      "Epoch: 814/1000, Loss: 0.069190\n"
     ]
    },
    {
     "name": "stderr",
     "output_type": "stream",
     "text": [
      "Epoch 815/1000: 100%|██████████████████████████████| 47/47 [00:00<00:00, 237.12batch/s, loss=0.047044]\n"
     ]
    },
    {
     "name": "stdout",
     "output_type": "stream",
     "text": [
      "Epoch: 815/1000, Loss: 0.055410\n"
     ]
    },
    {
     "name": "stderr",
     "output_type": "stream",
     "text": [
      "Epoch 816/1000: 100%|██████████████████████████████| 47/47 [00:00<00:00, 237.83batch/s, loss=0.072255]\n"
     ]
    },
    {
     "name": "stdout",
     "output_type": "stream",
     "text": [
      "Epoch: 816/1000, Loss: 0.056491\n"
     ]
    },
    {
     "name": "stderr",
     "output_type": "stream",
     "text": [
      "Epoch 817/1000: 100%|██████████████████████████████| 47/47 [00:00<00:00, 191.12batch/s, loss=0.178193]\n"
     ]
    },
    {
     "name": "stdout",
     "output_type": "stream",
     "text": [
      "Epoch: 817/1000, Loss: 0.068222\n"
     ]
    },
    {
     "name": "stderr",
     "output_type": "stream",
     "text": [
      "Epoch 818/1000: 100%|██████████████████████████████| 47/47 [00:00<00:00, 238.55batch/s, loss=0.011210]\n"
     ]
    },
    {
     "name": "stdout",
     "output_type": "stream",
     "text": [
      "Epoch: 818/1000, Loss: 0.056934\n"
     ]
    },
    {
     "name": "stderr",
     "output_type": "stream",
     "text": [
      "Epoch 819/1000: 100%|██████████████████████████████| 47/47 [00:00<00:00, 238.33batch/s, loss=0.042204]\n"
     ]
    },
    {
     "name": "stdout",
     "output_type": "stream",
     "text": [
      "Epoch: 819/1000, Loss: 0.056146\n"
     ]
    },
    {
     "name": "stderr",
     "output_type": "stream",
     "text": [
      "Epoch 820/1000: 100%|██████████████████████████████| 47/47 [00:00<00:00, 218.69batch/s, loss=0.032131]\n"
     ]
    },
    {
     "name": "stdout",
     "output_type": "stream",
     "text": [
      "Epoch: 820/1000, Loss: 0.047816\n"
     ]
    },
    {
     "name": "stderr",
     "output_type": "stream",
     "text": [
      "Epoch 821/1000: 100%|██████████████████████████████| 47/47 [00:00<00:00, 205.85batch/s, loss=0.015062]\n"
     ]
    },
    {
     "name": "stdout",
     "output_type": "stream",
     "text": [
      "Epoch: 821/1000, Loss: 0.075050\n"
     ]
    },
    {
     "name": "stderr",
     "output_type": "stream",
     "text": [
      "Epoch 822/1000: 100%|██████████████████████████████| 47/47 [00:00<00:00, 204.06batch/s, loss=0.583176]\n"
     ]
    },
    {
     "name": "stdout",
     "output_type": "stream",
     "text": [
      "Epoch: 822/1000, Loss: 0.091285\n"
     ]
    },
    {
     "name": "stderr",
     "output_type": "stream",
     "text": [
      "Epoch 823/1000: 100%|██████████████████████████████| 47/47 [00:00<00:00, 229.26batch/s, loss=0.042236]\n"
     ]
    },
    {
     "name": "stdout",
     "output_type": "stream",
     "text": [
      "Epoch: 823/1000, Loss: 0.066966\n"
     ]
    },
    {
     "name": "stderr",
     "output_type": "stream",
     "text": [
      "Epoch 824/1000: 100%|██████████████████████████████| 47/47 [00:00<00:00, 242.90batch/s, loss=0.056741]\n"
     ]
    },
    {
     "name": "stdout",
     "output_type": "stream",
     "text": [
      "Epoch: 824/1000, Loss: 0.045928\n"
     ]
    },
    {
     "name": "stderr",
     "output_type": "stream",
     "text": [
      "Epoch 825/1000: 100%|██████████████████████████████| 47/47 [00:00<00:00, 281.84batch/s, loss=0.007256]\n"
     ]
    },
    {
     "name": "stdout",
     "output_type": "stream",
     "text": [
      "Epoch: 825/1000, Loss: 0.052200\n"
     ]
    },
    {
     "name": "stderr",
     "output_type": "stream",
     "text": [
      "Epoch 826/1000: 100%|██████████████████████████████| 47/47 [00:00<00:00, 275.90batch/s, loss=0.307681]\n"
     ]
    },
    {
     "name": "stdout",
     "output_type": "stream",
     "text": [
      "Epoch: 826/1000, Loss: 0.054732\n"
     ]
    },
    {
     "name": "stderr",
     "output_type": "stream",
     "text": [
      "Epoch 827/1000: 100%|██████████████████████████████| 47/47 [00:00<00:00, 254.19batch/s, loss=0.018619]\n"
     ]
    },
    {
     "name": "stdout",
     "output_type": "stream",
     "text": [
      "Epoch: 827/1000, Loss: 0.043829\n"
     ]
    },
    {
     "name": "stderr",
     "output_type": "stream",
     "text": [
      "Epoch 828/1000: 100%|██████████████████████████████| 47/47 [00:00<00:00, 241.00batch/s, loss=0.025753]\n"
     ]
    },
    {
     "name": "stdout",
     "output_type": "stream",
     "text": [
      "Epoch: 828/1000, Loss: 0.047950\n"
     ]
    },
    {
     "name": "stderr",
     "output_type": "stream",
     "text": [
      "Epoch 829/1000: 100%|██████████████████████████████| 47/47 [00:00<00:00, 253.61batch/s, loss=0.004604]\n"
     ]
    },
    {
     "name": "stdout",
     "output_type": "stream",
     "text": [
      "Epoch: 829/1000, Loss: 0.032515\n"
     ]
    },
    {
     "name": "stderr",
     "output_type": "stream",
     "text": [
      "Epoch 830/1000: 100%|██████████████████████████████| 47/47 [00:00<00:00, 252.05batch/s, loss=0.032831]\n"
     ]
    },
    {
     "name": "stdout",
     "output_type": "stream",
     "text": [
      "Epoch: 830/1000, Loss: 0.046868\n"
     ]
    },
    {
     "name": "stderr",
     "output_type": "stream",
     "text": [
      "Epoch 831/1000: 100%|██████████████████████████████| 47/47 [00:00<00:00, 262.70batch/s, loss=0.114549]\n"
     ]
    },
    {
     "name": "stdout",
     "output_type": "stream",
     "text": [
      "Epoch: 831/1000, Loss: 0.050521\n"
     ]
    },
    {
     "name": "stderr",
     "output_type": "stream",
     "text": [
      "Epoch 832/1000: 100%|██████████████████████████████| 47/47 [00:00<00:00, 293.11batch/s, loss=0.042409]\n"
     ]
    },
    {
     "name": "stdout",
     "output_type": "stream",
     "text": [
      "Epoch: 832/1000, Loss: 0.046827\n"
     ]
    },
    {
     "name": "stderr",
     "output_type": "stream",
     "text": [
      "Epoch 833/1000: 100%|██████████████████████████████| 47/47 [00:00<00:00, 285.33batch/s, loss=0.093470]\n"
     ]
    },
    {
     "name": "stdout",
     "output_type": "stream",
     "text": [
      "Epoch: 833/1000, Loss: 0.070200\n"
     ]
    },
    {
     "name": "stderr",
     "output_type": "stream",
     "text": [
      "Epoch 834/1000: 100%|██████████████████████████████| 47/47 [00:00<00:00, 208.27batch/s, loss=0.279779]\n"
     ]
    },
    {
     "name": "stdout",
     "output_type": "stream",
     "text": [
      "Epoch: 834/1000, Loss: 0.079936\n"
     ]
    },
    {
     "name": "stderr",
     "output_type": "stream",
     "text": [
      "Epoch 835/1000: 100%|██████████████████████████████| 47/47 [00:00<00:00, 239.49batch/s, loss=0.038412]\n"
     ]
    },
    {
     "name": "stdout",
     "output_type": "stream",
     "text": [
      "Epoch: 835/1000, Loss: 0.067387\n"
     ]
    },
    {
     "name": "stderr",
     "output_type": "stream",
     "text": [
      "Epoch 836/1000: 100%|██████████████████████████████| 47/47 [00:00<00:00, 217.76batch/s, loss=0.051413]\n"
     ]
    },
    {
     "name": "stdout",
     "output_type": "stream",
     "text": [
      "Epoch: 836/1000, Loss: 0.084324\n"
     ]
    },
    {
     "name": "stderr",
     "output_type": "stream",
     "text": [
      "Epoch 837/1000: 100%|██████████████████████████████| 47/47 [00:00<00:00, 228.68batch/s, loss=0.029161]\n"
     ]
    },
    {
     "name": "stdout",
     "output_type": "stream",
     "text": [
      "Epoch: 837/1000, Loss: 0.076516\n"
     ]
    },
    {
     "name": "stderr",
     "output_type": "stream",
     "text": [
      "Epoch 838/1000: 100%|██████████████████████████████| 47/47 [00:00<00:00, 220.76batch/s, loss=0.020217]\n"
     ]
    },
    {
     "name": "stdout",
     "output_type": "stream",
     "text": [
      "Epoch: 838/1000, Loss: 0.056521\n"
     ]
    },
    {
     "name": "stderr",
     "output_type": "stream",
     "text": [
      "Epoch 839/1000: 100%|██████████████████████████████| 47/47 [00:00<00:00, 254.87batch/s, loss=0.004944]\n"
     ]
    },
    {
     "name": "stdout",
     "output_type": "stream",
     "text": [
      "Epoch: 839/1000, Loss: 0.042490\n"
     ]
    },
    {
     "name": "stderr",
     "output_type": "stream",
     "text": [
      "Epoch 840/1000: 100%|██████████████████████████████| 47/47 [00:00<00:00, 255.94batch/s, loss=0.055893]\n"
     ]
    },
    {
     "name": "stdout",
     "output_type": "stream",
     "text": [
      "Epoch: 840/1000, Loss: 0.051402\n"
     ]
    },
    {
     "name": "stderr",
     "output_type": "stream",
     "text": [
      "Epoch 841/1000: 100%|██████████████████████████████| 47/47 [00:00<00:00, 260.54batch/s, loss=0.011912]\n"
     ]
    },
    {
     "name": "stdout",
     "output_type": "stream",
     "text": [
      "Epoch: 841/1000, Loss: 0.045925\n"
     ]
    },
    {
     "name": "stderr",
     "output_type": "stream",
     "text": [
      "Epoch 842/1000: 100%|██████████████████████████████| 47/47 [00:00<00:00, 258.26batch/s, loss=0.012980]\n"
     ]
    },
    {
     "name": "stdout",
     "output_type": "stream",
     "text": [
      "Epoch: 842/1000, Loss: 0.061466\n"
     ]
    },
    {
     "name": "stderr",
     "output_type": "stream",
     "text": [
      "Epoch 843/1000: 100%|██████████████████████████████| 47/47 [00:00<00:00, 254.89batch/s, loss=0.032873]\n"
     ]
    },
    {
     "name": "stdout",
     "output_type": "stream",
     "text": [
      "Epoch: 843/1000, Loss: 0.070295\n"
     ]
    },
    {
     "name": "stderr",
     "output_type": "stream",
     "text": [
      "Epoch 844/1000: 100%|██████████████████████████████| 47/47 [00:00<00:00, 248.28batch/s, loss=0.109491]\n"
     ]
    },
    {
     "name": "stdout",
     "output_type": "stream",
     "text": [
      "Epoch: 844/1000, Loss: 0.054226\n"
     ]
    },
    {
     "name": "stderr",
     "output_type": "stream",
     "text": [
      "Epoch 845/1000: 100%|██████████████████████████████| 47/47 [00:00<00:00, 249.98batch/s, loss=0.035729]\n"
     ]
    },
    {
     "name": "stdout",
     "output_type": "stream",
     "text": [
      "Epoch: 845/1000, Loss: 0.067557\n"
     ]
    },
    {
     "name": "stderr",
     "output_type": "stream",
     "text": [
      "Epoch 846/1000: 100%|██████████████████████████████| 47/47 [00:00<00:00, 249.58batch/s, loss=0.041401]\n"
     ]
    },
    {
     "name": "stdout",
     "output_type": "stream",
     "text": [
      "Epoch: 846/1000, Loss: 0.069682\n"
     ]
    },
    {
     "name": "stderr",
     "output_type": "stream",
     "text": [
      "Epoch 847/1000: 100%|██████████████████████████████| 47/47 [00:00<00:00, 256.52batch/s, loss=0.084936]\n"
     ]
    },
    {
     "name": "stdout",
     "output_type": "stream",
     "text": [
      "Epoch: 847/1000, Loss: 0.107921\n"
     ]
    },
    {
     "name": "stderr",
     "output_type": "stream",
     "text": [
      "Epoch 848/1000: 100%|██████████████████████████████| 47/47 [00:00<00:00, 243.77batch/s, loss=0.005498]\n"
     ]
    },
    {
     "name": "stdout",
     "output_type": "stream",
     "text": [
      "Epoch: 848/1000, Loss: 0.063867\n"
     ]
    },
    {
     "name": "stderr",
     "output_type": "stream",
     "text": [
      "Epoch 849/1000: 100%|██████████████████████████████| 47/47 [00:00<00:00, 242.94batch/s, loss=0.021562]\n"
     ]
    },
    {
     "name": "stdout",
     "output_type": "stream",
     "text": [
      "Epoch: 849/1000, Loss: 0.047629\n"
     ]
    },
    {
     "name": "stderr",
     "output_type": "stream",
     "text": [
      "Epoch 850/1000: 100%|██████████████████████████████| 47/47 [00:00<00:00, 244.59batch/s, loss=0.006809]\n"
     ]
    },
    {
     "name": "stdout",
     "output_type": "stream",
     "text": [
      "Epoch: 850/1000, Loss: 0.057887\n"
     ]
    },
    {
     "name": "stderr",
     "output_type": "stream",
     "text": [
      "Epoch 851/1000: 100%|██████████████████████████████| 47/47 [00:00<00:00, 241.48batch/s, loss=0.040132]\n"
     ]
    },
    {
     "name": "stdout",
     "output_type": "stream",
     "text": [
      "Epoch: 851/1000, Loss: 0.056569\n"
     ]
    },
    {
     "name": "stderr",
     "output_type": "stream",
     "text": [
      "Epoch 852/1000: 100%|██████████████████████████████| 47/47 [00:00<00:00, 205.75batch/s, loss=0.006108]\n"
     ]
    },
    {
     "name": "stdout",
     "output_type": "stream",
     "text": [
      "Epoch: 852/1000, Loss: 0.064494\n"
     ]
    },
    {
     "name": "stderr",
     "output_type": "stream",
     "text": [
      "Epoch 853/1000: 100%|██████████████████████████████| 47/47 [00:00<00:00, 218.38batch/s, loss=0.014693]\n"
     ]
    },
    {
     "name": "stdout",
     "output_type": "stream",
     "text": [
      "Epoch: 853/1000, Loss: 0.062320\n"
     ]
    },
    {
     "name": "stderr",
     "output_type": "stream",
     "text": [
      "Epoch 854/1000: 100%|██████████████████████████████| 47/47 [00:00<00:00, 224.02batch/s, loss=0.057724]\n"
     ]
    },
    {
     "name": "stdout",
     "output_type": "stream",
     "text": [
      "Epoch: 854/1000, Loss: 0.055617\n"
     ]
    },
    {
     "name": "stderr",
     "output_type": "stream",
     "text": [
      "Epoch 855/1000: 100%|██████████████████████████████| 47/47 [00:00<00:00, 215.25batch/s, loss=0.178128]\n"
     ]
    },
    {
     "name": "stdout",
     "output_type": "stream",
     "text": [
      "Epoch: 855/1000, Loss: 0.069445\n"
     ]
    },
    {
     "name": "stderr",
     "output_type": "stream",
     "text": [
      "Epoch 856/1000: 100%|██████████████████████████████| 47/47 [00:00<00:00, 205.85batch/s, loss=0.064461]\n"
     ]
    },
    {
     "name": "stdout",
     "output_type": "stream",
     "text": [
      "Epoch: 856/1000, Loss: 0.054569\n"
     ]
    },
    {
     "name": "stderr",
     "output_type": "stream",
     "text": [
      "Epoch 857/1000: 100%|██████████████████████████████| 47/47 [00:00<00:00, 209.42batch/s, loss=0.055595]\n"
     ]
    },
    {
     "name": "stdout",
     "output_type": "stream",
     "text": [
      "Epoch: 857/1000, Loss: 0.037116\n"
     ]
    },
    {
     "name": "stderr",
     "output_type": "stream",
     "text": [
      "Epoch 858/1000: 100%|██████████████████████████████| 47/47 [00:00<00:00, 218.28batch/s, loss=0.016378]\n"
     ]
    },
    {
     "name": "stdout",
     "output_type": "stream",
     "text": [
      "Epoch: 858/1000, Loss: 0.059641\n"
     ]
    },
    {
     "name": "stderr",
     "output_type": "stream",
     "text": [
      "Epoch 859/1000: 100%|██████████████████████████████| 47/47 [00:00<00:00, 215.23batch/s, loss=0.003369]\n"
     ]
    },
    {
     "name": "stdout",
     "output_type": "stream",
     "text": [
      "Epoch: 859/1000, Loss: 0.092411\n"
     ]
    },
    {
     "name": "stderr",
     "output_type": "stream",
     "text": [
      "Epoch 860/1000: 100%|██████████████████████████████| 47/47 [00:00<00:00, 228.09batch/s, loss=0.074403]\n"
     ]
    },
    {
     "name": "stdout",
     "output_type": "stream",
     "text": [
      "Epoch: 860/1000, Loss: 0.078493\n"
     ]
    },
    {
     "name": "stderr",
     "output_type": "stream",
     "text": [
      "Epoch 861/1000: 100%|██████████████████████████████| 47/47 [00:00<00:00, 235.59batch/s, loss=0.263834]\n"
     ]
    },
    {
     "name": "stdout",
     "output_type": "stream",
     "text": [
      "Epoch: 861/1000, Loss: 0.061492\n"
     ]
    },
    {
     "name": "stderr",
     "output_type": "stream",
     "text": [
      "Epoch 862/1000: 100%|██████████████████████████████| 47/47 [00:00<00:00, 248.19batch/s, loss=0.034224]\n"
     ]
    },
    {
     "name": "stdout",
     "output_type": "stream",
     "text": [
      "Epoch: 862/1000, Loss: 0.064451\n"
     ]
    },
    {
     "name": "stderr",
     "output_type": "stream",
     "text": [
      "Epoch 863/1000: 100%|██████████████████████████████| 47/47 [00:00<00:00, 247.31batch/s, loss=0.008429]\n"
     ]
    },
    {
     "name": "stdout",
     "output_type": "stream",
     "text": [
      "Epoch: 863/1000, Loss: 0.053788\n"
     ]
    },
    {
     "name": "stderr",
     "output_type": "stream",
     "text": [
      "Epoch 864/1000: 100%|██████████████████████████████| 47/47 [00:00<00:00, 231.41batch/s, loss=0.042568]\n"
     ]
    },
    {
     "name": "stdout",
     "output_type": "stream",
     "text": [
      "Epoch: 864/1000, Loss: 0.056860\n"
     ]
    },
    {
     "name": "stderr",
     "output_type": "stream",
     "text": [
      "Epoch 865/1000: 100%|██████████████████████████████| 47/47 [00:00<00:00, 241.48batch/s, loss=0.023990]\n"
     ]
    },
    {
     "name": "stdout",
     "output_type": "stream",
     "text": [
      "Epoch: 865/1000, Loss: 0.067579\n"
     ]
    },
    {
     "name": "stderr",
     "output_type": "stream",
     "text": [
      "Epoch 866/1000: 100%|██████████████████████████████| 47/47 [00:00<00:00, 246.08batch/s, loss=0.118919]\n"
     ]
    },
    {
     "name": "stdout",
     "output_type": "stream",
     "text": [
      "Epoch: 866/1000, Loss: 0.079446\n"
     ]
    },
    {
     "name": "stderr",
     "output_type": "stream",
     "text": [
      "Epoch 867/1000: 100%|██████████████████████████████| 47/47 [00:00<00:00, 247.69batch/s, loss=0.035442]\n"
     ]
    },
    {
     "name": "stdout",
     "output_type": "stream",
     "text": [
      "Epoch: 867/1000, Loss: 0.076474\n"
     ]
    },
    {
     "name": "stderr",
     "output_type": "stream",
     "text": [
      "Epoch 868/1000: 100%|██████████████████████████████| 47/47 [00:00<00:00, 241.60batch/s, loss=0.024377]\n"
     ]
    },
    {
     "name": "stdout",
     "output_type": "stream",
     "text": [
      "Epoch: 868/1000, Loss: 0.058528\n"
     ]
    },
    {
     "name": "stderr",
     "output_type": "stream",
     "text": [
      "Epoch 869/1000: 100%|██████████████████████████████| 47/47 [00:00<00:00, 277.24batch/s, loss=0.014938]\n"
     ]
    },
    {
     "name": "stdout",
     "output_type": "stream",
     "text": [
      "Epoch: 869/1000, Loss: 0.061790\n"
     ]
    },
    {
     "name": "stderr",
     "output_type": "stream",
     "text": [
      "Epoch 870/1000: 100%|██████████████████████████████| 47/47 [00:00<00:00, 268.34batch/s, loss=0.020394]\n"
     ]
    },
    {
     "name": "stdout",
     "output_type": "stream",
     "text": [
      "Epoch: 870/1000, Loss: 0.043881\n"
     ]
    },
    {
     "name": "stderr",
     "output_type": "stream",
     "text": [
      "Epoch 871/1000: 100%|██████████████████████████████| 47/47 [00:00<00:00, 260.31batch/s, loss=0.074455]\n"
     ]
    },
    {
     "name": "stdout",
     "output_type": "stream",
     "text": [
      "Epoch: 871/1000, Loss: 0.049003\n"
     ]
    },
    {
     "name": "stderr",
     "output_type": "stream",
     "text": [
      "Epoch 872/1000: 100%|██████████████████████████████| 47/47 [00:00<00:00, 259.57batch/s, loss=0.029063]\n"
     ]
    },
    {
     "name": "stdout",
     "output_type": "stream",
     "text": [
      "Epoch: 872/1000, Loss: 0.046594\n"
     ]
    },
    {
     "name": "stderr",
     "output_type": "stream",
     "text": [
      "Epoch 873/1000: 100%|██████████████████████████████| 47/47 [00:00<00:00, 262.55batch/s, loss=0.005353]\n"
     ]
    },
    {
     "name": "stdout",
     "output_type": "stream",
     "text": [
      "Epoch: 873/1000, Loss: 0.044260\n"
     ]
    },
    {
     "name": "stderr",
     "output_type": "stream",
     "text": [
      "Epoch 874/1000: 100%|██████████████████████████████| 47/47 [00:00<00:00, 254.43batch/s, loss=0.005154]\n"
     ]
    },
    {
     "name": "stdout",
     "output_type": "stream",
     "text": [
      "Epoch: 874/1000, Loss: 0.056569\n"
     ]
    },
    {
     "name": "stderr",
     "output_type": "stream",
     "text": [
      "Epoch 875/1000: 100%|██████████████████████████████| 47/47 [00:00<00:00, 263.58batch/s, loss=0.030404]\n"
     ]
    },
    {
     "name": "stdout",
     "output_type": "stream",
     "text": [
      "Epoch: 875/1000, Loss: 0.078633\n"
     ]
    },
    {
     "name": "stderr",
     "output_type": "stream",
     "text": [
      "Epoch 876/1000: 100%|██████████████████████████████| 47/47 [00:00<00:00, 288.46batch/s, loss=0.040927]\n"
     ]
    },
    {
     "name": "stdout",
     "output_type": "stream",
     "text": [
      "Epoch: 876/1000, Loss: 0.085368\n"
     ]
    },
    {
     "name": "stderr",
     "output_type": "stream",
     "text": [
      "Epoch 877/1000: 100%|██████████████████████████████| 47/47 [00:00<00:00, 284.29batch/s, loss=0.018818]\n"
     ]
    },
    {
     "name": "stdout",
     "output_type": "stream",
     "text": [
      "Epoch: 877/1000, Loss: 0.040828\n"
     ]
    },
    {
     "name": "stderr",
     "output_type": "stream",
     "text": [
      "Epoch 878/1000: 100%|██████████████████████████████| 47/47 [00:00<00:00, 286.46batch/s, loss=0.008788]\n"
     ]
    },
    {
     "name": "stdout",
     "output_type": "stream",
     "text": [
      "Epoch: 878/1000, Loss: 0.062521\n"
     ]
    },
    {
     "name": "stderr",
     "output_type": "stream",
     "text": [
      "Epoch 879/1000: 100%|██████████████████████████████| 47/47 [00:00<00:00, 257.94batch/s, loss=0.344197]\n"
     ]
    },
    {
     "name": "stdout",
     "output_type": "stream",
     "text": [
      "Epoch: 879/1000, Loss: 0.056444\n"
     ]
    },
    {
     "name": "stderr",
     "output_type": "stream",
     "text": [
      "Epoch 880/1000: 100%|██████████████████████████████| 47/47 [00:00<00:00, 259.19batch/s, loss=0.193780]\n"
     ]
    },
    {
     "name": "stdout",
     "output_type": "stream",
     "text": [
      "Epoch: 880/1000, Loss: 0.043171\n"
     ]
    },
    {
     "name": "stderr",
     "output_type": "stream",
     "text": [
      "Epoch 881/1000: 100%|██████████████████████████████| 47/47 [00:00<00:00, 230.41batch/s, loss=0.003993]\n"
     ]
    },
    {
     "name": "stdout",
     "output_type": "stream",
     "text": [
      "Epoch: 881/1000, Loss: 0.060203\n"
     ]
    },
    {
     "name": "stderr",
     "output_type": "stream",
     "text": [
      "Epoch 882/1000: 100%|██████████████████████████████| 47/47 [00:00<00:00, 247.54batch/s, loss=0.001062]\n"
     ]
    },
    {
     "name": "stdout",
     "output_type": "stream",
     "text": [
      "Epoch: 882/1000, Loss: 0.037221\n"
     ]
    },
    {
     "name": "stderr",
     "output_type": "stream",
     "text": [
      "Epoch 883/1000: 100%|██████████████████████████████| 47/47 [00:00<00:00, 251.75batch/s, loss=0.017613]\n"
     ]
    },
    {
     "name": "stdout",
     "output_type": "stream",
     "text": [
      "Epoch: 883/1000, Loss: 0.030739\n"
     ]
    },
    {
     "name": "stderr",
     "output_type": "stream",
     "text": [
      "Epoch 884/1000: 100%|██████████████████████████████| 47/47 [00:00<00:00, 271.17batch/s, loss=0.074814]\n"
     ]
    },
    {
     "name": "stdout",
     "output_type": "stream",
     "text": [
      "Epoch: 884/1000, Loss: 0.074838\n"
     ]
    },
    {
     "name": "stderr",
     "output_type": "stream",
     "text": [
      "Epoch 885/1000: 100%|██████████████████████████████| 47/47 [00:00<00:00, 250.85batch/s, loss=0.045857]\n"
     ]
    },
    {
     "name": "stdout",
     "output_type": "stream",
     "text": [
      "Epoch: 885/1000, Loss: 0.059629\n"
     ]
    },
    {
     "name": "stderr",
     "output_type": "stream",
     "text": [
      "Epoch 886/1000: 100%|██████████████████████████████| 47/47 [00:00<00:00, 238.92batch/s, loss=0.061370]\n"
     ]
    },
    {
     "name": "stdout",
     "output_type": "stream",
     "text": [
      "Epoch: 886/1000, Loss: 0.047880\n"
     ]
    },
    {
     "name": "stderr",
     "output_type": "stream",
     "text": [
      "Epoch 887/1000: 100%|██████████████████████████████| 47/47 [00:00<00:00, 226.25batch/s, loss=0.029980]\n"
     ]
    },
    {
     "name": "stdout",
     "output_type": "stream",
     "text": [
      "Epoch: 887/1000, Loss: 0.062423\n"
     ]
    },
    {
     "name": "stderr",
     "output_type": "stream",
     "text": [
      "Epoch 888/1000: 100%|██████████████████████████████| 47/47 [00:00<00:00, 254.65batch/s, loss=0.023637]\n"
     ]
    },
    {
     "name": "stdout",
     "output_type": "stream",
     "text": [
      "Epoch: 888/1000, Loss: 0.045797\n"
     ]
    },
    {
     "name": "stderr",
     "output_type": "stream",
     "text": [
      "Epoch 889/1000: 100%|██████████████████████████████| 47/47 [00:00<00:00, 246.94batch/s, loss=0.007866]\n"
     ]
    },
    {
     "name": "stdout",
     "output_type": "stream",
     "text": [
      "Epoch: 889/1000, Loss: 0.059381\n"
     ]
    },
    {
     "name": "stderr",
     "output_type": "stream",
     "text": [
      "Epoch 890/1000: 100%|██████████████████████████████| 47/47 [00:00<00:00, 237.72batch/s, loss=0.301404]\n"
     ]
    },
    {
     "name": "stdout",
     "output_type": "stream",
     "text": [
      "Epoch: 890/1000, Loss: 0.069212\n"
     ]
    },
    {
     "name": "stderr",
     "output_type": "stream",
     "text": [
      "Epoch 891/1000: 100%|██████████████████████████████| 47/47 [00:00<00:00, 235.14batch/s, loss=0.012716]\n"
     ]
    },
    {
     "name": "stdout",
     "output_type": "stream",
     "text": [
      "Epoch: 891/1000, Loss: 0.078250\n"
     ]
    },
    {
     "name": "stderr",
     "output_type": "stream",
     "text": [
      "Epoch 892/1000: 100%|██████████████████████████████| 47/47 [00:00<00:00, 239.02batch/s, loss=0.052458]\n"
     ]
    },
    {
     "name": "stdout",
     "output_type": "stream",
     "text": [
      "Epoch: 892/1000, Loss: 0.048640\n"
     ]
    },
    {
     "name": "stderr",
     "output_type": "stream",
     "text": [
      "Epoch 893/1000: 100%|██████████████████████████████| 47/47 [00:00<00:00, 243.16batch/s, loss=0.456373]\n"
     ]
    },
    {
     "name": "stdout",
     "output_type": "stream",
     "text": [
      "Epoch: 893/1000, Loss: 0.101346\n"
     ]
    },
    {
     "name": "stderr",
     "output_type": "stream",
     "text": [
      "Epoch 894/1000: 100%|██████████████████████████████| 47/47 [00:00<00:00, 243.50batch/s, loss=0.048695]\n"
     ]
    },
    {
     "name": "stdout",
     "output_type": "stream",
     "text": [
      "Epoch: 894/1000, Loss: 0.078166\n"
     ]
    },
    {
     "name": "stderr",
     "output_type": "stream",
     "text": [
      "Epoch 895/1000: 100%|██████████████████████████████| 47/47 [00:00<00:00, 242.49batch/s, loss=0.003016]\n"
     ]
    },
    {
     "name": "stdout",
     "output_type": "stream",
     "text": [
      "Epoch: 895/1000, Loss: 0.058663\n"
     ]
    },
    {
     "name": "stderr",
     "output_type": "stream",
     "text": [
      "Epoch 896/1000: 100%|██████████████████████████████| 47/47 [00:00<00:00, 225.21batch/s, loss=0.099336]\n"
     ]
    },
    {
     "name": "stdout",
     "output_type": "stream",
     "text": [
      "Epoch: 896/1000, Loss: 0.069814\n"
     ]
    },
    {
     "name": "stderr",
     "output_type": "stream",
     "text": [
      "Epoch 897/1000: 100%|██████████████████████████████| 47/47 [00:00<00:00, 249.17batch/s, loss=0.007803]\n"
     ]
    },
    {
     "name": "stdout",
     "output_type": "stream",
     "text": [
      "Epoch: 897/1000, Loss: 0.058873\n"
     ]
    },
    {
     "name": "stderr",
     "output_type": "stream",
     "text": [
      "Epoch 898/1000: 100%|██████████████████████████████| 47/47 [00:00<00:00, 247.88batch/s, loss=0.026053]\n"
     ]
    },
    {
     "name": "stdout",
     "output_type": "stream",
     "text": [
      "Epoch: 898/1000, Loss: 0.058864\n"
     ]
    },
    {
     "name": "stderr",
     "output_type": "stream",
     "text": [
      "Epoch 899/1000: 100%|██████████████████████████████| 47/47 [00:00<00:00, 238.13batch/s, loss=0.034639]\n"
     ]
    },
    {
     "name": "stdout",
     "output_type": "stream",
     "text": [
      "Epoch: 899/1000, Loss: 0.044183\n"
     ]
    },
    {
     "name": "stderr",
     "output_type": "stream",
     "text": [
      "Epoch 900/1000: 100%|██████████████████████████████| 47/47 [00:00<00:00, 243.60batch/s, loss=0.010204]\n"
     ]
    },
    {
     "name": "stdout",
     "output_type": "stream",
     "text": [
      "Epoch: 900/1000, Loss: 0.047537\n"
     ]
    },
    {
     "name": "stderr",
     "output_type": "stream",
     "text": [
      "Epoch 901/1000: 100%|██████████████████████████████| 47/47 [00:00<00:00, 245.91batch/s, loss=0.309329]\n"
     ]
    },
    {
     "name": "stdout",
     "output_type": "stream",
     "text": [
      "Epoch: 901/1000, Loss: 0.066176\n"
     ]
    },
    {
     "name": "stderr",
     "output_type": "stream",
     "text": [
      "Epoch 902/1000: 100%|██████████████████████████████| 47/47 [00:00<00:00, 252.38batch/s, loss=0.008585]\n"
     ]
    },
    {
     "name": "stdout",
     "output_type": "stream",
     "text": [
      "Epoch: 902/1000, Loss: 0.077761\n"
     ]
    },
    {
     "name": "stderr",
     "output_type": "stream",
     "text": [
      "Epoch 903/1000: 100%|██████████████████████████████| 47/47 [00:00<00:00, 247.43batch/s, loss=0.050835]\n"
     ]
    },
    {
     "name": "stdout",
     "output_type": "stream",
     "text": [
      "Epoch: 903/1000, Loss: 0.080085\n"
     ]
    },
    {
     "name": "stderr",
     "output_type": "stream",
     "text": [
      "Epoch 904/1000: 100%|██████████████████████████████| 47/47 [00:00<00:00, 247.98batch/s, loss=0.031618]\n"
     ]
    },
    {
     "name": "stdout",
     "output_type": "stream",
     "text": [
      "Epoch: 904/1000, Loss: 0.065311\n"
     ]
    },
    {
     "name": "stderr",
     "output_type": "stream",
     "text": [
      "Epoch 905/1000: 100%|██████████████████████████████| 47/47 [00:00<00:00, 248.53batch/s, loss=0.341075]\n"
     ]
    },
    {
     "name": "stdout",
     "output_type": "stream",
     "text": [
      "Epoch: 905/1000, Loss: 0.063875\n"
     ]
    },
    {
     "name": "stderr",
     "output_type": "stream",
     "text": [
      "Epoch 906/1000: 100%|██████████████████████████████| 47/47 [00:00<00:00, 248.61batch/s, loss=0.059451]\n"
     ]
    },
    {
     "name": "stdout",
     "output_type": "stream",
     "text": [
      "Epoch: 906/1000, Loss: 0.056623\n"
     ]
    },
    {
     "name": "stderr",
     "output_type": "stream",
     "text": [
      "Epoch 907/1000: 100%|██████████████████████████████| 47/47 [00:00<00:00, 244.25batch/s, loss=0.300645]\n"
     ]
    },
    {
     "name": "stdout",
     "output_type": "stream",
     "text": [
      "Epoch: 907/1000, Loss: 0.061582\n"
     ]
    },
    {
     "name": "stderr",
     "output_type": "stream",
     "text": [
      "Epoch 908/1000: 100%|██████████████████████████████| 47/47 [00:00<00:00, 242.48batch/s, loss=0.009891]\n"
     ]
    },
    {
     "name": "stdout",
     "output_type": "stream",
     "text": [
      "Epoch: 908/1000, Loss: 0.047614\n"
     ]
    },
    {
     "name": "stderr",
     "output_type": "stream",
     "text": [
      "Epoch 909/1000: 100%|██████████████████████████████| 47/47 [00:00<00:00, 259.40batch/s, loss=0.015555]\n"
     ]
    },
    {
     "name": "stdout",
     "output_type": "stream",
     "text": [
      "Epoch: 909/1000, Loss: 0.042947\n"
     ]
    },
    {
     "name": "stderr",
     "output_type": "stream",
     "text": [
      "Epoch 910/1000: 100%|██████████████████████████████| 47/47 [00:00<00:00, 253.69batch/s, loss=0.017196]\n"
     ]
    },
    {
     "name": "stdout",
     "output_type": "stream",
     "text": [
      "Epoch: 910/1000, Loss: 0.060317\n"
     ]
    },
    {
     "name": "stderr",
     "output_type": "stream",
     "text": [
      "Epoch 911/1000: 100%|██████████████████████████████| 47/47 [00:00<00:00, 250.90batch/s, loss=0.049706]\n"
     ]
    },
    {
     "name": "stdout",
     "output_type": "stream",
     "text": [
      "Epoch: 911/1000, Loss: 0.110194\n"
     ]
    },
    {
     "name": "stderr",
     "output_type": "stream",
     "text": [
      "Epoch 912/1000: 100%|██████████████████████████████| 47/47 [00:00<00:00, 250.80batch/s, loss=0.002311]\n"
     ]
    },
    {
     "name": "stdout",
     "output_type": "stream",
     "text": [
      "Epoch: 912/1000, Loss: 0.054820\n"
     ]
    },
    {
     "name": "stderr",
     "output_type": "stream",
     "text": [
      "Epoch 913/1000: 100%|██████████████████████████████| 47/47 [00:00<00:00, 255.41batch/s, loss=0.021437]\n"
     ]
    },
    {
     "name": "stdout",
     "output_type": "stream",
     "text": [
      "Epoch: 913/1000, Loss: 0.048597\n"
     ]
    },
    {
     "name": "stderr",
     "output_type": "stream",
     "text": [
      "Epoch 914/1000: 100%|██████████████████████████████| 47/47 [00:00<00:00, 252.62batch/s, loss=0.124212]\n"
     ]
    },
    {
     "name": "stdout",
     "output_type": "stream",
     "text": [
      "Epoch: 914/1000, Loss: 0.058395\n"
     ]
    },
    {
     "name": "stderr",
     "output_type": "stream",
     "text": [
      "Epoch 915/1000: 100%|██████████████████████████████| 47/47 [00:00<00:00, 247.36batch/s, loss=0.020638]\n"
     ]
    },
    {
     "name": "stdout",
     "output_type": "stream",
     "text": [
      "Epoch: 915/1000, Loss: 0.038672\n"
     ]
    },
    {
     "name": "stderr",
     "output_type": "stream",
     "text": [
      "Epoch 916/1000: 100%|██████████████████████████████| 47/47 [00:00<00:00, 251.82batch/s, loss=0.017763]\n"
     ]
    },
    {
     "name": "stdout",
     "output_type": "stream",
     "text": [
      "Epoch: 916/1000, Loss: 0.066404\n"
     ]
    },
    {
     "name": "stderr",
     "output_type": "stream",
     "text": [
      "Epoch 917/1000: 100%|██████████████████████████████| 47/47 [00:00<00:00, 254.56batch/s, loss=0.041785]\n"
     ]
    },
    {
     "name": "stdout",
     "output_type": "stream",
     "text": [
      "Epoch: 917/1000, Loss: 0.061646\n"
     ]
    },
    {
     "name": "stderr",
     "output_type": "stream",
     "text": [
      "Epoch 918/1000: 100%|██████████████████████████████| 47/47 [00:00<00:00, 248.33batch/s, loss=0.317291]\n"
     ]
    },
    {
     "name": "stdout",
     "output_type": "stream",
     "text": [
      "Epoch: 918/1000, Loss: 0.049609\n"
     ]
    },
    {
     "name": "stderr",
     "output_type": "stream",
     "text": [
      "Epoch 919/1000: 100%|██████████████████████████████| 47/47 [00:00<00:00, 273.78batch/s, loss=0.047050]\n"
     ]
    },
    {
     "name": "stdout",
     "output_type": "stream",
     "text": [
      "Epoch: 919/1000, Loss: 0.044424\n"
     ]
    },
    {
     "name": "stderr",
     "output_type": "stream",
     "text": [
      "Epoch 920/1000: 100%|██████████████████████████████| 47/47 [00:00<00:00, 244.86batch/s, loss=0.061225]\n"
     ]
    },
    {
     "name": "stdout",
     "output_type": "stream",
     "text": [
      "Epoch: 920/1000, Loss: 0.043484\n"
     ]
    },
    {
     "name": "stderr",
     "output_type": "stream",
     "text": [
      "Epoch 921/1000: 100%|██████████████████████████████| 47/47 [00:00<00:00, 233.91batch/s, loss=0.002427]\n"
     ]
    },
    {
     "name": "stdout",
     "output_type": "stream",
     "text": [
      "Epoch: 921/1000, Loss: 0.049589\n"
     ]
    },
    {
     "name": "stderr",
     "output_type": "stream",
     "text": [
      "Epoch 922/1000: 100%|██████████████████████████████| 47/47 [00:00<00:00, 235.79batch/s, loss=0.005375]\n"
     ]
    },
    {
     "name": "stdout",
     "output_type": "stream",
     "text": [
      "Epoch: 922/1000, Loss: 0.070331\n"
     ]
    },
    {
     "name": "stderr",
     "output_type": "stream",
     "text": [
      "Epoch 923/1000: 100%|██████████████████████████████| 47/47 [00:00<00:00, 240.60batch/s, loss=0.060351]\n"
     ]
    },
    {
     "name": "stdout",
     "output_type": "stream",
     "text": [
      "Epoch: 923/1000, Loss: 0.108206\n"
     ]
    },
    {
     "name": "stderr",
     "output_type": "stream",
     "text": [
      "Epoch 924/1000: 100%|██████████████████████████████| 47/47 [00:00<00:00, 243.88batch/s, loss=0.047590]\n"
     ]
    },
    {
     "name": "stdout",
     "output_type": "stream",
     "text": [
      "Epoch: 924/1000, Loss: 0.070121\n"
     ]
    },
    {
     "name": "stderr",
     "output_type": "stream",
     "text": [
      "Epoch 925/1000: 100%|██████████████████████████████| 47/47 [00:00<00:00, 275.44batch/s, loss=0.020006]\n"
     ]
    },
    {
     "name": "stdout",
     "output_type": "stream",
     "text": [
      "Epoch: 925/1000, Loss: 0.064299\n"
     ]
    },
    {
     "name": "stderr",
     "output_type": "stream",
     "text": [
      "Epoch 926/1000: 100%|██████████████████████████████| 47/47 [00:00<00:00, 284.77batch/s, loss=0.021843]\n"
     ]
    },
    {
     "name": "stdout",
     "output_type": "stream",
     "text": [
      "Epoch: 926/1000, Loss: 0.061875\n"
     ]
    },
    {
     "name": "stderr",
     "output_type": "stream",
     "text": [
      "Epoch 927/1000: 100%|██████████████████████████████| 47/47 [00:00<00:00, 274.40batch/s, loss=0.006656]\n"
     ]
    },
    {
     "name": "stdout",
     "output_type": "stream",
     "text": [
      "Epoch: 927/1000, Loss: 0.045633\n"
     ]
    },
    {
     "name": "stderr",
     "output_type": "stream",
     "text": [
      "Epoch 928/1000: 100%|██████████████████████████████| 47/47 [00:00<00:00, 241.92batch/s, loss=0.001558]\n"
     ]
    },
    {
     "name": "stdout",
     "output_type": "stream",
     "text": [
      "Epoch: 928/1000, Loss: 0.058852\n"
     ]
    },
    {
     "name": "stderr",
     "output_type": "stream",
     "text": [
      "Epoch 929/1000: 100%|██████████████████████████████| 47/47 [00:00<00:00, 235.84batch/s, loss=0.063251]\n"
     ]
    },
    {
     "name": "stdout",
     "output_type": "stream",
     "text": [
      "Epoch: 929/1000, Loss: 0.064543\n"
     ]
    },
    {
     "name": "stderr",
     "output_type": "stream",
     "text": [
      "Epoch 930/1000: 100%|██████████████████████████████| 47/47 [00:00<00:00, 256.69batch/s, loss=0.009101]\n"
     ]
    },
    {
     "name": "stdout",
     "output_type": "stream",
     "text": [
      "Epoch: 930/1000, Loss: 0.053887\n"
     ]
    },
    {
     "name": "stderr",
     "output_type": "stream",
     "text": [
      "Epoch 931/1000: 100%|██████████████████████████████| 47/47 [00:00<00:00, 244.59batch/s, loss=0.016708]\n"
     ]
    },
    {
     "name": "stdout",
     "output_type": "stream",
     "text": [
      "Epoch: 931/1000, Loss: 0.044231\n"
     ]
    },
    {
     "name": "stderr",
     "output_type": "stream",
     "text": [
      "Epoch 932/1000: 100%|██████████████████████████████| 47/47 [00:00<00:00, 220.00batch/s, loss=0.001708]\n"
     ]
    },
    {
     "name": "stdout",
     "output_type": "stream",
     "text": [
      "Epoch: 932/1000, Loss: 0.035224\n"
     ]
    },
    {
     "name": "stderr",
     "output_type": "stream",
     "text": [
      "Epoch 933/1000: 100%|██████████████████████████████| 47/47 [00:00<00:00, 257.51batch/s, loss=0.055446]\n"
     ]
    },
    {
     "name": "stdout",
     "output_type": "stream",
     "text": [
      "Epoch: 933/1000, Loss: 0.069342\n"
     ]
    },
    {
     "name": "stderr",
     "output_type": "stream",
     "text": [
      "Epoch 934/1000: 100%|██████████████████████████████| 47/47 [00:00<00:00, 259.25batch/s, loss=0.196324]\n"
     ]
    },
    {
     "name": "stdout",
     "output_type": "stream",
     "text": [
      "Epoch: 934/1000, Loss: 0.041700\n"
     ]
    },
    {
     "name": "stderr",
     "output_type": "stream",
     "text": [
      "Epoch 935/1000: 100%|██████████████████████████████| 47/47 [00:00<00:00, 269.19batch/s, loss=0.086012]\n"
     ]
    },
    {
     "name": "stdout",
     "output_type": "stream",
     "text": [
      "Epoch: 935/1000, Loss: 0.072728\n"
     ]
    },
    {
     "name": "stderr",
     "output_type": "stream",
     "text": [
      "Epoch 936/1000: 100%|██████████████████████████████| 47/47 [00:00<00:00, 269.48batch/s, loss=0.034101]\n"
     ]
    },
    {
     "name": "stdout",
     "output_type": "stream",
     "text": [
      "Epoch: 936/1000, Loss: 0.083096\n"
     ]
    },
    {
     "name": "stderr",
     "output_type": "stream",
     "text": [
      "Epoch 937/1000: 100%|██████████████████████████████| 47/47 [00:00<00:00, 269.26batch/s, loss=0.014019]\n"
     ]
    },
    {
     "name": "stdout",
     "output_type": "stream",
     "text": [
      "Epoch: 937/1000, Loss: 0.067631\n"
     ]
    },
    {
     "name": "stderr",
     "output_type": "stream",
     "text": [
      "Epoch 938/1000: 100%|██████████████████████████████| 47/47 [00:00<00:00, 276.99batch/s, loss=0.041635]\n"
     ]
    },
    {
     "name": "stdout",
     "output_type": "stream",
     "text": [
      "Epoch: 938/1000, Loss: 0.069456\n"
     ]
    },
    {
     "name": "stderr",
     "output_type": "stream",
     "text": [
      "Epoch 939/1000: 100%|██████████████████████████████| 47/47 [00:00<00:00, 273.52batch/s, loss=0.004225]\n"
     ]
    },
    {
     "name": "stdout",
     "output_type": "stream",
     "text": [
      "Epoch: 939/1000, Loss: 0.033118\n"
     ]
    },
    {
     "name": "stderr",
     "output_type": "stream",
     "text": [
      "Epoch 940/1000: 100%|██████████████████████████████| 47/47 [00:00<00:00, 266.49batch/s, loss=0.212418]\n"
     ]
    },
    {
     "name": "stdout",
     "output_type": "stream",
     "text": [
      "Epoch: 940/1000, Loss: 0.061356\n"
     ]
    },
    {
     "name": "stderr",
     "output_type": "stream",
     "text": [
      "Epoch 941/1000: 100%|██████████████████████████████| 47/47 [00:00<00:00, 290.53batch/s, loss=0.007123]\n"
     ]
    },
    {
     "name": "stdout",
     "output_type": "stream",
     "text": [
      "Epoch: 941/1000, Loss: 0.054208\n"
     ]
    },
    {
     "name": "stderr",
     "output_type": "stream",
     "text": [
      "Epoch 942/1000: 100%|██████████████████████████████| 47/47 [00:00<00:00, 257.24batch/s, loss=0.028027]\n"
     ]
    },
    {
     "name": "stdout",
     "output_type": "stream",
     "text": [
      "Epoch: 942/1000, Loss: 0.108069\n"
     ]
    },
    {
     "name": "stderr",
     "output_type": "stream",
     "text": [
      "Epoch 943/1000: 100%|██████████████████████████████| 47/47 [00:00<00:00, 250.92batch/s, loss=0.027248]\n"
     ]
    },
    {
     "name": "stdout",
     "output_type": "stream",
     "text": [
      "Epoch: 943/1000, Loss: 0.110297\n"
     ]
    },
    {
     "name": "stderr",
     "output_type": "stream",
     "text": [
      "Epoch 944/1000: 100%|██████████████████████████████| 47/47 [00:00<00:00, 239.02batch/s, loss=0.085161]\n"
     ]
    },
    {
     "name": "stdout",
     "output_type": "stream",
     "text": [
      "Epoch: 944/1000, Loss: 0.063696\n"
     ]
    },
    {
     "name": "stderr",
     "output_type": "stream",
     "text": [
      "Epoch 945/1000: 100%|██████████████████████████████| 47/47 [00:00<00:00, 287.51batch/s, loss=0.005540]\n"
     ]
    },
    {
     "name": "stdout",
     "output_type": "stream",
     "text": [
      "Epoch: 945/1000, Loss: 0.069036\n"
     ]
    },
    {
     "name": "stderr",
     "output_type": "stream",
     "text": [
      "Epoch 946/1000: 100%|██████████████████████████████| 47/47 [00:00<00:00, 289.60batch/s, loss=0.342181]\n"
     ]
    },
    {
     "name": "stdout",
     "output_type": "stream",
     "text": [
      "Epoch: 946/1000, Loss: 0.063716\n"
     ]
    },
    {
     "name": "stderr",
     "output_type": "stream",
     "text": [
      "Epoch 947/1000: 100%|██████████████████████████████| 47/47 [00:00<00:00, 279.80batch/s, loss=0.143295]\n"
     ]
    },
    {
     "name": "stdout",
     "output_type": "stream",
     "text": [
      "Epoch: 947/1000, Loss: 0.060432\n"
     ]
    },
    {
     "name": "stderr",
     "output_type": "stream",
     "text": [
      "Epoch 948/1000: 100%|██████████████████████████████| 47/47 [00:00<00:00, 262.61batch/s, loss=0.014044]\n"
     ]
    },
    {
     "name": "stdout",
     "output_type": "stream",
     "text": [
      "Epoch: 948/1000, Loss: 0.046070\n"
     ]
    },
    {
     "name": "stderr",
     "output_type": "stream",
     "text": [
      "Epoch 949/1000: 100%|██████████████████████████████| 47/47 [00:00<00:00, 294.99batch/s, loss=0.017034]\n"
     ]
    },
    {
     "name": "stdout",
     "output_type": "stream",
     "text": [
      "Epoch: 949/1000, Loss: 0.048671\n"
     ]
    },
    {
     "name": "stderr",
     "output_type": "stream",
     "text": [
      "Epoch 950/1000: 100%|██████████████████████████████| 47/47 [00:00<00:00, 242.33batch/s, loss=0.009732]\n"
     ]
    },
    {
     "name": "stdout",
     "output_type": "stream",
     "text": [
      "Epoch: 950/1000, Loss: 0.080967\n"
     ]
    },
    {
     "name": "stderr",
     "output_type": "stream",
     "text": [
      "Epoch 951/1000: 100%|██████████████████████████████| 47/47 [00:00<00:00, 286.50batch/s, loss=0.017626]\n"
     ]
    },
    {
     "name": "stdout",
     "output_type": "stream",
     "text": [
      "Epoch: 951/1000, Loss: 0.051149\n"
     ]
    },
    {
     "name": "stderr",
     "output_type": "stream",
     "text": [
      "Epoch 952/1000: 100%|██████████████████████████████| 47/47 [00:00<00:00, 260.98batch/s, loss=0.020442]\n"
     ]
    },
    {
     "name": "stdout",
     "output_type": "stream",
     "text": [
      "Epoch: 952/1000, Loss: 0.045364\n"
     ]
    },
    {
     "name": "stderr",
     "output_type": "stream",
     "text": [
      "Epoch 953/1000: 100%|██████████████████████████████| 47/47 [00:00<00:00, 248.77batch/s, loss=0.002440]\n"
     ]
    },
    {
     "name": "stdout",
     "output_type": "stream",
     "text": [
      "Epoch: 953/1000, Loss: 0.058292\n"
     ]
    },
    {
     "name": "stderr",
     "output_type": "stream",
     "text": [
      "Epoch 954/1000: 100%|██████████████████████████████| 47/47 [00:00<00:00, 241.04batch/s, loss=0.016538]\n"
     ]
    },
    {
     "name": "stdout",
     "output_type": "stream",
     "text": [
      "Epoch: 954/1000, Loss: 0.057393\n"
     ]
    },
    {
     "name": "stderr",
     "output_type": "stream",
     "text": [
      "Epoch 955/1000: 100%|██████████████████████████████| 47/47 [00:00<00:00, 220.51batch/s, loss=0.011029]\n"
     ]
    },
    {
     "name": "stdout",
     "output_type": "stream",
     "text": [
      "Epoch: 955/1000, Loss: 0.038729\n"
     ]
    },
    {
     "name": "stderr",
     "output_type": "stream",
     "text": [
      "Epoch 956/1000: 100%|██████████████████████████████| 47/47 [00:00<00:00, 228.77batch/s, loss=0.022190]\n"
     ]
    },
    {
     "name": "stdout",
     "output_type": "stream",
     "text": [
      "Epoch: 956/1000, Loss: 0.043169\n"
     ]
    },
    {
     "name": "stderr",
     "output_type": "stream",
     "text": [
      "Epoch 957/1000: 100%|██████████████████████████████| 47/47 [00:00<00:00, 261.95batch/s, loss=0.159463]\n"
     ]
    },
    {
     "name": "stdout",
     "output_type": "stream",
     "text": [
      "Epoch: 957/1000, Loss: 0.081319\n"
     ]
    },
    {
     "name": "stderr",
     "output_type": "stream",
     "text": [
      "Epoch 958/1000: 100%|██████████████████████████████| 47/47 [00:00<00:00, 276.91batch/s, loss=0.017261]\n"
     ]
    },
    {
     "name": "stdout",
     "output_type": "stream",
     "text": [
      "Epoch: 958/1000, Loss: 0.054133\n"
     ]
    },
    {
     "name": "stderr",
     "output_type": "stream",
     "text": [
      "Epoch 959/1000: 100%|██████████████████████████████| 47/47 [00:00<00:00, 272.21batch/s, loss=0.001916]\n"
     ]
    },
    {
     "name": "stdout",
     "output_type": "stream",
     "text": [
      "Epoch: 959/1000, Loss: 0.079330\n"
     ]
    },
    {
     "name": "stderr",
     "output_type": "stream",
     "text": [
      "Epoch 960/1000: 100%|██████████████████████████████| 47/47 [00:00<00:00, 282.22batch/s, loss=0.004835]\n"
     ]
    },
    {
     "name": "stdout",
     "output_type": "stream",
     "text": [
      "Epoch: 960/1000, Loss: 0.112769\n"
     ]
    },
    {
     "name": "stderr",
     "output_type": "stream",
     "text": [
      "Epoch 961/1000: 100%|██████████████████████████████| 47/47 [00:00<00:00, 260.41batch/s, loss=0.210230]\n"
     ]
    },
    {
     "name": "stdout",
     "output_type": "stream",
     "text": [
      "Epoch: 961/1000, Loss: 0.083980\n"
     ]
    },
    {
     "name": "stderr",
     "output_type": "stream",
     "text": [
      "Epoch 962/1000: 100%|██████████████████████████████| 47/47 [00:00<00:00, 245.37batch/s, loss=0.079999]\n"
     ]
    },
    {
     "name": "stdout",
     "output_type": "stream",
     "text": [
      "Epoch: 962/1000, Loss: 0.058953\n"
     ]
    },
    {
     "name": "stderr",
     "output_type": "stream",
     "text": [
      "Epoch 963/1000: 100%|██████████████████████████████| 47/47 [00:00<00:00, 252.26batch/s, loss=0.013847]\n"
     ]
    },
    {
     "name": "stdout",
     "output_type": "stream",
     "text": [
      "Epoch: 963/1000, Loss: 0.052575\n"
     ]
    },
    {
     "name": "stderr",
     "output_type": "stream",
     "text": [
      "Epoch 964/1000: 100%|██████████████████████████████| 47/47 [00:00<00:00, 266.89batch/s, loss=0.069562]\n"
     ]
    },
    {
     "name": "stdout",
     "output_type": "stream",
     "text": [
      "Epoch: 964/1000, Loss: 0.044032\n"
     ]
    },
    {
     "name": "stderr",
     "output_type": "stream",
     "text": [
      "Epoch 965/1000: 100%|██████████████████████████████| 47/47 [00:00<00:00, 297.68batch/s, loss=0.148336]\n"
     ]
    },
    {
     "name": "stdout",
     "output_type": "stream",
     "text": [
      "Epoch: 965/1000, Loss: 0.079062\n"
     ]
    },
    {
     "name": "stderr",
     "output_type": "stream",
     "text": [
      "Epoch 966/1000: 100%|██████████████████████████████| 47/47 [00:00<00:00, 239.62batch/s, loss=0.032972]\n"
     ]
    },
    {
     "name": "stdout",
     "output_type": "stream",
     "text": [
      "Epoch: 966/1000, Loss: 0.066908\n"
     ]
    },
    {
     "name": "stderr",
     "output_type": "stream",
     "text": [
      "Epoch 967/1000: 100%|██████████████████████████████| 47/47 [00:00<00:00, 227.07batch/s, loss=0.005720]\n"
     ]
    },
    {
     "name": "stdout",
     "output_type": "stream",
     "text": [
      "Epoch: 967/1000, Loss: 0.062224\n"
     ]
    },
    {
     "name": "stderr",
     "output_type": "stream",
     "text": [
      "Epoch 968/1000: 100%|██████████████████████████████| 47/47 [00:00<00:00, 241.94batch/s, loss=0.007748]\n"
     ]
    },
    {
     "name": "stdout",
     "output_type": "stream",
     "text": [
      "Epoch: 968/1000, Loss: 0.048343\n"
     ]
    },
    {
     "name": "stderr",
     "output_type": "stream",
     "text": [
      "Epoch 969/1000: 100%|██████████████████████████████| 47/47 [00:00<00:00, 244.28batch/s, loss=0.013211]\n"
     ]
    },
    {
     "name": "stdout",
     "output_type": "stream",
     "text": [
      "Epoch: 969/1000, Loss: 0.048984\n"
     ]
    },
    {
     "name": "stderr",
     "output_type": "stream",
     "text": [
      "Epoch 970/1000: 100%|██████████████████████████████| 47/47 [00:00<00:00, 242.35batch/s, loss=0.030626]\n"
     ]
    },
    {
     "name": "stdout",
     "output_type": "stream",
     "text": [
      "Epoch: 970/1000, Loss: 0.040041\n"
     ]
    },
    {
     "name": "stderr",
     "output_type": "stream",
     "text": [
      "Epoch 971/1000: 100%|██████████████████████████████| 47/47 [00:00<00:00, 240.12batch/s, loss=0.019614]\n"
     ]
    },
    {
     "name": "stdout",
     "output_type": "stream",
     "text": [
      "Epoch: 971/1000, Loss: 0.056010\n"
     ]
    },
    {
     "name": "stderr",
     "output_type": "stream",
     "text": [
      "Epoch 972/1000: 100%|██████████████████████████████| 47/47 [00:00<00:00, 243.62batch/s, loss=0.003979]\n"
     ]
    },
    {
     "name": "stdout",
     "output_type": "stream",
     "text": [
      "Epoch: 972/1000, Loss: 0.035849\n"
     ]
    },
    {
     "name": "stderr",
     "output_type": "stream",
     "text": [
      "Epoch 973/1000: 100%|██████████████████████████████| 47/47 [00:00<00:00, 251.42batch/s, loss=0.051094]\n"
     ]
    },
    {
     "name": "stdout",
     "output_type": "stream",
     "text": [
      "Epoch: 973/1000, Loss: 0.050334\n"
     ]
    },
    {
     "name": "stderr",
     "output_type": "stream",
     "text": [
      "Epoch 974/1000: 100%|██████████████████████████████| 47/47 [00:00<00:00, 264.81batch/s, loss=0.008724]\n"
     ]
    },
    {
     "name": "stdout",
     "output_type": "stream",
     "text": [
      "Epoch: 974/1000, Loss: 0.142024\n"
     ]
    },
    {
     "name": "stderr",
     "output_type": "stream",
     "text": [
      "Epoch 975/1000: 100%|██████████████████████████████| 47/47 [00:00<00:00, 260.29batch/s, loss=0.058215]\n"
     ]
    },
    {
     "name": "stdout",
     "output_type": "stream",
     "text": [
      "Epoch: 975/1000, Loss: 0.077783\n"
     ]
    },
    {
     "name": "stderr",
     "output_type": "stream",
     "text": [
      "Epoch 976/1000: 100%|██████████████████████████████| 47/47 [00:00<00:00, 283.62batch/s, loss=0.043667]\n"
     ]
    },
    {
     "name": "stdout",
     "output_type": "stream",
     "text": [
      "Epoch: 976/1000, Loss: 0.065019\n"
     ]
    },
    {
     "name": "stderr",
     "output_type": "stream",
     "text": [
      "Epoch 977/1000: 100%|██████████████████████████████| 47/47 [00:00<00:00, 246.25batch/s, loss=0.073907]\n"
     ]
    },
    {
     "name": "stdout",
     "output_type": "stream",
     "text": [
      "Epoch: 977/1000, Loss: 0.064492\n"
     ]
    },
    {
     "name": "stderr",
     "output_type": "stream",
     "text": [
      "Epoch 978/1000: 100%|██████████████████████████████| 47/47 [00:00<00:00, 259.10batch/s, loss=0.138957]\n"
     ]
    },
    {
     "name": "stdout",
     "output_type": "stream",
     "text": [
      "Epoch: 978/1000, Loss: 0.055852\n"
     ]
    },
    {
     "name": "stderr",
     "output_type": "stream",
     "text": [
      "Epoch 979/1000: 100%|██████████████████████████████| 47/47 [00:00<00:00, 294.10batch/s, loss=0.016960]\n"
     ]
    },
    {
     "name": "stdout",
     "output_type": "stream",
     "text": [
      "Epoch: 979/1000, Loss: 0.056227\n"
     ]
    },
    {
     "name": "stderr",
     "output_type": "stream",
     "text": [
      "Epoch 980/1000: 100%|██████████████████████████████| 47/47 [00:00<00:00, 291.44batch/s, loss=0.026055]\n"
     ]
    },
    {
     "name": "stdout",
     "output_type": "stream",
     "text": [
      "Epoch: 980/1000, Loss: 0.058321\n"
     ]
    },
    {
     "name": "stderr",
     "output_type": "stream",
     "text": [
      "Epoch 981/1000: 100%|██████████████████████████████| 47/47 [00:00<00:00, 241.27batch/s, loss=0.000198]\n"
     ]
    },
    {
     "name": "stdout",
     "output_type": "stream",
     "text": [
      "Epoch: 981/1000, Loss: 0.048506\n"
     ]
    },
    {
     "name": "stderr",
     "output_type": "stream",
     "text": [
      "Epoch 982/1000: 100%|██████████████████████████████| 47/47 [00:00<00:00, 272.44batch/s, loss=0.344055]\n"
     ]
    },
    {
     "name": "stdout",
     "output_type": "stream",
     "text": [
      "Epoch: 982/1000, Loss: 0.048289\n"
     ]
    },
    {
     "name": "stderr",
     "output_type": "stream",
     "text": [
      "Epoch 983/1000: 100%|██████████████████████████████| 47/47 [00:00<00:00, 279.25batch/s, loss=0.011107]\n"
     ]
    },
    {
     "name": "stdout",
     "output_type": "stream",
     "text": [
      "Epoch: 983/1000, Loss: 0.044833\n"
     ]
    },
    {
     "name": "stderr",
     "output_type": "stream",
     "text": [
      "Epoch 984/1000: 100%|██████████████████████████████| 47/47 [00:00<00:00, 240.78batch/s, loss=0.047622]\n"
     ]
    },
    {
     "name": "stdout",
     "output_type": "stream",
     "text": [
      "Epoch: 984/1000, Loss: 0.056294\n"
     ]
    },
    {
     "name": "stderr",
     "output_type": "stream",
     "text": [
      "Epoch 985/1000: 100%|██████████████████████████████| 47/47 [00:00<00:00, 218.06batch/s, loss=0.048370]\n"
     ]
    },
    {
     "name": "stdout",
     "output_type": "stream",
     "text": [
      "Epoch: 985/1000, Loss: 0.084680\n"
     ]
    },
    {
     "name": "stderr",
     "output_type": "stream",
     "text": [
      "Epoch 986/1000: 100%|██████████████████████████████| 47/47 [00:00<00:00, 221.40batch/s, loss=0.057106]\n"
     ]
    },
    {
     "name": "stdout",
     "output_type": "stream",
     "text": [
      "Epoch: 986/1000, Loss: 0.071623\n"
     ]
    },
    {
     "name": "stderr",
     "output_type": "stream",
     "text": [
      "Epoch 987/1000: 100%|██████████████████████████████| 47/47 [00:00<00:00, 212.76batch/s, loss=0.020099]\n"
     ]
    },
    {
     "name": "stdout",
     "output_type": "stream",
     "text": [
      "Epoch: 987/1000, Loss: 0.057859\n"
     ]
    },
    {
     "name": "stderr",
     "output_type": "stream",
     "text": [
      "Epoch 988/1000: 100%|██████████████████████████████| 47/47 [00:00<00:00, 236.76batch/s, loss=0.014776]\n"
     ]
    },
    {
     "name": "stdout",
     "output_type": "stream",
     "text": [
      "Epoch: 988/1000, Loss: 0.030368\n"
     ]
    },
    {
     "name": "stderr",
     "output_type": "stream",
     "text": [
      "Epoch 989/1000: 100%|██████████████████████████████| 47/47 [00:00<00:00, 231.28batch/s, loss=0.008106]\n"
     ]
    },
    {
     "name": "stdout",
     "output_type": "stream",
     "text": [
      "Epoch: 989/1000, Loss: 0.054439\n"
     ]
    },
    {
     "name": "stderr",
     "output_type": "stream",
     "text": [
      "Epoch 990/1000: 100%|██████████████████████████████| 47/47 [00:00<00:00, 239.18batch/s, loss=0.010079]\n"
     ]
    },
    {
     "name": "stdout",
     "output_type": "stream",
     "text": [
      "Epoch: 990/1000, Loss: 0.044582\n"
     ]
    },
    {
     "name": "stderr",
     "output_type": "stream",
     "text": [
      "Epoch 991/1000: 100%|██████████████████████████████| 47/47 [00:00<00:00, 237.91batch/s, loss=0.370071]\n"
     ]
    },
    {
     "name": "stdout",
     "output_type": "stream",
     "text": [
      "Epoch: 991/1000, Loss: 0.046312\n"
     ]
    },
    {
     "name": "stderr",
     "output_type": "stream",
     "text": [
      "Epoch 992/1000: 100%|██████████████████████████████| 47/47 [00:00<00:00, 231.09batch/s, loss=0.012333]\n"
     ]
    },
    {
     "name": "stdout",
     "output_type": "stream",
     "text": [
      "Epoch: 992/1000, Loss: 0.041849\n"
     ]
    },
    {
     "name": "stderr",
     "output_type": "stream",
     "text": [
      "Epoch 993/1000: 100%|██████████████████████████████| 47/47 [00:00<00:00, 221.63batch/s, loss=0.015335]\n"
     ]
    },
    {
     "name": "stdout",
     "output_type": "stream",
     "text": [
      "Epoch: 993/1000, Loss: 0.040859\n"
     ]
    },
    {
     "name": "stderr",
     "output_type": "stream",
     "text": [
      "Epoch 994/1000: 100%|██████████████████████████████| 47/47 [00:00<00:00, 249.15batch/s, loss=0.195869]\n"
     ]
    },
    {
     "name": "stdout",
     "output_type": "stream",
     "text": [
      "Epoch: 994/1000, Loss: 0.053877\n"
     ]
    },
    {
     "name": "stderr",
     "output_type": "stream",
     "text": [
      "Epoch 995/1000: 100%|██████████████████████████████| 47/47 [00:00<00:00, 254.88batch/s, loss=0.060127]\n"
     ]
    },
    {
     "name": "stdout",
     "output_type": "stream",
     "text": [
      "Epoch: 995/1000, Loss: 0.043828\n"
     ]
    },
    {
     "name": "stderr",
     "output_type": "stream",
     "text": [
      "Epoch 996/1000: 100%|██████████████████████████████| 47/47 [00:00<00:00, 221.74batch/s, loss=0.058943]\n"
     ]
    },
    {
     "name": "stdout",
     "output_type": "stream",
     "text": [
      "Epoch: 996/1000, Loss: 0.061255\n"
     ]
    },
    {
     "name": "stderr",
     "output_type": "stream",
     "text": [
      "Epoch 997/1000: 100%|██████████████████████████████| 47/47 [00:00<00:00, 237.41batch/s, loss=0.002580]\n"
     ]
    },
    {
     "name": "stdout",
     "output_type": "stream",
     "text": [
      "Epoch: 997/1000, Loss: 0.059491\n"
     ]
    },
    {
     "name": "stderr",
     "output_type": "stream",
     "text": [
      "Epoch 998/1000: 100%|██████████████████████████████| 47/47 [00:00<00:00, 261.52batch/s, loss=0.417166]\n"
     ]
    },
    {
     "name": "stdout",
     "output_type": "stream",
     "text": [
      "Epoch: 998/1000, Loss: 0.079942\n"
     ]
    },
    {
     "name": "stderr",
     "output_type": "stream",
     "text": [
      "Epoch 999/1000: 100%|██████████████████████████████| 47/47 [00:00<00:00, 278.49batch/s, loss=0.014447]\n"
     ]
    },
    {
     "name": "stdout",
     "output_type": "stream",
     "text": [
      "Epoch: 999/1000, Loss: 0.055006\n"
     ]
    },
    {
     "name": "stderr",
     "output_type": "stream",
     "text": [
      "Epoch 1000/1000: 100%|█████████████████████████████| 47/47 [00:00<00:00, 240.98batch/s, loss=0.024972]"
     ]
    },
    {
     "name": "stdout",
     "output_type": "stream",
     "text": [
      "Epoch: 1000/1000, Loss: 0.046379\n",
      "CPU times: user 3min 12s, sys: 22.5 s, total: 3min 35s\n",
      "Wall time: 3min 19s\n"
     ]
    },
    {
     "name": "stderr",
     "output_type": "stream",
     "text": [
      "\n"
     ]
    }
   ],
   "source": [
    "%%time\n",
    "trainer5.train(cifar100_005, epochs)"
   ]
  },
  {
   "cell_type": "code",
   "execution_count": 68,
   "id": "bf1ba1eb-635b-4f54-8427-cbf61fb49374",
   "metadata": {},
   "outputs": [
    {
     "data": {
      "image/png": "[encoded data removed]",
      "text/plain": [
       "<Figure size 1400x600 with 2 Axes>"
      ]
     },
     "metadata": {},
     "output_type": "display_data"
    }
   ],
   "source": [
    "trainer5.plot_training_history()"
   ]
  },
  {
   "cell_type": "markdown",
   "id": "c1eebe97-9fdf-4d6c-a032-954d235b47ec",
   "metadata": {},
   "source": [
    "#### Оценка"
   ]
  },
  {
   "cell_type": "code",
   "execution_count": 69,
   "id": "baf73eeb-1dbc-4b5e-93a0-6bea7a0e63d9",
   "metadata": {},
   "outputs": [
    {
     "name": "stdout",
     "output_type": "stream",
     "text": [
      "Classification report for train dataset:\n",
      "              precision    recall  f1-score   support\n",
      "\n",
      "    wardrobe     1.0000    1.0000    1.0000       500\n",
      "  chimpanzee     0.9980    1.0000    0.9990       500\n",
      "    mushroom     1.0000    0.9980    0.9990       500\n",
      "\n",
      "    accuracy                         0.9993      1500\n",
      "   macro avg     0.9993    0.9993    0.9993      1500\n",
      "weighted avg     0.9993    0.9993    0.9993      1500\n",
      "\n",
      "--------------------------------------------------\n",
      "Classification report for test dataset:\n",
      "              precision    recall  f1-score   support\n",
      "\n",
      "    wardrobe     0.8100    0.8100    0.8100       100\n",
      "  chimpanzee     0.8500    0.6800    0.7556       100\n",
      "    mushroom     0.7167    0.8600    0.7818       100\n",
      "\n",
      "    accuracy                         0.7833       300\n",
      "   macro avg     0.7922    0.7833    0.7825       300\n",
      "weighted avg     0.7922    0.7833    0.7825       300\n",
      "\n",
      "--------------------------------------------------\n"
     ]
    }
   ],
   "source": [
    "trainer5.evaluate(cifar100_005)"
   ]
  },
  {
   "cell_type": "markdown",
   "id": "47df060a-29cc-4c00-ad38-de1d0a473be2",
   "metadata": {},
   "source": [
    "#### Сохранение модели в ONNX"
   ]
  },
  {
   "cell_type": "code",
   "execution_count": 70,
   "id": "c90ab27a-fa84-45ee-97a5-799a687cbd9d",
   "metadata": {},
   "outputs": [
    {
     "name": "stdout",
     "output_type": "stream",
     "text": [
      "Model saved as: cifar100_5562c28e-55cd-40f6-bfad-ca88085b6da4.onnx\n",
      "Model UUID: 5562c28e-55cd-40f6-bfad-ca88085b6da4\n"
     ]
    }
   ],
   "source": [
    "trainer5.save_model(cifar100_005)"
   ]
  }
 ],
 "metadata": {
  "kernelspec": {
   "display_name": "Python 3 (ipykernel)",
   "language": "python",
   "name": "python3"
  },
  "language_info": {
   "codemirror_mode": {
    "name": "ipython",
    "version": 3
   },
   "file_extension": ".py",
   "mimetype": "text/x-python",
   "name": "python",
   "nbconvert_exporter": "python",
   "pygments_lexer": "ipython3",
   "version": "3.11.7"
  }
 },
 "nbformat": 4,
 "nbformat_minor": 5
}
