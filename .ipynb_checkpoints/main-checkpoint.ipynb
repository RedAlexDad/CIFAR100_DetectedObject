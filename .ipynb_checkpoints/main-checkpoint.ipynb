{
 "cells": [
  {
   "cell_type": "markdown",
   "id": "301e84ef-0ad3-41b5-a05e-33574f4ebfa0",
   "metadata": {},
   "source": [
    "# Импортирование необходимых библиотек"
   ]
  },
  {
   "cell_type": "code",
   "execution_count": 1,
   "id": "8157d752-5c1c-4fc5-840a-e9112df0076f",
   "metadata": {},
   "outputs": [
    {
     "name": "stderr",
     "output_type": "stream",
     "text": [
      "2024-10-24 21:46:09.092206: I tensorflow/core/platform/cpu_feature_guard.cc:210] This TensorFlow binary is optimized to use available CPU instructions in performance-critical operations.\n",
      "To enable the following instructions: AVX2 FMA, in other operations, rebuild TensorFlow with the appropriate compiler flags.\n",
      "2024-10-24 21:46:09.861465: W tensorflow/compiler/tf2tensorrt/utils/py_utils.cc:38] TF-TRT Warning: Could not find TensorRT\n"
     ]
    }
   ],
   "source": [
    "import os\n",
    "import uuid\n",
    "import tarfile\n",
    "import numpy as np\n",
    "import urllib.request\n",
    "from tqdm import tqdm\n",
    "from PIL import Image\n",
    "import matplotlib.pyplot as plt\n",
    "\n",
    "from sklearn.metrics import classification_report\n",
    "\n",
    "import onnx\n",
    "import pickle\n",
    "\n",
    "import torch\n",
    "import torch.nn as nn\n",
    "import torch.nn.functional as F\n",
    "import torch.optim as optim\n",
    "from torchvision import datasets, transforms\n",
    "from torch.utils.data import DataLoader, TensorDataset\n",
    "import torchvision\n",
    "import torchvision.models as models\n",
    "from torch.utils.tensorboard import SummaryWriter"
   ]
  },
  {
   "cell_type": "code",
   "execution_count": 2,
   "id": "6f3880af-189b-4d13-9eab-635c9357c9b2",
   "metadata": {},
   "outputs": [
    {
     "name": "stdout",
     "output_type": "stream",
     "text": [
      "CUDA is available!\n",
      "Device name: NVIDIA GeForce GTX 1650 Ti\n",
      "CUDA capability: (7, 5)\n",
      "Driver version: 12.1\n",
      "Device count: 1\n",
      "Current device: 0\n"
     ]
    }
   ],
   "source": [
    "# Проверка наличия CUDA\n",
    "device = torch.device('cuda' if torch.cuda.is_available() else 'cpu')\n",
    "\n",
    "if device.type == 'cuda':\n",
    "    print(\"CUDA is available!\")\n",
    "    print(f\"Device name: {torch.cuda.get_device_name(0)}\")\n",
    "    print(f\"CUDA capability: {torch.cuda.get_device_capability(0)}\")\n",
    "    print(f\"Driver version: {torch.version.cuda}\")\n",
    "    print(f\"Device count: {torch.cuda.device_count()}\")\n",
    "    print(f\"Current device: {torch.cuda.current_device()}\")\n",
    "else:\n",
    "    print(\"CUDA is not available. Running on CPU.\")"
   ]
  },
  {
   "cell_type": "markdown",
   "id": "3225059b-b075-4fae-b502-bdf62b87b491",
   "metadata": {},
   "source": [
    "# Загрузка и распаковка набора данных CIFAR100"
   ]
  },
  {
   "cell_type": "code",
   "execution_count": 3,
   "id": "c199e6b5-3b63-4cdf-9e7e-a607fb147848",
   "metadata": {},
   "outputs": [
    {
     "name": "stdout",
     "output_type": "stream",
     "text": [
      "Файл 'cifar-100-python.tar.gz' уже существует.\n",
      "Архив уже распакован.\n"
     ]
    }
   ],
   "source": [
    "def download_and_extract_cifar100(\n",
    "    filename=\"cifar-100-python.tar.gz\", \n",
    "    url=\"https://www.cs.toronto.edu/~kriz/cifar-100-python.tar.gz\", \n",
    "    extract_dir=\"cifar-100-python\"\n",
    "    ):\n",
    "    \"\"\"\n",
    "    Функция для скачивания и распаковки архива CIFAR-100.\n",
    "    \n",
    "    Args:\n",
    "        filename (str): Имя архива, который нужно скачать.\n",
    "        url (str): URL для скачивания архива.\n",
    "        extract_dir (str): Папка, куда нужно распаковать архив.\n",
    "    \"\"\"\n",
    "    \n",
    "    # Проверяем наличие файла\n",
    "    if not os.path.exists(filename):\n",
    "        # Файла нет, скачиваем\n",
    "        print(f\"Скачивание {filename}...\")\n",
    "        urllib.request.urlretrieve(url, filename)\n",
    "        print(f\"Файл '{filename}' был успешно скачан.\")\n",
    "    else:\n",
    "        print(f\"Файл '{filename}' уже существует.\")\n",
    "\n",
    "    # Проверяем, был ли архив распакован\n",
    "    if not os.path.exists(extract_dir):\n",
    "        print(f\"Распаковка {filename}...\")\n",
    "        with tarfile.open(filename, \"r:gz\") as tar:\n",
    "            tar.extractall()\n",
    "        print(f\"Архив распакован в папку '{extract_dir}'.\")\n",
    "    else:\n",
    "        print(\"Архив уже распакован.\")\n",
    "        \n",
    "download_and_extract_cifar100()"
   ]
  },
  {
   "cell_type": "markdown",
   "id": "e2ed3721-689a-4863-966f-7c2c2545de6b",
   "metadata": {},
   "source": [
    "## Архитектуры модели"
   ]
  },
  {
   "cell_type": "markdown",
   "id": "d1685621-f406-401e-93ee-79fe10bafa1f",
   "metadata": {},
   "source": [
    "### Класс модели CIFAR100"
   ]
  },
  {
   "cell_type": "code",
   "execution_count": 4,
   "id": "006a3f43-7328-4627-9368-bcb82f0ce5ab",
   "metadata": {},
   "outputs": [],
   "source": [
    "class CIFAR100Trainer:\n",
    "    def __init__(self, classes, batch_size=128, lr_rate=1e-4, criterion=nn.CrossEntropyLoss(), experiment_name='default'):\n",
    "        self.classes = classes\n",
    "        self.batch_size = batch_size\n",
    "        self.lr_rate = lr_rate\n",
    "        self.device = self.check_device()\n",
    "        self.criterion = criterion\n",
    "        self.history = {\"epoch\": [], \"loss\": []}  # История обучения\n",
    "        # Загрузка названий классов\n",
    "        self.class_names = self.load_class_names()\n",
    "        \n",
    "        # Уникальная директория для каждого эксперимента\n",
    "        log_dir = f'logs/{experiment_name}'\n",
    "        self.writer = SummaryWriter(log_dir=log_dir)\n",
    "\n",
    "        # Чтение тренировочной выборки (обучающих данных)\n",
    "        with open('cifar-100-python/train', 'rb') as f:\n",
    "            data_train = pickle.load(f, encoding='latin1')\n",
    "\n",
    "        # Чтение тестовой выборки (тестовых данных)\n",
    "        with open('cifar-100-python/test', 'rb') as f:\n",
    "            data_test = pickle.load(f, encoding='latin1')\n",
    "\n",
    "        # Фильтрация данных и создание датасетов\n",
    "        self.train_dataset = self.prepare_data(data_train, 'train')\n",
    "        self.test_dataset = self.prepare_data(data_test, 'test')\n",
    "\n",
    "        # Загрузка данных в батчи\n",
    "        self.train_loader = DataLoader(self.train_dataset, batch_size=self.batch_size, shuffle=True)\n",
    "        self.test_loader = DataLoader(self.test_dataset, batch_size=self.batch_size, shuffle=False)\n",
    "        \n",
    "    def load_class_names(self):\n",
    "        \"\"\"Загружает названия классов из мета-файла.\"\"\"\n",
    "        with open('cifar-100-python/meta', 'rb') as f:\n",
    "            meta = pickle.load(f, encoding='latin1')\n",
    "        return meta['fine_label_names']\n",
    "\n",
    "    def prepare_data(self, data, part):\n",
    "        \"\"\"Фильтрация данных и преобразование в TensorDataset.\"\"\"\n",
    "        X = data['data'].reshape(-1, 3, 32, 32)  # Данные в формате NCHW\n",
    "        X = np.transpose(X, [0, 2, 3, 1]) # NCHW -> NHWC\n",
    "        y = np.array(data['fine_labels'])\n",
    "\n",
    "        mask = np.isin(y, self.classes)\n",
    "        X = X[mask].copy()\n",
    "        y = y[mask].copy()\n",
    "        y = np.unique(y, return_inverse=1)[1]\n",
    "\n",
    "        tensor_x = torch.Tensor(X)\n",
    "        tensor_y = F.one_hot(torch.Tensor(y).to(torch.int64), num_classes=len(self.classes)) / 1.\n",
    "        dataset = TensorDataset(tensor_x, tensor_y)\n",
    "        return dataset\n",
    "        \n",
    "    def train(self, model, epochs=10):\n",
    "        model = model.to(self.device)\n",
    "        criterion = nn.CrossEntropyLoss()\n",
    "        optimizer = optim.Adam(model.parameters(), lr=self.lr_rate)\n",
    "        self.history = {\"epoch\": [], \"loss\": []}  # Инициализация истории\n",
    "\n",
    "        for epoch in range(epochs):\n",
    "            model.train()  # Установка модели в режим обучения\n",
    "            running_loss = 0.0\n",
    "\n",
    "            progress_bar = tqdm(self.train_loader, desc=f'Epoch {epoch+1}/{epochs}', unit=\"batch\")\n",
    "            for batch_idx, (data, target) in enumerate(progress_bar):\n",
    "                data, target = data.to(self.device), target.to(self.device)\n",
    "                optimizer.zero_grad()\n",
    "                # Вызов метода forward() модели\n",
    "                output = model.forward(data) \n",
    "                loss = criterion(output, target)\n",
    "                loss.backward()\n",
    "                optimizer.step()\n",
    "\n",
    "                running_loss += loss.item()\n",
    "                progress_bar.set_postfix(loss=f\"{loss:.6f}\")\n",
    "                \n",
    "            average_loss = running_loss / len(self.train_loader)\n",
    "            self.history[\"epoch\"].append(epoch + 1)\n",
    "            self.history[\"loss\"].append(average_loss)  # Сохранение средней потери\n",
    "    \n",
    "            # Логирование потерь в TensorBoard\n",
    "            self.writer.add_scalar('Loss/train', average_loss, epoch)\n",
    "            print(f'Epoch: {epoch+1}/{epochs}, Loss: {running_loss/len(self.train_loader):.6f}')\n",
    "            \n",
    "        self.writer.close()  # Закрытие SummaryWriter после обучения\n",
    "\n",
    "    def evaluate(self, model):\n",
    "        model = model.to(self.device)\n",
    "        model.eval()  # Установка модели в режим оценки\n",
    "        \n",
    "        # Обрабатываем обе выборки: тренировочную и тестовую\n",
    "        dataloaders = {'train': self.train_loader, 'test': self.test_loader}\n",
    "        \n",
    "        for part in ['train', 'test']:\n",
    "            all_predicted = []\n",
    "            all_target = []\n",
    "            with torch.no_grad():\n",
    "                for data, target in dataloaders[part]:\n",
    "                    data, target = data.to(self.device), target.to(self.device)\n",
    "                    output = model(data)\n",
    "                    \n",
    "                    # Получаем предсказания\n",
    "                    _, predicted = torch.max(output.data, 1)\n",
    "                    \n",
    "                    # Преобразуем target обратно в одномерный тензор\n",
    "                    target_indices = torch.argmax(target, dim=1)\n",
    "                    \n",
    "                    all_predicted.extend(predicted.cpu().numpy())\n",
    "                    all_target.extend(target_indices.cpu().numpy())\n",
    "            \n",
    "            # Преобразуем списки в массивы NumPy\n",
    "            all_predicted = np.array(all_predicted)\n",
    "            all_target = np.array(all_target)\n",
    "            \n",
    "            # Выводим наименования классов для выбранных индексов\n",
    "            selected_class_names = [self.class_names[i] for i in self.classes]\n",
    "            \n",
    "            # Выводим отчет о классификации\n",
    "            print(f\"Classification report for {part} dataset:\")\n",
    "            report = classification_report(all_target, all_predicted, target_names=selected_class_names, zero_division=0, digits=4)\n",
    "            print(report)\n",
    "            print('-' * 50)\n",
    "            \n",
    "        # Вычисляем и логируем точность\n",
    "        accuracy = np.sum(all_predicted == all_target) / len(all_target)\n",
    "        self.writer.add_scalar(f'Accuracy/{part}', accuracy, len(self.history[\"epoch\"]) - 1)\n",
    "\n",
    "    def save_model(self, model, path='models/'):\n",
    "        # Генерируем уникальный идентификатор\n",
    "        unique_id = str(uuid.uuid4())  # Генерация уникального ID\n",
    "        model_name = f\"cifar100_{unique_id}.onnx\"  # Формируем название модели\n",
    "        \n",
    "        # Создаем полный путь для сохранения модели\n",
    "        filepath = os.path.join(path, model_name)  # Корректное соединение пути и имени файла\n",
    "        \n",
    "        # Убедимся, что директория для сохранения существует\n",
    "        os.makedirs(path, exist_ok=True)  # Создаем директорию, если она не существует\n",
    "\n",
    "        # Входной тензор для модели (с учетом правильного порядка: (N, H, W, C))\n",
    "        dummy_input = torch.randn(1, 32, 32, 3, requires_grad=True).to(self.device)  # (N, H, W, C)\n",
    "    \n",
    "        # Экспорт модели\n",
    "        torch.onnx.export(\n",
    "            model,               # модель\n",
    "            dummy_input,         # входной тензор\n",
    "            filepath,            # куда сохранить\n",
    "            export_params=True,  # сохраняет веса обученных параметров внутри файла модели\n",
    "            opset_version=9,    # версия ONNX\n",
    "            do_constant_folding=True,  # следует ли выполнять укорачивание констант для оптимизации\n",
    "            input_names=['input'],    # имя входного слоя\n",
    "            output_names=['output'],   # имя выходного слоя\n",
    "            dynamic_axes={'input': {0: 'batch_size'},    # динамичные оси\n",
    "                          'output': {0: 'batch_size'}}\n",
    "        )\n",
    "        \n",
    "        # Вывод информации о сохраненной модели\n",
    "        print(f\"Model saved as: {model_name}\")\n",
    "        print(f\"Model UUID: {unique_id}\")\n",
    "\n",
    "    def check_device(self):\n",
    "        \"\"\"Проверяет доступность CUDA и возвращает устройство.\"\"\"\n",
    "        if torch.cuda.is_available():\n",
    "            device = 'cuda'\n",
    "        else:\n",
    "            device = 'cpu'\n",
    "        print(f'Используемое устройство: {device}')\n",
    "        return device\n",
    "\n",
    "    def plot_training_history(self):\n",
    "        fig, axs = plt.subplots(1, 2, figsize=(14, 6))\n",
    "    \n",
    "        # Преобразуем список эпох для оси X\n",
    "        epochs = self.history[\"epoch\"]\n",
    "    \n",
    "        # Первый график: Полная история\n",
    "        axs[0].plot(epochs, self.history[\"loss\"], marker='o', linestyle='-', color='b', markersize=5, label='Loss')\n",
    "        axs[0].set_xlabel('Epoch')\n",
    "        axs[0].set_ylabel('Average Loss')\n",
    "        axs[0].set_title('Loss Function (Full History)')\n",
    "        axs[0].grid(True)\n",
    "        axs[0].legend()\n",
    "    \n",
    "        # Второй график: Половина истории\n",
    "        mid_index = len(epochs) // 2\n",
    "        axs[1].plot(epochs[mid_index:], self.history[\"loss\"][mid_index:], marker='o', linestyle='-', color='b', markersize=5, label='Loss')\n",
    "        axs[1].set_xlabel('Epoch')\n",
    "        axs[1].set_ylabel('Average Loss')\n",
    "        axs[1].set_title('Loss Function (Second Half of Training)')\n",
    "        axs[1].grid(True)\n",
    "        axs[1].legend()\n",
    "    \n",
    "        plt.tight_layout()\n",
    "        plt.show()"
   ]
  },
  {
   "cell_type": "markdown",
   "id": "93277a0e-a162-4bac-9f03-8cf6122ba83c",
   "metadata": {},
   "source": [
    "### Нормализация"
   ]
  },
  {
   "cell_type": "code",
   "execution_count": 5,
   "id": "a1283cf7-f3d8-4ea8-ac8d-a7eb3be185a9",
   "metadata": {},
   "outputs": [],
   "source": [
    "class Normalize(nn.Module):\n",
    "    def __init__(self, mean, std):\n",
    "        super(Normalize, self).__init__()\n",
    "        self.mean = torch.tensor(mean)\n",
    "        self.std = torch.tensor(std)\n",
    "\n",
    "    def forward(self, input):\n",
    "        device = input.device  # Получаем устройство данных\n",
    "        self.mean = self.mean.to(device)  # Переносим тензоры на это устройство\n",
    "        self.std = self.std.to(device)\n",
    "        \n",
    "        x = input / 255.0\n",
    "        x = x - self.mean\n",
    "        x = x / self.std\n",
    "        return torch.flatten(x, start_dim=1) # nhwc -> nm"
   ]
  },
  {
   "cell_type": "markdown",
   "id": "a0094302-f746-4477-b8f5-7a596ef8002e",
   "metadata": {},
   "source": [
    "### Архитектура модели"
   ]
  },
  {
   "cell_type": "code",
   "execution_count": 6,
   "id": "64f25c85-e080-4c94-bec1-e573cae39582",
   "metadata": {},
   "outputs": [],
   "source": [
    "class CIFAR100Model(nn.Module):\n",
    "    def __init__(self, hidden_layers=[64, 128, 64], dropout_prob=0.5, num_classes=100):\n",
    "        super(CIFAR100Model, self).__init__()\n",
    "        self.norm = Normalize([0.5074, 0.4867, 0.4411], [0.2011, 0.1987, 0.2025])\n",
    "        \n",
    "        # Определяем входной размер (например, CIFAR100 имеет изображения размером 32x32x3)\n",
    "        input_size = 32 * 32 * 3\n",
    "\n",
    "        # Динамически создаем слои на основе переданного списка hidden_layers\n",
    "        layers = []\n",
    "        in_features = input_size\n",
    "        for i, hidden_size in enumerate(hidden_layers):\n",
    "            layers.append(nn.Linear(in_features, hidden_size))\n",
    "            layers.append(nn.ReLU())  # Активационная функция\n",
    "            layers.append(nn.Dropout(p=dropout_prob))  # Dropout\n",
    "            in_features = hidden_size\n",
    "\n",
    "        # Добавляем последний слой для классификации\n",
    "        layers.append(nn.Linear(in_features, num_classes))\n",
    "\n",
    "        # Создаем последовательность слоев\n",
    "        self.seq = nn.Sequential(*layers)\n",
    "\n",
    "    def forward(self, input):\n",
    "        x = self.norm(input)\n",
    "        return self.seq(x)"
   ]
  },
  {
   "cell_type": "markdown",
   "id": "de928867-688f-4f98-964f-f904ea3882df",
   "metadata": {},
   "source": [
    "## Установки параметров"
   ]
  },
  {
   "cell_type": "markdown",
   "id": "cef97b05-b65c-42bc-bf22-b97982273a87",
   "metadata": {},
   "source": [
    "### По варианту"
   ]
  },
  {
   "cell_type": "code",
   "execution_count": 7,
   "id": "d2c431b2-007b-42b2-b896-4db1e5d3ba92",
   "metadata": {},
   "outputs": [],
   "source": [
    "CLASSES = [94, 21, 51]"
   ]
  },
  {
   "cell_type": "markdown",
   "id": "a55a3a69-9b18-42ad-95ee-cb62de7ddb97",
   "metadata": {},
   "source": [
    "## Машинное обучение "
   ]
  },
  {
   "cell_type": "markdown",
   "id": "fe4325f0-a007-4c36-a138-4adb8d6db694",
   "metadata": {},
   "source": [
    "### Эксперимент №1"
   ]
  },
  {
   "cell_type": "markdown",
   "id": "f1fe2cdc-e92f-4a75-a8d3-8d106e91321e",
   "metadata": {},
   "source": [
    "#### Гиперпараметры"
   ]
  },
  {
   "cell_type": "code",
   "execution_count": 8,
   "id": "4a69eab0-9cee-4868-a998-f8dbb3f2c9d7",
   "metadata": {},
   "outputs": [],
   "source": [
    "batch_size=2**5\n",
    "epochs=100\n",
    "criterion=nn.NLLLoss()\n",
    "lr_rate = 1e-4\n",
    "hidden_layers=[2**4, 2**6, 2**4]"
   ]
  },
  {
   "cell_type": "markdown",
   "id": "8f4a8f54-0c8d-4063-9318-8ed3bd43bf51",
   "metadata": {},
   "source": [
    "#### Инициализация модели"
   ]
  },
  {
   "cell_type": "code",
   "execution_count": 9,
   "id": "5b9ca30d-ea0b-4f34-a035-92ca4123c172",
   "metadata": {},
   "outputs": [
    {
     "name": "stdout",
     "output_type": "stream",
     "text": [
      "Используемое устройство: cuda\n",
      "CPU times: user 341 ms, sys: 422 ms, total: 763 ms\n",
      "Wall time: 662 ms\n"
     ]
    }
   ],
   "source": [
    "%%time\n",
    "trainer1 = CIFAR100Trainer(CLASSES, batch_size, lr_rate, criterion, experiment_name='cifar100_001')"
   ]
  },
  {
   "cell_type": "code",
   "execution_count": 10,
   "id": "a7946c00-b9d0-40d6-ac05-aebcc4427e18",
   "metadata": {},
   "outputs": [
    {
     "name": "stdout",
     "output_type": "stream",
     "text": [
      "CPU times: user 34.8 ms, sys: 1.94 ms, total: 36.7 ms\n",
      "Wall time: 4.91 ms\n"
     ]
    }
   ],
   "source": [
    "%%time\n",
    "cifar100_001 = CIFAR100Model(\n",
    "    hidden_layers=hidden_layers, \n",
    "    dropout_prob=0.5, \n",
    "    num_classes=CLASSES.__len__()\n",
    ")"
   ]
  },
  {
   "cell_type": "code",
   "execution_count": 11,
   "id": "a8002f69-6402-47f2-a38e-48e47e262f40",
   "metadata": {},
   "outputs": [],
   "source": [
    "# Инициализация SummaryWriter\n",
    "writer = SummaryWriter(log_dir=f'logs/cifar100_001')\n",
    "\n",
    "# Визуализация графа\n",
    "dummy_input = torch.randn(1, 32, 32, CLASSES.__len__())  # Размер входа для CIFAR100\n",
    "writer.add_graph(cifar100_001, dummy_input)\n",
    "\n",
    "# Закройте SummaryWriter\n",
    "writer.close()"
   ]
  },
  {
   "cell_type": "markdown",
   "id": "ef8a828b-3a25-4b05-8641-285697c77915",
   "metadata": {},
   "source": [
    "#### Информация о модели"
   ]
  },
  {
   "cell_type": "code",
   "execution_count": 12,
   "id": "910c41df-9b9b-4e51-a02e-b7ff602651bf",
   "metadata": {},
   "outputs": [
    {
     "data": {
      "text/plain": [
       "CIFAR100Model(\n",
       "  (norm): Normalize()\n",
       "  (seq): Sequential(\n",
       "    (0): Linear(in_features=3072, out_features=16, bias=True)\n",
       "    (1): ReLU()\n",
       "    (2): Dropout(p=0.5, inplace=False)\n",
       "    (3): Linear(in_features=16, out_features=64, bias=True)\n",
       "    (4): ReLU()\n",
       "    (5): Dropout(p=0.5, inplace=False)\n",
       "    (6): Linear(in_features=64, out_features=16, bias=True)\n",
       "    (7): ReLU()\n",
       "    (8): Dropout(p=0.5, inplace=False)\n",
       "    (9): Linear(in_features=16, out_features=3, bias=True)\n",
       "  )\n",
       ")"
      ]
     },
     "execution_count": 12,
     "metadata": {},
     "output_type": "execute_result"
    }
   ],
   "source": [
    "cifar100_001"
   ]
  },
  {
   "cell_type": "markdown",
   "id": "37ff7723-7cef-4b15-ae9e-6603355c62e6",
   "metadata": {},
   "source": [
    "#### Обучение"
   ]
  },
  {
   "cell_type": "code",
   "execution_count": 13,
   "id": "03ec918e-4ac5-48bb-8d71-9b410366709e",
   "metadata": {
    "scrolled": true
   },
   "outputs": [
    {
     "name": "stderr",
     "output_type": "stream",
     "text": [
      "Epoch 1/100: 100%|██████████████████████████████████| 47/47 [00:00<00:00, 84.92batch/s, loss=1.009337]\n"
     ]
    },
    {
     "name": "stdout",
     "output_type": "stream",
     "text": [
      "Epoch: 1/100, Loss: 1.102194\n"
     ]
    },
    {
     "name": "stderr",
     "output_type": "stream",
     "text": [
      "Epoch 2/100: 100%|█████████████████████████████████| 47/47 [00:00<00:00, 245.97batch/s, loss=1.068110]\n"
     ]
    },
    {
     "name": "stdout",
     "output_type": "stream",
     "text": [
      "Epoch: 2/100, Loss: 1.084074\n"
     ]
    },
    {
     "name": "stderr",
     "output_type": "stream",
     "text": [
      "Epoch 3/100: 100%|█████████████████████████████████| 47/47 [00:00<00:00, 273.02batch/s, loss=0.993273]\n"
     ]
    },
    {
     "name": "stdout",
     "output_type": "stream",
     "text": [
      "Epoch: 3/100, Loss: 1.070725\n"
     ]
    },
    {
     "name": "stderr",
     "output_type": "stream",
     "text": [
      "Epoch 4/100: 100%|█████████████████████████████████| 47/47 [00:00<00:00, 262.40batch/s, loss=0.968346]\n"
     ]
    },
    {
     "name": "stdout",
     "output_type": "stream",
     "text": [
      "Epoch: 4/100, Loss: 1.050037\n"
     ]
    },
    {
     "name": "stderr",
     "output_type": "stream",
     "text": [
      "Epoch 5/100: 100%|█████████████████████████████████| 47/47 [00:00<00:00, 239.20batch/s, loss=1.040593]\n"
     ]
    },
    {
     "name": "stdout",
     "output_type": "stream",
     "text": [
      "Epoch: 5/100, Loss: 1.039467\n"
     ]
    },
    {
     "name": "stderr",
     "output_type": "stream",
     "text": [
      "Epoch 6/100: 100%|█████████████████████████████████| 47/47 [00:00<00:00, 297.49batch/s, loss=0.960184]\n"
     ]
    },
    {
     "name": "stdout",
     "output_type": "stream",
     "text": [
      "Epoch: 6/100, Loss: 1.029887\n"
     ]
    },
    {
     "name": "stderr",
     "output_type": "stream",
     "text": [
      "Epoch 7/100: 100%|█████████████████████████████████| 47/47 [00:00<00:00, 287.80batch/s, loss=0.986048]\n"
     ]
    },
    {
     "name": "stdout",
     "output_type": "stream",
     "text": [
      "Epoch: 7/100, Loss: 1.029018\n"
     ]
    },
    {
     "name": "stderr",
     "output_type": "stream",
     "text": [
      "Epoch 8/100: 100%|█████████████████████████████████| 47/47 [00:00<00:00, 273.49batch/s, loss=1.032542]\n"
     ]
    },
    {
     "name": "stdout",
     "output_type": "stream",
     "text": [
      "Epoch: 8/100, Loss: 0.995668\n"
     ]
    },
    {
     "name": "stderr",
     "output_type": "stream",
     "text": [
      "Epoch 9/100: 100%|█████████████████████████████████| 47/47 [00:00<00:00, 262.83batch/s, loss=0.944557]\n"
     ]
    },
    {
     "name": "stdout",
     "output_type": "stream",
     "text": [
      "Epoch: 9/100, Loss: 0.985212\n"
     ]
    },
    {
     "name": "stderr",
     "output_type": "stream",
     "text": [
      "Epoch 10/100: 100%|████████████████████████████████| 47/47 [00:00<00:00, 266.57batch/s, loss=0.980422]\n"
     ]
    },
    {
     "name": "stdout",
     "output_type": "stream",
     "text": [
      "Epoch: 10/100, Loss: 0.983145\n"
     ]
    },
    {
     "name": "stderr",
     "output_type": "stream",
     "text": [
      "Epoch 11/100: 100%|████████████████████████████████| 47/47 [00:00<00:00, 252.70batch/s, loss=0.936840]\n"
     ]
    },
    {
     "name": "stdout",
     "output_type": "stream",
     "text": [
      "Epoch: 11/100, Loss: 0.965110\n"
     ]
    },
    {
     "name": "stderr",
     "output_type": "stream",
     "text": [
      "Epoch 12/100: 100%|████████████████████████████████| 47/47 [00:00<00:00, 269.56batch/s, loss=0.918768]\n"
     ]
    },
    {
     "name": "stdout",
     "output_type": "stream",
     "text": [
      "Epoch: 12/100, Loss: 0.938417\n"
     ]
    },
    {
     "name": "stderr",
     "output_type": "stream",
     "text": [
      "Epoch 13/100: 100%|████████████████████████████████| 47/47 [00:00<00:00, 246.84batch/s, loss=0.849417]\n"
     ]
    },
    {
     "name": "stdout",
     "output_type": "stream",
     "text": [
      "Epoch: 13/100, Loss: 0.944113\n"
     ]
    },
    {
     "name": "stderr",
     "output_type": "stream",
     "text": [
      "Epoch 14/100: 100%|████████████████████████████████| 47/47 [00:00<00:00, 284.23batch/s, loss=0.990279]\n"
     ]
    },
    {
     "name": "stdout",
     "output_type": "stream",
     "text": [
      "Epoch: 14/100, Loss: 0.928555\n"
     ]
    },
    {
     "name": "stderr",
     "output_type": "stream",
     "text": [
      "Epoch 15/100:  26%|████████▏                       | 12/47 [00:00<00:00, 268.18batch/s, loss=1.041203]\n"
     ]
    },
    {
     "ename": "KeyboardInterrupt",
     "evalue": "",
     "output_type": "error",
     "traceback": [
      "\u001b[0;31m---------------------------------------------------------------------------\u001b[0m",
      "\u001b[0;31mKeyboardInterrupt\u001b[0m                         Traceback (most recent call last)",
      "File \u001b[0;32m<timed eval>:1\u001b[0m\n",
      "Cell \u001b[0;32mIn[4], line 72\u001b[0m, in \u001b[0;36mCIFAR100Trainer.train\u001b[0;34m(self, model, epochs)\u001b[0m\n\u001b[1;32m     70\u001b[0m loss \u001b[38;5;241m=\u001b[39m criterion(output, target)\n\u001b[1;32m     71\u001b[0m loss\u001b[38;5;241m.\u001b[39mbackward()\n\u001b[0;32m---> 72\u001b[0m optimizer\u001b[38;5;241m.\u001b[39mstep()\n\u001b[1;32m     74\u001b[0m running_loss \u001b[38;5;241m+\u001b[39m\u001b[38;5;241m=\u001b[39m loss\u001b[38;5;241m.\u001b[39mitem()\n\u001b[1;32m     75\u001b[0m progress_bar\u001b[38;5;241m.\u001b[39mset_postfix(loss\u001b[38;5;241m=\u001b[39m\u001b[38;5;124mf\u001b[39m\u001b[38;5;124m\"\u001b[39m\u001b[38;5;132;01m{\u001b[39;00mloss\u001b[38;5;132;01m:\u001b[39;00m\u001b[38;5;124m.6f\u001b[39m\u001b[38;5;132;01m}\u001b[39;00m\u001b[38;5;124m\"\u001b[39m)\n",
      "File \u001b[0;32m~/.local/lib/python3.11/site-packages/torch/optim/optimizer.py:391\u001b[0m, in \u001b[0;36mOptimizer.profile_hook_step.<locals>.wrapper\u001b[0;34m(*args, **kwargs)\u001b[0m\n\u001b[1;32m    386\u001b[0m         \u001b[38;5;28;01melse\u001b[39;00m:\n\u001b[1;32m    387\u001b[0m             \u001b[38;5;28;01mraise\u001b[39;00m \u001b[38;5;167;01mRuntimeError\u001b[39;00m(\n\u001b[1;32m    388\u001b[0m                 \u001b[38;5;124mf\u001b[39m\u001b[38;5;124m\"\u001b[39m\u001b[38;5;132;01m{\u001b[39;00mfunc\u001b[38;5;132;01m}\u001b[39;00m\u001b[38;5;124m must return None or a tuple of (new_args, new_kwargs), but got \u001b[39m\u001b[38;5;132;01m{\u001b[39;00mresult\u001b[38;5;132;01m}\u001b[39;00m\u001b[38;5;124m.\u001b[39m\u001b[38;5;124m\"\u001b[39m\n\u001b[1;32m    389\u001b[0m             )\n\u001b[0;32m--> 391\u001b[0m out \u001b[38;5;241m=\u001b[39m func(\u001b[38;5;241m*\u001b[39margs, \u001b[38;5;241m*\u001b[39m\u001b[38;5;241m*\u001b[39mkwargs)\n\u001b[1;32m    392\u001b[0m \u001b[38;5;28mself\u001b[39m\u001b[38;5;241m.\u001b[39m_optimizer_step_code()\n\u001b[1;32m    394\u001b[0m \u001b[38;5;66;03m# call optimizer step post hooks\u001b[39;00m\n",
      "File \u001b[0;32m~/.local/lib/python3.11/site-packages/torch/optim/optimizer.py:76\u001b[0m, in \u001b[0;36m_use_grad_for_differentiable.<locals>._use_grad\u001b[0;34m(self, *args, **kwargs)\u001b[0m\n\u001b[1;32m     74\u001b[0m     torch\u001b[38;5;241m.\u001b[39mset_grad_enabled(\u001b[38;5;28mself\u001b[39m\u001b[38;5;241m.\u001b[39mdefaults[\u001b[38;5;124m'\u001b[39m\u001b[38;5;124mdifferentiable\u001b[39m\u001b[38;5;124m'\u001b[39m])\n\u001b[1;32m     75\u001b[0m     torch\u001b[38;5;241m.\u001b[39m_dynamo\u001b[38;5;241m.\u001b[39mgraph_break()\n\u001b[0;32m---> 76\u001b[0m     ret \u001b[38;5;241m=\u001b[39m func(\u001b[38;5;28mself\u001b[39m, \u001b[38;5;241m*\u001b[39margs, \u001b[38;5;241m*\u001b[39m\u001b[38;5;241m*\u001b[39mkwargs)\n\u001b[1;32m     77\u001b[0m \u001b[38;5;28;01mfinally\u001b[39;00m:\n\u001b[1;32m     78\u001b[0m     torch\u001b[38;5;241m.\u001b[39m_dynamo\u001b[38;5;241m.\u001b[39mgraph_break()\n",
      "File \u001b[0;32m~/.local/lib/python3.11/site-packages/torch/optim/adam.py:168\u001b[0m, in \u001b[0;36mAdam.step\u001b[0;34m(self, closure)\u001b[0m\n\u001b[1;32m    157\u001b[0m     beta1, beta2 \u001b[38;5;241m=\u001b[39m group[\u001b[38;5;124m'\u001b[39m\u001b[38;5;124mbetas\u001b[39m\u001b[38;5;124m'\u001b[39m]\n\u001b[1;32m    159\u001b[0m     has_complex \u001b[38;5;241m=\u001b[39m \u001b[38;5;28mself\u001b[39m\u001b[38;5;241m.\u001b[39m_init_group(\n\u001b[1;32m    160\u001b[0m         group,\n\u001b[1;32m    161\u001b[0m         params_with_grad,\n\u001b[0;32m   (...)\u001b[0m\n\u001b[1;32m    165\u001b[0m         max_exp_avg_sqs,\n\u001b[1;32m    166\u001b[0m         state_steps)\n\u001b[0;32m--> 168\u001b[0m     adam(\n\u001b[1;32m    169\u001b[0m         params_with_grad,\n\u001b[1;32m    170\u001b[0m         grads,\n\u001b[1;32m    171\u001b[0m         exp_avgs,\n\u001b[1;32m    172\u001b[0m         exp_avg_sqs,\n\u001b[1;32m    173\u001b[0m         max_exp_avg_sqs,\n\u001b[1;32m    174\u001b[0m         state_steps,\n\u001b[1;32m    175\u001b[0m         amsgrad\u001b[38;5;241m=\u001b[39mgroup[\u001b[38;5;124m'\u001b[39m\u001b[38;5;124mamsgrad\u001b[39m\u001b[38;5;124m'\u001b[39m],\n\u001b[1;32m    176\u001b[0m         has_complex\u001b[38;5;241m=\u001b[39mhas_complex,\n\u001b[1;32m    177\u001b[0m         beta1\u001b[38;5;241m=\u001b[39mbeta1,\n\u001b[1;32m    178\u001b[0m         beta2\u001b[38;5;241m=\u001b[39mbeta2,\n\u001b[1;32m    179\u001b[0m         lr\u001b[38;5;241m=\u001b[39mgroup[\u001b[38;5;124m'\u001b[39m\u001b[38;5;124mlr\u001b[39m\u001b[38;5;124m'\u001b[39m],\n\u001b[1;32m    180\u001b[0m         weight_decay\u001b[38;5;241m=\u001b[39mgroup[\u001b[38;5;124m'\u001b[39m\u001b[38;5;124mweight_decay\u001b[39m\u001b[38;5;124m'\u001b[39m],\n\u001b[1;32m    181\u001b[0m         eps\u001b[38;5;241m=\u001b[39mgroup[\u001b[38;5;124m'\u001b[39m\u001b[38;5;124meps\u001b[39m\u001b[38;5;124m'\u001b[39m],\n\u001b[1;32m    182\u001b[0m         maximize\u001b[38;5;241m=\u001b[39mgroup[\u001b[38;5;124m'\u001b[39m\u001b[38;5;124mmaximize\u001b[39m\u001b[38;5;124m'\u001b[39m],\n\u001b[1;32m    183\u001b[0m         foreach\u001b[38;5;241m=\u001b[39mgroup[\u001b[38;5;124m'\u001b[39m\u001b[38;5;124mforeach\u001b[39m\u001b[38;5;124m'\u001b[39m],\n\u001b[1;32m    184\u001b[0m         capturable\u001b[38;5;241m=\u001b[39mgroup[\u001b[38;5;124m'\u001b[39m\u001b[38;5;124mcapturable\u001b[39m\u001b[38;5;124m'\u001b[39m],\n\u001b[1;32m    185\u001b[0m         differentiable\u001b[38;5;241m=\u001b[39mgroup[\u001b[38;5;124m'\u001b[39m\u001b[38;5;124mdifferentiable\u001b[39m\u001b[38;5;124m'\u001b[39m],\n\u001b[1;32m    186\u001b[0m         fused\u001b[38;5;241m=\u001b[39mgroup[\u001b[38;5;124m'\u001b[39m\u001b[38;5;124mfused\u001b[39m\u001b[38;5;124m'\u001b[39m],\n\u001b[1;32m    187\u001b[0m         grad_scale\u001b[38;5;241m=\u001b[39m\u001b[38;5;28mgetattr\u001b[39m(\u001b[38;5;28mself\u001b[39m, \u001b[38;5;124m\"\u001b[39m\u001b[38;5;124mgrad_scale\u001b[39m\u001b[38;5;124m\"\u001b[39m, \u001b[38;5;28;01mNone\u001b[39;00m),\n\u001b[1;32m    188\u001b[0m         found_inf\u001b[38;5;241m=\u001b[39m\u001b[38;5;28mgetattr\u001b[39m(\u001b[38;5;28mself\u001b[39m, \u001b[38;5;124m\"\u001b[39m\u001b[38;5;124mfound_inf\u001b[39m\u001b[38;5;124m\"\u001b[39m, \u001b[38;5;28;01mNone\u001b[39;00m),\n\u001b[1;32m    189\u001b[0m     )\n\u001b[1;32m    191\u001b[0m \u001b[38;5;28;01mreturn\u001b[39;00m loss\n",
      "File \u001b[0;32m~/.local/lib/python3.11/site-packages/torch/optim/adam.py:318\u001b[0m, in \u001b[0;36madam\u001b[0;34m(params, grads, exp_avgs, exp_avg_sqs, max_exp_avg_sqs, state_steps, foreach, capturable, differentiable, fused, grad_scale, found_inf, has_complex, amsgrad, beta1, beta2, lr, weight_decay, eps, maximize)\u001b[0m\n\u001b[1;32m    315\u001b[0m \u001b[38;5;28;01melse\u001b[39;00m:\n\u001b[1;32m    316\u001b[0m     func \u001b[38;5;241m=\u001b[39m _single_tensor_adam\n\u001b[0;32m--> 318\u001b[0m func(params,\n\u001b[1;32m    319\u001b[0m      grads,\n\u001b[1;32m    320\u001b[0m      exp_avgs,\n\u001b[1;32m    321\u001b[0m      exp_avg_sqs,\n\u001b[1;32m    322\u001b[0m      max_exp_avg_sqs,\n\u001b[1;32m    323\u001b[0m      state_steps,\n\u001b[1;32m    324\u001b[0m      amsgrad\u001b[38;5;241m=\u001b[39mamsgrad,\n\u001b[1;32m    325\u001b[0m      has_complex\u001b[38;5;241m=\u001b[39mhas_complex,\n\u001b[1;32m    326\u001b[0m      beta1\u001b[38;5;241m=\u001b[39mbeta1,\n\u001b[1;32m    327\u001b[0m      beta2\u001b[38;5;241m=\u001b[39mbeta2,\n\u001b[1;32m    328\u001b[0m      lr\u001b[38;5;241m=\u001b[39mlr,\n\u001b[1;32m    329\u001b[0m      weight_decay\u001b[38;5;241m=\u001b[39mweight_decay,\n\u001b[1;32m    330\u001b[0m      eps\u001b[38;5;241m=\u001b[39meps,\n\u001b[1;32m    331\u001b[0m      maximize\u001b[38;5;241m=\u001b[39mmaximize,\n\u001b[1;32m    332\u001b[0m      capturable\u001b[38;5;241m=\u001b[39mcapturable,\n\u001b[1;32m    333\u001b[0m      differentiable\u001b[38;5;241m=\u001b[39mdifferentiable,\n\u001b[1;32m    334\u001b[0m      grad_scale\u001b[38;5;241m=\u001b[39mgrad_scale,\n\u001b[1;32m    335\u001b[0m      found_inf\u001b[38;5;241m=\u001b[39mfound_inf)\n",
      "File \u001b[0;32m~/.local/lib/python3.11/site-packages/torch/optim/adam.py:510\u001b[0m, in \u001b[0;36m_multi_tensor_adam\u001b[0;34m(params, grads, exp_avgs, exp_avg_sqs, max_exp_avg_sqs, state_steps, grad_scale, found_inf, amsgrad, has_complex, beta1, beta2, lr, weight_decay, eps, maximize, capturable, differentiable)\u001b[0m\n\u001b[1;32m    505\u001b[0m \u001b[38;5;66;03m# Update steps\u001b[39;00m\n\u001b[1;32m    506\u001b[0m \u001b[38;5;66;03m# If steps are on CPU, foreach will fall back to the slow path, which is a for-loop calling t.add(1) over\u001b[39;00m\n\u001b[1;32m    507\u001b[0m \u001b[38;5;66;03m# and over. 1 will then be wrapped into a Tensor over and over again, which is slower than if we just\u001b[39;00m\n\u001b[1;32m    508\u001b[0m \u001b[38;5;66;03m# wrapped it once now. The alpha is required to assure we go to the right overload.\u001b[39;00m\n\u001b[1;32m    509\u001b[0m \u001b[38;5;28;01mif\u001b[39;00m device_state_steps[\u001b[38;5;241m0\u001b[39m]\u001b[38;5;241m.\u001b[39mis_cpu:\n\u001b[0;32m--> 510\u001b[0m     torch\u001b[38;5;241m.\u001b[39m_foreach_add_(device_state_steps, torch\u001b[38;5;241m.\u001b[39mtensor(\u001b[38;5;241m1.0\u001b[39m, device\u001b[38;5;241m=\u001b[39m\u001b[38;5;124m'\u001b[39m\u001b[38;5;124mcpu\u001b[39m\u001b[38;5;124m'\u001b[39m), alpha\u001b[38;5;241m=\u001b[39m\u001b[38;5;241m1.0\u001b[39m)\n\u001b[1;32m    511\u001b[0m \u001b[38;5;28;01melse\u001b[39;00m:\n\u001b[1;32m    512\u001b[0m     torch\u001b[38;5;241m.\u001b[39m_foreach_add_(device_state_steps, \u001b[38;5;241m1\u001b[39m)\n",
      "\u001b[0;31mKeyboardInterrupt\u001b[0m: "
     ]
    }
   ],
   "source": [
    "%%time\n",
    "trainer1.train(cifar100_001, epochs)"
   ]
  },
  {
   "cell_type": "code",
   "execution_count": 14,
   "id": "a4250250-aa26-4ecc-906d-bb36a4f783f7",
   "metadata": {},
   "outputs": [
    {
     "data": {
      "image/png": "[encoded data removed]",
      "text/plain": [
       "<Figure size 1400x600 with 2 Axes>"
      ]
     },
     "metadata": {},
     "output_type": "display_data"
    }
   ],
   "source": [
    "trainer1.plot_training_history()"
   ]
  },
  {
   "cell_type": "markdown",
   "id": "612b267e-dba0-448f-ad80-4165d1d0dd72",
   "metadata": {},
   "source": [
    "#### Оценка"
   ]
  },
  {
   "cell_type": "code",
   "execution_count": 15,
   "id": "737a297e-1081-4cc3-a9ba-a19f8f0243ae",
   "metadata": {},
   "outputs": [
    {
     "name": "stdout",
     "output_type": "stream",
     "text": [
      "Classification report for train dataset:\n",
      "              precision    recall  f1-score   support\n",
      "\n",
      "    wardrobe     0.8571    0.0120    0.0237       500\n",
      "  chimpanzee     0.7043    0.8240    0.7594       500\n",
      "    mushroom     0.4879    0.8860    0.6293       500\n",
      "\n",
      "    accuracy                         0.5740      1500\n",
      "   macro avg     0.6831    0.5740    0.4708      1500\n",
      "weighted avg     0.6831    0.5740    0.4708      1500\n",
      "\n",
      "--------------------------------------------------\n",
      "Classification report for test dataset:\n",
      "              precision    recall  f1-score   support\n",
      "\n",
      "    wardrobe     1.0000    0.0100    0.0198       100\n",
      "  chimpanzee     0.7048    0.7400    0.7220       100\n",
      "    mushroom     0.4278    0.8300    0.5646       100\n",
      "\n",
      "    accuracy                         0.5267       300\n",
      "   macro avg     0.7109    0.5267    0.4355       300\n",
      "weighted avg     0.7109    0.5267    0.4355       300\n",
      "\n",
      "--------------------------------------------------\n"
     ]
    }
   ],
   "source": [
    "trainer1.evaluate(cifar100_001)"
   ]
  },
  {
   "cell_type": "markdown",
   "id": "a4cd8de3-a9a1-4fa9-9e17-1ee0acff8534",
   "metadata": {},
   "source": [
    "#### Сохранение модели в ONNX"
   ]
  },
  {
   "cell_type": "code",
   "execution_count": 16,
   "id": "7b6427f4-6b4a-4e09-8bdf-2f42d4ece424",
   "metadata": {},
   "outputs": [
    {
     "name": "stdout",
     "output_type": "stream",
     "text": [
      "Model saved as: cifar100_4ba6bedd-375d-4176-80a7-6f6ff28287b4.onnx\n",
      "Model UUID: 4ba6bedd-375d-4176-80a7-6f6ff28287b4\n"
     ]
    }
   ],
   "source": [
    "trainer1.save_model(cifar100_001)"
   ]
  },
  {
   "cell_type": "markdown",
   "id": "ffbf016b-8595-4047-a1d9-d856b218978a",
   "metadata": {},
   "source": [
    "### Эксперимент №2"
   ]
  },
  {
   "cell_type": "markdown",
   "id": "f86afd07-5a37-4770-8a8e-65bdb2536d0c",
   "metadata": {},
   "source": [
    "#### Гиперпараметры"
   ]
  },
  {
   "cell_type": "code",
   "execution_count": 17,
   "id": "0f4a7a5e-6389-4756-9338-168d55378e08",
   "metadata": {},
   "outputs": [],
   "source": [
    "batch_size=2**5\n",
    "epochs=100\n",
    "criterion=nn.NLLLoss()\n",
    "lr_rate = 1e-4\n",
    "hidden_layers=[2**6, 2**10, 2**12, 2**10, 2**6]"
   ]
  },
  {
   "cell_type": "markdown",
   "id": "20750b6b-f05e-49d1-94e3-fece959ca3e3",
   "metadata": {},
   "source": [
    "#### Инициализация модели"
   ]
  },
  {
   "cell_type": "code",
   "execution_count": 18,
   "id": "81d4d47c-6fbe-49f6-b43c-d91fefedd899",
   "metadata": {},
   "outputs": [
    {
     "name": "stdout",
     "output_type": "stream",
     "text": [
      "Используемое устройство: cuda\n",
      "CPU times: user 155 ms, sys: 291 ms, total: 446 ms\n",
      "Wall time: 332 ms\n"
     ]
    }
   ],
   "source": [
    "%%time\n",
    "trainer2 = CIFAR100Trainer(CLASSES, batch_size, lr_rate, criterion, experiment_name='cifar100_002')"
   ]
  },
  {
   "cell_type": "code",
   "execution_count": 19,
   "id": "7b35af7b-07d2-4fdb-9db1-bde4f3cfcbd1",
   "metadata": {},
   "outputs": [
    {
     "name": "stdout",
     "output_type": "stream",
     "text": [
      "CPU times: user 259 ms, sys: 28.1 ms, total: 287 ms\n",
      "Wall time: 35.6 ms\n"
     ]
    }
   ],
   "source": [
    "%%time\n",
    "cifar100_002 = CIFAR100Model(\n",
    "    hidden_layers=hidden_layers, \n",
    "    dropout_prob=0.5, \n",
    "    num_classes=CLASSES.__len__()\n",
    ")"
   ]
  },
  {
   "cell_type": "code",
   "execution_count": 20,
   "id": "159b62c8-cb46-4b01-9e3c-d635ac8803bc",
   "metadata": {},
   "outputs": [],
   "source": [
    "# Инициализация SummaryWriter\n",
    "writer = SummaryWriter(log_dir=f'logs/cifar100_002')\n",
    "\n",
    "# Визуализация графа\n",
    "dummy_input = torch.randn(1, 32, 32, CLASSES.__len__())  # Размер входа для CIFAR100\n",
    "writer.add_graph(cifar100_002, dummy_input)\n",
    "\n",
    "# Закройте SummaryWriter\n",
    "writer.close()"
   ]
  },
  {
   "cell_type": "markdown",
   "id": "2aa564ab-f35d-49a8-9601-a2c4f9b0222c",
   "metadata": {},
   "source": [
    "#### Информация о модели"
   ]
  },
  {
   "cell_type": "code",
   "execution_count": 21,
   "id": "e14dae34-dca1-4b4c-bff1-39b5dfd18bb1",
   "metadata": {},
   "outputs": [
    {
     "data": {
      "text/plain": [
       "CIFAR100Model(\n",
       "  (norm): Normalize()\n",
       "  (seq): Sequential(\n",
       "    (0): Linear(in_features=3072, out_features=64, bias=True)\n",
       "    (1): ReLU()\n",
       "    (2): Dropout(p=0.5, inplace=False)\n",
       "    (3): Linear(in_features=64, out_features=1024, bias=True)\n",
       "    (4): ReLU()\n",
       "    (5): Dropout(p=0.5, inplace=False)\n",
       "    (6): Linear(in_features=1024, out_features=4096, bias=True)\n",
       "    (7): ReLU()\n",
       "    (8): Dropout(p=0.5, inplace=False)\n",
       "    (9): Linear(in_features=4096, out_features=1024, bias=True)\n",
       "    (10): ReLU()\n",
       "    (11): Dropout(p=0.5, inplace=False)\n",
       "    (12): Linear(in_features=1024, out_features=64, bias=True)\n",
       "    (13): ReLU()\n",
       "    (14): Dropout(p=0.5, inplace=False)\n",
       "    (15): Linear(in_features=64, out_features=3, bias=True)\n",
       "  )\n",
       ")"
      ]
     },
     "execution_count": 21,
     "metadata": {},
     "output_type": "execute_result"
    }
   ],
   "source": [
    "cifar100_002"
   ]
  },
  {
   "cell_type": "markdown",
   "id": "e167af72-f485-4835-bac4-8e0dd5712b2a",
   "metadata": {},
   "source": [
    "#### Обучение"
   ]
  },
  {
   "cell_type": "code",
   "execution_count": null,
   "id": "b7b63532-ed2b-474d-ac76-0d731db3badb",
   "metadata": {
    "scrolled": true
   },
   "outputs": [
    {
     "name": "stderr",
     "output_type": "stream",
     "text": [
      "Epoch 1/100: 100%|█████████████████████████████████| 47/47 [00:00<00:00, 118.37batch/s, loss=0.960726]\n"
     ]
    },
    {
     "name": "stdout",
     "output_type": "stream",
     "text": [
      "Epoch: 1/100, Loss: 1.068427\n"
     ]
    },
    {
     "name": "stderr",
     "output_type": "stream",
     "text": [
      "Epoch 2/100: 100%|█████████████████████████████████| 47/47 [00:00<00:00, 115.84batch/s, loss=0.954295]\n"
     ]
    },
    {
     "name": "stdout",
     "output_type": "stream",
     "text": [
      "Epoch: 2/100, Loss: 0.917233\n"
     ]
    },
    {
     "name": "stderr",
     "output_type": "stream",
     "text": [
      "Epoch 3/100: 100%|█████████████████████████████████| 47/47 [00:00<00:00, 115.49batch/s, loss=0.898004]\n"
     ]
    },
    {
     "name": "stdout",
     "output_type": "stream",
     "text": [
      "Epoch: 3/100, Loss: 0.757754\n"
     ]
    },
    {
     "name": "stderr",
     "output_type": "stream",
     "text": [
      "Epoch 4/100: 100%|█████████████████████████████████| 47/47 [00:00<00:00, 123.15batch/s, loss=0.639511]\n"
     ]
    },
    {
     "name": "stdout",
     "output_type": "stream",
     "text": [
      "Epoch: 4/100, Loss: 0.649585\n"
     ]
    },
    {
     "name": "stderr",
     "output_type": "stream",
     "text": [
      "Epoch 5/100: 100%|█████████████████████████████████| 47/47 [00:00<00:00, 129.55batch/s, loss=0.787246]\n"
     ]
    },
    {
     "name": "stdout",
     "output_type": "stream",
     "text": [
      "Epoch: 5/100, Loss: 0.617161\n"
     ]
    },
    {
     "name": "stderr",
     "output_type": "stream",
     "text": [
      "Epoch 6/100: 100%|█████████████████████████████████| 47/47 [00:00<00:00, 128.84batch/s, loss=0.452130]\n"
     ]
    },
    {
     "name": "stdout",
     "output_type": "stream",
     "text": [
      "Epoch: 6/100, Loss: 0.580543\n"
     ]
    },
    {
     "name": "stderr",
     "output_type": "stream",
     "text": [
      "Epoch 7/100: 100%|█████████████████████████████████| 47/47 [00:00<00:00, 128.96batch/s, loss=0.518670]\n"
     ]
    },
    {
     "name": "stdout",
     "output_type": "stream",
     "text": [
      "Epoch: 7/100, Loss: 0.554965\n"
     ]
    },
    {
     "name": "stderr",
     "output_type": "stream",
     "text": [
      "Epoch 8/100: 100%|█████████████████████████████████| 47/47 [00:00<00:00, 128.47batch/s, loss=0.455523]\n"
     ]
    },
    {
     "name": "stdout",
     "output_type": "stream",
     "text": [
      "Epoch: 8/100, Loss: 0.533648\n"
     ]
    },
    {
     "name": "stderr",
     "output_type": "stream",
     "text": [
      "Epoch 9/100: 100%|█████████████████████████████████| 47/47 [00:00<00:00, 130.22batch/s, loss=0.748699]\n"
     ]
    },
    {
     "name": "stdout",
     "output_type": "stream",
     "text": [
      "Epoch: 9/100, Loss: 0.485975\n"
     ]
    },
    {
     "name": "stderr",
     "output_type": "stream",
     "text": [
      "Epoch 10/100: 100%|████████████████████████████████| 47/47 [00:00<00:00, 134.37batch/s, loss=0.558870]\n"
     ]
    },
    {
     "name": "stdout",
     "output_type": "stream",
     "text": [
      "Epoch: 10/100, Loss: 0.458656\n"
     ]
    },
    {
     "name": "stderr",
     "output_type": "stream",
     "text": [
      "Epoch 11/100: 100%|████████████████████████████████| 47/47 [00:00<00:00, 128.44batch/s, loss=0.534537]\n"
     ]
    },
    {
     "name": "stdout",
     "output_type": "stream",
     "text": [
      "Epoch: 11/100, Loss: 0.442592\n"
     ]
    },
    {
     "name": "stderr",
     "output_type": "stream",
     "text": [
      "Epoch 12/100: 100%|████████████████████████████████| 47/47 [00:00<00:00, 123.62batch/s, loss=0.359091]\n"
     ]
    },
    {
     "name": "stdout",
     "output_type": "stream",
     "text": [
      "Epoch: 12/100, Loss: 0.414746\n"
     ]
    },
    {
     "name": "stderr",
     "output_type": "stream",
     "text": [
      "Epoch 13/100: 100%|████████████████████████████████| 47/47 [00:00<00:00, 124.55batch/s, loss=0.322326]\n"
     ]
    },
    {
     "name": "stdout",
     "output_type": "stream",
     "text": [
      "Epoch: 13/100, Loss: 0.401795\n"
     ]
    },
    {
     "name": "stderr",
     "output_type": "stream",
     "text": [
      "Epoch 14/100: 100%|████████████████████████████████| 47/47 [00:00<00:00, 123.58batch/s, loss=0.273692]\n"
     ]
    },
    {
     "name": "stdout",
     "output_type": "stream",
     "text": [
      "Epoch: 14/100, Loss: 0.390058\n"
     ]
    },
    {
     "name": "stderr",
     "output_type": "stream",
     "text": [
      "Epoch 15/100: 100%|████████████████████████████████| 47/47 [00:00<00:00, 126.52batch/s, loss=0.214145]\n"
     ]
    },
    {
     "name": "stdout",
     "output_type": "stream",
     "text": [
      "Epoch: 15/100, Loss: 0.392222\n"
     ]
    },
    {
     "name": "stderr",
     "output_type": "stream",
     "text": [
      "Epoch 16/100: 100%|████████████████████████████████| 47/47 [00:00<00:00, 131.02batch/s, loss=0.442654]\n"
     ]
    },
    {
     "name": "stdout",
     "output_type": "stream",
     "text": [
      "Epoch: 16/100, Loss: 0.393568\n"
     ]
    },
    {
     "name": "stderr",
     "output_type": "stream",
     "text": [
      "Epoch 17/100: 100%|████████████████████████████████| 47/47 [00:00<00:00, 129.98batch/s, loss=0.739745]\n"
     ]
    },
    {
     "name": "stdout",
     "output_type": "stream",
     "text": [
      "Epoch: 17/100, Loss: 0.334974\n"
     ]
    },
    {
     "name": "stderr",
     "output_type": "stream",
     "text": [
      "Epoch 18/100: 100%|████████████████████████████████| 47/47 [00:00<00:00, 130.34batch/s, loss=0.169384]\n"
     ]
    },
    {
     "name": "stdout",
     "output_type": "stream",
     "text": [
      "Epoch: 18/100, Loss: 0.297927\n"
     ]
    },
    {
     "name": "stderr",
     "output_type": "stream",
     "text": [
      "Epoch 19/100: 100%|████████████████████████████████| 47/47 [00:00<00:00, 128.85batch/s, loss=0.390914]\n"
     ]
    },
    {
     "name": "stdout",
     "output_type": "stream",
     "text": [
      "Epoch: 19/100, Loss: 0.340822\n"
     ]
    },
    {
     "name": "stderr",
     "output_type": "stream",
     "text": [
      "Epoch 20/100: 100%|████████████████████████████████| 47/47 [00:00<00:00, 130.06batch/s, loss=0.566248]\n"
     ]
    },
    {
     "name": "stdout",
     "output_type": "stream",
     "text": [
      "Epoch: 20/100, Loss: 0.316280\n"
     ]
    },
    {
     "name": "stderr",
     "output_type": "stream",
     "text": [
      "Epoch 21/100: 100%|████████████████████████████████| 47/47 [00:00<00:00, 130.39batch/s, loss=0.274076]\n"
     ]
    },
    {
     "name": "stdout",
     "output_type": "stream",
     "text": [
      "Epoch: 21/100, Loss: 0.310273\n"
     ]
    },
    {
     "name": "stderr",
     "output_type": "stream",
     "text": [
      "Epoch 22/100: 100%|████████████████████████████████| 47/47 [00:00<00:00, 129.64batch/s, loss=0.235066]\n"
     ]
    },
    {
     "name": "stdout",
     "output_type": "stream",
     "text": [
      "Epoch: 22/100, Loss: 0.318517\n"
     ]
    },
    {
     "name": "stderr",
     "output_type": "stream",
     "text": [
      "Epoch 23/100: 100%|████████████████████████████████| 47/47 [00:00<00:00, 128.80batch/s, loss=0.255522]\n"
     ]
    },
    {
     "name": "stdout",
     "output_type": "stream",
     "text": [
      "Epoch: 23/100, Loss: 0.296947\n"
     ]
    },
    {
     "name": "stderr",
     "output_type": "stream",
     "text": [
      "Epoch 24/100: 100%|████████████████████████████████| 47/47 [00:00<00:00, 134.55batch/s, loss=0.253626]\n"
     ]
    },
    {
     "name": "stdout",
     "output_type": "stream",
     "text": [
      "Epoch: 24/100, Loss: 0.251981\n"
     ]
    },
    {
     "name": "stderr",
     "output_type": "stream",
     "text": [
      "Epoch 25/100: 100%|████████████████████████████████| 47/47 [00:00<00:00, 122.10batch/s, loss=0.235384]\n"
     ]
    },
    {
     "name": "stdout",
     "output_type": "stream",
     "text": [
      "Epoch: 25/100, Loss: 0.314410\n"
     ]
    },
    {
     "name": "stderr",
     "output_type": "stream",
     "text": [
      "Epoch 26/100: 100%|████████████████████████████████| 47/47 [00:00<00:00, 121.68batch/s, loss=0.263346]\n"
     ]
    },
    {
     "name": "stdout",
     "output_type": "stream",
     "text": [
      "Epoch: 26/100, Loss: 0.294747\n"
     ]
    },
    {
     "name": "stderr",
     "output_type": "stream",
     "text": [
      "Epoch 27/100: 100%|████████████████████████████████| 47/47 [00:00<00:00, 120.87batch/s, loss=0.470055]\n"
     ]
    },
    {
     "name": "stdout",
     "output_type": "stream",
     "text": [
      "Epoch: 27/100, Loss: 0.257276\n"
     ]
    },
    {
     "name": "stderr",
     "output_type": "stream",
     "text": [
      "Epoch 28/100: 100%|████████████████████████████████| 47/47 [00:00<00:00, 122.14batch/s, loss=0.526340]\n"
     ]
    },
    {
     "name": "stdout",
     "output_type": "stream",
     "text": [
      "Epoch: 28/100, Loss: 0.241546\n"
     ]
    },
    {
     "name": "stderr",
     "output_type": "stream",
     "text": [
      "Epoch 29/100: 100%|████████████████████████████████| 47/47 [00:00<00:00, 125.76batch/s, loss=0.315398]\n"
     ]
    },
    {
     "name": "stdout",
     "output_type": "stream",
     "text": [
      "Epoch: 29/100, Loss: 0.231761\n"
     ]
    },
    {
     "name": "stderr",
     "output_type": "stream",
     "text": [
      "Epoch 30/100: 100%|████████████████████████████████| 47/47 [00:00<00:00, 126.36batch/s, loss=0.180746]\n"
     ]
    },
    {
     "name": "stdout",
     "output_type": "stream",
     "text": [
      "Epoch: 30/100, Loss: 0.221481\n"
     ]
    },
    {
     "name": "stderr",
     "output_type": "stream",
     "text": [
      "Epoch 31/100: 100%|████████████████████████████████| 47/47 [00:00<00:00, 129.21batch/s, loss=0.153419]\n"
     ]
    },
    {
     "name": "stdout",
     "output_type": "stream",
     "text": [
      "Epoch: 31/100, Loss: 0.234268\n"
     ]
    },
    {
     "name": "stderr",
     "output_type": "stream",
     "text": [
      "Epoch 32/100: 100%|████████████████████████████████| 47/47 [00:00<00:00, 129.88batch/s, loss=0.348511]\n"
     ]
    },
    {
     "name": "stdout",
     "output_type": "stream",
     "text": [
      "Epoch: 32/100, Loss: 0.210037\n"
     ]
    },
    {
     "name": "stderr",
     "output_type": "stream",
     "text": [
      "Epoch 33/100: 100%|████████████████████████████████| 47/47 [00:00<00:00, 129.98batch/s, loss=0.354091]\n"
     ]
    },
    {
     "name": "stdout",
     "output_type": "stream",
     "text": [
      "Epoch: 33/100, Loss: 0.236710\n"
     ]
    },
    {
     "name": "stderr",
     "output_type": "stream",
     "text": [
      "Epoch 34/100: 100%|████████████████████████████████| 47/47 [00:00<00:00, 124.99batch/s, loss=0.280251]\n"
     ]
    },
    {
     "name": "stdout",
     "output_type": "stream",
     "text": [
      "Epoch: 34/100, Loss: 0.245692\n"
     ]
    },
    {
     "name": "stderr",
     "output_type": "stream",
     "text": [
      "Epoch 35/100: 100%|████████████████████████████████| 47/47 [00:00<00:00, 125.14batch/s, loss=0.108947]\n"
     ]
    },
    {
     "name": "stdout",
     "output_type": "stream",
     "text": [
      "Epoch: 35/100, Loss: 0.223085\n"
     ]
    },
    {
     "name": "stderr",
     "output_type": "stream",
     "text": [
      "Epoch 36/100: 100%|████████████████████████████████| 47/47 [00:00<00:00, 125.22batch/s, loss=0.157692]\n"
     ]
    },
    {
     "name": "stdout",
     "output_type": "stream",
     "text": [
      "Epoch: 36/100, Loss: 0.195014\n"
     ]
    },
    {
     "name": "stderr",
     "output_type": "stream",
     "text": [
      "Epoch 37/100: 100%|████████████████████████████████| 47/47 [00:00<00:00, 133.19batch/s, loss=0.167523]\n"
     ]
    },
    {
     "name": "stdout",
     "output_type": "stream",
     "text": [
      "Epoch: 37/100, Loss: 0.201765\n"
     ]
    },
    {
     "name": "stderr",
     "output_type": "stream",
     "text": [
      "Epoch 38/100: 100%|████████████████████████████████| 47/47 [00:00<00:00, 139.71batch/s, loss=0.047478]\n"
     ]
    },
    {
     "name": "stdout",
     "output_type": "stream",
     "text": [
      "Epoch: 38/100, Loss: 0.223874\n"
     ]
    },
    {
     "name": "stderr",
     "output_type": "stream",
     "text": [
      "Epoch 39/100:   0%|                                          | 0/47 [00:00<?, ?batch/s, loss=0.113247]"
     ]
    }
   ],
   "source": [
    "%%time\n",
    "trainer2.train(cifar100_002, epochs)"
   ]
  },
  {
   "cell_type": "code",
   "execution_count": null,
   "id": "c991b2ee-34db-4d94-b36d-b347330b3db8",
   "metadata": {},
   "outputs": [],
   "source": [
    "trainer2.plot_training_history()"
   ]
  },
  {
   "cell_type": "markdown",
   "id": "11e97ee8-752b-41a7-9091-abfc0f865d97",
   "metadata": {},
   "source": [
    "#### Оценка"
   ]
  },
  {
   "cell_type": "code",
   "execution_count": null,
   "id": "7f156388-f496-4886-ad85-0da3a33170bd",
   "metadata": {},
   "outputs": [],
   "source": [
    "trainer2.evaluate(cifar100_002)"
   ]
  },
  {
   "cell_type": "markdown",
   "id": "68912d97-e614-4c2b-9ba4-a0f6552aa83a",
   "metadata": {},
   "source": [
    "#### Сохранение модели в ONNX"
   ]
  },
  {
   "cell_type": "code",
   "execution_count": null,
   "id": "243ec1c1-ed77-4ec1-bcf9-9db38cb4951b",
   "metadata": {},
   "outputs": [],
   "source": [
    "trainer2.save_model(cifar100_002)"
   ]
  },
  {
   "cell_type": "markdown",
   "id": "4477bf4f-f49a-404d-a04d-6cea692c43f4",
   "metadata": {},
   "source": [
    "### Эксперимент №3"
   ]
  },
  {
   "cell_type": "markdown",
   "id": "7d998c74-abea-4975-9644-972174e75392",
   "metadata": {},
   "source": [
    "#### Гиперпараметры"
   ]
  },
  {
   "cell_type": "code",
   "execution_count": null,
   "id": "3fc5bf5e-752f-44c7-a30e-947e7d64b1c8",
   "metadata": {},
   "outputs": [],
   "source": [
    "batch_size=2**5\n",
    "epochs=100\n",
    "criterion=nn.CrossEntropyLoss()\n",
    "lr_rate = 1e-4\n",
    "hidden_layers=[2**6, 2**10, 2**12, 2**10, 2**6]"
   ]
  },
  {
   "cell_type": "markdown",
   "id": "dab0d67b-ef92-48eb-8233-7621ac0779d9",
   "metadata": {},
   "source": [
    "#### Инициализация модели"
   ]
  },
  {
   "cell_type": "code",
   "execution_count": null,
   "id": "72d97e29-8028-4511-9f9b-e295c15d3f25",
   "metadata": {},
   "outputs": [],
   "source": [
    "%%time\n",
    "trainer3 = CIFAR100Trainer(CLASSES, batch_size, lr_rate, criterion, experiment_name='cifar100_003')"
   ]
  },
  {
   "cell_type": "code",
   "execution_count": null,
   "id": "c7645caf-0840-4d06-b087-4dd552dfbe24",
   "metadata": {},
   "outputs": [],
   "source": [
    "%%time\n",
    "cifar100_003 = CIFAR100Model(\n",
    "    hidden_layers=hidden_layers, \n",
    "    dropout_prob=0.5, \n",
    "    num_classes=CLASSES.__len__()\n",
    ")"
   ]
  },
  {
   "cell_type": "code",
   "execution_count": null,
   "id": "bfe6f670-edfc-48f1-84fc-30c123160469",
   "metadata": {},
   "outputs": [],
   "source": [
    "# Инициализация SummaryWriter\n",
    "writer = SummaryWriter(log_dir=f'logs/cifar100_003')\n",
    "\n",
    "# Визуализация графа\n",
    "dummy_input = torch.randn(1, 32, 32, CLASSES.__len__())  # Размер входа для CIFAR100\n",
    "writer.add_graph(cifar100_003, dummy_input)\n",
    "\n",
    "# Закройте SummaryWriter\n",
    "writer.close()"
   ]
  },
  {
   "cell_type": "markdown",
   "id": "fe02232b-10cd-4b37-9203-174948a60d30",
   "metadata": {},
   "source": [
    "#### Информация о модели"
   ]
  },
  {
   "cell_type": "code",
   "execution_count": null,
   "id": "fecab2fd-a95e-4bad-9238-7aeaf011612b",
   "metadata": {},
   "outputs": [],
   "source": [
    "cifar100_003"
   ]
  },
  {
   "cell_type": "markdown",
   "id": "5d798bbf-d950-4eb7-826e-7461d4eb33fc",
   "metadata": {},
   "source": [
    "#### Обучение"
   ]
  },
  {
   "cell_type": "code",
   "execution_count": null,
   "id": "113030ab-1823-4239-bb95-90ae2add848e",
   "metadata": {
    "scrolled": true
   },
   "outputs": [],
   "source": [
    "%%time\n",
    "trainer3.train(cifar100_003, epochs)"
   ]
  },
  {
   "cell_type": "code",
   "execution_count": null,
   "id": "20e50724-d541-4c57-88bd-b9e35f81a8a4",
   "metadata": {},
   "outputs": [],
   "source": [
    "trainer3.plot_training_history()"
   ]
  },
  {
   "cell_type": "markdown",
   "id": "e3a05d8d-e18e-44f5-92bb-08e3391e187f",
   "metadata": {},
   "source": [
    "#### Оценка"
   ]
  },
  {
   "cell_type": "code",
   "execution_count": null,
   "id": "0845bf8f-9cd0-4dd2-94da-adf6b82d2247",
   "metadata": {},
   "outputs": [],
   "source": [
    "trainer3.evaluate(cifar100_003)"
   ]
  },
  {
   "cell_type": "markdown",
   "id": "e25b26b1-bcd9-47c1-8bc1-9f2ecf0d2faa",
   "metadata": {},
   "source": [
    "#### Сохранение модели в ONNX"
   ]
  },
  {
   "cell_type": "code",
   "execution_count": null,
   "id": "0b9930c0-a18a-4fe5-8c6a-e06aa540e7c1",
   "metadata": {},
   "outputs": [],
   "source": [
    "trainer3.save_model(cifar100_003)"
   ]
  },
  {
   "cell_type": "markdown",
   "id": "4b66d818-4ac2-4fbd-a109-c87aa508d63d",
   "metadata": {},
   "source": [
    "### Эксперимент №4"
   ]
  },
  {
   "cell_type": "markdown",
   "id": "df0061c3-199f-4ca0-bc8b-db04b7c7d2bb",
   "metadata": {},
   "source": [
    "#### Гиперпараметры"
   ]
  },
  {
   "cell_type": "code",
   "execution_count": null,
   "id": "e645fdcc-f185-48df-9d4b-f37fed06c0d7",
   "metadata": {},
   "outputs": [],
   "source": [
    "batch_size=2**5\n",
    "epochs=100\n",
    "criterion=nn.NLLLoss()\n",
    "lr_rate = 1e-4\n",
    "hidden_layers=[2**5, 2**6, 2**7, 2**7, 2**6, 2**5]"
   ]
  },
  {
   "cell_type": "markdown",
   "id": "76fd7cd0-8223-413d-91a1-624f9fa96397",
   "metadata": {},
   "source": [
    "#### Инициализация модели"
   ]
  },
  {
   "cell_type": "code",
   "execution_count": null,
   "id": "3483658f-f93d-431b-b587-cf57e3a14435",
   "metadata": {},
   "outputs": [],
   "source": [
    "%%time\n",
    "trainer4 = CIFAR100Trainer(CLASSES, batch_size, lr_rate, criterion, experiment_name='cifar100_004')"
   ]
  },
  {
   "cell_type": "code",
   "execution_count": null,
   "id": "9f321478-2589-4e8c-a065-4f9141701e67",
   "metadata": {},
   "outputs": [],
   "source": [
    "%%time\n",
    "cifar100_004 = CIFAR100Model(\n",
    "    hidden_layers=hidden_layers, \n",
    "    dropout_prob=0.5, \n",
    "    num_classes=CLASSES.__len__()\n",
    ")"
   ]
  },
  {
   "cell_type": "code",
   "execution_count": null,
   "id": "57859176-d8f6-4a85-b42d-6762a8db2dde",
   "metadata": {},
   "outputs": [],
   "source": [
    "# Инициализация SummaryWriter\n",
    "writer = SummaryWriter(log_dir=f'logs/cifar100_004')\n",
    "\n",
    "# Визуализация графа\n",
    "dummy_input = torch.randn(1, 32, 32, CLASSES.__len__())  # Размер входа для CIFAR100\n",
    "writer.add_graph(cifar100_004, dummy_input)\n",
    "\n",
    "# Закройте SummaryWriter\n",
    "writer.close()"
   ]
  },
  {
   "cell_type": "markdown",
   "id": "9dd60b1f-6e27-4df2-b50c-2724a32aaf1c",
   "metadata": {},
   "source": [
    "#### Информация о модели"
   ]
  },
  {
   "cell_type": "code",
   "execution_count": null,
   "id": "ecf953ad-05ba-4a1a-b9f5-38a35beca2cc",
   "metadata": {},
   "outputs": [],
   "source": [
    "cifar100_004"
   ]
  },
  {
   "cell_type": "markdown",
   "id": "67232ca3-f0e3-416e-9ee7-b7247fa35f58",
   "metadata": {},
   "source": [
    "#### Обучение"
   ]
  },
  {
   "cell_type": "code",
   "execution_count": null,
   "id": "0fb5030c-28c8-482d-9b0c-f35db1779c91",
   "metadata": {
    "scrolled": true
   },
   "outputs": [],
   "source": [
    "%%time\n",
    "trainer4.train(cifar100_004, epochs)"
   ]
  },
  {
   "cell_type": "code",
   "execution_count": null,
   "id": "e1065eb3-266a-45a8-b9e6-a5f7a72d6cf0",
   "metadata": {},
   "outputs": [],
   "source": [
    "trainer4.plot_training_history()"
   ]
  },
  {
   "cell_type": "markdown",
   "id": "fcfe2b14-c8ed-43cc-a3b2-5acfbaa9f4fb",
   "metadata": {},
   "source": [
    "#### Оценка"
   ]
  },
  {
   "cell_type": "code",
   "execution_count": null,
   "id": "41e6019f-5ec8-479b-8d20-31cba49cbec1",
   "metadata": {},
   "outputs": [],
   "source": [
    "trainer4.evaluate(cifar100_004)"
   ]
  },
  {
   "cell_type": "markdown",
   "id": "838198f2-a01a-4be0-b7b5-903075bf1626",
   "metadata": {},
   "source": [
    "#### Сохранение модели в ONNX"
   ]
  },
  {
   "cell_type": "code",
   "execution_count": null,
   "id": "8fb4b599-bfe8-4b71-baf6-bd3b8c649e5d",
   "metadata": {},
   "outputs": [],
   "source": [
    "trainer4.save_model(cifar100_004)"
   ]
  },
  {
   "cell_type": "markdown",
   "id": "cee3a144-3852-4db5-86e1-05235679b276",
   "metadata": {},
   "source": [
    "### Эксперимент №5"
   ]
  },
  {
   "cell_type": "markdown",
   "id": "aefb07e9-78f5-4f02-8e92-8cbbea99dcf0",
   "metadata": {},
   "source": [
    "#### Гиперпараметры"
   ]
  },
  {
   "cell_type": "code",
   "execution_count": null,
   "id": "57cd82f8-4903-4a71-841d-515aae762167",
   "metadata": {},
   "outputs": [],
   "source": [
    "batch_size=2**5\n",
    "epochs=1000\n",
    "criterion=nn.NLLLoss()\n",
    "lr_rate = 1e-4\n",
    "hidden_layers=[2**5, 2**7, 2**10, 2**7, 2**5]"
   ]
  },
  {
   "cell_type": "markdown",
   "id": "c2722725-9a67-4445-ab8e-3392e118b53a",
   "metadata": {},
   "source": [
    "#### Инициализация модели"
   ]
  },
  {
   "cell_type": "code",
   "execution_count": null,
   "id": "e9f87ac9-f443-4855-9c64-e4b2e2402fd9",
   "metadata": {},
   "outputs": [],
   "source": [
    "%%time\n",
    "trainer5 = CIFAR100Trainer(CLASSES, batch_size, lr_rate, criterion, experiment_name='cifar100_005')"
   ]
  },
  {
   "cell_type": "code",
   "execution_count": null,
   "id": "6ff4fd45-fa85-485a-b3b3-9fbe9a40b68c",
   "metadata": {},
   "outputs": [],
   "source": [
    "%%time\n",
    "cifar100_005 = CIFAR100Model(\n",
    "    hidden_layers=hidden_layers, \n",
    "    dropout_prob=0.5, \n",
    "    num_classes=CLASSES.__len__()\n",
    ")"
   ]
  },
  {
   "cell_type": "code",
   "execution_count": null,
   "id": "718a0fc1-867b-4e27-8480-2305dc864fcb",
   "metadata": {},
   "outputs": [],
   "source": [
    "# Инициализация SummaryWriter\n",
    "writer = SummaryWriter(log_dir=f'logs/cifar100_005')\n",
    "\n",
    "# Визуализация графа\n",
    "dummy_input = torch.randn(1, 32, 32, CLASSES.__len__())  # Размер входа для CIFAR100\n",
    "writer.add_graph(cifar100_005, dummy_input)\n",
    "\n",
    "# Закройте SummaryWriter\n",
    "writer.close()"
   ]
  },
  {
   "cell_type": "markdown",
   "id": "0a6eb386-6212-430b-9bd7-2e101b906fda",
   "metadata": {},
   "source": [
    "#### Информация о модели"
   ]
  },
  {
   "cell_type": "code",
   "execution_count": null,
   "id": "a799a9ce-e17c-4a09-a648-66d69b3e1665",
   "metadata": {},
   "outputs": [],
   "source": [
    "cifar100_005"
   ]
  },
  {
   "cell_type": "markdown",
   "id": "f2648d48-702f-4b7b-b587-e8063ddefac9",
   "metadata": {},
   "source": [
    "#### Обучение"
   ]
  },
  {
   "cell_type": "code",
   "execution_count": null,
   "id": "4f289e61-afdb-4053-92bf-a6fda76b23c3",
   "metadata": {
    "scrolled": true
   },
   "outputs": [],
   "source": [
    "%%time\n",
    "trainer5.train(cifar100_005, epochs)"
   ]
  },
  {
   "cell_type": "code",
   "execution_count": null,
   "id": "bf1ba1eb-635b-4f54-8427-cbf61fb49374",
   "metadata": {},
   "outputs": [],
   "source": [
    "trainer5.plot_training_history()"
   ]
  },
  {
   "cell_type": "markdown",
   "id": "c1eebe97-9fdf-4d6c-a032-954d235b47ec",
   "metadata": {},
   "source": [
    "#### Оценка"
   ]
  },
  {
   "cell_type": "code",
   "execution_count": null,
   "id": "baf73eeb-1dbc-4b5e-93a0-6bea7a0e63d9",
   "metadata": {},
   "outputs": [],
   "source": [
    "trainer5.evaluate(cifar100_005)"
   ]
  },
  {
   "cell_type": "markdown",
   "id": "47df060a-29cc-4c00-ad38-de1d0a473be2",
   "metadata": {},
   "source": [
    "#### Сохранение модели в ONNX"
   ]
  },
  {
   "cell_type": "code",
   "execution_count": null,
   "id": "c90ab27a-fa84-45ee-97a5-799a687cbd9d",
   "metadata": {},
   "outputs": [],
   "source": [
    "trainer5.save_model(cifar100_005)"
   ]
  }
 ],
 "metadata": {
  "kernelspec": {
   "display_name": "Python 3 (ipykernel)",
   "language": "python",
   "name": "python3"
  },
  "language_info": {
   "codemirror_mode": {
    "name": "ipython",
    "version": 3
   },
   "file_extension": ".py",
   "mimetype": "text/x-python",
   "name": "python",
   "nbconvert_exporter": "python",
   "pygments_lexer": "ipython3",
   "version": "3.11.7"
  }
 },
 "nbformat": 4,
 "nbformat_minor": 5
}
