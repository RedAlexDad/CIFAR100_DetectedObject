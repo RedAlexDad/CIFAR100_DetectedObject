{
 "cells": [
  {
   "cell_type": "markdown",
   "id": "301e84ef-0ad3-41b5-a05e-33574f4ebfa0",
   "metadata": {},
   "source": [
    "# Импортирование необходимых библиотек"
   ]
  },
  {
   "cell_type": "code",
   "execution_count": 1,
   "id": "8157d752-5c1c-4fc5-840a-e9112df0076f",
   "metadata": {},
   "outputs": [],
   "source": [
    "import os\n",
    "import uuid\n",
    "import torch\n",
    "import torch.nn as nn\n",
    "import torch.optim as optim\n",
    "from torchvision import datasets, transforms\n",
    "from torch.utils.data import DataLoader, TensorDataset\n",
    "import torchvision.models as models\n",
    "import onnx\n",
    "from tqdm import tqdm\n",
    "import numpy as np\n",
    "from PIL import Image\n",
    "import pickle\n",
    "import torch.nn.functional as F\n",
    "import matplotlib.pyplot as plt\n",
    "from sklearn.metrics import classification_report"
   ]
  },
  {
   "cell_type": "code",
   "execution_count": 2,
   "id": "6f3880af-189b-4d13-9eab-635c9357c9b2",
   "metadata": {},
   "outputs": [
    {
     "name": "stdout",
     "output_type": "stream",
     "text": [
      "CUDA is not available. Running on CPU.\n"
     ]
    },
    {
     "name": "stderr",
     "output_type": "stream",
     "text": [
      "/home/redalexdad/.local/lib/python3.11/site-packages/torch/cuda/__init__.py:118: UserWarning: CUDA initialization: CUDA unknown error - this may be due to an incorrectly set up environment, e.g. changing env variable CUDA_VISIBLE_DEVICES after program start. Setting the available devices to be zero. (Triggered internally at ../c10/cuda/CUDAFunctions.cpp:108.)\n",
      "  return torch._C._cuda_getDeviceCount() > 0\n"
     ]
    }
   ],
   "source": [
    "# Проверка наличия CUDA\n",
    "device = torch.device('cuda' if torch.cuda.is_available() else 'cpu')\n",
    "\n",
    "if device.type == 'cuda':\n",
    "    print(\"CUDA is available!\")\n",
    "    print(f\"Device name: {torch.cuda.get_device_name(0)}\")\n",
    "    print(f\"CUDA capability: {torch.cuda.get_device_capability(0)}\")\n",
    "    print(f\"Driver version: {torch.version.cuda}\")\n",
    "    print(f\"Device count: {torch.cuda.device_count()}\")\n",
    "    print(f\"Current device: {torch.cuda.current_device()}\")\n",
    "else:\n",
    "    print(\"CUDA is not available. Running on CPU.\")"
   ]
  },
  {
   "cell_type": "markdown",
   "id": "3225059b-b075-4fae-b502-bdf62b87b491",
   "metadata": {},
   "source": [
    "# Загрузка и распаковка набора данных CIFAR100"
   ]
  },
  {
   "cell_type": "code",
   "execution_count": null,
   "id": "c199e6b5-3b63-4cdf-9e7e-a607fb147848",
   "metadata": {},
   "outputs": [],
   "source": [
    "filename = \"cifar-100-python.tar.gz\"\n",
    "\n",
    "if not os.path.exists(filename):\n",
    "    # Файла нет, скачиваем\n",
    "    !wget https://www.cs.toronto.edu/~kriz/cifar-100-python.tar.gz\n",
    "else:\n",
    "    print(f\"Файл '{filename}' уже существует.\")\n",
    "\n",
    "# Распаковываем архив, если он не был распакован ранее\n",
    "if not os.path.exists(\"cifar-100-python\"):\n",
    "    !tar -xvzf cifar-100-python.tar.gz\n",
    "else:\n",
    "    print(\"Архив уже распакован.\")"
   ]
  },
  {
   "cell_type": "markdown",
   "id": "e2ed3721-689a-4863-966f-7c2c2545de6b",
   "metadata": {},
   "source": [
    "## Архитектуры модели"
   ]
  },
  {
   "cell_type": "markdown",
   "id": "d1685621-f406-401e-93ee-79fe10bafa1f",
   "metadata": {},
   "source": [
    "### Класс модели CIFAR100"
   ]
  },
  {
   "cell_type": "code",
   "execution_count": 42,
   "id": "006a3f43-7328-4627-9368-bcb82f0ce5ab",
   "metadata": {},
   "outputs": [],
   "source": [
    "class CIFAR100Trainer:\n",
    "    def __init__(self, classes, batch_size=128, lr_rate=1e-4, criterion=nn.CrossEntropyLoss()):\n",
    "        self.classes = classes\n",
    "        self.batch_size = batch_size\n",
    "        self.lr_rate = lr_rate\n",
    "        self.device = self.check_device()\n",
    "        self.criterion = criterion\n",
    "        self.history = {\"epoch\": [], \"loss\": []}  # История обучения\n",
    "        # Загрузка названий классов\n",
    "        self.class_names = self.load_class_names()\n",
    "        \n",
    "        # Чтение тренировочной выборки (обучающих данных)\n",
    "        with open('cifar-100-python/train', 'rb') as f:\n",
    "            data_train = pickle.load(f, encoding='latin1')\n",
    "\n",
    "        # Чтение тестовой выборки (тестовых данных)\n",
    "        with open('cifar-100-python/test', 'rb') as f:\n",
    "            data_test = pickle.load(f, encoding='latin1')\n",
    "\n",
    "        # Фильтрация данных и создание датасетов\n",
    "        self.train_dataset = self.prepare_data(data_train, 'train')\n",
    "        self.test_dataset = self.prepare_data(data_test, 'test')\n",
    "\n",
    "        # Загрузка данных в батчи\n",
    "        self.train_loader = DataLoader(self.train_dataset, batch_size=self.batch_size, shuffle=True)\n",
    "        self.test_loader = DataLoader(self.test_dataset, batch_size=self.batch_size, shuffle=False)\n",
    "        \n",
    "    def load_class_names(self):\n",
    "        \"\"\"Загружает названия классов из мета-файла.\"\"\"\n",
    "        with open('cifar-100-python/meta', 'rb') as f:\n",
    "            meta = pickle.load(f, encoding='latin1')\n",
    "        return meta['fine_label_names']\n",
    "\n",
    "    def prepare_data(self, data, part):\n",
    "        \"\"\"Фильтрация данных и преобразование в TensorDataset.\"\"\"\n",
    "        X = data['data'].reshape(-1, 3, 32, 32)  # Данные в формате NCHW\n",
    "        X = np.transpose(X, [0, 2, 3, 1]) # NCHW -> NHWC\n",
    "        y = np.array(data['fine_labels'])\n",
    "\n",
    "        mask = np.isin(y, self.classes)\n",
    "        X = X[mask].copy()\n",
    "        y = y[mask].copy()\n",
    "        y = np.unique(y, return_inverse=1)[1]\n",
    "\n",
    "        tensor_x = torch.Tensor(X)\n",
    "        tensor_y = F.one_hot(torch.Tensor(y).to(torch.int64), num_classes=len(self.classes)) / 1.\n",
    "        dataset = TensorDataset(tensor_x, tensor_y)\n",
    "        return dataset\n",
    "        \n",
    "    def train(self, model, epochs=10):\n",
    "        model = model.to(self.device)\n",
    "        criterion = nn.CrossEntropyLoss()\n",
    "        optimizer = optim.Adam(model.parameters(), lr=self.lr_rate)\n",
    "        self.history = {\"epoch\": [], \"loss\": []}  # Инициализация истории\n",
    "\n",
    "        for epoch in range(epochs):\n",
    "            model.train()  # Установка модели в режим обучения\n",
    "            running_loss = 0.0\n",
    "\n",
    "            progress_bar = tqdm(self.train_loader, desc=f'Epoch {epoch+1}/{epochs}', unit=\"batch\")\n",
    "            for batch_idx, (data, target) in enumerate(progress_bar):\n",
    "                data, target = data.to(self.device), target.to(self.device)\n",
    "                optimizer.zero_grad()\n",
    "                # Вызов метода forward() модели\n",
    "                output = model.forward(data) \n",
    "                loss = criterion(output, target)\n",
    "                loss.backward()\n",
    "                optimizer.step()\n",
    "\n",
    "                running_loss += loss.item()\n",
    "                progress_bar.set_postfix(loss=f\"{loss:.6f}\")\n",
    "                \n",
    "            average_loss = running_loss / len(self.train_loader)\n",
    "            self.history[\"epoch\"].append(epoch + 1)\n",
    "            self.history[\"loss\"].append(average_loss)  # Сохранение средней потери\n",
    "\n",
    "            print(f'Epoch: {epoch+1}/{epochs}, Loss: {running_loss/len(self.train_loader):.6f}')\n",
    "\n",
    "    def evaluate(self, model):\n",
    "        model = model.to(self.device)\n",
    "        model.eval()  # Установка модели в режим оценки\n",
    "        \n",
    "        # Обрабатываем обе выборки: тренировочную и тестовую\n",
    "        dataloaders = {'train': self.train_loader, 'test': self.test_loader}\n",
    "        \n",
    "        for part in ['train', 'test']:\n",
    "            all_predicted = []\n",
    "            all_target = []\n",
    "            with torch.no_grad():\n",
    "                for data, target in dataloaders[part]:\n",
    "                    data, target = data.to(self.device), target.to(self.device)\n",
    "                    output = model(data)\n",
    "                    \n",
    "                    # Получаем предсказания\n",
    "                    _, predicted = torch.max(output.data, 1)\n",
    "                    \n",
    "                    # Преобразуем target обратно в одномерный тензор\n",
    "                    target_indices = torch.argmax(target, dim=1)\n",
    "                    \n",
    "                    all_predicted.extend(predicted.cpu().numpy())\n",
    "                    all_target.extend(target_indices.cpu().numpy())\n",
    "            \n",
    "            # Преобразуем списки в массивы NumPy\n",
    "            all_predicted = np.array(all_predicted)\n",
    "            all_target = np.array(all_target)\n",
    "            \n",
    "            # Выводим наименования классов для выбранных индексов\n",
    "            selected_class_names = [self.class_names[i] for i in self.classes]\n",
    "            \n",
    "            # Выводим отчет о классификации\n",
    "            print(f\"Classification report for {part} dataset:\")\n",
    "            report = classification_report(all_target, all_predicted, target_names=selected_class_names, zero_division=0, digits=4)\n",
    "            print(report)\n",
    "            print('-' * 50)\n",
    "\n",
    "    def save_model(self, model, path='models/'):\n",
    "        # Генерируем уникальный идентификатор\n",
    "        unique_id = str(uuid.uuid4())  # Генерация уникального ID\n",
    "        model_name = f\"cifar100_{unique_id}.onnx\"  # Формируем название модели\n",
    "        \n",
    "        # Создаем полный путь для сохранения модели\n",
    "        filepath = os.path.join(path, model_name)  # Корректное соединение пути и имени файла\n",
    "        \n",
    "        # Убедимся, что директория для сохранения существует\n",
    "        os.makedirs(path, exist_ok=True)  # Создаем директорию, если она не существует\n",
    "\n",
    "        # Входной тензор для модели (с учетом правильного порядка: (N, H, W, C))\n",
    "        dummy_input = torch.randn(1, 32, 32, 3, requires_grad=True).to(self.device)  # (N, H, W, C)\n",
    "    \n",
    "        # Экспорт модели\n",
    "        torch.onnx.export(\n",
    "            model,               # модель\n",
    "            dummy_input,         # входной тензор\n",
    "            filepath,            # куда сохранить\n",
    "            export_params=True,  # сохраняет веса обученных параметров внутри файла модели\n",
    "            opset_version=9,    # версия ONNX\n",
    "            do_constant_folding=True,  # следует ли выполнять укорачивание констант для оптимизации\n",
    "            input_names=['input'],    # имя входного слоя\n",
    "            output_names=['output'],   # имя выходного слоя\n",
    "            dynamic_axes={'input': {0: 'batch_size'},    # динамичные оси\n",
    "                          'output': {0: 'batch_size'}}\n",
    "        )\n",
    "        \n",
    "        # Вывод информации о сохраненной модели\n",
    "        print(f\"Model saved as: {model_name}\")\n",
    "        print(f\"Model UUID: {unique_id}\")\n",
    "\n",
    "    def check_device(self):\n",
    "        \"\"\"Проверяет доступность CUDA и возвращает устройство.\"\"\"\n",
    "        if torch.cuda.is_available():\n",
    "            device = 'cuda'\n",
    "        else:\n",
    "            device = 'cpu'\n",
    "        print(f'Используемое устройство: {device}')\n",
    "        return device\n",
    "\n",
    "    def plot_training_history(self):\n",
    "        fig, axs = plt.subplots(1, 2, figsize=(14, 6))\n",
    "    \n",
    "        # Преобразуем список эпох для оси X\n",
    "        epochs = self.history[\"epoch\"]\n",
    "    \n",
    "        # Первый график: Полная история\n",
    "        axs[0].plot(epochs, self.history[\"loss\"], marker='o', linestyle='-', color='b', markersize=5, label='Loss')\n",
    "        axs[0].set_xlabel('Epoch')\n",
    "        axs[0].set_ylabel('Average Loss')\n",
    "        axs[0].set_title('Loss Function (Full History)')\n",
    "        axs[0].grid(True)\n",
    "        axs[0].legend()\n",
    "    \n",
    "        # Второй график: Половина истории\n",
    "        mid_index = len(epochs) // 2\n",
    "        axs[1].plot(epochs[mid_index:], self.history[\"loss\"][mid_index:], marker='o', linestyle='-', color='b', markersize=5, label='Loss')\n",
    "        axs[1].set_xlabel('Epoch')\n",
    "        axs[1].set_ylabel('Average Loss')\n",
    "        axs[1].set_title('Loss Function (Second Half of Training)')\n",
    "        axs[1].grid(True)\n",
    "        axs[1].legend()\n",
    "    \n",
    "        plt.tight_layout()\n",
    "        plt.show()\n",
    "\n",
    "    def load_class_names(self):\n",
    "        \"\"\"Загружает названия классов из мета-файла.\"\"\"\n",
    "        with open('cifar-100-python/meta', 'rb') as f:\n",
    "            meta = pickle.load(f, encoding='latin1')\n",
    "        return meta['fine_label_names']\n",
    "    \n",
    "    def display_images_with_predictions(self, model, image_dir='./images'):\n",
    "        \"\"\"Отображает изображения и предсказания модели с процентным соотношением для заданных классов.\"\"\"\n",
    "        # Определение преобразований для входных изображений\n",
    "        transform = transforms.Compose([\n",
    "            transforms.ToTensor(),\n",
    "            transforms.Normalize((0.5, 0.5, 0.5), (0.5, 0.5, 0.5))  # Пример нормализации, может потребоваться адаптация\n",
    "        ])\n",
    "    \n",
    "        # Создаем отображение названий классов для выбранных индексов\n",
    "        selected_class_names = [self.class_names[i] for i in self.classes]\n",
    "    \n",
    "        # Получаем список изображений\n",
    "        images = [img for img in os.listdir(image_dir) if img.endswith(('jpg', 'png', 'jpeg'))]\n",
    "        predictions = []\n",
    "        probabilities = []\n",
    "    \n",
    "        for img_name in images:\n",
    "            img_path = os.path.join(image_dir, img_name)\n",
    "            img = Image.open(img_path).convert('RGB')  # Открываем изображение\n",
    "            img_tensor = transform(img).unsqueeze(0).to(self.device)  # Применяем преобразования и добавляем размерность батча\n",
    "            \n",
    "            # Получаем предсказание модели\n",
    "            with torch.no_grad():\n",
    "                output = model(img_tensor)\n",
    "                probs = torch.softmax(output, dim=1)  # Вычисляем вероятности\n",
    "                predicted = torch.argmax(probs).item()  # Предсказанный класс\n",
    "                predictions.append(predicted)  # Сохраняем предсказание\n",
    "                probabilities.append(probs.squeeze().cpu().numpy())  # Сохраняем вероятности\n",
    "    \n",
    "        # Визуализация\n",
    "        num_images = len(images)\n",
    "        cols = 3\n",
    "        rows = (num_images + cols - 1) // cols  # Вычисляем количество строк\n",
    "        \n",
    "        fig, axs = plt.subplots(rows, cols, figsize=(15, 5 * rows))\n",
    "        axs = axs.flatten()  # Упрощаем доступ к осям\n",
    "    \n",
    "        for i, img_name in enumerate(images):\n",
    "            img_path = os.path.join(image_dir, img_name)\n",
    "            img = Image.open(img_path)\n",
    "            axs[i].imshow(img)\n",
    "            \n",
    "            # Выводим предсказания и вероятности для выбранных классов\n",
    "            title_text = f'Predicted: {self.class_names[predictions[i]]} (ID: {predictions[i]})\\n'\n",
    "            for cls in self.classes:\n",
    "                # Получаем индекс и название класса\n",
    "                if cls < len(probabilities[i]):\n",
    "                    title_text += f'{selected_class_names[self.classes.index(cls)]}: {probabilities[i][cls] * 100:.2f}%, '\n",
    "    \n",
    "            axs[i].set_title(title_text[:-2])  # Убираем последний запятую\n",
    "            axs[i].axis('off')  # Скрываем оси\n",
    "    \n",
    "        # Удаляем пустые оси, если их больше чем изображений\n",
    "        for j in range(i + 1, len(axs)):\n",
    "            axs[j].axis('off')\n",
    "    \n",
    "        plt.tight_layout()\n",
    "        plt.show()"
   ]
  },
  {
   "cell_type": "markdown",
   "id": "93277a0e-a162-4bac-9f03-8cf6122ba83c",
   "metadata": {},
   "source": [
    "### Нормализация"
   ]
  },
  {
   "cell_type": "code",
   "execution_count": 43,
   "id": "a1283cf7-f3d8-4ea8-ac8d-a7eb3be185a9",
   "metadata": {},
   "outputs": [],
   "source": [
    "class Normalize(nn.Module):\n",
    "    def __init__(self, mean, std):\n",
    "        super(Normalize, self).__init__()\n",
    "        self.mean = torch.tensor(mean)\n",
    "        self.std = torch.tensor(std)\n",
    "\n",
    "    def forward(self, input):\n",
    "        x = input / 255.0\n",
    "        x = x - self.mean\n",
    "        x = x / self.std\n",
    "        return torch.flatten(x, start_dim=1) # nhwc -> nm"
   ]
  },
  {
   "cell_type": "markdown",
   "id": "a0094302-f746-4477-b8f5-7a596ef8002e",
   "metadata": {},
   "source": [
    "#### Создание архитектуры модели"
   ]
  },
  {
   "cell_type": "code",
   "execution_count": 45,
   "id": "64f25c85-e080-4c94-bec1-e573cae39582",
   "metadata": {},
   "outputs": [],
   "source": [
    "class CIFAR100Model(nn.Module):\n",
    "    def __init__(self, hidden_layers=[64, 128, 64], num_classes=100):\n",
    "        super(CIFAR100Model, self).__init__()\n",
    "        self.norm = Normalize([0.5074, 0.4867, 0.4411], [0.2011, 0.1987, 0.2025])\n",
    "        \n",
    "        # Определяем входной размер (например, CIFAR100 имеет изображения размером 32x32x3)\n",
    "        input_size = 32 * 32 * 3\n",
    "\n",
    "        # Динамически создаем слои на основе переданного списка hidden_layers\n",
    "        layers = []\n",
    "        in_features = input_size\n",
    "        for i, hidden_size in enumerate(hidden_layers):\n",
    "            layers.append(nn.Linear(in_features, hidden_size))\n",
    "            layers.append(nn.ReLU())  # Активационная функция\n",
    "            in_features = hidden_size\n",
    "\n",
    "        # Добавляем последний слой для классификации\n",
    "        layers.append(nn.Linear(in_features, num_classes))\n",
    "\n",
    "        # Создаем последовательность слоев\n",
    "        self.seq = nn.Sequential(*layers)\n",
    "\n",
    "    def forward(self, input):\n",
    "        x = self.norm(input)\n",
    "        return self.seq(x)"
   ]
  },
  {
   "cell_type": "markdown",
   "id": "de928867-688f-4f98-964f-f904ea3882df",
   "metadata": {},
   "source": [
    "## Установки параметров"
   ]
  },
  {
   "cell_type": "markdown",
   "id": "cef97b05-b65c-42bc-bf22-b97982273a87",
   "metadata": {},
   "source": [
    "### По варианту"
   ]
  },
  {
   "cell_type": "code",
   "execution_count": 46,
   "id": "d2c431b2-007b-42b2-b896-4db1e5d3ba92",
   "metadata": {},
   "outputs": [],
   "source": [
    "CLASSES = [94, 21, 51]"
   ]
  },
  {
   "cell_type": "markdown",
   "id": "a55a3a69-9b18-42ad-95ee-cb62de7ddb97",
   "metadata": {},
   "source": [
    "## Машинное обучение "
   ]
  },
  {
   "cell_type": "markdown",
   "id": "fe4325f0-a007-4c36-a138-4adb8d6db694",
   "metadata": {},
   "source": [
    "### Эксперимент №1"
   ]
  },
  {
   "cell_type": "markdown",
   "id": "f1fe2cdc-e92f-4a75-a8d3-8d106e91321e",
   "metadata": {},
   "source": [
    "#### Гиперпараметры"
   ]
  },
  {
   "cell_type": "code",
   "execution_count": 49,
   "id": "4a69eab0-9cee-4868-a998-f8dbb3f2c9d7",
   "metadata": {},
   "outputs": [],
   "source": [
    "batch_size=2**5\n",
    "epochs=50\n",
    "criterion=nn.NLLLoss()\n",
    "lr_rate = 1e-2\n",
    "layers=[2**4, 2**6, 2**4]"
   ]
  },
  {
   "cell_type": "markdown",
   "id": "8f4a8f54-0c8d-4063-9318-8ed3bd43bf51",
   "metadata": {},
   "source": [
    "#### Инициализация модели"
   ]
  },
  {
   "cell_type": "code",
   "execution_count": 50,
   "id": "5b9ca30d-ea0b-4f34-a035-92ca4123c172",
   "metadata": {},
   "outputs": [
    {
     "name": "stdout",
     "output_type": "stream",
     "text": [
      "Используемое устройство: cpu\n",
      "CPU times: user 185 ms, sys: 422 ms, total: 606 ms\n",
      "Wall time: 510 ms\n"
     ]
    }
   ],
   "source": [
    "%%time\n",
    "trainer = CIFAR100Trainer(CLASSES, batch_size, lr_rate)"
   ]
  },
  {
   "cell_type": "code",
   "execution_count": 51,
   "id": "a7946c00-b9d0-40d6-ac05-aebcc4427e18",
   "metadata": {},
   "outputs": [
    {
     "name": "stdout",
     "output_type": "stream",
     "text": [
      "CPU times: user 1.71 ms, sys: 1.03 ms, total: 2.74 ms\n",
      "Wall time: 1.46 ms\n"
     ]
    }
   ],
   "source": [
    "%%time\n",
    "cifar100_001 = CIFAR100Model(layers, CLASSES.__len__())"
   ]
  },
  {
   "cell_type": "markdown",
   "id": "ef8a828b-3a25-4b05-8641-285697c77915",
   "metadata": {},
   "source": [
    "#### Информация о модели"
   ]
  },
  {
   "cell_type": "code",
   "execution_count": 52,
   "id": "910c41df-9b9b-4e51-a02e-b7ff602651bf",
   "metadata": {
    "scrolled": true
   },
   "outputs": [
    {
     "data": {
      "text/plain": [
       "CIFAR100Model(\n",
       "  (norm): Normalize()\n",
       "  (seq): Sequential(\n",
       "    (0): Linear(in_features=3072, out_features=16, bias=True)\n",
       "    (1): ReLU()\n",
       "    (2): Linear(in_features=16, out_features=64, bias=True)\n",
       "    (3): ReLU()\n",
       "    (4): Linear(in_features=64, out_features=16, bias=True)\n",
       "    (5): ReLU()\n",
       "    (6): Linear(in_features=16, out_features=3, bias=True)\n",
       "  )\n",
       ")"
      ]
     },
     "execution_count": 52,
     "metadata": {},
     "output_type": "execute_result"
    }
   ],
   "source": [
    "cifar100_001"
   ]
  },
  {
   "cell_type": "markdown",
   "id": "37ff7723-7cef-4b15-ae9e-6603355c62e6",
   "metadata": {},
   "source": [
    "#### Обучение"
   ]
  },
  {
   "cell_type": "code",
   "execution_count": 53,
   "id": "03ec918e-4ac5-48bb-8d71-9b410366709e",
   "metadata": {
    "scrolled": true
   },
   "outputs": [
    {
     "name": "stderr",
     "output_type": "stream",
     "text": [
      "Epoch 1/50: 100%|█| 47/47 [00:00<00:00, 244.21batch/s, loss=0.75046\n"
     ]
    },
    {
     "name": "stdout",
     "output_type": "stream",
     "text": [
      "Epoch: 1/50, Loss: 0.852019\n"
     ]
    },
    {
     "name": "stderr",
     "output_type": "stream",
     "text": [
      "Epoch 2/50: 100%|█| 47/47 [00:00<00:00, 261.67batch/s, loss=0.72391\n"
     ]
    },
    {
     "name": "stdout",
     "output_type": "stream",
     "text": [
      "Epoch: 2/50, Loss: 0.609201\n"
     ]
    },
    {
     "name": "stderr",
     "output_type": "stream",
     "text": [
      "Epoch 3/50: 100%|█| 47/47 [00:00<00:00, 256.88batch/s, loss=0.45361\n"
     ]
    },
    {
     "name": "stdout",
     "output_type": "stream",
     "text": [
      "Epoch: 3/50, Loss: 0.519508\n"
     ]
    },
    {
     "name": "stderr",
     "output_type": "stream",
     "text": [
      "Epoch 4/50: 100%|█| 47/47 [00:00<00:00, 278.63batch/s, loss=0.30059\n"
     ]
    },
    {
     "name": "stdout",
     "output_type": "stream",
     "text": [
      "Epoch: 4/50, Loss: 0.502956\n"
     ]
    },
    {
     "name": "stderr",
     "output_type": "stream",
     "text": [
      "Epoch 5/50: 100%|█| 47/47 [00:00<00:00, 279.10batch/s, loss=0.31375\n"
     ]
    },
    {
     "name": "stdout",
     "output_type": "stream",
     "text": [
      "Epoch: 5/50, Loss: 0.457708\n"
     ]
    },
    {
     "name": "stderr",
     "output_type": "stream",
     "text": [
      "Epoch 6/50: 100%|█| 47/47 [00:00<00:00, 273.63batch/s, loss=0.23605\n"
     ]
    },
    {
     "name": "stdout",
     "output_type": "stream",
     "text": [
      "Epoch: 6/50, Loss: 0.378284\n"
     ]
    },
    {
     "name": "stderr",
     "output_type": "stream",
     "text": [
      "Epoch 7/50: 100%|█| 47/47 [00:00<00:00, 268.95batch/s, loss=0.48047\n"
     ]
    },
    {
     "name": "stdout",
     "output_type": "stream",
     "text": [
      "Epoch: 7/50, Loss: 0.373778\n"
     ]
    },
    {
     "name": "stderr",
     "output_type": "stream",
     "text": [
      "Epoch 8/50: 100%|█| 47/47 [00:00<00:00, 276.45batch/s, loss=0.23789\n"
     ]
    },
    {
     "name": "stdout",
     "output_type": "stream",
     "text": [
      "Epoch: 8/50, Loss: 0.377484\n"
     ]
    },
    {
     "name": "stderr",
     "output_type": "stream",
     "text": [
      "Epoch 9/50: 100%|█| 47/47 [00:00<00:00, 254.90batch/s, loss=0.24998\n"
     ]
    },
    {
     "name": "stdout",
     "output_type": "stream",
     "text": [
      "Epoch: 9/50, Loss: 0.304725\n"
     ]
    },
    {
     "name": "stderr",
     "output_type": "stream",
     "text": [
      "Epoch 10/50: 100%|█| 47/47 [00:00<00:00, 192.32batch/s, loss=0.4152\n"
     ]
    },
    {
     "name": "stdout",
     "output_type": "stream",
     "text": [
      "Epoch: 10/50, Loss: 0.310058\n"
     ]
    },
    {
     "name": "stderr",
     "output_type": "stream",
     "text": [
      "Epoch 11/50: 100%|█| 47/47 [00:00<00:00, 227.45batch/s, loss=0.3094\n"
     ]
    },
    {
     "name": "stdout",
     "output_type": "stream",
     "text": [
      "Epoch: 11/50, Loss: 0.336075\n"
     ]
    },
    {
     "name": "stderr",
     "output_type": "stream",
     "text": [
      "Epoch 12/50: 100%|█| 47/47 [00:00<00:00, 252.85batch/s, loss=0.2675\n"
     ]
    },
    {
     "name": "stdout",
     "output_type": "stream",
     "text": [
      "Epoch: 12/50, Loss: 0.293278\n"
     ]
    },
    {
     "name": "stderr",
     "output_type": "stream",
     "text": [
      "Epoch 13/50: 100%|█| 47/47 [00:00<00:00, 256.73batch/s, loss=0.1680\n"
     ]
    },
    {
     "name": "stdout",
     "output_type": "stream",
     "text": [
      "Epoch: 13/50, Loss: 0.231935\n"
     ]
    },
    {
     "name": "stderr",
     "output_type": "stream",
     "text": [
      "Epoch 14/50: 100%|█| 47/47 [00:00<00:00, 263.08batch/s, loss=0.2670\n"
     ]
    },
    {
     "name": "stdout",
     "output_type": "stream",
     "text": [
      "Epoch: 14/50, Loss: 0.202036\n"
     ]
    },
    {
     "name": "stderr",
     "output_type": "stream",
     "text": [
      "Epoch 15/50: 100%|█| 47/47 [00:00<00:00, 248.78batch/s, loss=0.0945\n"
     ]
    },
    {
     "name": "stdout",
     "output_type": "stream",
     "text": [
      "Epoch: 15/50, Loss: 0.169228\n"
     ]
    },
    {
     "name": "stderr",
     "output_type": "stream",
     "text": [
      "Epoch 16/50: 100%|█| 47/47 [00:00<00:00, 271.30batch/s, loss=0.2031\n"
     ]
    },
    {
     "name": "stdout",
     "output_type": "stream",
     "text": [
      "Epoch: 16/50, Loss: 0.160338\n"
     ]
    },
    {
     "name": "stderr",
     "output_type": "stream",
     "text": [
      "Epoch 17/50: 100%|█| 47/47 [00:00<00:00, 271.15batch/s, loss=0.2925\n"
     ]
    },
    {
     "name": "stdout",
     "output_type": "stream",
     "text": [
      "Epoch: 17/50, Loss: 0.170713\n"
     ]
    },
    {
     "name": "stderr",
     "output_type": "stream",
     "text": [
      "Epoch 18/50: 100%|█| 47/47 [00:00<00:00, 250.73batch/s, loss=0.0794\n"
     ]
    },
    {
     "name": "stdout",
     "output_type": "stream",
     "text": [
      "Epoch: 18/50, Loss: 0.175071\n"
     ]
    },
    {
     "name": "stderr",
     "output_type": "stream",
     "text": [
      "Epoch 19/50: 100%|█| 47/47 [00:00<00:00, 261.62batch/s, loss=0.3215\n"
     ]
    },
    {
     "name": "stdout",
     "output_type": "stream",
     "text": [
      "Epoch: 19/50, Loss: 0.160664\n"
     ]
    },
    {
     "name": "stderr",
     "output_type": "stream",
     "text": [
      "Epoch 20/50: 100%|█| 47/47 [00:00<00:00, 271.40batch/s, loss=0.1617\n"
     ]
    },
    {
     "name": "stdout",
     "output_type": "stream",
     "text": [
      "Epoch: 20/50, Loss: 0.133473\n"
     ]
    },
    {
     "name": "stderr",
     "output_type": "stream",
     "text": [
      "Epoch 21/50: 100%|█| 47/47 [00:00<00:00, 269.69batch/s, loss=0.2122\n"
     ]
    },
    {
     "name": "stdout",
     "output_type": "stream",
     "text": [
      "Epoch: 21/50, Loss: 0.159739\n"
     ]
    },
    {
     "name": "stderr",
     "output_type": "stream",
     "text": [
      "Epoch 22/50: 100%|█| 47/47 [00:00<00:00, 269.43batch/s, loss=0.0693\n"
     ]
    },
    {
     "name": "stdout",
     "output_type": "stream",
     "text": [
      "Epoch: 22/50, Loss: 0.146746\n"
     ]
    },
    {
     "name": "stderr",
     "output_type": "stream",
     "text": [
      "Epoch 23/50: 100%|█| 47/47 [00:00<00:00, 278.67batch/s, loss=0.2400\n"
     ]
    },
    {
     "name": "stdout",
     "output_type": "stream",
     "text": [
      "Epoch: 23/50, Loss: 0.149780\n"
     ]
    },
    {
     "name": "stderr",
     "output_type": "stream",
     "text": [
      "Epoch 24/50: 100%|█| 47/47 [00:00<00:00, 274.71batch/s, loss=0.1603\n"
     ]
    },
    {
     "name": "stdout",
     "output_type": "stream",
     "text": [
      "Epoch: 24/50, Loss: 0.180428\n"
     ]
    },
    {
     "name": "stderr",
     "output_type": "stream",
     "text": [
      "Epoch 25/50: 100%|█| 47/47 [00:00<00:00, 273.95batch/s, loss=0.2476\n"
     ]
    },
    {
     "name": "stdout",
     "output_type": "stream",
     "text": [
      "Epoch: 25/50, Loss: 0.208799\n"
     ]
    },
    {
     "name": "stderr",
     "output_type": "stream",
     "text": [
      "Epoch 26/50: 100%|█| 47/47 [00:00<00:00, 278.76batch/s, loss=0.2935\n"
     ]
    },
    {
     "name": "stdout",
     "output_type": "stream",
     "text": [
      "Epoch: 26/50, Loss: 0.126010\n"
     ]
    },
    {
     "name": "stderr",
     "output_type": "stream",
     "text": [
      "Epoch 27/50: 100%|█| 47/47 [00:00<00:00, 273.95batch/s, loss=0.0805\n"
     ]
    },
    {
     "name": "stdout",
     "output_type": "stream",
     "text": [
      "Epoch: 27/50, Loss: 0.105091\n"
     ]
    },
    {
     "name": "stderr",
     "output_type": "stream",
     "text": [
      "Epoch 28/50: 100%|█| 47/47 [00:00<00:00, 276.35batch/s, loss=0.5035\n"
     ]
    },
    {
     "name": "stdout",
     "output_type": "stream",
     "text": [
      "Epoch: 28/50, Loss: 0.166386\n"
     ]
    },
    {
     "name": "stderr",
     "output_type": "stream",
     "text": [
      "Epoch 29/50: 100%|█| 47/47 [00:00<00:00, 276.35batch/s, loss=0.2468\n"
     ]
    },
    {
     "name": "stdout",
     "output_type": "stream",
     "text": [
      "Epoch: 29/50, Loss: 0.167841\n"
     ]
    },
    {
     "name": "stderr",
     "output_type": "stream",
     "text": [
      "Epoch 30/50: 100%|█| 47/47 [00:00<00:00, 269.32batch/s, loss=0.0329\n"
     ]
    },
    {
     "name": "stdout",
     "output_type": "stream",
     "text": [
      "Epoch: 30/50, Loss: 0.127593\n"
     ]
    },
    {
     "name": "stderr",
     "output_type": "stream",
     "text": [
      "Epoch 31/50: 100%|█| 47/47 [00:00<00:00, 264.22batch/s, loss=0.1142\n"
     ]
    },
    {
     "name": "stdout",
     "output_type": "stream",
     "text": [
      "Epoch: 31/50, Loss: 0.122603\n"
     ]
    },
    {
     "name": "stderr",
     "output_type": "stream",
     "text": [
      "Epoch 32/50: 100%|█| 47/47 [00:00<00:00, 274.62batch/s, loss=0.0242\n"
     ]
    },
    {
     "name": "stdout",
     "output_type": "stream",
     "text": [
      "Epoch: 32/50, Loss: 0.079320\n"
     ]
    },
    {
     "name": "stderr",
     "output_type": "stream",
     "text": [
      "Epoch 33/50: 100%|█| 47/47 [00:00<00:00, 257.38batch/s, loss=0.0715\n"
     ]
    },
    {
     "name": "stdout",
     "output_type": "stream",
     "text": [
      "Epoch: 33/50, Loss: 0.113978\n"
     ]
    },
    {
     "name": "stderr",
     "output_type": "stream",
     "text": [
      "Epoch 34/50: 100%|█| 47/47 [00:00<00:00, 238.67batch/s, loss=0.4699\n"
     ]
    },
    {
     "name": "stdout",
     "output_type": "stream",
     "text": [
      "Epoch: 34/50, Loss: 0.154169\n"
     ]
    },
    {
     "name": "stderr",
     "output_type": "stream",
     "text": [
      "Epoch 35/50: 100%|█| 47/47 [00:00<00:00, 261.26batch/s, loss=0.2193\n"
     ]
    },
    {
     "name": "stdout",
     "output_type": "stream",
     "text": [
      "Epoch: 35/50, Loss: 0.136653\n"
     ]
    },
    {
     "name": "stderr",
     "output_type": "stream",
     "text": [
      "Epoch 36/50: 100%|█| 47/47 [00:00<00:00, 297.30batch/s, loss=0.3376\n"
     ]
    },
    {
     "name": "stdout",
     "output_type": "stream",
     "text": [
      "Epoch: 36/50, Loss: 0.314185\n"
     ]
    },
    {
     "name": "stderr",
     "output_type": "stream",
     "text": [
      "Epoch 37/50: 100%|█| 47/47 [00:00<00:00, 289.76batch/s, loss=0.1430\n"
     ]
    },
    {
     "name": "stdout",
     "output_type": "stream",
     "text": [
      "Epoch: 37/50, Loss: 0.189828\n"
     ]
    },
    {
     "name": "stderr",
     "output_type": "stream",
     "text": [
      "Epoch 38/50: 100%|█| 47/47 [00:00<00:00, 313.02batch/s, loss=0.0697\n"
     ]
    },
    {
     "name": "stdout",
     "output_type": "stream",
     "text": [
      "Epoch: 38/50, Loss: 0.152271\n"
     ]
    },
    {
     "name": "stderr",
     "output_type": "stream",
     "text": [
      "Epoch 39/50: 100%|█| 47/47 [00:00<00:00, 328.66batch/s, loss=0.0795\n"
     ]
    },
    {
     "name": "stdout",
     "output_type": "stream",
     "text": [
      "Epoch: 39/50, Loss: 0.184600\n"
     ]
    },
    {
     "name": "stderr",
     "output_type": "stream",
     "text": [
      "Epoch 40/50: 100%|█| 47/47 [00:00<00:00, 362.46batch/s, loss=0.0609\n"
     ]
    },
    {
     "name": "stdout",
     "output_type": "stream",
     "text": [
      "Epoch: 40/50, Loss: 0.108618\n"
     ]
    },
    {
     "name": "stderr",
     "output_type": "stream",
     "text": [
      "Epoch 41/50: 100%|█| 47/47 [00:00<00:00, 367.11batch/s, loss=0.2143\n"
     ]
    },
    {
     "name": "stdout",
     "output_type": "stream",
     "text": [
      "Epoch: 41/50, Loss: 0.116114\n"
     ]
    },
    {
     "name": "stderr",
     "output_type": "stream",
     "text": [
      "Epoch 42/50: 100%|█| 47/47 [00:00<00:00, 355.83batch/s, loss=0.0523\n"
     ]
    },
    {
     "name": "stdout",
     "output_type": "stream",
     "text": [
      "Epoch: 42/50, Loss: 0.161332\n"
     ]
    },
    {
     "name": "stderr",
     "output_type": "stream",
     "text": [
      "Epoch 43/50: 100%|█| 47/47 [00:00<00:00, 348.80batch/s, loss=0.0282\n"
     ]
    },
    {
     "name": "stdout",
     "output_type": "stream",
     "text": [
      "Epoch: 43/50, Loss: 0.157814\n"
     ]
    },
    {
     "name": "stderr",
     "output_type": "stream",
     "text": [
      "Epoch 44/50: 100%|█| 47/47 [00:00<00:00, 185.78batch/s, loss=0.0238\n"
     ]
    },
    {
     "name": "stdout",
     "output_type": "stream",
     "text": [
      "Epoch: 44/50, Loss: 0.123973\n"
     ]
    },
    {
     "name": "stderr",
     "output_type": "stream",
     "text": [
      "Epoch 45/50: 100%|█| 47/47 [00:00<00:00, 350.18batch/s, loss=0.1151\n"
     ]
    },
    {
     "name": "stdout",
     "output_type": "stream",
     "text": [
      "Epoch: 45/50, Loss: 0.077620\n"
     ]
    },
    {
     "name": "stderr",
     "output_type": "stream",
     "text": [
      "Epoch 46/50: 100%|█| 47/47 [00:00<00:00, 336.51batch/s, loss=0.0000\n"
     ]
    },
    {
     "name": "stdout",
     "output_type": "stream",
     "text": [
      "Epoch: 46/50, Loss: 0.041014\n"
     ]
    },
    {
     "name": "stderr",
     "output_type": "stream",
     "text": [
      "Epoch 47/50: 100%|█| 47/47 [00:00<00:00, 351.08batch/s, loss=0.0124\n"
     ]
    },
    {
     "name": "stdout",
     "output_type": "stream",
     "text": [
      "Epoch: 47/50, Loss: 0.025356\n"
     ]
    },
    {
     "name": "stderr",
     "output_type": "stream",
     "text": [
      "Epoch 48/50: 100%|█| 47/47 [00:00<00:00, 350.23batch/s, loss=0.2870\n"
     ]
    },
    {
     "name": "stdout",
     "output_type": "stream",
     "text": [
      "Epoch: 48/50, Loss: 0.042934\n"
     ]
    },
    {
     "name": "stderr",
     "output_type": "stream",
     "text": [
      "Epoch 49/50: 100%|█| 47/47 [00:00<00:00, 356.76batch/s, loss=0.0589\n"
     ]
    },
    {
     "name": "stdout",
     "output_type": "stream",
     "text": [
      "Epoch: 49/50, Loss: 0.148904\n"
     ]
    },
    {
     "name": "stderr",
     "output_type": "stream",
     "text": [
      "Epoch 50/50: 100%|█| 47/47 [00:00<00:00, 354.90batch/s, loss=1.7646"
     ]
    },
    {
     "name": "stdout",
     "output_type": "stream",
     "text": [
      "Epoch: 50/50, Loss: 0.356336\n",
      "CPU times: user 1min 8s, sys: 706 ms, total: 1min 8s\n",
      "Wall time: 8.58 s\n"
     ]
    },
    {
     "name": "stderr",
     "output_type": "stream",
     "text": [
      "\n"
     ]
    }
   ],
   "source": [
    "%%time\n",
    "trainer.train(cifar100_001, epochs)"
   ]
  },
  {
   "cell_type": "code",
   "execution_count": 54,
   "id": "a4250250-aa26-4ecc-906d-bb36a4f783f7",
   "metadata": {},
   "outputs": [
    {
     "data": {
      "image/png": "[encoded data removed]",
      "text/plain": [
       "<Figure size 1400x600 with 2 Axes>"
      ]
     },
     "metadata": {},
     "output_type": "display_data"
    }
   ],
   "source": [
    "trainer.plot_training_history()"
   ]
  },
  {
   "cell_type": "markdown",
   "id": "612b267e-dba0-448f-ad80-4165d1d0dd72",
   "metadata": {},
   "source": [
    "#### Оценка"
   ]
  },
  {
   "cell_type": "code",
   "execution_count": 55,
   "id": "737a297e-1081-4cc3-a9ba-a19f8f0243ae",
   "metadata": {},
   "outputs": [
    {
     "name": "stdout",
     "output_type": "stream",
     "text": [
      "Classification report for train dataset:\n",
      "              precision    recall  f1-score   support\n",
      "\n",
      "    wardrobe     0.9579    0.9560    0.9570       500\n",
      "  chimpanzee     0.8965    0.9180    0.9071       500\n",
      "    mushroom     0.9284    0.9080    0.9181       500\n",
      "\n",
      "    accuracy                         0.9273      1500\n",
      "   macro avg     0.9276    0.9273    0.9274      1500\n",
      "weighted avg     0.9276    0.9273    0.9274      1500\n",
      "\n",
      "--------------------------------------------------\n",
      "Classification report for test dataset:\n",
      "              precision    recall  f1-score   support\n",
      "\n",
      "    wardrobe     0.8165    0.8900    0.8517       100\n",
      "  chimpanzee     0.7609    0.7000    0.7292       100\n",
      "    mushroom     0.7374    0.7300    0.7337       100\n",
      "\n",
      "    accuracy                         0.7733       300\n",
      "   macro avg     0.7716    0.7733    0.7715       300\n",
      "weighted avg     0.7716    0.7733    0.7715       300\n",
      "\n",
      "--------------------------------------------------\n"
     ]
    }
   ],
   "source": [
    "trainer.evaluate(cifar100_001)"
   ]
  },
  {
   "cell_type": "markdown",
   "id": "a4cd8de3-a9a1-4fa9-9e17-1ee0acff8534",
   "metadata": {},
   "source": [
    "#### Сохранение модели в ONNX"
   ]
  },
  {
   "cell_type": "code",
   "execution_count": 57,
   "id": "7b6427f4-6b4a-4e09-8bdf-2f42d4ece424",
   "metadata": {},
   "outputs": [
    {
     "name": "stdout",
     "output_type": "stream",
     "text": [
      "Model saved as: cifar100_ad0c809b-5287-4e5b-bed3-262c079f0638.onnx\n",
      "Model UUID: ad0c809b-5287-4e5b-bed3-262c079f0638\n"
     ]
    }
   ],
   "source": [
    "trainer.save_model(cifar100_001)"
   ]
  },
  {
   "cell_type": "markdown",
   "id": "ffbf016b-8595-4047-a1d9-d856b218978a",
   "metadata": {},
   "source": [
    "### Эксперимент №2"
   ]
  },
  {
   "cell_type": "markdown",
   "id": "f86afd07-5a37-4770-8a8e-65bdb2536d0c",
   "metadata": {},
   "source": [
    "#### Гиперпараметры"
   ]
  },
  {
   "cell_type": "code",
   "execution_count": null,
   "id": "0f4a7a5e-6389-4756-9338-168d55378e08",
   "metadata": {},
   "outputs": [],
   "source": [
    "batch_size=2**5\n",
    "epochs=50\n",
    "criterion=nn.NLLLoss()\n",
    "lr_rate = 1e-4\n",
    "layers=[32, 64, 128, 64, 32]"
   ]
  },
  {
   "cell_type": "markdown",
   "id": "20750b6b-f05e-49d1-94e3-fece959ca3e3",
   "metadata": {},
   "source": [
    "#### Инициализация модели"
   ]
  },
  {
   "cell_type": "code",
   "execution_count": null,
   "id": "81d4d47c-6fbe-49f6-b43c-d91fefedd899",
   "metadata": {},
   "outputs": [],
   "source": [
    "%%time\n",
    "trainer = CIFAR100Trainer(CLASSES, batch_size, lr_rate)"
   ]
  },
  {
   "cell_type": "code",
   "execution_count": null,
   "id": "7b35af7b-07d2-4fdb-9db1-bde4f3cfcbd1",
   "metadata": {},
   "outputs": [],
   "source": [
    "%%time\n",
    "cifar100_001 = CIFAR100Model(layers)"
   ]
  },
  {
   "cell_type": "markdown",
   "id": "2aa564ab-f35d-49a8-9601-a2c4f9b0222c",
   "metadata": {},
   "source": [
    "#### Информация о модели"
   ]
  },
  {
   "cell_type": "code",
   "execution_count": null,
   "id": "e14dae34-dca1-4b4c-bff1-39b5dfd18bb1",
   "metadata": {
    "scrolled": true
   },
   "outputs": [],
   "source": [
    "cifar100_001"
   ]
  },
  {
   "cell_type": "markdown",
   "id": "e167af72-f485-4835-bac4-8e0dd5712b2a",
   "metadata": {},
   "source": [
    "#### Обучение"
   ]
  },
  {
   "cell_type": "code",
   "execution_count": null,
   "id": "b7b63532-ed2b-474d-ac76-0d731db3badb",
   "metadata": {},
   "outputs": [],
   "source": [
    "%%time\n",
    "trainer.train(cifar100_001, epochs)"
   ]
  },
  {
   "cell_type": "code",
   "execution_count": null,
   "id": "c991b2ee-34db-4d94-b36d-b347330b3db8",
   "metadata": {},
   "outputs": [],
   "source": [
    "trainer.plot_training_history()"
   ]
  },
  {
   "cell_type": "markdown",
   "id": "11e97ee8-752b-41a7-9091-abfc0f865d97",
   "metadata": {},
   "source": [
    "#### Оценка"
   ]
  },
  {
   "cell_type": "code",
   "execution_count": null,
   "id": "7f156388-f496-4886-ad85-0da3a33170bd",
   "metadata": {},
   "outputs": [],
   "source": [
    "trainer.evaluate(cifar100_001)"
   ]
  },
  {
   "cell_type": "markdown",
   "id": "68912d97-e614-4c2b-9ba4-a0f6552aa83a",
   "metadata": {},
   "source": [
    "#### Сохранение модели в ONNX"
   ]
  },
  {
   "cell_type": "code",
   "execution_count": null,
   "id": "243ec1c1-ed77-4ec1-bcf9-9db38cb4951b",
   "metadata": {},
   "outputs": [],
   "source": [
    "trainer.save_model(cifar100_001)"
   ]
  },
  {
   "cell_type": "markdown",
   "id": "4477bf4f-f49a-404d-a04d-6cea692c43f4",
   "metadata": {},
   "source": [
    "### Эксперимент №3"
   ]
  },
  {
   "cell_type": "markdown",
   "id": "7d998c74-abea-4975-9644-972174e75392",
   "metadata": {},
   "source": [
    "#### Гиперпараметры"
   ]
  },
  {
   "cell_type": "code",
   "execution_count": null,
   "id": "3fc5bf5e-752f-44c7-a30e-947e7d64b1c8",
   "metadata": {},
   "outputs": [],
   "source": [
    "batch_size=2**5\n",
    "epochs=30\n",
    "criterion=nn.NLLLoss()\n",
    "lr_rate = 1e-5\n",
    "# criterion=nn.CrossEntropyLoss()\n",
    "layers=[32, 64, 128, 64, 32]"
   ]
  },
  {
   "cell_type": "markdown",
   "id": "dab0d67b-ef92-48eb-8233-7621ac0779d9",
   "metadata": {},
   "source": [
    "#### Инициализация модели"
   ]
  },
  {
   "cell_type": "code",
   "execution_count": null,
   "id": "72d97e29-8028-4511-9f9b-e295c15d3f25",
   "metadata": {},
   "outputs": [],
   "source": [
    "%%time\n",
    "trainer = CIFAR100Trainer(CLASSES, batch_size, lr_rate)"
   ]
  },
  {
   "cell_type": "code",
   "execution_count": null,
   "id": "c7645caf-0840-4d06-b087-4dd552dfbe24",
   "metadata": {},
   "outputs": [],
   "source": [
    "%%time\n",
    "cifar100_001 = CIFAR100Model(layers)"
   ]
  },
  {
   "cell_type": "markdown",
   "id": "fe02232b-10cd-4b37-9203-174948a60d30",
   "metadata": {},
   "source": [
    "#### Информация о модели"
   ]
  },
  {
   "cell_type": "code",
   "execution_count": null,
   "id": "fecab2fd-a95e-4bad-9238-7aeaf011612b",
   "metadata": {
    "scrolled": true
   },
   "outputs": [],
   "source": [
    "cifar100_001"
   ]
  },
  {
   "cell_type": "markdown",
   "id": "5d798bbf-d950-4eb7-826e-7461d4eb33fc",
   "metadata": {},
   "source": [
    "#### Обучение"
   ]
  },
  {
   "cell_type": "code",
   "execution_count": null,
   "id": "113030ab-1823-4239-bb95-90ae2add848e",
   "metadata": {},
   "outputs": [],
   "source": [
    "%%time\n",
    "trainer.train(cifar100_001, epochs)"
   ]
  },
  {
   "cell_type": "code",
   "execution_count": null,
   "id": "20e50724-d541-4c57-88bd-b9e35f81a8a4",
   "metadata": {},
   "outputs": [],
   "source": [
    "trainer.plot_training_history()"
   ]
  },
  {
   "cell_type": "markdown",
   "id": "e3a05d8d-e18e-44f5-92bb-08e3391e187f",
   "metadata": {},
   "source": [
    "#### Оценка"
   ]
  },
  {
   "cell_type": "code",
   "execution_count": null,
   "id": "0845bf8f-9cd0-4dd2-94da-adf6b82d2247",
   "metadata": {},
   "outputs": [],
   "source": [
    "trainer.evaluate(cifar100_001)"
   ]
  },
  {
   "cell_type": "markdown",
   "id": "e25b26b1-bcd9-47c1-8bc1-9f2ecf0d2faa",
   "metadata": {},
   "source": [
    "#### Сохранение модели в ONNX"
   ]
  },
  {
   "cell_type": "code",
   "execution_count": null,
   "id": "0b9930c0-a18a-4fe5-8c6a-e06aa540e7c1",
   "metadata": {},
   "outputs": [],
   "source": [
    "trainer.save_model(cifar100_001)"
   ]
  },
  {
   "cell_type": "markdown",
   "id": "4b66d818-4ac2-4fbd-a109-c87aa508d63d",
   "metadata": {},
   "source": [
    "### Эксперимент №4"
   ]
  },
  {
   "cell_type": "markdown",
   "id": "df0061c3-199f-4ca0-bc8b-db04b7c7d2bb",
   "metadata": {},
   "source": [
    "#### Гиперпараметры"
   ]
  },
  {
   "cell_type": "code",
   "execution_count": null,
   "id": "e645fdcc-f185-48df-9d4b-f37fed06c0d7",
   "metadata": {},
   "outputs": [],
   "source": [
    "batch_size=2**5\n",
    "epochs=100\n",
    "criterion=nn.CrossEntropyLoss()\n",
    "lr_rate = 1e-4\n",
    "layers=[32, 64, 128, 64, 32]"
   ]
  },
  {
   "cell_type": "markdown",
   "id": "76fd7cd0-8223-413d-91a1-624f9fa96397",
   "metadata": {},
   "source": [
    "#### Инициализация модели"
   ]
  },
  {
   "cell_type": "code",
   "execution_count": null,
   "id": "3483658f-f93d-431b-b587-cf57e3a14435",
   "metadata": {},
   "outputs": [],
   "source": [
    "%%time\n",
    "trainer = CIFAR100Trainer(CLASSES, batch_size, lr_rate)"
   ]
  },
  {
   "cell_type": "code",
   "execution_count": null,
   "id": "9f321478-2589-4e8c-a065-4f9141701e67",
   "metadata": {},
   "outputs": [],
   "source": [
    "%%time\n",
    "cifar100_001 = CIFAR100Model(layers)"
   ]
  },
  {
   "cell_type": "markdown",
   "id": "9dd60b1f-6e27-4df2-b50c-2724a32aaf1c",
   "metadata": {},
   "source": [
    "#### Информация о модели"
   ]
  },
  {
   "cell_type": "code",
   "execution_count": null,
   "id": "ecf953ad-05ba-4a1a-b9f5-38a35beca2cc",
   "metadata": {
    "scrolled": true
   },
   "outputs": [],
   "source": [
    "cifar100_001"
   ]
  },
  {
   "cell_type": "markdown",
   "id": "67232ca3-f0e3-416e-9ee7-b7247fa35f58",
   "metadata": {},
   "source": [
    "#### Обучение"
   ]
  },
  {
   "cell_type": "code",
   "execution_count": null,
   "id": "0fb5030c-28c8-482d-9b0c-f35db1779c91",
   "metadata": {
    "scrolled": true
   },
   "outputs": [],
   "source": [
    "%%time\n",
    "trainer.train(cifar100_001, epochs)"
   ]
  },
  {
   "cell_type": "code",
   "execution_count": null,
   "id": "e1065eb3-266a-45a8-b9e6-a5f7a72d6cf0",
   "metadata": {},
   "outputs": [],
   "source": [
    "trainer.plot_training_history()"
   ]
  },
  {
   "cell_type": "markdown",
   "id": "fcfe2b14-c8ed-43cc-a3b2-5acfbaa9f4fb",
   "metadata": {},
   "source": [
    "#### Оценка"
   ]
  },
  {
   "cell_type": "code",
   "execution_count": null,
   "id": "41e6019f-5ec8-479b-8d20-31cba49cbec1",
   "metadata": {},
   "outputs": [],
   "source": [
    "trainer.evaluate(cifar100_001)"
   ]
  },
  {
   "cell_type": "markdown",
   "id": "838198f2-a01a-4be0-b7b5-903075bf1626",
   "metadata": {},
   "source": [
    "#### Сохранение модели в ONNX"
   ]
  },
  {
   "cell_type": "code",
   "execution_count": null,
   "id": "8fb4b599-bfe8-4b71-baf6-bd3b8c649e5d",
   "metadata": {},
   "outputs": [],
   "source": [
    "trainer.save_model(cifar100_001)"
   ]
  },
  {
   "cell_type": "markdown",
   "id": "cee3a144-3852-4db5-86e1-05235679b276",
   "metadata": {},
   "source": [
    "### Эксперимент №5"
   ]
  },
  {
   "cell_type": "markdown",
   "id": "aefb07e9-78f5-4f02-8e92-8cbbea99dcf0",
   "metadata": {},
   "source": [
    "#### Гиперпараметры"
   ]
  },
  {
   "cell_type": "code",
   "execution_count": null,
   "id": "57cd82f8-4903-4a71-841d-515aae762167",
   "metadata": {},
   "outputs": [],
   "source": [
    "batch_size=2**5\n",
    "epochs=100\n",
    "criterion=nn.CrossEntropyLoss()\n",
    "lr_rate = 1e-5\n",
    "layers=[32, 64, 128, 64, 32]"
   ]
  },
  {
   "cell_type": "markdown",
   "id": "c2722725-9a67-4445-ab8e-3392e118b53a",
   "metadata": {},
   "source": [
    "#### Инициализация модели"
   ]
  },
  {
   "cell_type": "code",
   "execution_count": null,
   "id": "e9f87ac9-f443-4855-9c64-e4b2e2402fd9",
   "metadata": {},
   "outputs": [],
   "source": [
    "%%time\n",
    "trainer = CIFAR100Trainer(CLASSES, batch_size, lr_rate)"
   ]
  },
  {
   "cell_type": "code",
   "execution_count": null,
   "id": "6ff4fd45-fa85-485a-b3b3-9fbe9a40b68c",
   "metadata": {},
   "outputs": [],
   "source": [
    "%%time\n",
    "cifar100_001 = CIFAR100Model(layers)"
   ]
  },
  {
   "cell_type": "markdown",
   "id": "0a6eb386-6212-430b-9bd7-2e101b906fda",
   "metadata": {},
   "source": [
    "#### Информация о модели"
   ]
  },
  {
   "cell_type": "code",
   "execution_count": null,
   "id": "a799a9ce-e17c-4a09-a648-66d69b3e1665",
   "metadata": {
    "scrolled": true
   },
   "outputs": [],
   "source": [
    "cifar100_001"
   ]
  },
  {
   "cell_type": "markdown",
   "id": "f2648d48-702f-4b7b-b587-e8063ddefac9",
   "metadata": {},
   "source": [
    "#### Обучение"
   ]
  },
  {
   "cell_type": "code",
   "execution_count": null,
   "id": "4f289e61-afdb-4053-92bf-a6fda76b23c3",
   "metadata": {
    "scrolled": true
   },
   "outputs": [],
   "source": [
    "%%time\n",
    "trainer.train(cifar100_001, epochs)"
   ]
  },
  {
   "cell_type": "code",
   "execution_count": null,
   "id": "bf1ba1eb-635b-4f54-8427-cbf61fb49374",
   "metadata": {},
   "outputs": [],
   "source": [
    "trainer.plot_training_history()"
   ]
  },
  {
   "cell_type": "markdown",
   "id": "c1eebe97-9fdf-4d6c-a032-954d235b47ec",
   "metadata": {},
   "source": [
    "#### Оценка"
   ]
  },
  {
   "cell_type": "code",
   "execution_count": null,
   "id": "baf73eeb-1dbc-4b5e-93a0-6bea7a0e63d9",
   "metadata": {},
   "outputs": [],
   "source": [
    "trainer.evaluate(cifar100_001)"
   ]
  },
  {
   "cell_type": "markdown",
   "id": "47df060a-29cc-4c00-ad38-de1d0a473be2",
   "metadata": {},
   "source": [
    "#### Сохранение модели в ONNX"
   ]
  },
  {
   "cell_type": "code",
   "execution_count": null,
   "id": "c90ab27a-fa84-45ee-97a5-799a687cbd9d",
   "metadata": {},
   "outputs": [],
   "source": [
    "trainer.save_model(cifar100_001)"
   ]
  }
 ],
 "metadata": {
  "kernelspec": {
   "display_name": "Python 3 (ipykernel)",
   "language": "python",
   "name": "python3"
  },
  "language_info": {
   "codemirror_mode": {
    "name": "ipython",
    "version": 3
   },
   "file_extension": ".py",
   "mimetype": "text/x-python",
   "name": "python",
   "nbconvert_exporter": "python",
   "pygments_lexer": "ipython3",
   "version": "3.11.7"
  }
 },
 "nbformat": 4,
 "nbformat_minor": 5
}
